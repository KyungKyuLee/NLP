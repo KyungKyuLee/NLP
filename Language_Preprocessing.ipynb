{
  "nbformat": 4,
  "nbformat_minor": 0,
  "metadata": {
    "colab": {
      "name": "Language Preprocessing.ipynb",
      "provenance": [],
      "collapsed_sections": [
        "BrViGMBjJ-YG",
        "dw7NoEtbJ0Pu",
        "1fMPVVWuCN6_",
        "rJC6y0ULMQHE",
        "usk88lg8QhlD",
        "iiLYmdTUc16V",
        "wqX7JbgnfC5h"
      ],
      "toc_visible": true,
      "mount_file_id": "1uEtcV1t-lVySjYY6qnbZXag97643gPeg",
      "authorship_tag": "ABX9TyNZJyKP9xHJ0DK+0E332y3t",
      "include_colab_link": true
    },
    "kernelspec": {
      "name": "python3",
      "display_name": "Python 3"
    }
  },
  "cells": [
    {
      "cell_type": "markdown",
      "metadata": {
        "id": "view-in-github",
        "colab_type": "text"
      },
      "source": [
        "<a href=\"https://colab.research.google.com/github/KyungKyuLee/NLP/blob/master/Language_Preprocessing.ipynb\" target=\"_parent\"><img src=\"https://colab.research.google.com/assets/colab-badge.svg\" alt=\"Open In Colab\"/></a>"
      ]
    },
    {
      "cell_type": "markdown",
      "metadata": {
        "id": "b1ZqnhN0c7NV",
        "colab_type": "text"
      },
      "source": [
        "# Language Preprocessing\n"
      ]
    },
    {
      "cell_type": "markdown",
      "metadata": {
        "id": "BrViGMBjJ-YG",
        "colab_type": "text"
      },
      "source": [
        "## Text Preprocessing\n",
        "\n",
        "Text Preprocessing is the first work to modify data to suit the purpose.\n",
        " "
      ]
    },
    {
      "cell_type": "markdown",
      "metadata": {
        "id": "dw7NoEtbJ0Pu",
        "colab_type": "text"
      },
      "source": [
        "### Tokenization\n",
        "> Tokenization is the process of demarcating and possibly classifying sections of a sting of input characters or sentence.\n",
        "\n",
        "We will use \"nltk(Netural Language ToolKit)\" Python package for language processing.\n",
        "\n",
        "* if you encounter LookUpError, use `nltk.download()` command to obatin the necessary resource.\n",
        "\n",
        "\n",
        "First, We will learn 3 differnet kinds of text tokenizer : word_tokenize, WordPunctTokenizer, text_to_word_sequence.\n",
        "\n",
        "word_tokenize is nltk's recommended word tokenizer. It automatically use any word_tokenize encouraged by nltk. It basically use TreeBankWordTokenizer currently.\n",
        "\n",
        "WordPunctTokenizer tokenize a text into a sequence of alphabetic and non-alphabetic characters, using the regexp `\\w+|[^\\w\\s]+`.\n",
        "\n",
        "text_to_word_sequence can be assigned by specific rules that divides the sentence into several filters. Basically, it only use space filter and convert the input to lowercase.\n",
        "\n",
        "\n",
        "#### Resource\n",
        "- https://wikidocs.net/21698\n",
        "- https://en.wikipedia.org/wiki/Lexical_analysis#Tokenization"
      ]
    },
    {
      "cell_type": "code",
      "metadata": {
        "id": "-XmaLSi6Zyjr",
        "colab_type": "code",
        "colab": {
          "base_uri": "https://localhost:8080/",
          "height": 173
        },
        "outputId": "fedb74db-83b3-4e97-9be5-49eeefefd93d"
      },
      "source": [
        "import nltk\n",
        "from nltk.tokenize import word_tokenize\n",
        "from nltk.tokenize import WordPunctTokenizer\n",
        "from tensorflow.keras.preprocessing.text import text_to_word_sequence\n",
        "\n",
        "nltk.download('punkt')\n",
        "\n",
        "print('word_tokenize() from nltk :')\n",
        "print(word_tokenize(\"Don't be fooled by the dark sounding name, Mr. Jone's Orphanage is as cheery as cheery goes for a pastry shop.\"))\n",
        "\n",
        "print('WordPunctTokenizer() from nltk : ')\n",
        "print(WordPunctTokenizer().tokenize(\"Don't be fooled by the dark sounding name, Mr. Jone's Orphanage is as cheery as cheery goes for a pastry shop.\"))\n",
        "\n",
        "print('text_to_word_sequence() from keras : ')\n",
        "print(text_to_word_sequence(\"Don't be fooled by the dark sounding name, Mr. Jone's Orphanage is as cheery as cheery goes for a pastry shop.\"))"
      ],
      "execution_count": null,
      "outputs": [
        {
          "output_type": "stream",
          "text": [
            "[nltk_data] Downloading package punkt to /root/nltk_data...\n",
            "[nltk_data]   Package punkt is already up-to-date!\n",
            "word_tokenize() from nltk :\n",
            "['Do', \"n't\", 'be', 'fooled', 'by', 'the', 'dark', 'sounding', 'name', ',', 'Mr.', 'Jone', \"'s\", 'Orphanage', 'is', 'as', 'cheery', 'as', 'cheery', 'goes', 'for', 'a', 'pastry', 'shop', '.']\n",
            "WordPunctTokenizer() from nltk : \n",
            "['Don', \"'\", 't', 'be', 'fooled', 'by', 'the', 'dark', 'sounding', 'name', ',', 'Mr', '.', 'Jone', \"'\", 's', 'Orphanage', 'is', 'as', 'cheery', 'as', 'cheery', 'goes', 'for', 'a', 'pastry', 'shop', '.']\n",
            "text_to_word_sequence() from keras : \n",
            "[\"don't\", 'be', 'fooled', 'by', 'the', 'dark', 'sounding', 'name', 'mr', \"jone's\", 'orphanage', 'is', 'as', 'cheery', 'as', 'cheery', 'goes', 'for', 'a', 'pastry', 'shop']\n"
          ],
          "name": "stdout"
        }
      ]
    },
    {
      "cell_type": "code",
      "metadata": {
        "id": "6CwFmPjbl_rM",
        "colab_type": "code",
        "colab": {
          "base_uri": "https://localhost:8080/",
          "height": 54
        },
        "outputId": "82ac46f4-201c-4f31-f360-0d9409d6292c"
      },
      "source": [
        "from nltk.tokenize import TreebankWordTokenizer\n",
        "tokenizer = TreebankWordTokenizer()\n",
        "text = \"Starting a home-based restaurant may be an ideal. it doesn't have a \\\n",
        "food chain or restaurant of their own.\"\n",
        "print(tokenizer.tokenize(text))"
      ],
      "execution_count": null,
      "outputs": [
        {
          "output_type": "stream",
          "text": [
            "['Starting', 'a', 'home-based', 'restaurant', 'may', 'be', 'an', 'ideal.', 'it', 'does', \"n't\", 'have', 'a', 'food', 'chain', 'or', 'restaurant', 'of', 'their', 'own', '.']\n"
          ],
          "name": "stdout"
        }
      ]
    },
    {
      "cell_type": "code",
      "metadata": {
        "id": "JgePQxdLmZfG",
        "colab_type": "code",
        "colab": {
          "base_uri": "https://localhost:8080/",
          "height": 54
        },
        "outputId": "99e6cf0b-deb8-4efe-e3fa-b6cdb4b51fe5"
      },
      "source": [
        "from nltk.tokenize import sent_tokenize\n",
        "text = \"His barber kept his word. But keeping such a huge secret to himself \\\n",
        "was driving him crazy. Finally, the barber went up a mountain and almost to \\\n",
        "the edge of a cliff. He dug a hole in the midst of some reeds. He looked about,\\\n",
        " to mae sure no one was near.\"\n",
        "print(sent_tokenize(text))\n"
      ],
      "execution_count": null,
      "outputs": [
        {
          "output_type": "stream",
          "text": [
            "['His barber kept his word.', 'But keeping such a huge secret to himself was driving him crazy.', 'Finally, the barber went up a mountain and almost to the edge of a cliff.', 'He dug a hole in the midst of some reeds.', 'He looked about, to mae sure no one was near.']\n"
          ],
          "name": "stdout"
        }
      ]
    },
    {
      "cell_type": "code",
      "metadata": {
        "id": "NPOkDKeishx-",
        "colab_type": "code",
        "colab": {
          "base_uri": "https://localhost:8080/",
          "height": 207
        },
        "outputId": "6a3ed6cf-e16b-4267-88aa-526f1dc4fa4b"
      },
      "source": [
        "!pip install kss\n",
        "import kss\n",
        "text = '딥 러닝 자연어 처리가 재미있기는 합니다. 그런데 문제는 영어보다 한국어로 할 때 너무 어려워요.\\\n",
        " 농담아니에요. 이제 해보면 알걸요?'\n",
        "print(kss.split_sentences(text))"
      ],
      "execution_count": null,
      "outputs": [
        {
          "output_type": "stream",
          "text": [
            "Collecting kss\n",
            "  Downloading https://files.pythonhosted.org/packages/fc/bb/4772901b3b934ac204f32a0bd6fc0567871d8378f9bbc7dd5fd5e16c6ee7/kss-1.3.1.tar.gz\n",
            "Building wheels for collected packages: kss\n",
            "  Building wheel for kss (setup.py) ... \u001b[?25l\u001b[?25hdone\n",
            "  Created wheel for kss: filename=kss-1.3.1-cp36-cp36m-linux_x86_64.whl size=251562 sha256=b3876bf5d5328f8c8ee09ca517c8003714a94ff2518c1eaca8f3a2ea5a55549e\n",
            "  Stored in directory: /root/.cache/pip/wheels/8b/98/d1/53f75f89925cd95779824778725ee3fa36e7aa55ed26ad54a8\n",
            "Successfully built kss\n",
            "Installing collected packages: kss\n",
            "Successfully installed kss-1.3.1\n",
            "['딥 러닝 자연어 처리가 재미있기는 합니다.', '그런데 문제는 영어보다 한국어로 할 때 너무 어려워요.', '농담아니에요.', '이제 해보면 알걸요?']\n"
          ],
          "name": "stdout"
        }
      ]
    },
    {
      "cell_type": "code",
      "metadata": {
        "id": "MeZxQ8cdubNK",
        "colab_type": "code",
        "colab": {
          "base_uri": "https://localhost:8080/",
          "height": 105
        },
        "outputId": "6923a453-f142-4726-a5ce-a8d4b93599ce"
      },
      "source": [
        "from nltk.tokenize import word_tokenize\n",
        "from nltk.tag import pos_tag\n",
        "nltk.download('averaged_perceptron_tagger')\n",
        "text = \"I am actively looking for Ph.D. students. and you are a Ph.D. student.\"\n",
        "x = word_tokenize(text)\n",
        "print(pos_tag(x))"
      ],
      "execution_count": null,
      "outputs": [
        {
          "output_type": "stream",
          "text": [
            "[nltk_data] Downloading package averaged_perceptron_tagger to\n",
            "[nltk_data]     /root/nltk_data...\n",
            "[nltk_data]   Unzipping taggers/averaged_perceptron_tagger.zip.\n",
            "[('I', 'PRP'), ('am', 'VBP'), ('actively', 'RB'), ('looking', 'VBG'), ('for', 'IN'), ('Ph.D.', 'NNP'), ('students', 'NNS'), ('.', '.'), ('and', 'CC'), ('you', 'PRP'), ('are', 'VBP'), ('a', 'DT'), ('Ph.D.', 'NNP'), ('student', 'NN'), ('.', '.')]\n"
          ],
          "name": "stdout"
        }
      ]
    },
    {
      "cell_type": "code",
      "metadata": {
        "id": "xuRu_gsMxDQq",
        "colab_type": "code",
        "colab": {
          "base_uri": "https://localhost:8080/",
          "height": 649
        },
        "outputId": "c49901a3-8a7d-43e3-d2d1-506e6e75c88d"
      },
      "source": [
        "!pip install konlpy\n",
        "from konlpy.tag import Okt\n",
        "okt = Okt()\n",
        "x = \"열심히 코딩한 당신, 연휴에는 여행을 가봐요\"\n",
        "print(okt.morphs(x))\n",
        "print(okt.pos(x))\n",
        "print(okt.nouns(x))"
      ],
      "execution_count": null,
      "outputs": [
        {
          "output_type": "stream",
          "text": [
            "Collecting konlpy\n",
            "\u001b[?25l  Downloading https://files.pythonhosted.org/packages/85/0e/f385566fec837c0b83f216b2da65db9997b35dd675e107752005b7d392b1/konlpy-0.5.2-py2.py3-none-any.whl (19.4MB)\n",
            "\u001b[K     |████████████████████████████████| 19.4MB 1.6MB/s \n",
            "\u001b[?25hCollecting colorama\n",
            "  Downloading https://files.pythonhosted.org/packages/c9/dc/45cdef1b4d119eb96316b3117e6d5708a08029992b2fee2c143c7a0a5cc5/colorama-0.4.3-py2.py3-none-any.whl\n",
            "Requirement already satisfied: numpy>=1.6 in /usr/local/lib/python3.6/dist-packages (from konlpy) (1.18.5)\n",
            "Requirement already satisfied: lxml>=4.1.0 in /usr/local/lib/python3.6/dist-packages (from konlpy) (4.2.6)\n",
            "Collecting beautifulsoup4==4.6.0\n",
            "\u001b[?25l  Downloading https://files.pythonhosted.org/packages/9e/d4/10f46e5cfac773e22707237bfcd51bbffeaf0a576b0a847ec7ab15bd7ace/beautifulsoup4-4.6.0-py3-none-any.whl (86kB)\n",
            "\u001b[K     |████████████████████████████████| 92kB 7.1MB/s \n",
            "\u001b[?25hCollecting JPype1>=0.7.0\n",
            "\u001b[?25l  Downloading https://files.pythonhosted.org/packages/8b/f7/a368401e630f0e390dd0e62c39fb928e5b23741b53c2360ee7d376660927/JPype1-1.0.2-cp36-cp36m-manylinux2010_x86_64.whl (3.8MB)\n",
            "\u001b[K     |████████████████████████████████| 3.8MB 31.6MB/s \n",
            "\u001b[?25hCollecting tweepy>=3.7.0\n",
            "  Downloading https://files.pythonhosted.org/packages/bb/7c/99d51f80f3b77b107ebae2634108717362c059a41384a1810d13e2429a81/tweepy-3.9.0-py2.py3-none-any.whl\n",
            "Requirement already satisfied: typing-extensions; python_version < \"3.8\" in /usr/local/lib/python3.6/dist-packages (from JPype1>=0.7.0->konlpy) (3.7.4.2)\n",
            "Requirement already satisfied: six>=1.10.0 in /usr/local/lib/python3.6/dist-packages (from tweepy>=3.7.0->konlpy) (1.15.0)\n",
            "Requirement already satisfied: requests-oauthlib>=0.7.0 in /usr/local/lib/python3.6/dist-packages (from tweepy>=3.7.0->konlpy) (1.3.0)\n",
            "Requirement already satisfied: requests[socks]>=2.11.1 in /usr/local/lib/python3.6/dist-packages (from tweepy>=3.7.0->konlpy) (2.23.0)\n",
            "Requirement already satisfied: oauthlib>=3.0.0 in /usr/local/lib/python3.6/dist-packages (from requests-oauthlib>=0.7.0->tweepy>=3.7.0->konlpy) (3.1.0)\n",
            "Requirement already satisfied: urllib3!=1.25.0,!=1.25.1,<1.26,>=1.21.1 in /usr/local/lib/python3.6/dist-packages (from requests[socks]>=2.11.1->tweepy>=3.7.0->konlpy) (1.24.3)\n",
            "Requirement already satisfied: chardet<4,>=3.0.2 in /usr/local/lib/python3.6/dist-packages (from requests[socks]>=2.11.1->tweepy>=3.7.0->konlpy) (3.0.4)\n",
            "Requirement already satisfied: certifi>=2017.4.17 in /usr/local/lib/python3.6/dist-packages (from requests[socks]>=2.11.1->tweepy>=3.7.0->konlpy) (2020.6.20)\n",
            "Requirement already satisfied: idna<3,>=2.5 in /usr/local/lib/python3.6/dist-packages (from requests[socks]>=2.11.1->tweepy>=3.7.0->konlpy) (2.10)\n",
            "Requirement already satisfied: PySocks!=1.5.7,>=1.5.6; extra == \"socks\" in /usr/local/lib/python3.6/dist-packages (from requests[socks]>=2.11.1->tweepy>=3.7.0->konlpy) (1.7.1)\n",
            "Installing collected packages: colorama, beautifulsoup4, JPype1, tweepy, konlpy\n",
            "  Found existing installation: beautifulsoup4 4.6.3\n",
            "    Uninstalling beautifulsoup4-4.6.3:\n",
            "      Successfully uninstalled beautifulsoup4-4.6.3\n",
            "  Found existing installation: tweepy 3.6.0\n",
            "    Uninstalling tweepy-3.6.0:\n",
            "      Successfully uninstalled tweepy-3.6.0\n",
            "Successfully installed JPype1-1.0.2 beautifulsoup4-4.6.0 colorama-0.4.3 konlpy-0.5.2 tweepy-3.9.0\n",
            "['열심히', '코딩', '한', '당신', ',', '연휴', '에는', '여행', '을', '가봐요']\n",
            "[('열심히', 'Adverb'), ('코딩', 'Noun'), ('한', 'Josa'), ('당신', 'Noun'), (',', 'Punctuation'), ('연휴', 'Noun'), ('에는', 'Josa'), ('여행', 'Noun'), ('을', 'Josa'), ('가봐요', 'Verb')]\n",
            "['코딩', '당신', '연휴', '여행']\n"
          ],
          "name": "stdout"
        }
      ]
    },
    {
      "cell_type": "code",
      "metadata": {
        "id": "7iCpq4kBzBYB",
        "colab_type": "code",
        "colab": {
          "base_uri": "https://localhost:8080/",
          "height": 88
        },
        "outputId": "e6f1f0e7-4b40-438f-c285-d78a2fa2554a"
      },
      "source": [
        "from konlpy.tag import Kkma\n",
        "kkma = Kkma()\n",
        "x = \"열심히 코딩한 당신, 연휴에는 휴가를 가봐요\"\n",
        "print(kkma.morphs(x))\n",
        "print(kkma.pos(x))\n",
        "print(kkma.nouns(x))"
      ],
      "execution_count": null,
      "outputs": [
        {
          "output_type": "stream",
          "text": [
            "['열심히', '코딩', '하', 'ㄴ', '당신', ',', '연휴', '에', '는', '휴가', '를', '가보', '아요']\n",
            "[('열심히', 'MAG'), ('코딩', 'NNG'), ('하', 'XSV'), ('ㄴ', 'ETD'), ('당신', 'NP'), (',', 'SP'), ('연휴', 'NNG'), ('에', 'JKM'), ('는', 'JX'), ('휴가', 'NNG'), ('를', 'JKO'), ('가보', 'VV'), ('아요', 'EFN')]\n",
            "['코딩', '당신', '연휴', '휴가']\n"
          ],
          "name": "stdout"
        }
      ]
    },
    {
      "cell_type": "markdown",
      "metadata": {
        "id": "7wlPrWRn1tUD",
        "colab_type": "text"
      },
      "source": [
        "### Cleaning and Normalization\n",
        "\n",
        "> Cleaning is the method to remove noise from corpus. Normalization is the method to convert smiliar meaning words to the same representing one.\n"
      ]
    },
    {
      "cell_type": "code",
      "metadata": {
        "id": "mW1b9yB4BXs7",
        "colab_type": "code",
        "colab": {
          "base_uri": "https://localhost:8080/",
          "height": 102
        },
        "outputId": "f5ca45f3-d7c3-4282-b518-21f1efc4759e"
      },
      "source": [
        "import re\n",
        "text = \"I was wondering if anyone out there could enlighten me on this car.\"\n",
        "shortword = re.compile(r'\\W*\\b\\w{1,2}\\b')\n",
        "print(shortword.sub('\\n', text))"
      ],
      "execution_count": null,
      "outputs": [
        {
          "output_type": "stream",
          "text": [
            "\n",
            " was wondering\n",
            " anyone out there could enlighten\n",
            "\n",
            " this car.\n"
          ],
          "name": "stdout"
        }
      ]
    },
    {
      "cell_type": "markdown",
      "metadata": {
        "id": "1fMPVVWuCN6_",
        "colab_type": "text"
      },
      "source": [
        "### Stemming and Lemmatization\n",
        "> Stemming and Lemmatization is a kind of Normalization. Lemmatization is used to find a lemma. \n",
        "\n",
        "Lemmatization is used to find a lemma from one word. Lemma is the representation word of some meaning. For example, \"am\", \"are\", \"is\" have the different form but the same meaning. We can say that their lemma are the same.\n",
        "\n",
        "Stemming is uesd to find a stem from one word. Morph is the smallest unit that has meaning. Morph usually can be divided into two part : stem and affix. A stem is the core meaning of the word and An affix is a part to add additional meaning."
      ]
    },
    {
      "cell_type": "code",
      "metadata": {
        "id": "gPY1D12GFjIf",
        "colab_type": "code",
        "colab": {
          "base_uri": "https://localhost:8080/",
          "height": 102
        },
        "outputId": "36c43645-410b-406c-dab2-49f9dfaae207"
      },
      "source": [
        "from nltk.stem import WordNetLemmatizer\n",
        "nltk.download('wordnet')\n",
        "n=WordNetLemmatizer()\n",
        "words = ['policy', 'doing', 'organization', 'have', 'going', 'love', 'lives', \\\n",
        "         'fly', 'dies', 'watched', 'has', 'starting']\n",
        "print([n.lemmatize(w) for w in words])\n",
        "print(n.lemmatize('watched', 'v'))\n",
        "print(n.lemmatize('watched', 'n'))"
      ],
      "execution_count": null,
      "outputs": [
        {
          "output_type": "stream",
          "text": [
            "[nltk_data] Downloading package wordnet to /root/nltk_data...\n",
            "[nltk_data]   Unzipping corpora/wordnet.zip.\n",
            "['policy', 'doing', 'organization', 'have', 'going', 'love', 'life', 'fly', 'dy', 'watched', 'ha', 'starting']\n",
            "watch\n",
            "watched\n"
          ],
          "name": "stdout"
        }
      ]
    },
    {
      "cell_type": "code",
      "metadata": {
        "id": "omngnI6gF4yJ",
        "colab_type": "code",
        "colab": {
          "base_uri": "https://localhost:8080/",
          "height": 88
        },
        "outputId": "cf52f14d-063d-45e5-fc37-460fa0de9df3"
      },
      "source": [
        "from nltk.stem import PorterStemmer\n",
        "from nltk.tokenize import word_tokenize\n",
        "from nltk.stem import LancasterStemmer\n",
        "\n",
        "s = PorterStemmer()\n",
        "l = LancasterStemmer()\n",
        "text = \"This was not the map we found in Billy Bones's chest, but an accurate \\\n",
        "copy, complete in all things--names and heights and soundings--with the single \\\n",
        "exception of the red crosses and the written notes.\"\n",
        "words = word_tokenize(text)\n",
        "\n",
        "print(words)\n",
        "print([s.stem(w) for w in words])\n",
        "print([l.stem(w) for w in words])"
      ],
      "execution_count": null,
      "outputs": [
        {
          "output_type": "stream",
          "text": [
            "['This', 'was', 'not', 'the', 'map', 'we', 'found', 'in', 'Billy', 'Bones', \"'s\", 'chest', ',', 'but', 'an', 'accurate', 'copy', ',', 'complete', 'in', 'all', 'things', '--', 'names', 'and', 'heights', 'and', 'soundings', '--', 'with', 'the', 'single', 'exception', 'of', 'the', 'red', 'crosses', 'and', 'the', 'written', 'notes', '.']\n",
            "['thi', 'wa', 'not', 'the', 'map', 'we', 'found', 'in', 'billi', 'bone', \"'s\", 'chest', ',', 'but', 'an', 'accur', 'copi', ',', 'complet', 'in', 'all', 'thing', '--', 'name', 'and', 'height', 'and', 'sound', '--', 'with', 'the', 'singl', 'except', 'of', 'the', 'red', 'cross', 'and', 'the', 'written', 'note', '.']\n",
            "['thi', 'was', 'not', 'the', 'map', 'we', 'found', 'in', 'bil', 'bon', \"'s\", 'chest', ',', 'but', 'an', 'acc', 'cop', ',', 'complet', 'in', 'al', 'thing', '--', 'nam', 'and', 'height', 'and', 'sound', '--', 'with', 'the', 'singl', 'exceiv', 'of', 'the', 'red', 'cross', 'and', 'the', 'writ', 'not', '.']\n"
          ],
          "name": "stdout"
        }
      ]
    },
    {
      "cell_type": "markdown",
      "metadata": {
        "id": "rJC6y0ULMQHE",
        "colab_type": "text"
      },
      "source": [
        "### Stopword\n",
        "> Stopword is useless word to analysis sentences.\n",
        "\n",
        "We sometimes have to remove words from sentences to analysis it better. NLTK basically provided a set of stopwords but we can defind them as required.\n",
        "\n",
        "If you want to get some stopword pre-defined, go to the following sites.\n",
        "\n",
        "https://www.ranks.nl/stopwords"
      ]
    },
    {
      "cell_type": "code",
      "metadata": {
        "id": "9faBHKyPMgrN",
        "colab_type": "code",
        "colab": {
          "base_uri": "https://localhost:8080/",
          "height": 122
        },
        "outputId": "4efe9633-5ffb-4a06-992f-f5f2b702bbdd"
      },
      "source": [
        "from nltk.corpus import stopwords\n",
        "from nltk.tokenize import word_tokenize\n",
        "nltk.download('stopwords')\n",
        "example = \"Family is not an important thing. It's everyhing.\"\n",
        "stop_words = set(stopwords.words(\"english\"))\n",
        "\n",
        "word_tokens = word_tokenize(example)\n",
        "\n",
        "result = []\n",
        "for w in word_tokens:\n",
        "    if w not in stop_words:\n",
        "        result.append(w)\n",
        "\n",
        "print(stopwords.words('english')[:100])\n",
        "print(word_tokens)\n",
        "print(result)"
      ],
      "execution_count": null,
      "outputs": [
        {
          "output_type": "stream",
          "text": [
            "[nltk_data] Downloading package stopwords to /root/nltk_data...\n",
            "[nltk_data]   Unzipping corpora/stopwords.zip.\n",
            "['i', 'me', 'my', 'myself', 'we', 'our', 'ours', 'ourselves', 'you', \"you're\", \"you've\", \"you'll\", \"you'd\", 'your', 'yours', 'yourself', 'yourselves', 'he', 'him', 'his', 'himself', 'she', \"she's\", 'her', 'hers', 'herself', 'it', \"it's\", 'its', 'itself', 'they', 'them', 'their', 'theirs', 'themselves', 'what', 'which', 'who', 'whom', 'this', 'that', \"that'll\", 'these', 'those', 'am', 'is', 'are', 'was', 'were', 'be', 'been', 'being', 'have', 'has', 'had', 'having', 'do', 'does', 'did', 'doing', 'a', 'an', 'the', 'and', 'but', 'if', 'or', 'because', 'as', 'until', 'while', 'of', 'at', 'by', 'for', 'with', 'about', 'against', 'between', 'into', 'through', 'during', 'before', 'after', 'above', 'below', 'to', 'from', 'up', 'down', 'in', 'out', 'on', 'off', 'over', 'under', 'again', 'further', 'then', 'once']\n",
            "['Family', 'is', 'not', 'an', 'important', 'thing', '.', 'It', \"'s\", 'everyhing', '.']\n",
            "['Family', 'important', 'thing', '.', 'It', \"'s\", 'everyhing', '.']\n"
          ],
          "name": "stdout"
        }
      ]
    },
    {
      "cell_type": "code",
      "metadata": {
        "id": "cxlKu_dFN836",
        "colab_type": "code",
        "colab": {
          "base_uri": "https://localhost:8080/",
          "height": 71
        },
        "outputId": "a231e2c4-b9cf-452d-991b-f48292260619"
      },
      "source": [
        "from nltk.corpus import stopwords\n",
        "from nltk.tokenize import word_tokenize\n",
        "\n",
        "example = \"고기를 아무렇게나 구우려고 하면 안 돼. 고기라고 다 같은 게 아니거든. 예컨대 삼겹살을 \\\n",
        "구울 때는 중요한 게 있지.\"\n",
        "stop_words = \"아무거나 아무렇게나 어찌하든지 같다 비슷하다 예컨대 이럴정도로 하면 아니거든\"\n",
        "\n",
        "stop_words = stop_words.split(' ')\n",
        "word_tokens = word_tokenize(example)\n",
        "\n",
        "reuslt = []\n",
        "for w in word_tokens:\n",
        "    if w not in stop_words:\n",
        "        result.append(w)\n",
        "\n",
        "print(word_tokens)\n",
        "print(result)"
      ],
      "execution_count": null,
      "outputs": [
        {
          "output_type": "stream",
          "text": [
            "['고기를', '아무렇게나', '구우려고', '하면', '안', '돼', '.', '고기라고', '다', '같은', '게', '아니거든', '.', '예컨대', '삼겹살을', '구울', '때는', '중요한', '게', '있지', '.']\n",
            "['Family', 'important', 'thing', '.', 'It', \"'s\", 'everyhing', '.', '고기를', '구우려고', '안', '돼', '.', '고기라고', '다', '같은', '게', '.', '삼겹살을', '구울', '때는', '중요한', '게', '있지', '.']\n"
          ],
          "name": "stdout"
        }
      ]
    },
    {
      "cell_type": "markdown",
      "metadata": {
        "id": "5Hdgt3JfPh3b",
        "colab_type": "text"
      },
      "source": [
        "### Regular Expression\n",
        "\n",
        "> Regular Expression is a set of strings that have special rules to represent the complex expression.\n",
        "\n",
        "\n",
        "#### Resource\n",
        "\n",
        "- https://wikidocs.net/21703"
      ]
    },
    {
      "cell_type": "markdown",
      "metadata": {
        "id": "usk88lg8QhlD",
        "colab_type": "text"
      },
      "source": [
        "### Integer Encoding\n",
        "\n",
        "> Integer Encoding is the method mapping some word to integer which can be understood by computer well.\n",
        "\n",
        "#### Resource\n",
        "- https://wikidocs.net/31766"
      ]
    },
    {
      "cell_type": "code",
      "metadata": {
        "id": "rQYqw7TxQ_9W",
        "colab_type": "code",
        "colab": {
          "base_uri": "https://localhost:8080/",
          "height": 207
        },
        "outputId": "e2527d1c-ebc8-4a53-882e-c193a2f01396"
      },
      "source": [
        "from nltk.tokenize import sent_tokenize\n",
        "from nltk.tokenize import word_tokenize\n",
        "from nltk.corpus import stopwords\n",
        "\n",
        "text = \"A barber is a person. a barber is good person. a barber is huge person.\\\n",
        " he Knew A Secret! The Secret He Kept is huge secret. Huge secret. His barber\\\n",
        "  kept his word. a barber kept his word. His barber kept his secret. But\\\n",
        "   keeping and keeping such a huge secret to himself was driving the barber\\\n",
        "    crazy. the barber went up a huge mountain.\"\n",
        "\n",
        "text = sent_tokenize(text)\n",
        "print(\"Tokenizing ...\")\n",
        "print(text)\n",
        "\n",
        "vocab = {}\n",
        "sentences = []\n",
        "stop_words = set(stopwords.words('english'))\n",
        "\n",
        "print(\"Cleaning ...\")\n",
        "for i in text:\n",
        "    sentence = word_tokenize(i)\n",
        "    result = []\n",
        "\n",
        "    for word in sentence:\n",
        "        word = word.lower()\n",
        "        if word not in stop_words:\n",
        "            if len(word) > 2:\n",
        "                result.append(word)\n",
        "                if word not in vocab:\n",
        "                    vocab[word] = 0\n",
        "                vocab[word] += 1\n",
        "    sentences.append(result)\n",
        "print(sentences)\n",
        "\n",
        "print(\"Count of word used in given text :\")\n",
        "print(vocab)\n",
        "\n",
        "print(\"Sorting in ascending order ... \")\n",
        "vocab_sorted = sorted(vocab.items(), key = lambda x:x[1], reverse = True)\n",
        "print(vocab_sorted)\n",
        "\n",
        "print(\"Mapping Integer in words ...\")\n",
        "\n",
        "word_to_index = {}\n",
        "i = 0\n",
        "for (word, frequency) in vocab_sorted:\n",
        "    if frequency > 1:\n",
        "        i = i + 1\n",
        "        word_to_index[word] = i\n",
        "print(word_to_index)"
      ],
      "execution_count": null,
      "outputs": [
        {
          "output_type": "stream",
          "text": [
            "Tokenizing ...\n",
            "['A barber is a person.', 'a barber is good person.', 'a barber is huge person.', 'he Knew A Secret!', 'The Secret He Kept is huge secret.', 'Huge secret.', 'His barber  kept his word.', 'a barber kept his word.', 'His barber kept his secret.', 'But   keeping and keeping such a huge secret to himself was driving the barber    crazy.', 'the barber went up a huge mountain.']\n",
            "Cleaning ...\n",
            "[['barber', 'person'], ['barber', 'good', 'person'], ['barber', 'huge', 'person'], ['knew', 'secret'], ['secret', 'kept', 'huge', 'secret'], ['huge', 'secret'], ['barber', 'kept', 'word'], ['barber', 'kept', 'word'], ['barber', 'kept', 'secret'], ['keeping', 'keeping', 'huge', 'secret', 'driving', 'barber', 'crazy'], ['barber', 'went', 'huge', 'mountain']]\n",
            "Count of word used in given text :\n",
            "{'barber': 8, 'person': 3, 'good': 1, 'huge': 5, 'knew': 1, 'secret': 6, 'kept': 4, 'word': 2, 'keeping': 2, 'driving': 1, 'crazy': 1, 'went': 1, 'mountain': 1}\n",
            "Sorting in ascending order ... \n",
            "[('barber', 8), ('secret', 6), ('huge', 5), ('kept', 4), ('person', 3), ('word', 2), ('keeping', 2), ('good', 1), ('knew', 1), ('driving', 1), ('crazy', 1), ('went', 1), ('mountain', 1)]\n",
            "Mapping Integer in words ...\n",
            "{'barber': 1, 'secret': 2, 'huge': 3, 'kept': 4, 'person': 5, 'word': 6, 'keeping': 7}\n"
          ],
          "name": "stdout"
        }
      ]
    },
    {
      "cell_type": "code",
      "metadata": {
        "id": "Ttd0RecAUMrj",
        "colab_type": "code",
        "colab": {
          "base_uri": "https://localhost:8080/",
          "height": 88
        },
        "outputId": "e36b03ae-c0ff-4117-ea39-c0ba7488cec1"
      },
      "source": [
        "vocab_size = 5\n",
        "words_frequency = [w for w,c in word_to_index.items() if c >= vocab_size + 1]\n",
        "for w in words_frequency:\n",
        "    del word_to_index[w]\n",
        "print(word_to_index)\n",
        "\n",
        "word_to_index['OOV'] = len(word_to_index) + 1\n",
        "\n",
        "encoded = []\n",
        "print(sentences)\n",
        "for s in sentences:\n",
        "    temp = []\n",
        "    for w in s:\n",
        "        try :\n",
        "            temp.append(word_to_index[w])\n",
        "        except KeyError:\n",
        "            temp.append(word_to_index['OOV'])\n",
        "    encoded.append(temp)\n",
        "print(encoded)"
      ],
      "execution_count": null,
      "outputs": [
        {
          "output_type": "stream",
          "text": [
            "{'barber': 1, 'secret': 2, 'huge': 3, 'kept': 4, 'person': 5}\n",
            "[['barber', 'person'], ['barber', 'good', 'person'], ['barber', 'huge', 'person'], ['knew', 'secret'], ['secret', 'kept', 'huge', 'secret'], ['huge', 'secret'], ['barber', 'kept', 'word'], ['barber', 'kept', 'word'], ['barber', 'kept', 'secret'], ['keeping', 'keeping', 'huge', 'secret', 'driving', 'barber', 'crazy'], ['barber', 'went', 'huge', 'mountain']]\n",
            "[[1, 5], [1, 6, 5], [1, 3, 5], [6, 2], [2, 4, 3, 2], [3, 2], [1, 4, 6], [1, 4, 6], [1, 4, 2], [6, 6, 3, 2, 6, 1, 6], [1, 6, 3, 6]]\n"
          ],
          "name": "stdout"
        }
      ]
    },
    {
      "cell_type": "code",
      "metadata": {
        "id": "AblZtavhWzYW",
        "colab_type": "code",
        "colab": {
          "base_uri": "https://localhost:8080/",
          "height": 139
        },
        "outputId": "04ab2f2b-838a-45ea-9a16-510fb1579875"
      },
      "source": [
        "# Using Counter\n",
        "from collections import Counter\n",
        "print(sentences)\n",
        "new_words = sum(sentences, [])\n",
        "print(new_words)\n",
        "\n",
        "print(\"Counting words from text ...\")\n",
        "new_vocab = Counter(new_words)\n",
        "print(new_vocab)\n",
        "new_vocab_size = 5\n",
        "new_vocab = new_vocab.most_common(new_vocab_size)\n",
        "print(new_vocab)\n",
        "\n",
        "counter_word_to_index = {}\n",
        "i = 0\n",
        "for (word, frequency) in new_vocab:\n",
        "    i = i + 1\n",
        "    counter_word_to_index[word] = i\n",
        "print(counter_word_to_index)"
      ],
      "execution_count": null,
      "outputs": [
        {
          "output_type": "stream",
          "text": [
            "[['barber', 'person'], ['barber', 'good', 'person'], ['barber', 'huge', 'person'], ['knew', 'secret'], ['secret', 'kept', 'huge', 'secret'], ['huge', 'secret'], ['barber', 'kept', 'word'], ['barber', 'kept', 'word'], ['barber', 'kept', 'secret'], ['keeping', 'keeping', 'huge', 'secret', 'driving', 'barber', 'crazy'], ['barber', 'went', 'huge', 'mountain']]\n",
            "['barber', 'person', 'barber', 'good', 'person', 'barber', 'huge', 'person', 'knew', 'secret', 'secret', 'kept', 'huge', 'secret', 'huge', 'secret', 'barber', 'kept', 'word', 'barber', 'kept', 'word', 'barber', 'kept', 'secret', 'keeping', 'keeping', 'huge', 'secret', 'driving', 'barber', 'crazy', 'barber', 'went', 'huge', 'mountain']\n",
            "Counting words from text ...\n",
            "Counter({'barber': 8, 'secret': 6, 'huge': 5, 'kept': 4, 'person': 3, 'word': 2, 'keeping': 2, 'good': 1, 'knew': 1, 'driving': 1, 'crazy': 1, 'went': 1, 'mountain': 1})\n",
            "[('barber', 8), ('secret', 6), ('huge', 5), ('kept', 4), ('person', 3)]\n",
            "{'barber': 1, 'secret': 2, 'huge': 3, 'kept': 4, 'person': 5}\n"
          ],
          "name": "stdout"
        }
      ]
    },
    {
      "cell_type": "code",
      "metadata": {
        "id": "LjEgx5T0XcL0",
        "colab_type": "code",
        "colab": {
          "base_uri": "https://localhost:8080/",
          "height": 68
        },
        "outputId": "9d5545d5-55d3-493a-ff93-bc8327beacea"
      },
      "source": [
        "# Using FreqDist\n",
        "from nltk import FreqDist\n",
        "import numpy as np\n",
        "\n",
        "new_vocab_size = 5\n",
        "new_vocab = FreqDist(np.hstack(sentences))\n",
        "print(new_vocab)\n",
        "\n",
        "new_vocab = new_vocab.most_common(new_vocab_size)\n",
        "print(new_vocab)\n",
        "\n",
        "freqdist_word_to_index = {new_words[0] : index + 1 for index, new_words \\\n",
        "                         in enumerate(new_vocab)}\n",
        "print(freqdist_word_to_index)"
      ],
      "execution_count": null,
      "outputs": [
        {
          "output_type": "stream",
          "text": [
            "<FreqDist with 13 samples and 36 outcomes>\n",
            "[('barber', 8), ('secret', 6), ('huge', 5), ('kept', 4), ('person', 3)]\n",
            "{'barber': 1, 'secret': 2, 'huge': 3, 'kept': 4, 'person': 5}\n"
          ],
          "name": "stdout"
        }
      ]
    },
    {
      "cell_type": "code",
      "metadata": {
        "id": "O1pWUpL1bSpa",
        "colab_type": "code",
        "colab": {
          "base_uri": "https://localhost:8080/",
          "height": 105
        },
        "outputId": "09eebd9c-4f01-4713-d489-67950b2e6bbe"
      },
      "source": [
        "# Using Keras Preorcessing Tool\n",
        "from tensorflow.keras.preprocessing.text import Tokenizer\n",
        "tokenizer = Tokenizer()\n",
        "\n",
        "tokenizer.fit_on_texts(sentences)\n",
        "print(tokenizer.word_index)\n",
        "print(tokenizer.word_counts)\n",
        "print(tokenizer.texts_to_sequences(sentences))\n",
        "\n",
        "tokenizer = Tokenizer(num_words = vocab_size + 2, oov_token = 'OOV')\n",
        "tokenizer.fit_on_texts(sentences)\n",
        "\n",
        "# print(tokenizer.word_index)\n",
        "# print(tokenizer.word_counts)\n",
        "print(tokenizer.texts_to_sequences(sentences))"
      ],
      "execution_count": null,
      "outputs": [
        {
          "output_type": "stream",
          "text": [
            "{'barber': 1, 'secret': 2, 'huge': 3, 'kept': 4, 'person': 5, 'word': 6, 'keeping': 7, 'good': 8, 'knew': 9, 'driving': 10, 'crazy': 11, 'went': 12, 'mountain': 13}\n",
            "OrderedDict([('barber', 8), ('person', 3), ('good', 1), ('huge', 5), ('knew', 1), ('secret', 6), ('kept', 4), ('word', 2), ('keeping', 2), ('driving', 1), ('crazy', 1), ('went', 1), ('mountain', 1)])\n",
            "[[1, 5], [1, 8, 5], [1, 3, 5], [9, 2], [2, 4, 3, 2], [3, 2], [1, 4, 6], [1, 4, 6], [1, 4, 2], [7, 7, 3, 2, 10, 1, 11], [1, 12, 3, 13]]\n",
            "[[2, 6], [2, 1, 6], [2, 4, 6], [1, 3], [3, 5, 4, 3], [4, 3], [2, 5, 1], [2, 5, 1], [2, 5, 3], [1, 1, 4, 3, 1, 2, 1], [2, 1, 4, 1]]\n"
          ],
          "name": "stdout"
        }
      ]
    },
    {
      "cell_type": "markdown",
      "metadata": {
        "id": "iiLYmdTUc16V",
        "colab_type": "text"
      },
      "source": [
        "### Padding\n",
        "\n",
        "> Padding is a work to set the length of serveral sentences with same one.\n",
        "\n"
      ]
    },
    {
      "cell_type": "code",
      "metadata": {
        "id": "x8jfNt4idO_g",
        "colab_type": "code",
        "colab": {
          "base_uri": "https://localhost:8080/",
          "height": 221
        },
        "outputId": "ea1f07d6-ded6-4e62-bd03-101fd239694d"
      },
      "source": [
        "# Padding Using numpy\n",
        "import numpy as np\n",
        "from tensorflow.keras.preprocessing.text import Tokenizer\n",
        "tokenizer = Tokenizer()\n",
        "tokenizer.fit_on_texts(sentences)\n",
        "encoded = tokenizer.texts_to_sequences(sentences)\n",
        "\n",
        "# print(encoded)\n",
        "\n",
        "max_len = max(len(item) for item in encoded)\n",
        "print(max_len)\n",
        "\n",
        "for item in encoded:\n",
        "    while len(item) < max_len:\n",
        "        item.append(0) # padding\n",
        "\n",
        "padded_np = np.array(encoded)\n",
        "print(padded_np)\n",
        "\n",
        "# Padding using keras\n",
        "from tensorflow.keras.preprocessing.sequence import pad_sequences\n",
        "\n",
        "padded = pad_sequences(encoded)\n",
        "print(padded)\n",
        "\n",
        "(padded == padded_up).all()\n",
        "\n",
        "padded = pad_sequences(encoded, padding = 'post', maxlen = 5)\n",
        "print(padded)\n",
        "\n"
      ],
      "execution_count": null,
      "outputs": [
        {
          "output_type": "stream",
          "text": [
            "7\n",
            "[[ 1  5  0  0  0  0  0]\n",
            " [ 1  8  5  0  0  0  0]\n",
            " [ 1  3  5  0  0  0  0]\n",
            " [ 9  2  0  0  0  0  0]\n",
            " [ 2  4  3  2  0  0  0]\n",
            " [ 3  2  0  0  0  0  0]\n",
            " [ 1  4  6  0  0  0  0]\n",
            " [ 1  4  6  0  0  0  0]\n",
            " [ 1  4  2  0  0  0  0]\n",
            " [ 7  7  3  2 10  1 11]\n",
            " [ 1 12  3 13  0  0  0]]\n"
          ],
          "name": "stdout"
        }
      ]
    },
    {
      "cell_type": "markdown",
      "metadata": {
        "id": "wqX7JbgnfC5h",
        "colab_type": "text"
      },
      "source": [
        "### One-Hot Encoding\n",
        "\n",
        "> One-Hot Encoding is the method to convert a word to vector like Integer Encoding.\n",
        "\n",
        "One-Hot Vector is the vector generated from one-hot encoding. Only one dimension has '1' value and the other have '0'."
      ]
    },
    {
      "cell_type": "code",
      "metadata": {
        "id": "0rQiTK1GgNvS",
        "colab_type": "code",
        "colab": {
          "base_uri": "https://localhost:8080/",
          "height": 204
        },
        "outputId": "ff8e02e5-efed-4192-de96-a10675498438"
      },
      "source": [
        "# One Hot Encoding\n",
        "from konlpy.tag import Okt\n",
        "okt = Okt()\n",
        "token = okt.morphs(\"나는 자연어 처리를 배운다\")\n",
        "print(token)\n",
        "\n",
        "wordtoindex = {}\n",
        "for voca in token:\n",
        "    if voca not in wordtoindex.keys():\n",
        "        wordtoindex[voca] = len(wordtoindex)\n",
        "print(wordtoindex)\n",
        "\n",
        "def one_hot_encoding(word, wordtoindex):\n",
        "    one_hot_vector = [0]*(len(wordtoindex) + 1)\n",
        "    index = wordtoindex[word]\n",
        "    one_hot_vector[index] = 1\n",
        "    return one_hot_vector\n",
        "\n",
        "print(one_hot_encoding('자연어', wordtoindex))\n",
        "\n",
        "# One-Hot Encoding Using keras\n",
        "from tensorflow.keras.preprocessing.text import Tokenizer\n",
        "from tensorflow.keras.utils import to_categorical\n",
        "\n",
        "text = \"나랑 점심 먹으러 갈래 점심 메뉴는 햄버거 갈래 갈래 햄버거 최고야\"\n",
        "\n",
        "t = Tokenizer()\n",
        "t.fit_on_texts([text])\n",
        "print(t.word_index)\n",
        "\n",
        "sub_text = \"점심 먹으러 갈래 메뉴는 햄버거 최고야\"\n",
        "encoded = t.texts_to_sequences([sub_text])[0]\n",
        "print(encoded)\n",
        "\n",
        "one_hot = to_categorical(encoded)\n",
        "print(one_hot)"
      ],
      "execution_count": null,
      "outputs": [
        {
          "output_type": "stream",
          "text": [
            "['나', '는', '자연어', '처리', '를', '배운다']\n",
            "{'나': 0, '는': 1, '자연어': 2, '처리': 3, '를': 4, '배운다': 5}\n",
            "[0, 0, 1, 0, 0, 0, 0]\n",
            "{'갈래': 1, '점심': 2, '햄버거': 3, '나랑': 4, '먹으러': 5, '메뉴는': 6, '최고야': 7}\n",
            "[2, 5, 1, 6, 3, 7]\n",
            "[[0. 0. 1. 0. 0. 0. 0. 0.]\n",
            " [0. 0. 0. 0. 0. 1. 0. 0.]\n",
            " [0. 1. 0. 0. 0. 0. 0. 0.]\n",
            " [0. 0. 0. 0. 0. 0. 1. 0.]\n",
            " [0. 0. 0. 1. 0. 0. 0. 0.]\n",
            " [0. 0. 0. 0. 0. 0. 0. 1.]]\n"
          ],
          "name": "stdout"
        }
      ]
    },
    {
      "cell_type": "markdown",
      "metadata": {
        "id": "Sajvcu57xCUN",
        "colab_type": "text"
      },
      "source": [
        "### Splitting Data\n"
      ]
    },
    {
      "cell_type": "code",
      "metadata": {
        "id": "j2-Q5aCBxFgA",
        "colab_type": "code",
        "colab": {
          "base_uri": "https://localhost:8080/",
          "height": 272
        },
        "outputId": "f182cbdf-9ac0-48e5-cc95-072cd66dc239"
      },
      "source": [
        "# Splitting Data using Dataframe\n",
        "import pandas as pd\n",
        "\n",
        "values = [['당신에게 드리는 마지막 혜택!', 1],\n",
        "['내일 뵐 수 있을지 확인 부탁드...', 0],\n",
        "['도연씨. 잘 지내시죠? 오랜만입...', 0],\n",
        "['(광고) AI로 주가를 예측할 수 있다!', 1]]\n",
        "\n",
        "columns = ['메일 본문', '스팸 메일 유무']\n",
        "\n",
        "df = pd.DataFrame(values, columns=columns)\n",
        "\n",
        "print(df)\n",
        "\n",
        "x = df['메일 본문']\n",
        "y = df['스팸 메일 유무']\n",
        "\n",
        "print(x)\n",
        "print(y)"
      ],
      "execution_count": null,
      "outputs": [
        {
          "output_type": "stream",
          "text": [
            "                    메일 본문  스팸 메일 유무\n",
            "0        당신에게 드리는 마지막 혜택!         1\n",
            "1    내일 뵐 수 있을지 확인 부탁드...         0\n",
            "2    도연씨. 잘 지내시죠? 오랜만입...         0\n",
            "3  (광고) AI로 주가를 예측할 수 있다!         1\n",
            "0          당신에게 드리는 마지막 혜택!\n",
            "1      내일 뵐 수 있을지 확인 부탁드...\n",
            "2      도연씨. 잘 지내시죠? 오랜만입...\n",
            "3    (광고) AI로 주가를 예측할 수 있다!\n",
            "Name: 메일 본문, dtype: object\n",
            "0    1\n",
            "1    0\n",
            "2    0\n",
            "3    1\n",
            "Name: 스팸 메일 유무, dtype: int64\n"
          ],
          "name": "stdout"
        }
      ]
    },
    {
      "cell_type": "code",
      "metadata": {
        "id": "LRzF2Mchx-AS",
        "colab_type": "code",
        "colab": {
          "base_uri": "https://localhost:8080/",
          "height": 170
        },
        "outputId": "b5964d3b-6a23-479b-efbf-8903f6358134"
      },
      "source": [
        "# Splitting Data using numpy\n",
        "import numpy as np\n",
        "\n",
        "ar = np.arange(0, 16).reshape(4, 4)\n",
        "print(ar)\n",
        "\n",
        "X = ar[:,:3]\n",
        "Y = ar[:,3]\n",
        "\n",
        "print(X)\n",
        "print(Y)"
      ],
      "execution_count": null,
      "outputs": [
        {
          "output_type": "stream",
          "text": [
            "[[ 0  1  2  3]\n",
            " [ 4  5  6  7]\n",
            " [ 8  9 10 11]\n",
            " [12 13 14 15]]\n",
            "[[ 0  1  2]\n",
            " [ 4  5  6]\n",
            " [ 8  9 10]\n",
            " [12 13 14]]\n",
            "[ 3  7 11 15]\n"
          ],
          "name": "stdout"
        }
      ]
    },
    {
      "cell_type": "code",
      "metadata": {
        "id": "KlqBNsYnyOTz",
        "colab_type": "code",
        "colab": {
          "base_uri": "https://localhost:8080/",
          "height": 119
        },
        "outputId": "5ca23225-61f3-4b98-82ac-04265959385e"
      },
      "source": [
        "# Splitting data using sklearn\n",
        "from sklearn.model_selection import train_test_split\n",
        "\n",
        "x_train, x_test, y_train, y_test = train_test_split(X, Y, test_size=0.2, random_state=1515)\n",
        "\n",
        "print(x_train)\n",
        "print(y_train)\n",
        "\n",
        "print(x_test)\n",
        "print(y_test)"
      ],
      "execution_count": null,
      "outputs": [
        {
          "output_type": "stream",
          "text": [
            "[[ 8  9 10]\n",
            " [ 0  1  2]\n",
            " [12 13 14]]\n",
            "[11  3 15]\n",
            "[[4 5 6]]\n",
            "[7]\n"
          ],
          "name": "stdout"
        }
      ]
    },
    {
      "cell_type": "code",
      "metadata": {
        "id": "eJtLxvpMzsXq",
        "colab_type": "code",
        "colab": {
          "base_uri": "https://localhost:8080/",
          "height": 85
        },
        "outputId": "0d4275d3-1be4-403e-bbdb-9909eb3eabc6"
      },
      "source": [
        "import numpy as np\n",
        "\n",
        "x, y = np.arange(0, 24).reshape((12, 2)), range(12)\n",
        "\n",
        "n_of_train = int(len(x) * 0.8)\n",
        "n_of_test = int(len(x) - n_of_train)\n",
        "\n",
        "x_test = x[n_of_train:]\n",
        "x_train = x[:n_of_train]\n",
        "y_test = y[n_of_train:]\n",
        "y_train = y[:n_of_train]\n",
        "\n",
        "print(x_test)\n",
        "print(list(y_test))"
      ],
      "execution_count": null,
      "outputs": [
        {
          "output_type": "stream",
          "text": [
            "[[18 19]\n",
            " [20 21]\n",
            " [22 23]]\n",
            "[9, 10, 11]\n"
          ],
          "name": "stdout"
        }
      ]
    },
    {
      "cell_type": "markdown",
      "metadata": {
        "id": "ZROBT7mEJ5Jz",
        "colab_type": "text"
      },
      "source": [
        "## Topic Modeling\n",
        "\n",
        "> Topic Model is one of the kind of statistical model to discover an abstract topic in an area of machine learning and netural language processing. \n",
        "\n",
        "Topic Modeling is the text mining technique to find hidding text structure of main text."
      ]
    },
    {
      "cell_type": "markdown",
      "metadata": {
        "id": "_2RXrJdwQ4wa",
        "colab_type": "text"
      },
      "source": [
        "### Latent Semanitc Analysis, LSA\n",
        "\n",
        "> Latent Semantic Analysis is a technique of analyzing relationships between a set of documents and the terms they contain by producing a set of concepts related to the documents and terms.\n",
        "\n",
        "LSA is not the optimizing algorithm for Topic Modeling but LSA gives the idea to the area of Topic Modeling.\n",
        "\n",
        "So, before learning about LDA, we will learn about LSA.\n",
        "\n",
        "\n",
        "#### Singular Value Decomposition, SVD\n",
        "\n",
        "$$A = U\\Sigma V^{T}$$\n",
        "\n",
        "$$U\\ is\\ m \\times m\\ orthogonal\\ matrix$$\n",
        "$$V\\ is\\ n \\times n\\ orthogonal\\ matrix$$\n",
        "$$\\Sigma\\  is\\ m \\times n\\ diagonal\\ matrix$$\n",
        "\n",
        "When m * n matrix A is given, SVD means that a matrix is decomposed into the product of three matrix.\n",
        "\n",
        "#### Truncated SVD\n",
        "\n",
        "Truancated SVD is the kind of SVD with some vectors truncated. If we have 't' hyperparameter that user chose, only 1~t rows in U and V matrix are left in the new matrix(Truancted SVD).\n",
        "\n",
        "High 't' means that we can get a lot of information from the original matrix but it makes too many noises also.\n",
        "\n",
        "Principal Component Analysis is the concept that extracts the main dimension from the data of high one. As a result, the data's dimension is decreased. SVD has usually used to decrease the dimension of the data. We don't need all of topics from the origin. So truncated SVD reduces the useless dimension that has the lower Singular value from SVD.\n",
        "\n",
        "The result of Truncated SVD is not the same as original but similar.\n",
        "#### Reference\n",
        "\n",
        "https://wikidocs.net/24949\n",
        "https://bab2min.tistory.com/585"
      ]
    },
    {
      "cell_type": "markdown",
      "metadata": {
        "id": "GM9mzpyD9ZAx",
        "colab_type": "text"
      },
      "source": [
        "#### LSA\n",
        "\n",
        "DTM or TF-IDF matrix doesn't consider about the meaning of terms. LSA decrases the dimension of matrix from TF-IDF or DTM and extracts the potential meaning from them."
      ]
    },
    {
      "cell_type": "code",
      "metadata": {
        "id": "8yqOBgxSB7Dd",
        "colab_type": "code",
        "colab": {
          "base_uri": "https://localhost:8080/"
        },
        "outputId": "7ce983df-d8ea-4d0f-b368-1005d357463f"
      },
      "source": [
        "# Full SVD\n",
        "import numpy as np\n",
        "\n",
        "A=np.array([[0,0,0,1,0,1,1,0,0],\\\n",
        "            [0,0,0,1,1,0,1,0,0],\\\n",
        "            [0,1,1,0,2,0,0,0,0],\\\n",
        "            [1,0,0,0,0,0,0,1,1]])\n",
        "\n",
        "U, s, VT = np.linalg.svd(A, full_matrices = True)\n",
        "\n",
        "S = np.zeros((4, 9))\n",
        "S[:4, :4] = np.diag(s)\n",
        "\n",
        "print(np.allclose(A, np.dot(np.dot(U, S), VT)))"
      ],
      "execution_count": null,
      "outputs": [
        {
          "output_type": "stream",
          "text": [
            "True\n"
          ],
          "name": "stdout"
        }
      ]
    },
    {
      "cell_type": "code",
      "metadata": {
        "id": "G4kIerHbCmfw",
        "colab_type": "code",
        "colab": {
          "base_uri": "https://localhost:8080/"
        },
        "outputId": "e704d46e-e9f5-435d-c958-acc710f24946"
      },
      "source": [
        "# Truncated SVD\n",
        "\n",
        "\n",
        "S = S[:2, :2]\n",
        "U = U[:, :2]\n",
        "VT = VT[:2, :]\n",
        "A_truncated = np.dot(np.dot(U, S), VT)\n",
        "\n",
        "print(A_truncated.round(2))"
      ],
      "execution_count": null,
      "outputs": [
        {
          "output_type": "stream",
          "text": [
            "[[ 0.   -0.17 -0.17  1.08  0.12  0.62  1.08 -0.   -0.  ]\n",
            " [ 0.    0.2   0.2   0.91  0.86  0.45  0.91  0.    0.  ]\n",
            " [ 0.    0.93  0.93  0.03  2.05 -0.17  0.03  0.    0.  ]\n",
            " [ 0.    0.    0.    0.    0.    0.    0.    0.    0.  ]]\n"
          ],
          "name": "stdout"
        }
      ]
    },
    {
      "cell_type": "markdown",
      "metadata": {
        "id": "7pVAa4_amHHq",
        "colab_type": "text"
      },
      "source": [
        "#### LSA Practice\n",
        "\n",
        "Scikit provide the data of news groups that have different 20 topics called Twenty Newsgroups.\n",
        "LSA is not the optimizing algorithm to implement the topic modeling. but we use it to extract the result of the simple topic modeling.\n",
        "\n",
        "- Newsgroups is not the data of news."
      ]
    },
    {
      "cell_type": "code",
      "metadata": {
        "id": "uoWGviUDnF2t",
        "colab_type": "code",
        "colab": {
          "base_uri": "https://localhost:8080/",
          "height": 564
        },
        "outputId": "e40df0cd-30bb-4ac7-8cc0-c8cde6bfa0df"
      },
      "source": [
        "!pip install nltk\n",
        "import pandas as pd\n",
        "from sklearn.datasets import fetch_20newsgroups\n",
        "\n",
        "dataset = fetch_20newsgroups(shuffle=True, random_state=1, \\\n",
        "                             remove=('headers', 'footers', 'quotes'))\n",
        "documents = dataset.data\n",
        "\n",
        "# Text preprocessing\n",
        "\n",
        "news_df = pd.DataFrame({'document':documents})\n",
        "news_df['clean_doc'] = news_df['document'].str.replace(\"[^a-zA-Z]\", \" \")\n",
        "news_df['clean_doc'] = news_df['clean_doc'].apply(lambda x: ' '.join([w for w in x.split() if len(w)>3]))\n",
        "news_df['clean_doc'] = news_df['clean_doc'].apply(lambda x: x.lower())\n",
        "\n",
        "print(news_df['clean_doc'][1])\n",
        "\n",
        "from nltk.corpus import stopwords\n",
        "import nltk\n",
        "\n",
        "nltk.download('stopwords')\n",
        "stop_words = stopwords.words('english')\n",
        "tokenize_doc = news_df['clean_doc'].apply(lambda x: x.split())\n",
        "tokenize_doc = tokenize_doc.apply(lambda x: [item for item in x if item not in \\\n",
        "                                             stop_words])\n",
        "\n",
        "print(tokenize_doc[:5])\n",
        "# Detokenize\n",
        "detokenize_doc = []\n",
        "for i in range(len(news_df)):\n",
        "    t = ' '.join(tokenize_doc[i])\n",
        "    detokenize_doc.append(t)\n",
        "\n",
        "\n",
        "# Making TF-IDF matrix\n",
        "\n",
        "from sklearn.feature_extraction.text import TfidfVectorizer\n",
        "\n",
        "vectorizer = TfidfVectorizer(stop_words='english', \\\n",
        "                            max_features=1000, \\\n",
        "                            max_df = 0.5, \\\n",
        "                            smooth_idf=True)\n",
        "\n",
        "X = vectorizer.fit_transform(news_df['clean_doc'])\n",
        "\n",
        "from sklearn.decomposition import TruncatedSVD\n",
        "\n",
        "svd_model = TruncatedSVD(n_components=20, algorithm='randomized', \\\n",
        "                         n_iter=100, \\\n",
        "                         random_state=122)\n",
        "svd_model.fit(X)\n",
        "\n",
        "terms = vectorizer.get_feature_names()\n",
        "\n",
        "def get_topics(components, feature_names, n = 5):\n",
        "    for idx, topic in enumerate(components):\n",
        "        print(\"Topic %d:\" % (idx + 1), [(feature_names[i], topic[i].round(5)) \\\n",
        "                                        for i in topic.argsort()[:-n - 1:-1]])\n",
        "get_topics(svd_model.components_, terms)\n"
      ],
      "execution_count": 11,
      "outputs": [
        {
          "output_type": "stream",
          "text": [
            "Requirement already satisfied: nltk in /usr/local/lib/python3.6/dist-packages (3.2.5)\n",
            "Requirement already satisfied: six in /usr/local/lib/python3.6/dist-packages (from nltk) (1.15.0)\n",
            "yeah expect people read actually accept hard atheism need little leap faith jimmy your logic runs steam sorry pity sorry that have these feelings denial about faith need well just pretend that will happily ever after anyway maybe start newsgroup atheist hard bummin much forget your flintstone chewables bake timmons\n",
            "[nltk_data] Downloading package stopwords to /root/nltk_data...\n",
            "[nltk_data]   Package stopwords is already up-to-date!\n",
            "0    [well, sure, story, seem, biased, disagree, st...\n",
            "1    [yeah, expect, people, read, actually, accept,...\n",
            "2    [although, realize, principle, strongest, poin...\n",
            "3    [notwithstanding, legitimate, fuss, proposal, ...\n",
            "4    [well, change, scoring, playoff, pool, unfortu...\n",
            "Name: clean_doc, dtype: object\n",
            "Topic 1: [('just', 0.20887), ('like', 0.20469), ('know', 0.19349), ('people', 0.18318), ('think', 0.1697)]\n",
            "Topic 2: [('thanks', 0.32763), ('windows', 0.28786), ('card', 0.18019), ('drive', 0.16864), ('mail', 0.15261)]\n",
            "Topic 3: [('game', 0.34011), ('team', 0.30311), ('year', 0.26894), ('games', 0.23784), ('drive', 0.17472)]\n",
            "Topic 4: [('drive', 0.46159), ('scsi', 0.17188), ('disk', 0.14451), ('hard', 0.13805), ('problem', 0.12763)]\n",
            "Topic 5: [('drive', 0.39993), ('know', 0.28768), ('thanks', 0.24917), ('does', 0.24678), ('just', 0.17387)]\n",
            "Topic 6: [('just', 0.55559), ('like', 0.23559), ('windows', 0.23078), ('know', 0.15795), ('does', 0.11156)]\n",
            "Topic 7: [('just', 0.43264), ('like', 0.22858), ('mail', 0.15052), ('bike', 0.11698), ('thanks', 0.10025)]\n",
            "Topic 8: [('does', 0.39692), ('know', 0.25192), ('chip', 0.22492), ('like', 0.17824), ('card', 0.15695)]\n",
            "Topic 9: [('like', 0.42065), ('card', 0.32249), ('sale', 0.20267), ('video', 0.1571), ('offer', 0.14119)]\n",
            "Topic 10: [('like', 0.61166), ('drive', 0.23998), ('file', 0.13257), ('files', 0.09233), ('sounds', 0.08533)]\n",
            "Topic 11: [('people', 0.44189), ('like', 0.25647), ('thanks', 0.19072), ('card', 0.18615), ('government', 0.18341)]\n",
            "Topic 12: [('think', 0.66867), ('good', 0.25984), ('thanks', 0.11249), ('need', 0.10479), ('chip', 0.09178)]\n",
            "Topic 13: [('think', 0.36273), ('does', 0.22264), ('just', 0.21194), ('mail', 0.12875), ('like', 0.12095)]\n",
            "Topic 14: [('know', 0.36546), ('good', 0.30975), ('people', 0.27825), ('windows', 0.2729), ('file', 0.20088)]\n",
            "Topic 15: [('space', 0.4519), ('know', 0.31141), ('think', 0.18571), ('nasa', 0.1711), ('card', 0.11724)]\n",
            "Topic 16: [('does', 0.42324), ('israel', 0.31948), ('think', 0.26996), ('right', 0.1863), ('israeli', 0.17007)]\n",
            "Topic 17: [('good', 0.41859), ('space', 0.27501), ('card', 0.1855), ('does', 0.16985), ('thanks', 0.16633)]\n",
            "Topic 18: [('people', 0.5173), ('does', 0.25965), ('window', 0.21657), ('problem', 0.19057), ('space', 0.12958)]\n",
            "Topic 19: [('right', 0.36578), ('bike', 0.31154), ('time', 0.19438), ('windows', 0.18916), ('space', 0.1777)]\n",
            "Topic 20: [('file', 0.53334), ('problem', 0.20198), ('files', 0.19583), ('need', 0.18333), ('time', 0.15802)]\n"
          ],
          "name": "stdout"
        }
      ]
    },
    {
      "cell_type": "markdown",
      "metadata": {
        "id": "9hm_i4ksz-oF",
        "colab_type": "text"
      },
      "source": [
        "### Latent Dirichlet Allocation, LDA\n",
        "\n",
        "> Latent Dirichlet Allocation is the kind of the algorithm to find topic from the set of documents.\n",
        "\n",
        "LDA is the algorithm to determine what topics exist from teh set of documents. LDA is based on BoW or TF-IDF, So it doens't consider the order of terms.\n",
        "\n",
        "LDA is based on the next assumption : all documents are written by the given step.\n",
        "1. Select the number of words to use.\n",
        "2. Determine the probability of representing topics in documents.\n",
        "3. Select the topic T from the distribution of topics probabilistically.\n",
        "4. Select the word to use by the word's distribution of frequency of probabiltiy from topic T.\n",
        "5. Repeat 3 and 4.\n",
        "\n",
        "LDA is successed by the next order.\n",
        "1. User learned the number of topic.\n",
        "2. All words are assigned on one of the topics randomly.\n",
        "3. Let any word w is assigned incorrectly and the other word is not. Then the word w is allocated again by the standard that is considered by the probability of each topics from a present document and the probability of representing word in topic on all of document.\n",
        "4. Iterate 3. It should be bounded.\n",
        "\n",
        "#### Reference\n",
        "\n",
        "https://wikidocs.net/30708\n",
        "\n",
        "https://lettier.com/projects/lda-topic-modeling/\n"
      ]
    },
    {
      "cell_type": "code",
      "metadata": {
        "id": "Y73GMKFg96Ia",
        "colab_type": "code",
        "colab": {
          "base_uri": "https://localhost:8080/",
          "height": 496
        },
        "outputId": "1ee704d3-7970-489b-e437-a747e825d484"
      },
      "source": [
        "print(tokenize_doc[:5])\n",
        "\n",
        "import gensim\n",
        "from gensim import corpora\n",
        "\n",
        "dictionary = corpora.Dictionary(tokenize_doc)\n",
        "corpus = [dictionary.doc2bow(text) for text in tokenize_doc]\n",
        "\n",
        "print(corpus[1])\n",
        "NUM_TOPICS = 20\n",
        "ldamodel = gensim.models.ldamodel.LdaModel(corpus, num_topics = NUM_TOPICS, \\\n",
        "                                           id2word=dictionary, passes=15)\n",
        "\n",
        "topics = ldamodel.print_topics(num_words=4)\n",
        "for topic in topics:\n",
        "    print(topic)\n"
      ],
      "execution_count": 15,
      "outputs": [
        {
          "output_type": "stream",
          "text": [
            "0    [well, sure, story, seem, biased, disagree, st...\n",
            "1    [yeah, expect, people, read, actually, accept,...\n",
            "2    [although, realize, principle, strongest, poin...\n",
            "3    [notwithstanding, legitimate, fuss, proposal, ...\n",
            "4    [well, change, scoring, playoff, pool, unfortu...\n",
            "Name: clean_doc, dtype: object\n",
            "[(52, 1), (55, 1), (56, 1), (57, 1), (58, 1), (59, 1), (60, 1), (61, 1), (62, 1), (63, 1), (64, 1), (65, 1), (66, 2), (67, 1), (68, 1), (69, 1), (70, 1), (71, 2), (72, 1), (73, 1), (74, 1), (75, 1), (76, 1), (77, 1), (78, 2), (79, 1), (80, 1), (81, 1), (82, 1), (83, 1), (84, 1), (85, 2), (86, 1), (87, 1), (88, 1), (89, 1)]\n",
            "(0, '0.031*\"drive\" + 0.023*\"disk\" + 0.021*\"scsi\" + 0.013*\"system\"')\n",
            "(1, '0.014*\"water\" + 0.004*\"theory\" + 0.004*\"dept\" + 0.003*\"quotes\"')\n",
            "(2, '0.019*\"window\" + 0.013*\"windows\" + 0.011*\"motif\" + 0.009*\"widget\"')\n",
            "(3, '0.008*\"government\" + 0.007*\"armenian\" + 0.007*\"people\" + 0.006*\"turkish\"')\n",
            "(4, '0.010*\"people\" + 0.008*\"would\" + 0.006*\"president\" + 0.006*\"think\"')\n",
            "(5, '0.045*\"file\" + 0.023*\"output\" + 0.022*\"entry\" + 0.015*\"program\"')\n",
            "(6, '0.009*\"picture\" + 0.006*\"professor\" + 0.006*\"lock\" + 0.006*\"helmet\"')\n",
            "(7, '0.038*\"israel\" + 0.024*\"israeli\" + 0.016*\"arab\" + 0.008*\"palestinian\"')\n",
            "(8, '0.012*\"said\" + 0.010*\"went\" + 0.008*\"know\" + 0.007*\"back\"')\n",
            "(9, '0.011*\"chip\" + 0.010*\"encryption\" + 0.009*\"system\" + 0.008*\"security\"')\n",
            "(10, '0.010*\"nrhj\" + 0.007*\"wwiz\" + 0.006*\"bxom\" + 0.006*\"gizw\"')\n",
            "(11, '0.022*\"period\" + 0.011*\"power\" + 0.009*\"scorer\" + 0.004*\"stevens\"')\n",
            "(12, '0.016*\"ground\" + 0.015*\"wire\" + 0.010*\"wiring\" + 0.009*\"neutral\"')\n",
            "(13, '0.018*\"game\" + 0.017*\"team\" + 0.014*\"year\" + 0.013*\"games\"')\n",
            "(14, '0.011*\"would\" + 0.011*\"like\" + 0.009*\"know\" + 0.007*\"good\"')\n",
            "(15, '0.027*\"space\" + 0.011*\"nasa\" + 0.009*\"research\" + 0.009*\"center\"')\n",
            "(16, '0.012*\"medical\" + 0.011*\"health\" + 0.010*\"pain\" + 0.010*\"disease\"')\n",
            "(17, '0.011*\"available\" + 0.009*\"software\" + 0.009*\"mail\" + 0.009*\"information\"')\n",
            "(18, '0.013*\"jesus\" + 0.008*\"christian\" + 0.007*\"bible\" + 0.006*\"church\"')\n",
            "(19, '0.018*\"would\" + 0.011*\"people\" + 0.010*\"like\" + 0.010*\"think\"')\n"
          ],
          "name": "stdout"
        }
      ]
    },
    {
      "cell_type": "code",
      "metadata": {
        "id": "7QpYMRaAx-bX",
        "colab_type": "code",
        "colab": {
          "base_uri": "https://localhost:8080/",
          "height": 1000
        },
        "outputId": "f5120341-2c31-4fe5-90cc-c50503a8016e"
      },
      "source": [
        "# Visualize the property of terms distribution by topics.\n",
        "!pip install pyLDAvis\n",
        "import pyLDAvis.gensim\n",
        "vis = pyLDAvis.gensim.prepare(ldamodel, corpus, dictionary)\n",
        "pyLDAvis.display(vis)"
      ],
      "execution_count": 16,
      "outputs": [
        {
          "output_type": "stream",
          "text": [
            "Collecting pyLDAvis\n",
            "\u001b[?25l  Downloading https://files.pythonhosted.org/packages/a5/3a/af82e070a8a96e13217c8f362f9a73e82d61ac8fff3a2561946a97f96266/pyLDAvis-2.1.2.tar.gz (1.6MB)\n",
            "\r\u001b[K     |▏                               | 10kB 19.2MB/s eta 0:00:01\r\u001b[K     |▍                               | 20kB 6.4MB/s eta 0:00:01\r\u001b[K     |▋                               | 30kB 7.0MB/s eta 0:00:01\r\u001b[K     |▉                               | 40kB 8.2MB/s eta 0:00:01\r\u001b[K     |█                               | 51kB 6.7MB/s eta 0:00:01\r\u001b[K     |█▏                              | 61kB 7.4MB/s eta 0:00:01\r\u001b[K     |█▍                              | 71kB 8.0MB/s eta 0:00:01\r\u001b[K     |█▋                              | 81kB 8.2MB/s eta 0:00:01\r\u001b[K     |█▉                              | 92kB 7.5MB/s eta 0:00:01\r\u001b[K     |██                              | 102kB 7.9MB/s eta 0:00:01\r\u001b[K     |██▎                             | 112kB 7.9MB/s eta 0:00:01\r\u001b[K     |██▍                             | 122kB 7.9MB/s eta 0:00:01\r\u001b[K     |██▋                             | 133kB 7.9MB/s eta 0:00:01\r\u001b[K     |██▉                             | 143kB 7.9MB/s eta 0:00:01\r\u001b[K     |███                             | 153kB 7.9MB/s eta 0:00:01\r\u001b[K     |███▎                            | 163kB 7.9MB/s eta 0:00:01\r\u001b[K     |███▌                            | 174kB 7.9MB/s eta 0:00:01\r\u001b[K     |███▋                            | 184kB 7.9MB/s eta 0:00:01\r\u001b[K     |███▉                            | 194kB 7.9MB/s eta 0:00:01\r\u001b[K     |████                            | 204kB 7.9MB/s eta 0:00:01\r\u001b[K     |████▎                           | 215kB 7.9MB/s eta 0:00:01\r\u001b[K     |████▌                           | 225kB 7.9MB/s eta 0:00:01\r\u001b[K     |████▊                           | 235kB 7.9MB/s eta 0:00:01\r\u001b[K     |████▉                           | 245kB 7.9MB/s eta 0:00:01\r\u001b[K     |█████                           | 256kB 7.9MB/s eta 0:00:01\r\u001b[K     |█████▎                          | 266kB 7.9MB/s eta 0:00:01\r\u001b[K     |█████▌                          | 276kB 7.9MB/s eta 0:00:01\r\u001b[K     |█████▊                          | 286kB 7.9MB/s eta 0:00:01\r\u001b[K     |█████▉                          | 296kB 7.9MB/s eta 0:00:01\r\u001b[K     |██████                          | 307kB 7.9MB/s eta 0:00:01\r\u001b[K     |██████▎                         | 317kB 7.9MB/s eta 0:00:01\r\u001b[K     |██████▌                         | 327kB 7.9MB/s eta 0:00:01\r\u001b[K     |██████▊                         | 337kB 7.9MB/s eta 0:00:01\r\u001b[K     |███████                         | 348kB 7.9MB/s eta 0:00:01\r\u001b[K     |███████                         | 358kB 7.9MB/s eta 0:00:01\r\u001b[K     |███████▎                        | 368kB 7.9MB/s eta 0:00:01\r\u001b[K     |███████▌                        | 378kB 7.9MB/s eta 0:00:01\r\u001b[K     |███████▊                        | 389kB 7.9MB/s eta 0:00:01\r\u001b[K     |████████                        | 399kB 7.9MB/s eta 0:00:01\r\u001b[K     |████████▏                       | 409kB 7.9MB/s eta 0:00:01\r\u001b[K     |████████▎                       | 419kB 7.9MB/s eta 0:00:01\r\u001b[K     |████████▌                       | 430kB 7.9MB/s eta 0:00:01\r\u001b[K     |████████▊                       | 440kB 7.9MB/s eta 0:00:01\r\u001b[K     |█████████                       | 450kB 7.9MB/s eta 0:00:01\r\u001b[K     |█████████▏                      | 460kB 7.9MB/s eta 0:00:01\r\u001b[K     |█████████▍                      | 471kB 7.9MB/s eta 0:00:01\r\u001b[K     |█████████▌                      | 481kB 7.9MB/s eta 0:00:01\r\u001b[K     |█████████▊                      | 491kB 7.9MB/s eta 0:00:01\r\u001b[K     |██████████                      | 501kB 7.9MB/s eta 0:00:01\r\u001b[K     |██████████▏                     | 512kB 7.9MB/s eta 0:00:01\r\u001b[K     |██████████▍                     | 522kB 7.9MB/s eta 0:00:01\r\u001b[K     |██████████▋                     | 532kB 7.9MB/s eta 0:00:01\r\u001b[K     |██████████▊                     | 542kB 7.9MB/s eta 0:00:01\r\u001b[K     |███████████                     | 552kB 7.9MB/s eta 0:00:01\r\u001b[K     |███████████▏                    | 563kB 7.9MB/s eta 0:00:01\r\u001b[K     |███████████▍                    | 573kB 7.9MB/s eta 0:00:01\r\u001b[K     |███████████▋                    | 583kB 7.9MB/s eta 0:00:01\r\u001b[K     |███████████▊                    | 593kB 7.9MB/s eta 0:00:01\r\u001b[K     |████████████                    | 604kB 7.9MB/s eta 0:00:01\r\u001b[K     |████████████▏                   | 614kB 7.9MB/s eta 0:00:01\r\u001b[K     |████████████▍                   | 624kB 7.9MB/s eta 0:00:01\r\u001b[K     |████████████▋                   | 634kB 7.9MB/s eta 0:00:01\r\u001b[K     |████████████▉                   | 645kB 7.9MB/s eta 0:00:01\r\u001b[K     |█████████████                   | 655kB 7.9MB/s eta 0:00:01\r\u001b[K     |█████████████▏                  | 665kB 7.9MB/s eta 0:00:01\r\u001b[K     |█████████████▍                  | 675kB 7.9MB/s eta 0:00:01\r\u001b[K     |█████████████▋                  | 686kB 7.9MB/s eta 0:00:01\r\u001b[K     |█████████████▉                  | 696kB 7.9MB/s eta 0:00:01\r\u001b[K     |██████████████                  | 706kB 7.9MB/s eta 0:00:01\r\u001b[K     |██████████████▏                 | 716kB 7.9MB/s eta 0:00:01\r\u001b[K     |██████████████▍                 | 727kB 7.9MB/s eta 0:00:01\r\u001b[K     |██████████████▋                 | 737kB 7.9MB/s eta 0:00:01\r\u001b[K     |██████████████▉                 | 747kB 7.9MB/s eta 0:00:01\r\u001b[K     |███████████████                 | 757kB 7.9MB/s eta 0:00:01\r\u001b[K     |███████████████▎                | 768kB 7.9MB/s eta 0:00:01\r\u001b[K     |███████████████▍                | 778kB 7.9MB/s eta 0:00:01\r\u001b[K     |███████████████▋                | 788kB 7.9MB/s eta 0:00:01\r\u001b[K     |███████████████▉                | 798kB 7.9MB/s eta 0:00:01\r\u001b[K     |████████████████                | 808kB 7.9MB/s eta 0:00:01\r\u001b[K     |████████████████▎               | 819kB 7.9MB/s eta 0:00:01\r\u001b[K     |████████████████▌               | 829kB 7.9MB/s eta 0:00:01\r\u001b[K     |████████████████▋               | 839kB 7.9MB/s eta 0:00:01\r\u001b[K     |████████████████▉               | 849kB 7.9MB/s eta 0:00:01\r\u001b[K     |█████████████████               | 860kB 7.9MB/s eta 0:00:01\r\u001b[K     |█████████████████▎              | 870kB 7.9MB/s eta 0:00:01\r\u001b[K     |█████████████████▌              | 880kB 7.9MB/s eta 0:00:01\r\u001b[K     |█████████████████▋              | 890kB 7.9MB/s eta 0:00:01\r\u001b[K     |█████████████████▉              | 901kB 7.9MB/s eta 0:00:01\r\u001b[K     |██████████████████              | 911kB 7.9MB/s eta 0:00:01\r\u001b[K     |██████████████████▎             | 921kB 7.9MB/s eta 0:00:01\r\u001b[K     |██████████████████▌             | 931kB 7.9MB/s eta 0:00:01\r\u001b[K     |██████████████████▊             | 942kB 7.9MB/s eta 0:00:01\r\u001b[K     |██████████████████▉             | 952kB 7.9MB/s eta 0:00:01\r\u001b[K     |███████████████████             | 962kB 7.9MB/s eta 0:00:01\r\u001b[K     |███████████████████▎            | 972kB 7.9MB/s eta 0:00:01\r\u001b[K     |███████████████████▌            | 983kB 7.9MB/s eta 0:00:01\r\u001b[K     |███████████████████▊            | 993kB 7.9MB/s eta 0:00:01\r\u001b[K     |████████████████████            | 1.0MB 7.9MB/s eta 0:00:01\r\u001b[K     |████████████████████            | 1.0MB 7.9MB/s eta 0:00:01\r\u001b[K     |████████████████████▎           | 1.0MB 7.9MB/s eta 0:00:01\r\u001b[K     |████████████████████▌           | 1.0MB 7.9MB/s eta 0:00:01\r\u001b[K     |████████████████████▊           | 1.0MB 7.9MB/s eta 0:00:01\r\u001b[K     |█████████████████████           | 1.1MB 7.9MB/s eta 0:00:01\r\u001b[K     |█████████████████████▏          | 1.1MB 7.9MB/s eta 0:00:01\r\u001b[K     |█████████████████████▎          | 1.1MB 7.9MB/s eta 0:00:01\r\u001b[K     |█████████████████████▌          | 1.1MB 7.9MB/s eta 0:00:01\r\u001b[K     |█████████████████████▊          | 1.1MB 7.9MB/s eta 0:00:01\r\u001b[K     |██████████████████████          | 1.1MB 7.9MB/s eta 0:00:01\r\u001b[K     |██████████████████████▏         | 1.1MB 7.9MB/s eta 0:00:01\r\u001b[K     |██████████████████████▍         | 1.1MB 7.9MB/s eta 0:00:01\r\u001b[K     |██████████████████████▌         | 1.1MB 7.9MB/s eta 0:00:01\r\u001b[K     |██████████████████████▊         | 1.1MB 7.9MB/s eta 0:00:01\r\u001b[K     |███████████████████████         | 1.2MB 7.9MB/s eta 0:00:01\r\u001b[K     |███████████████████████▏        | 1.2MB 7.9MB/s eta 0:00:01\r\u001b[K     |███████████████████████▍        | 1.2MB 7.9MB/s eta 0:00:01\r\u001b[K     |███████████████████████▌        | 1.2MB 7.9MB/s eta 0:00:01\r\u001b[K     |███████████████████████▊        | 1.2MB 7.9MB/s eta 0:00:01\r\u001b[K     |████████████████████████        | 1.2MB 7.9MB/s eta 0:00:01\r\u001b[K     |████████████████████████▏       | 1.2MB 7.9MB/s eta 0:00:01\r\u001b[K     |████████████████████████▍       | 1.2MB 7.9MB/s eta 0:00:01\r\u001b[K     |████████████████████████▋       | 1.2MB 7.9MB/s eta 0:00:01\r\u001b[K     |████████████████████████▊       | 1.2MB 7.9MB/s eta 0:00:01\r\u001b[K     |█████████████████████████       | 1.3MB 7.9MB/s eta 0:00:01\r\u001b[K     |█████████████████████████▏      | 1.3MB 7.9MB/s eta 0:00:01\r\u001b[K     |█████████████████████████▍      | 1.3MB 7.9MB/s eta 0:00:01\r\u001b[K     |█████████████████████████▋      | 1.3MB 7.9MB/s eta 0:00:01\r\u001b[K     |█████████████████████████▉      | 1.3MB 7.9MB/s eta 0:00:01\r\u001b[K     |██████████████████████████      | 1.3MB 7.9MB/s eta 0:00:01\r\u001b[K     |██████████████████████████▏     | 1.3MB 7.9MB/s eta 0:00:01\r\u001b[K     |██████████████████████████▍     | 1.3MB 7.9MB/s eta 0:00:01\r\u001b[K     |██████████████████████████▋     | 1.3MB 7.9MB/s eta 0:00:01\r\u001b[K     |██████████████████████████▉     | 1.4MB 7.9MB/s eta 0:00:01\r\u001b[K     |███████████████████████████     | 1.4MB 7.9MB/s eta 0:00:01\r\u001b[K     |███████████████████████████▏    | 1.4MB 7.9MB/s eta 0:00:01\r\u001b[K     |███████████████████████████▍    | 1.4MB 7.9MB/s eta 0:00:01\r\u001b[K     |███████████████████████████▋    | 1.4MB 7.9MB/s eta 0:00:01\r\u001b[K     |███████████████████████████▉    | 1.4MB 7.9MB/s eta 0:00:01\r\u001b[K     |████████████████████████████    | 1.4MB 7.9MB/s eta 0:00:01\r\u001b[K     |████████████████████████████▏   | 1.4MB 7.9MB/s eta 0:00:01\r\u001b[K     |████████████████████████████▍   | 1.4MB 7.9MB/s eta 0:00:01\r\u001b[K     |████████████████████████████▋   | 1.4MB 7.9MB/s eta 0:00:01\r\u001b[K     |████████████████████████████▉   | 1.5MB 7.9MB/s eta 0:00:01\r\u001b[K     |█████████████████████████████   | 1.5MB 7.9MB/s eta 0:00:01\r\u001b[K     |█████████████████████████████▎  | 1.5MB 7.9MB/s eta 0:00:01\r\u001b[K     |█████████████████████████████▍  | 1.5MB 7.9MB/s eta 0:00:01\r\u001b[K     |█████████████████████████████▋  | 1.5MB 7.9MB/s eta 0:00:01\r\u001b[K     |█████████████████████████████▉  | 1.5MB 7.9MB/s eta 0:00:01\r\u001b[K     |██████████████████████████████  | 1.5MB 7.9MB/s eta 0:00:01\r\u001b[K     |██████████████████████████████▎ | 1.5MB 7.9MB/s eta 0:00:01\r\u001b[K     |██████████████████████████████▌ | 1.5MB 7.9MB/s eta 0:00:01\r\u001b[K     |██████████████████████████████▋ | 1.5MB 7.9MB/s eta 0:00:01\r\u001b[K     |██████████████████████████████▉ | 1.6MB 7.9MB/s eta 0:00:01\r\u001b[K     |███████████████████████████████ | 1.6MB 7.9MB/s eta 0:00:01\r\u001b[K     |███████████████████████████████▎| 1.6MB 7.9MB/s eta 0:00:01\r\u001b[K     |███████████████████████████████▌| 1.6MB 7.9MB/s eta 0:00:01\r\u001b[K     |███████████████████████████████▊| 1.6MB 7.9MB/s eta 0:00:01\r\u001b[K     |███████████████████████████████▉| 1.6MB 7.9MB/s eta 0:00:01\r\u001b[K     |████████████████████████████████| 1.6MB 7.9MB/s \n",
            "\u001b[?25hRequirement already satisfied: wheel>=0.23.0 in /usr/local/lib/python3.6/dist-packages (from pyLDAvis) (0.34.2)\n",
            "Requirement already satisfied: numpy>=1.9.2 in /usr/local/lib/python3.6/dist-packages (from pyLDAvis) (1.18.5)\n",
            "Requirement already satisfied: scipy>=0.18.0 in /usr/local/lib/python3.6/dist-packages (from pyLDAvis) (1.4.1)\n",
            "Requirement already satisfied: pandas>=0.17.0 in /usr/local/lib/python3.6/dist-packages (from pyLDAvis) (1.0.5)\n",
            "Requirement already satisfied: joblib>=0.8.4 in /usr/local/lib/python3.6/dist-packages (from pyLDAvis) (0.16.0)\n",
            "Requirement already satisfied: jinja2>=2.7.2 in /usr/local/lib/python3.6/dist-packages (from pyLDAvis) (2.11.2)\n",
            "Requirement already satisfied: numexpr in /usr/local/lib/python3.6/dist-packages (from pyLDAvis) (2.7.1)\n",
            "Requirement already satisfied: pytest in /usr/local/lib/python3.6/dist-packages (from pyLDAvis) (3.6.4)\n",
            "Requirement already satisfied: future in /usr/local/lib/python3.6/dist-packages (from pyLDAvis) (0.16.0)\n",
            "Collecting funcy\n",
            "\u001b[?25l  Downloading https://files.pythonhosted.org/packages/ce/4b/6ffa76544e46614123de31574ad95758c421aae391a1764921b8a81e1eae/funcy-1.14.tar.gz (548kB)\n",
            "\u001b[K     |████████████████████████████████| 552kB 40.0MB/s \n",
            "\u001b[?25hRequirement already satisfied: python-dateutil>=2.6.1 in /usr/local/lib/python3.6/dist-packages (from pandas>=0.17.0->pyLDAvis) (2.8.1)\n",
            "Requirement already satisfied: pytz>=2017.2 in /usr/local/lib/python3.6/dist-packages (from pandas>=0.17.0->pyLDAvis) (2018.9)\n",
            "Requirement already satisfied: MarkupSafe>=0.23 in /usr/local/lib/python3.6/dist-packages (from jinja2>=2.7.2->pyLDAvis) (1.1.1)\n",
            "Requirement already satisfied: setuptools in /usr/local/lib/python3.6/dist-packages (from pytest->pyLDAvis) (49.2.0)\n",
            "Requirement already satisfied: six>=1.10.0 in /usr/local/lib/python3.6/dist-packages (from pytest->pyLDAvis) (1.15.0)\n",
            "Requirement already satisfied: atomicwrites>=1.0 in /usr/local/lib/python3.6/dist-packages (from pytest->pyLDAvis) (1.4.0)\n",
            "Requirement already satisfied: py>=1.5.0 in /usr/local/lib/python3.6/dist-packages (from pytest->pyLDAvis) (1.9.0)\n",
            "Requirement already satisfied: pluggy<0.8,>=0.5 in /usr/local/lib/python3.6/dist-packages (from pytest->pyLDAvis) (0.7.1)\n",
            "Requirement already satisfied: more-itertools>=4.0.0 in /usr/local/lib/python3.6/dist-packages (from pytest->pyLDAvis) (8.4.0)\n",
            "Requirement already satisfied: attrs>=17.4.0 in /usr/local/lib/python3.6/dist-packages (from pytest->pyLDAvis) (19.3.0)\n",
            "Building wheels for collected packages: pyLDAvis, funcy\n",
            "  Building wheel for pyLDAvis (setup.py) ... \u001b[?25l\u001b[?25hdone\n",
            "  Created wheel for pyLDAvis: filename=pyLDAvis-2.1.2-py2.py3-none-any.whl size=97711 sha256=5e7934357fb4b83bfbb62e5bdbb1462ebf54e27cc04147a2773d9b2ab064b0ff\n",
            "  Stored in directory: /root/.cache/pip/wheels/98/71/24/513a99e58bb6b8465bae4d2d5e9dba8f0bef8179e3051ac414\n",
            "  Building wheel for funcy (setup.py) ... \u001b[?25l\u001b[?25hdone\n",
            "  Created wheel for funcy: filename=funcy-1.14-py2.py3-none-any.whl size=32042 sha256=276d55e87508c04afbd2483b0fedb5dd616333faa32f44edda7dd767d5fa4b39\n",
            "  Stored in directory: /root/.cache/pip/wheels/20/5a/d8/1d875df03deae6f178dfdf70238cca33f948ef8a6f5209f2eb\n",
            "Successfully built pyLDAvis funcy\n",
            "Installing collected packages: funcy, pyLDAvis\n",
            "Successfully installed funcy-1.14 pyLDAvis-2.1.2\n"
          ],
          "name": "stdout"
        },
        {
          "output_type": "execute_result",
          "data": {
            "text/html": [
              "\n",
              "<link rel=\"stylesheet\" type=\"text/css\" href=\"https://cdn.rawgit.com/bmabey/pyLDAvis/files/ldavis.v1.0.0.css\">\n",
              "\n",
              "\n",
              "<div id=\"ldavis_el1011402097874559121824985575\"></div>\n",
              "<script type=\"text/javascript\">\n",
              "\n",
              "var ldavis_el1011402097874559121824985575_data = {\"mdsDat\": {\"x\": [-0.2680059866211265, -0.22583800573248003, -0.20555969447771552, -0.13712485669920474, -0.09274148664870491, -0.1548610387264272, -0.0933786158525717, -0.1281698411835008, -0.018609484327186086, 0.014412715253158544, -0.0818595690480496, 0.013412268985232127, 0.0431173467997165, 0.1099892888374517, 0.1673377783673951, 0.24672777340511, 0.1724122387434785, 0.19664098207011954, 0.20306250360525605, 0.23903568325004793], \"y\": [-0.08095924033781347, 0.03218523986268977, -0.09877046297129596, 0.2271299737489166, -0.12878357934597615, -0.11136981030227329, 0.101197956468374, -0.18843321457124398, -0.12745345850970374, 0.055300981570720616, 0.1942711016781298, 0.20186865827631092, 0.156164558212534, -0.02805717817037646, -0.018648200793481094, -0.02120546353506936, -0.05661647677845908, -0.0544419314479549, -0.013316027759008512, -0.04006342529501922], \"topics\": [1, 2, 3, 4, 5, 6, 7, 8, 9, 10, 11, 12, 13, 14, 15, 16, 17, 18, 19, 20], \"cluster\": [1, 1, 1, 1, 1, 1, 1, 1, 1, 1, 1, 1, 1, 1, 1, 1, 1, 1, 1, 1], \"Freq\": [18.442293167114258, 11.671319961547852, 8.84286880493164, 8.57068920135498, 8.358896255493164, 7.1736321449279785, 5.412576198577881, 4.738210201263428, 4.255300521850586, 4.031476974487305, 3.7380967140197754, 2.7845675945281982, 2.557319164276123, 1.8149863481521606, 1.6875920295715332, 1.37850022315979, 1.2972900867462158, 1.2156352996826172, 1.0809180736541748, 0.9478320479393005]}, \"tinfo\": {\"Term\": [\"file\", \"drive\", \"space\", \"people\", \"system\", \"program\", \"game\", \"output\", \"jesus\", \"disk\", \"window\", \"year\", \"know\", \"said\", \"would\", \"team\", \"israel\", \"windows\", \"scsi\", \"entry\", \"data\", \"think\", \"government\", \"power\", \"files\", \"like\", \"software\", \"hard\", \"problem\", \"card\", \"atheism\", \"morality\", \"absolute\", \"argue\", \"rational\", \"allocation\", \"verse\", \"allah\", \"arrogant\", \"posters\", \"behaviour\", \"assumptions\", \"assertion\", \"ruled\", \"alomar\", \"vitamin\", \"ignoring\", \"immoral\", \"arrogance\", \"balloon\", \"libertarians\", \"pseudo\", \"contracts\", \"reactions\", \"unfortunate\", \"sockets\", \"intellectual\", \"meaningless\", \"jail\", \"nope\", \"ignore\", \"situations\", \"stupid\", \"objective\", \"mistakes\", \"imply\", \"admit\", \"reasoning\", \"exist\", \"merely\", \"convince\", \"suspect\", \"disagree\", \"funny\", \"tend\", \"perhaps\", \"agree\", \"moral\", \"explain\", \"wrong\", \"nobody\", \"claim\", \"doubt\", \"would\", \"think\", \"reason\", \"even\", \"opinion\", \"course\", \"might\", \"seem\", \"question\", \"point\", \"enough\", \"people\", \"nothing\", \"sense\", \"things\", \"like\", \"believe\", \"better\", \"really\", \"someone\", \"well\", \"make\", \"thing\", \"much\", \"could\", \"never\", \"right\", \"something\", \"know\", \"take\", \"many\", \"good\", \"time\", \"since\", \"want\", \"must\", \"also\", \"engine\", \"simms\", \"modem\", \"turbo\", \"battery\", \"braves\", \"honda\", \"stereo\", \"nubus\", \"quadra\", \"monitor\", \"diamond\", \"timing\", \"slots\", \"tires\", \"circuits\", \"gear\", \"outlets\", \"sony\", \"tire\", \"baud\", \"outlet\", \"switches\", \"exhaust\", \"toyota\", \"brake\", \"steering\", \"powerbook\", \"forsale\", \"cylinder\", \"monitors\", \"buying\", \"bought\", \"gateway\", \"video\", \"shipping\", \"apple\", \"drivers\", \"price\", \"sale\", \"cars\", \"speed\", \"keyboard\", \"driver\", \"bike\", \"selling\", \"brand\", \"card\", \"sound\", \"wondering\", \"cards\", \"thanks\", \"offer\", \"anyone\", \"miles\", \"sell\", \"looking\", \"condition\", \"like\", \"good\", \"need\", \"know\", \"used\", \"problem\", \"work\", \"would\", \"much\", \"also\", \"time\", \"power\", \"windows\", \"could\", \"want\", \"back\", \"please\", \"problems\", \"using\", \"help\", \"well\", \"make\", \"think\", \"system\", \"stephanopoulos\", \"myers\", \"economy\", \"taxes\", \"sexual\", \"jobs\", \"income\", \"homosexual\", \"smokeless\", \"gaza\", \"senator\", \"prevention\", \"republicans\", \"commitment\", \"serbs\", \"cure\", \"prevalence\", \"outbreak\", \"abortion\", \"zionism\", \"gays\", \"stimulus\", \"restaurant\", \"elected\", \"laughter\", \"welfare\", \"conscience\", \"debt\", \"dole\", \"housing\", \"president\", \"fund\", \"bush\", \"funds\", \"investment\", \"billion\", \"clinton\", \"insurance\", \"education\", \"senior\", \"care\", \"money\", \"secretary\", \"meeting\", \"raise\", \"economic\", \"school\", \"budget\", \"rate\", \"business\", \"drugs\", \"groups\", \"people\", \"going\", \"private\", \"continue\", \"administration\", \"health\", \"community\", \"think\", \"states\", \"would\", \"white\", \"years\", \"work\", \"year\", \"children\", \"said\", \"know\", \"american\", \"make\", \"support\", \"well\", \"many\", \"made\", \"time\", \"want\", \"number\", \"also\", \"much\", \"could\", \"like\", \"entries\", \"printf\", \"ripem\", \"font\", \"fonts\", \"filename\", \"formats\", \"binaries\", \"database\", \"compile\", \"sunos\", \"ansi\", \"prog\", \"printing\", \"tiff\", \"vendor\", \"workstation\", \"ethernet\", \"workstations\", \"argv\", \"shar\", \"animation\", \"listserv\", \"accelerator\", \"layout\", \"pointers\", \"ciphertext\", \"password\", \"ieee\", \"submitting\", \"graphics\", \"image\", \"mailing\", \"print\", \"request\", \"characters\", \"anonymous\", \"software\", \"images\", \"requests\", \"unix\", \"printer\", \"format\", \"send\", \"mail\", \"archive\", \"available\", \"list\", \"version\", \"email\", \"sites\", \"address\", \"users\", \"information\", \"info\", \"internet\", \"package\", \"programs\", \"user\", \"please\", \"files\", \"data\", \"contact\", \"code\", \"include\", \"program\", \"also\", \"number\", \"thanks\", \"based\", \"turkish\", \"turkey\", \"weapons\", \"armenia\", \"turks\", \"firearms\", \"genocide\", \"constitution\", \"henrik\", \"tobacco\", \"militia\", \"greece\", \"karabakh\", \"batf\", \"nazis\", \"republic\", \"victims\", \"ottoman\", \"massacre\", \"southern\", \"azeri\", \"firearm\", \"assault\", \"palestine\", \"cyprus\", \"azeris\", \"handguns\", \"homicide\", \"prison\", \"kurds\", \"amendment\", \"nazi\", \"argic\", \"guns\", \"armenian\", \"criminal\", \"weapon\", \"military\", \"arms\", \"armenians\", \"crime\", \"police\", \"army\", \"island\", \"government\", \"killed\", \"greek\", \"rights\", \"citizens\", \"state\", \"jews\", \"states\", \"united\", \"anti\", \"control\", \"people\", \"political\", \"american\", \"russian\", \"said\", \"world\", \"defense\", \"first\", \"years\", \"jesus\", \"bible\", \"church\", \"christians\", \"faith\", \"christ\", \"christianity\", \"lord\", \"holy\", \"matthew\", \"heaven\", \"judas\", \"eternal\", \"religions\", \"catholic\", \"scripture\", \"biblical\", \"doctrine\", \"pope\", \"worship\", \"secular\", \"passages\", \"satan\", \"divine\", \"resurrection\", \"grace\", \"revelation\", \"testament\", \"sabbath\", \"gospel\", \"christian\", \"religion\", \"islam\", \"spirit\", \"religious\", \"belief\", \"beliefs\", \"truth\", \"father\", \"jews\", \"word\", \"love\", \"jewish\", \"true\", \"book\", \"life\", \"believe\", \"john\", \"paul\", \"hell\", \"world\", \"also\", \"many\", \"would\", \"people\", \"must\", \"even\", \"said\", \"encryption\", \"clipper\", \"privacy\", \"escrow\", \"cryptography\", \"encrypted\", \"crypto\", \"crypt\", \"wiretap\", \"phones\", \"cipher\", \"cryptographic\", \"classified\", \"plaintext\", \"phillies\", \"decrypt\", \"simm\", \"denning\", \"conductor\", \"parity\", \"telecommunications\", \"ciphers\", \"dram\", \"retail\", \"init\", \"encrypt\", \"manufactured\", \"hellman\", \"runner\", \"decryption\", \"secure\", \"keys\", \"chip\", \"agencies\", \"security\", \"communications\", \"scheme\", \"initiative\", \"algorithm\", \"enforcement\", \"agency\", \"technology\", \"bits\", \"secret\", \"chips\", \"byte\", \"industry\", \"public\", \"block\", \"data\", \"phone\", \"system\", \"government\", \"protect\", \"information\", \"used\", \"device\", \"number\", \"using\", \"private\", \"access\", \"computer\", \"part\", \"also\", \"apartment\", \"sumgait\", \"karina\", \"quebec\", \"mamma\", \"captain\", \"lyuda\", \"clemens\", \"igor\", \"sister\", \"marina\", \"shouting\", \"deaf\", \"inning\", \"armored\", \"nolan\", \"aunt\", \"mario\", \"plugs\", \"coprocessor\", \"coat\", \"balcony\", \"microdistrict\", \"seasons\", \"unassisted\", \"roof\", \"bone\", \"shagen\", \"clothes\", \"messier\", \"riders\", \"went\", \"crowd\", \"walked\", \"took\", \"floor\", \"azerbaijani\", \"azerbaijanis\", \"started\", \"came\", \"night\", \"woman\", \"home\", \"said\", \"told\", \"plastic\", \"left\", \"room\", \"face\", \"happened\", \"building\", \"says\", \"back\", \"later\", \"door\", \"head\", \"know\", \"going\", \"near\", \"around\", \"heard\", \"time\", \"first\", \"people\", \"three\", \"like\", \"something\", \"even\", \"could\", \"right\", \"well\", \"still\", \"come\", \"season\", \"players\", \"hockey\", \"teams\", \"detroit\", \"philadelphia\", \"montreal\", \"fans\", \"puck\", \"rangers\", \"calgary\", \"scoring\", \"pitching\", \"playoffs\", \"scored\", \"flyers\", \"leafs\", \"morris\", \"islanders\", \"hartford\", \"pens\", \"espn\", \"playoff\", \"winnipeg\", \"devils\", \"sharks\", \"jets\", \"pitcher\", \"stanley\", \"bruins\", \"games\", \"team\", \"game\", \"baseball\", \"league\", \"play\", \"minnesota\", \"toronto\", \"pittsburgh\", \"chicago\", \"player\", \"kings\", \"boston\", \"louis\", \"played\", \"jose\", \"year\", \"division\", \"last\", \"goal\", \"first\", \"runs\", \"second\", \"good\", \"best\", \"points\", \"series\", \"nasa\", \"launch\", \"satellite\", \"shuttle\", \"orbit\", \"lunar\", \"satellites\", \"spacecraft\", \"mars\", \"missions\", \"planetary\", \"telescope\", \"astronomy\", \"ames\", \"hicnet\", \"propulsion\", \"orbital\", \"payload\", \"venus\", \"ozone\", \"molecular\", \"observatory\", \"astro\", \"launches\", \"exploration\", \"titan\", \"delta\", \"hulk\", \"astronaut\", \"orbiter\", \"moon\", \"launched\", \"space\", \"flight\", \"solar\", \"mission\", \"center\", \"research\", \"radius\", \"earth\", \"station\", \"rocket\", \"surface\", \"university\", \"science\", \"institute\", \"cover\", \"april\", \"national\", \"project\", \"volume\", \"technology\", \"program\", \"radio\", \"data\", \"information\", \"also\", \"motif\", \"widget\", \"xterm\", \"xlib\", \"widgets\", \"imake\", \"openwindows\", \"colormap\", \"xview\", \"pixmap\", \"cursor\", \"icon\", \"swap\", \"compiler\", \"pointer\", \"patents\", \"dialog\", \"handler\", \"patent\", \"restore\", \"baptism\", \"agrep\", \"freeware\", \"graphical\", \"xstuff\", \"toplevel\", \"olit\", \"phigs\", \"callback\", \"rectangle\", \"window\", \"contest\", \"string\", \"contrib\", \"client\", \"menu\", \"resource\", \"application\", \"manager\", \"clients\", \"export\", \"display\", \"server\", \"toolkit\", \"visual\", \"shell\", \"windows\", \"screen\", \"error\", \"running\", \"using\", \"program\", \"problem\", \"subject\", \"code\", \"event\", \"mouse\", \"version\", \"file\", \"also\", \"work\", \"color\", \"user\", \"scsi\", \"drives\", \"controller\", \"floppy\", \"bios\", \"adaptec\", \"detector\", \"rockefeller\", \"jumper\", \"imaging\", \"jumpers\", \"floppies\", \"aerospace\", \"cica\", \"detectors\", \"controllers\", \"connectors\", \"esdi\", \"maxtor\", \"iisi\", \"formatted\", \"gsfc\", \"ssto\", \"fastest\", \"gifs\", \"sampling\", \"reboot\", \"mime\", \"czech\", \"pairs\", \"disk\", \"norton\", \"bytes\", \"drive\", \"disks\", \"eisa\", \"boot\", \"rows\", \"tape\", \"radar\", \"mouse\", \"motherboard\", \"hard\", \"cache\", \"transfer\", \"port\", \"slave\", \"memory\", \"card\", \"system\", \"interface\", \"data\", \"external\", \"computer\", \"mode\", \"software\", \"systems\", \"speed\", \"problem\", \"access\", \"char\", \"oname\", \"fprintf\", \"uuencode\", \"entry\", \"echo\", \"ioccc\", \"obfuscated\", \"stderr\", \"compass\", \"xvoid\", \"stdin\", \"cview\", \"maine\", \"landon\", \"mkentry\", \"noll\", \"curt\", \"larson\", \"whitespace\", \"bassel\", \"toad\", \"xmosaic\", \"pname\", \"bname\", \"rname\", \"expos\", \"cols\", \"newline\", \"libx\", \"null\", \"output\", \"file\", \"remark\", \"stream\", \"linked\", \"section\", \"build\", \"rules\", \"jpeg\", \"files\", \"title\", \"define\", \"check\", \"program\", \"judges\", \"author\", \"count\", \"line\", \"directory\", \"input\", \"size\", \"return\", \"name\", \"open\", \"read\", \"info\", \"year\", \"patients\", \"disease\", \"gordon\", \"diseases\", \"skepticism\", \"candida\", \"patient\", \"diet\", \"intellect\", \"symptoms\", \"shameful\", \"cadre\", \"coli\", \"chastity\", \"syndrome\", \"cells\", \"infections\", \"infection\", \"yankees\", \"financial\", \"cancer\", \"therapy\", \"foods\", \"chronic\", \"smoking\", \"kidney\", \"yeast\", \"ctrl\", \"pitt\", \"infectious\", \"clinical\", \"medical\", \"pain\", \"surrender\", \"treatment\", \"doctor\", \"health\", \"banks\", \"medicine\", \"food\", \"blood\", \"soon\", \"among\", \"newsletter\", \"cause\", \"years\", \"sdpa\", \"theories\", \"cooling\", \"erzurum\", \"neck\", \"asala\", \"lopez\", \"ingr\", \"glutamate\", \"seagate\", \"publisher\", \"promo\", \"proves\", \"filters\", \"dtmedin\", \"catbyte\", \"objectively\", \"ghetto\", \"athens\", \"kits\", \"phenomenon\", \"witnessed\", \"hojali\", \"bindings\", \"discharge\", \"mwra\", \"fluke\", \"echl\", \"huntsville\", \"electricity\", \"water\", \"cleaning\", \"plants\", \"harley\", \"dept\", \"reserve\", \"temperature\", \"bury\", \"quotes\", \"plant\", \"stephen\", \"theory\", \"fields\", \"edge\", \"corp\", \"nuclear\", \"uucp\", \"power\", \"nrhj\", \"wwiz\", \"bxom\", \"gizw\", \"tbxn\", \"bhjn\", \"bxlt\", \"wmbxn\", \"nriz\", \"pnei\", \"mbxn\", \"aspi\", \"tbxom\", \"rchz\", \"pmfq\", \"jpwu\", \"astros\", \"menus\", \"gizwt\", \"wwhj\", \"eqtm\", \"chzd\", \"nrizwt\", \"nkjz\", \"rlhz\", \"chzv\", \"fijh\", \"geoffrey\", \"zrck\", \"zrlk\", \"libxmu\", \"seminar\", \"navy\", \"part\", \"israeli\", \"arab\", \"palestinian\", \"lebanon\", \"palestinians\", \"israelis\", \"lebanese\", \"zionist\", \"gang\", \"maxbyte\", \"gerard\", \"isaiah\", \"wrist\", \"invaded\", \"arens\", \"mandatory\", \"withdraw\", \"pilots\", \"israel\", \"beef\", \"joshua\", \"spence\", \"syrian\", \"interim\", \"occupying\", \"persian\", \"weaver\", \"yigal\", \"mazda\", \"colored\", \"syria\", \"idaho\", \"aged\", \"width\", \"occupied\", \"bullet\", \"hammer\", \"peace\", \"attacks\", \"towns\", \"adam\", \"height\", \"land\", \"soldiers\", \"civilians\", \"jewish\", \"zone\", \"territory\", \"main\", \"push\", \"none\", \"west\", \"troops\", \"problem\", \"sleeve\", \"liar\", \"cooper\", \"walls\", \"rochester\", \"revolver\", \"shaft\", \"vpic\", \"tigers\", \"countersteering\", \"jacket\", \"canadiens\", \"premises\", \"yorn\", \"moncton\", \"headache\", \"providence\", \"springfield\", \"lean\", \"paranoia\", \"pants\", \"lunatic\", \"fairing\", \"calif\", \"dull\", \"foreground\", \"shearson\", \"adirondack\", \"washer\", \"emma\", \"deeds\", \"helmet\", \"professor\", \"skip\", \"cape\", \"picture\", \"lock\", \"autos\", \"dragon\", \"recognition\", \"semi\", \"beach\", \"columbia\", \"university\", \"bike\", \"auto\", \"john\", \"lines\", \"black\", \"motorcycle\", \"history\", \"draw\", \"round\", \"wiring\", \"ncsl\", \"grounding\", \"gfci\", \"cryptanalysis\", \"cryptologia\", \"insulation\", \"breaker\", \"seal\", \"prong\", \"confidential\", \"brute\", \"forty\", \"patented\", \"expn\", \"semitism\", \"transformer\", \"sheath\", \"adjective\", \"acids\", \"willis\", \"compatibles\", \"hamburgers\", \"ether\", \"breakers\", \"conduit\", \"flowing\", \"substances\", \"unicity\", \"totals\", \"wire\", \"aluminum\", \"grounded\", \"neutral\", \"nist\", \"ground\", \"brady\", \"protein\", \"connected\", \"wires\", \"circuit\", \"electrical\", \"panel\", \"metal\", \"current\", \"connection\", \"subject\", \"voltage\", \"house\", \"safe\", \"motor\", \"code\", \"stevens\", \"blah\", \"darren\", \"otto\", \"sydor\", \"mullen\", \"lefebvre\", \"shanahan\", \"methanol\", \"drake\", \"suter\", \"logos\", \"macinnis\", \"sega\", \"hawgood\", \"ranford\", \"hrudey\", \"vacation\", \"roughing\", \"granato\", \"janney\", \"emerson\", \"niedermayer\", \"robitaille\", \"millen\", \"skrudland\", \"dahlquist\", \"richer\", \"noonan\", \"bass\", \"scorer\", \"tyre\", \"period\", \"ezekiel\", \"hull\", \"courtnall\", \"murphy\", \"lemieux\", \"sandstrom\", \"saves\", \"power\", \"shots\", \"lineup\", \"brown\", \"jersey\"], \"Freq\": [1508.0, 993.0, 1192.0, 3985.0, 1888.0, 1403.0, 776.0, 687.0, 859.0, 641.0, 716.0, 1402.0, 3348.0, 1704.0, 5942.0, 711.0, 489.0, 1143.0, 559.0, 548.0, 1196.0, 2944.0, 1158.0, 1014.0, 779.0, 3840.0, 969.0, 770.0, 1502.0, 725.0, 172.6007080078125, 156.07545471191406, 137.5893096923828, 110.46992492675781, 64.82249450683594, 62.450401306152344, 60.458412170410156, 58.53166961669922, 55.236446380615234, 54.1197509765625, 50.04191970825195, 49.77063751220703, 47.961692810058594, 47.58711242675781, 47.16447830200195, 46.48389434814453, 46.262508392333984, 46.08205032348633, 44.68696975708008, 44.04034423828125, 43.51595687866211, 43.06654357910156, 41.15019989013672, 40.23177719116211, 39.606285095214844, 39.60240936279297, 38.130035400390625, 38.00594711303711, 37.456451416015625, 37.19440460205078, 80.12214660644531, 75.9270248413086, 161.4061279296875, 208.17013549804688, 61.31413269042969, 75.10929870605469, 125.17066955566406, 92.20181274414062, 319.8911437988281, 121.38385009765625, 89.33932495117188, 163.9488525390625, 120.37788391113281, 80.28649139404297, 123.71028900146484, 421.5455017089844, 364.7307434082031, 213.4976043701172, 200.1734161376953, 481.2120361328125, 123.8743896484375, 307.0351257324219, 210.23590087890625, 3193.728759765625, 1721.6298828125, 494.6871337890625, 1310.2225341796875, 234.86630249023438, 595.0850219726562, 757.771728515625, 397.9101257324219, 666.4552001953125, 768.191650390625, 555.704833984375, 1913.435302734375, 464.85662841796875, 264.9092102050781, 702.3900146484375, 1757.294921875, 746.2337646484375, 672.5083618164062, 784.3652954101562, 586.5209350585938, 1166.558837890625, 986.1221923828125, 578.9445190429688, 978.5722045898438, 1109.2288818359375, 636.1935424804688, 864.7265014648438, 770.5460815429688, 1214.337890625, 663.98046875, 870.0601196289062, 934.6329345703125, 1034.5418701171875, 681.3733520507812, 667.606201171875, 593.0576782226562, 613.0358276367188, 240.1772918701172, 133.97872924804688, 265.9627990722656, 96.96665954589844, 94.65019989013672, 91.82181549072266, 88.27182006835938, 85.44358825683594, 79.48890686035156, 79.415283203125, 341.629150390625, 74.5316390991211, 73.31369018554688, 72.45181274414062, 71.18202209472656, 69.39739990234375, 65.47364807128906, 60.49144744873047, 96.88452911376953, 57.07040786743164, 56.967002868652344, 56.323665618896484, 55.926246643066406, 54.4998779296875, 53.9799690246582, 51.60133361816406, 50.34996795654297, 50.05356216430664, 47.084693908691406, 46.8968505859375, 96.5882568359375, 149.68800354003906, 222.7492218017578, 90.35884857177734, 370.7282409667969, 242.20162963867188, 333.6247863769531, 288.3859558105469, 463.3782958984375, 275.7768249511719, 224.0489959716797, 384.406005859375, 268.5025634765625, 303.3143310546875, 249.56838989257812, 129.43060302734375, 110.54439544677734, 495.92974853515625, 285.75567626953125, 146.11289978027344, 203.67982482910156, 686.6080932617188, 260.7476806640625, 784.2662963867188, 160.1067657470703, 240.33946228027344, 379.13360595703125, 219.06381225585938, 1179.02197265625, 830.2741088867188, 626.1211547851562, 1000.0913696289062, 645.2084350585938, 556.8880004882812, 573.5603637695312, 1200.6864013671875, 619.2778930664062, 733.5326538085938, 593.7471313476562, 391.1894226074219, 400.41656494140625, 515.2713623046875, 441.91778564453125, 409.9962158203125, 402.4664001464844, 334.595703125, 383.39471435546875, 358.84100341796875, 407.20257568359375, 382.5915832519531, 396.14166259765625, 371.65740966796875, 242.2578582763672, 154.29824829101562, 103.21824645996094, 96.80076599121094, 86.24299621582031, 229.69151306152344, 73.46519470214844, 68.72761535644531, 88.17131805419922, 60.45079040527344, 58.95228576660156, 56.84870147705078, 56.79420852661133, 56.27116012573242, 53.86631393432617, 51.607421875, 49.60931396484375, 48.56266784667969, 46.96725082397461, 45.50022888183594, 44.48344421386719, 41.51304626464844, 40.98772430419922, 40.417694091796875, 39.23974609375, 37.9816780090332, 37.16566848754883, 35.32633590698242, 34.92205047607422, 34.77644348144531, 521.6080322265625, 82.10832977294922, 91.56427001953125, 102.26759338378906, 66.30741119384766, 123.45375061035156, 206.22335815429688, 133.31527709960938, 166.1648712158203, 92.64685821533203, 258.98211669921875, 324.8460998535156, 113.47106170654297, 109.85961151123047, 77.41950225830078, 103.4891128540039, 195.8371124267578, 90.64300537109375, 180.93003845214844, 174.85116577148438, 117.19942474365234, 195.8961639404297, 864.0337524414062, 427.3639831542969, 180.2342987060547, 141.06178283691406, 169.3358612060547, 186.44700622558594, 134.05345153808594, 508.6111145019531, 217.47389221191406, 662.9261474609375, 171.3867645263672, 309.5314025878906, 335.2940368652344, 309.88507080078125, 203.7164306640625, 321.77581787109375, 416.95831298828125, 199.80751037597656, 316.57672119140625, 226.1035614013672, 306.7135009765625, 287.796875, 243.250244140625, 310.4922180175781, 269.41741943359375, 230.3739013671875, 246.91331481933594, 230.1608123779297, 228.92282104492188, 227.2809600830078, 230.4971923828125, 228.17056274414062, 209.33689880371094, 171.28501892089844, 163.2330322265625, 142.71983337402344, 125.87712860107422, 100.2158432006836, 96.66986846923828, 96.62786865234375, 82.25128936767578, 77.57704162597656, 77.41603088378906, 74.23934173583984, 73.6871109008789, 72.54584503173828, 69.28328704833984, 62.71689987182617, 59.55294418334961, 58.78505325317383, 56.77003860473633, 55.61629867553711, 55.37566375732422, 54.8028564453125, 54.069522857666016, 52.64372253417969, 49.38520050048828, 50.45677185058594, 44.57133483886719, 43.83798599243164, 546.486572265625, 585.7247924804688, 153.47793579101562, 159.2122344970703, 331.49127197265625, 105.58824920654297, 336.0037841796875, 777.489013671875, 249.49557495117188, 131.88461303710938, 280.7557067871094, 184.75930786132812, 303.0177307128906, 592.3626708984375, 762.7032470703125, 209.2874755859375, 861.9044799804688, 617.5220336914062, 564.2971801757812, 480.691650390625, 176.77203369140625, 369.7022399902344, 259.6728515625, 703.8781127929688, 432.03802490234375, 274.10406494140625, 310.77667236328125, 332.3490905761719, 291.8896484375, 561.6925048828125, 384.7513732910156, 408.9846496582031, 262.0592041015625, 296.7367858886719, 281.094482421875, 388.24578857421875, 512.2770385742188, 348.07049560546875, 316.6092834472656, 301.4422302246094, 446.2552795410156, 281.081787109375, 269.46124267578125, 217.10813903808594, 208.9134521484375, 188.27017211914062, 187.2778778076172, 158.3175811767578, 146.51589965820312, 144.29376220703125, 140.97508239746094, 103.57231903076172, 97.0104751586914, 96.94741821289062, 96.74127960205078, 96.61804962158203, 90.42204284667969, 89.5161361694336, 86.44927215576172, 85.44341278076172, 85.41998291015625, 79.90692138671875, 79.20613098144531, 77.1693344116211, 73.8627700805664, 73.78419494628906, 64.18705749511719, 63.34242630004883, 61.507625579833984, 59.163368225097656, 172.79183959960938, 157.31182861328125, 90.87641906738281, 320.58740234375, 558.3496704101562, 151.2302703857422, 134.1525421142578, 303.60498046875, 187.68814086914062, 429.3551330566406, 230.9156494140625, 269.2108154296875, 171.13323974609375, 126.45077514648438, 612.0664672851562, 250.52615356445312, 224.50453186035156, 274.89825439453125, 170.28680419921875, 399.40045166015625, 292.5494689941406, 289.6309814453125, 216.14288330078125, 204.4650115966797, 272.14166259765625, 535.9178466796875, 186.3875732421875, 231.41665649414062, 186.06097412109375, 256.563232421875, 222.1980438232422, 186.41180419921875, 217.9718017578125, 192.30128479003906, 858.704345703125, 494.0018310546875, 430.501953125, 395.7608337402344, 356.268310546875, 355.3992004394531, 225.29519653320312, 186.9734649658203, 176.6835174560547, 174.98817443847656, 145.80543518066406, 130.95672607421875, 130.61863708496094, 125.86685943603516, 125.77336120605469, 120.81535339355469, 102.05528259277344, 96.346923828125, 88.54176330566406, 88.18036651611328, 87.84436798095703, 85.12446594238281, 84.40057373046875, 82.33736419677734, 80.49932861328125, 77.33464813232422, 77.03425598144531, 74.83372497558594, 71.3416748046875, 70.9630355834961, 536.9169311523438, 375.4068603515625, 175.48451232910156, 184.89768981933594, 216.0787353515625, 161.26419067382812, 140.48512268066406, 229.30189514160156, 177.5535125732422, 266.3534240722656, 269.85955810546875, 204.2632598876953, 189.1007843017578, 318.07940673828125, 253.0029754638672, 281.0672607421875, 327.7859191894531, 212.02647399902344, 172.58035278320312, 177.71456909179688, 248.87452697753906, 317.7538757324219, 266.7081298828125, 335.7103271484375, 273.5268249511719, 191.333740234375, 195.56590270996094, 190.78321838378906, 511.2130126953125, 383.28192138671875, 322.66387939453125, 188.13954162597656, 172.30154418945312, 143.19662475585938, 142.1971435546875, 97.70137786865234, 96.80261993408203, 94.2141342163086, 84.06149291992188, 69.51664733886719, 67.68936920166016, 66.07675170898438, 62.149959564208984, 55.36806869506836, 53.64456558227539, 51.08738708496094, 50.10992431640625, 46.157249450683594, 45.92282485961914, 50.3404426574707, 41.29867172241211, 40.663883209228516, 40.49580001831055, 39.03639602661133, 38.702335357666016, 38.508056640625, 36.73140335083008, 36.173587799072266, 216.79734802246094, 389.1714782714844, 587.6748046875, 159.38104248046875, 391.7906799316406, 167.83631896972656, 100.75006103515625, 59.32734298706055, 214.19985961914062, 163.9057159423828, 129.0830535888672, 316.965576171875, 185.87303161621094, 176.34185791015625, 168.2111053466797, 104.26078033447266, 112.98094177246094, 338.72174072265625, 137.0373077392578, 391.71173095703125, 220.13339233398438, 457.8623962402344, 346.7632751464844, 142.17221069335938, 271.23980712890625, 292.0702209472656, 140.5740966796875, 231.6136016845703, 200.16331481933594, 150.141845703125, 156.5753936767578, 162.1448516845703, 148.2853546142578, 148.4553985595703, 155.46092224121094, 110.55093383789062, 110.1210708618164, 86.739013671875, 79.80233764648438, 55.17704772949219, 51.36528015136719, 49.33610153198242, 46.73039245605469, 46.309696197509766, 44.645626068115234, 42.597259521484375, 42.410221099853516, 38.899757385253906, 36.182838439941406, 35.66444778442383, 35.41443634033203, 35.339874267578125, 34.08885955810547, 33.06208801269531, 31.467327117919922, 31.459766387939453, 31.182903289794922, 30.761959075927734, 30.647994995117188, 30.502925872802734, 30.449039459228516, 29.428590774536133, 29.373258590698242, 28.19698143005371, 39.89328384399414, 452.00152587890625, 73.46846008300781, 50.39698028564453, 291.9698486328125, 96.26522064208984, 93.50997161865234, 62.610103607177734, 266.5323486328125, 290.6823425292969, 168.4007110595703, 123.61359405517578, 273.04876708984375, 557.9722290039062, 251.72267150878906, 71.08525085449219, 278.0812072753906, 132.9625701904297, 156.48931884765625, 151.5395965576172, 146.0657958984375, 215.78749084472656, 326.8209228515625, 177.2858123779297, 98.5599136352539, 123.50434875488281, 380.2998352050781, 243.77084350585938, 124.88690948486328, 195.2517547607422, 157.60400390625, 276.7332763671875, 235.45401000976562, 292.4754333496094, 167.68310546875, 248.2128143310547, 192.703857421875, 207.80908203125, 202.5338592529297, 184.98345947265625, 193.31695556640625, 174.75350952148438, 160.54859924316406, 401.0815734863281, 344.5704650878906, 333.1270751953125, 246.17355346679688, 163.0446014404297, 143.44381713867188, 134.11734008789062, 125.03157806396484, 122.06454467773438, 118.47172546386719, 113.05138397216797, 104.87423706054688, 98.33659362792969, 97.97251892089844, 92.09207916259766, 86.53032684326172, 84.80960845947266, 84.22102355957031, 83.93163299560547, 79.73616790771484, 77.10941314697266, 75.3390884399414, 75.20970153808594, 72.37841796875, 70.76725006103516, 69.23863220214844, 68.2078628540039, 62.10626220703125, 61.80594253540039, 60.69738006591797, 524.6041259765625, 683.4408569335938, 726.4939575195312, 175.08615112304688, 304.0183410644531, 467.3089904785156, 117.7763671875, 165.0138397216797, 178.9205322265625, 182.2074737548828, 211.505126953125, 134.8191680908203, 153.58958435058594, 115.91938018798828, 154.9577178955078, 116.22981262207031, 564.364501953125, 165.48422241210938, 301.7511291503906, 144.95291137695312, 281.12835693359375, 150.4494171142578, 186.6946258544922, 210.44383239746094, 154.83963012695312, 136.3074493408203, 135.4574737548828, 433.8172912597656, 239.44583129882812, 201.87586975097656, 176.57188415527344, 169.4706268310547, 153.9409942626953, 103.9102554321289, 100.27142333984375, 80.11921691894531, 75.72087860107422, 72.90708923339844, 72.89745330810547, 69.11714172363281, 66.39329528808594, 63.98936080932617, 60.820220947265625, 60.61206817626953, 57.29603576660156, 48.838191986083984, 47.87061309814453, 47.85533142089844, 45.5494499206543, 44.56557083129883, 43.532867431640625, 43.47693634033203, 41.65089416503906, 40.292015075683594, 39.92488098144531, 39.87977600097656, 39.484466552734375, 148.9318084716797, 83.35865783691406, 1055.118896484375, 146.00120544433594, 111.76349639892578, 155.77908325195312, 334.94342041015625, 357.36346435546875, 58.56394958496094, 219.69395446777344, 149.9216766357422, 92.44428253173828, 110.75843811035156, 263.2370300292969, 174.147705078125, 99.66753387451172, 125.86235046386719, 166.72161865234375, 156.64894104003906, 105.64221954345703, 111.11888122558594, 130.93572998046875, 170.21971130371094, 107.52498626708984, 121.89539337158203, 120.5725326538086, 116.150390625, 382.52294921875, 336.77313232421875, 171.44119262695312, 119.91130065917969, 115.40077209472656, 81.4945297241211, 78.62336730957031, 71.81649780273438, 70.52300262451172, 68.07569885253906, 65.37370300292969, 63.4333381652832, 63.317996978759766, 54.203125, 46.38816452026367, 43.99766540527344, 43.692222595214844, 42.2305793762207, 39.97722625732422, 36.67005157470703, 33.374874114990234, 32.207279205322266, 31.516355514526367, 29.91653823852539, 28.430402755737305, 27.60484504699707, 27.21713638305664, 26.883819580078125, 26.242006301879883, 26.18694496154785, 670.9338989257812, 151.41268920898438, 140.66790771484375, 193.27171325683594, 143.41297912597656, 74.62435150146484, 131.8753204345703, 292.8760681152344, 188.6343536376953, 86.99662017822266, 196.66726684570312, 324.4426574707031, 331.59283447265625, 80.37657928466797, 95.84488677978516, 100.43360900878906, 458.9620361328125, 198.94366455078125, 173.8062744140625, 183.05848693847656, 292.6534729003906, 272.8096618652344, 254.7406463623047, 183.39736938476562, 170.39645385742188, 108.38544464111328, 114.95035552978516, 151.9873504638672, 161.1062469482422, 166.39840698242188, 138.38478088378906, 118.36968994140625, 116.3565444946289, 558.8781127929688, 296.6411437988281, 278.7810363769531, 221.63343811035156, 153.48806762695312, 82.31451416015625, 71.06220245361328, 68.7479248046875, 66.39363861083984, 56.568084716796875, 52.1689567565918, 49.036712646484375, 45.356178283691406, 44.357826232910156, 41.073402404785156, 39.393001556396484, 38.72901153564453, 37.25296401977539, 35.66720962524414, 33.4354133605957, 33.351837158203125, 31.512889862060547, 30.666292190551758, 30.766298294067383, 29.93478012084961, 29.572345733642578, 28.187726974487305, 26.3153076171875, 24.414104461669922, 23.961416244506836, 617.3666381835938, 92.45808410644531, 142.82174682617188, 827.302734375, 173.0548095703125, 64.43566131591797, 92.47371673583984, 39.761932373046875, 207.57281494140625, 96.39878845214844, 172.2317657470703, 106.92581176757812, 333.1839294433594, 76.50060272216797, 107.26802062988281, 131.63710021972656, 63.7375602722168, 196.2879638671875, 229.1467742919922, 353.1956481933594, 121.80730438232422, 229.39793395996094, 81.66190338134766, 152.4912109375, 107.60333251953125, 101.52680206298828, 94.1922607421875, 89.77539825439453, 95.38917541503906, 87.64398193359375, 186.3681640625, 180.65768432617188, 130.4491729736328, 114.3860092163086, 544.62451171875, 94.98719787597656, 81.29228210449219, 80.20086669921875, 77.91455078125, 65.56190490722656, 63.786590576171875, 53.75055694580078, 47.54670333862305, 46.241031646728516, 46.173580169677734, 44.77643966674805, 43.517417907714844, 42.987403869628906, 42.088844299316406, 41.11065673828125, 38.2050895690918, 37.18797302246094, 34.23768615722656, 29.256484985351562, 29.256484985351562, 29.256484985351562, 28.61966896057129, 28.214101791381836, 27.404285430908203, 27.3140869140625, 159.55735778808594, 559.1300048828125, 1102.6861572265625, 113.9200439453125, 164.30380249023438, 61.0859260559082, 220.46246337890625, 226.66412353515625, 184.6758575439453, 137.4988250732422, 314.4258728027344, 144.20037841796875, 125.96078491210938, 213.2726287841797, 362.5827331542969, 68.74220275878906, 122.32877349853516, 101.80948638916016, 231.4490203857422, 128.18038940429688, 129.98057556152344, 140.32594299316406, 123.43582153320312, 169.426513671875, 140.70082092285156, 142.58409118652344, 130.16848754882812, 129.14309692382812, 137.64027404785156, 168.36837768554688, 97.36963653564453, 87.58056640625, 69.80603790283203, 67.8326644897461, 65.86498260498047, 64.99423217773438, 63.81878662109375, 62.49540328979492, 61.232093811035156, 60.63856506347656, 60.16461944580078, 59.45162582397461, 54.696266174316406, 52.322261810302734, 52.078948974609375, 49.91481018066406, 48.235530853271484, 47.056724548339844, 90.22354888916016, 41.42648696899414, 39.505401611328125, 38.604976654052734, 35.93874740600586, 35.83192443847656, 34.3170280456543, 34.00936508178711, 91.69819641113281, 31.9008846282959, 42.75566864013672, 211.86940002441406, 169.13490295410156, 71.4679946899414, 93.65522003173828, 113.48795318603516, 197.34625244140625, 79.14859771728516, 79.28943634033203, 120.07757568359375, 86.586669921875, 94.15348815917969, 82.59925842285156, 58.31045913696289, 67.97156524658203, 68.99285125732422, 43.858116149902344, 40.36066436767578, 38.43437194824219, 36.157814025878906, 35.842857360839844, 35.58888244628906, 35.160953521728516, 34.6519889831543, 34.49064636230469, 34.38612365722656, 32.77106857299805, 32.08308029174805, 32.07804489135742, 31.640872955322266, 30.148101806640625, 30.148101806640625, 30.054393768310547, 29.67551040649414, 29.385475158691406, 26.75790023803711, 25.82333755493164, 25.628084182739258, 25.449541091918945, 25.150728225708008, 24.6789608001709, 24.602563858032227, 24.5241756439209, 24.34001922607422, 24.151382446289062, 26.039241790771484, 218.10671997070312, 33.382144927978516, 35.25825881958008, 30.94791030883789, 58.33415985107422, 38.0565299987793, 42.61174011230469, 29.634065628051758, 44.17483139038086, 36.29325485229492, 36.54169464111328, 60.856624603271484, 40.18383026123047, 41.991233825683594, 36.922698974609375, 35.18712615966797, 32.058990478515625, 34.80918502807617, 132.21441650390625, 90.1107406616211, 79.20774841308594, 77.71785736083984, 62.27616882324219, 61.308616638183594, 59.238468170166016, 54.37791061401367, 52.30057907104492, 51.92558670043945, 49.479461669921875, 49.23955154418945, 40.56782531738281, 38.32174301147461, 38.19379806518555, 35.53218460083008, 35.320796966552734, 31.537885665893555, 30.941612243652344, 30.591093063354492, 28.39238166809082, 28.27630043029785, 26.669921875, 25.207948684692383, 25.11804962158203, 21.35914421081543, 20.818262100219727, 20.105270385742188, 20.04505157470703, 19.327709197998047, 41.04743194580078, 22.15821647644043, 35.700050354003906, 29.787059783935547, 298.0899658203125, 197.17237854003906, 102.81210327148438, 67.58222961425781, 62.73007583618164, 61.285457611083984, 56.73560333251953, 42.61935043334961, 35.32516860961914, 33.79978942871094, 31.29619789123535, 31.222583770751953, 29.246728897094727, 25.026113510131836, 23.002513885498047, 21.93788719177246, 20.53706932067871, 20.220640182495117, 469.4405212402344, 19.88743782043457, 19.832284927368164, 19.715259552001953, 19.539297103881836, 19.374563217163086, 19.000627517700195, 18.26949119567871, 58.421905517578125, 17.751873016357422, 17.445201873779297, 17.133886337280273, 46.09105682373047, 32.011375427246094, 35.874820709228516, 45.8536376953125, 49.321346282958984, 24.288545608520508, 22.796585083007812, 83.45829772949219, 56.787235260009766, 25.283422470092773, 46.18162155151367, 38.57051467895508, 66.34215545654297, 49.06760787963867, 35.795650482177734, 55.99388122558594, 38.967857360839844, 31.816442489624023, 45.188232421875, 35.09260940551758, 39.465118408203125, 37.9677619934082, 35.38252639770508, 36.31991195678711, 64.53648376464844, 53.45512390136719, 45.95539855957031, 36.683345794677734, 33.32273864746094, 32.62873840332031, 31.801237106323242, 31.303598403930664, 28.372495651245117, 27.539840698242188, 26.896469116210938, 25.496192932128906, 25.427989959716797, 25.199485778808594, 24.876277923583984, 24.417123794555664, 23.870349884033203, 22.930355072021484, 21.920045852661133, 21.416399002075195, 21.319355010986328, 20.32236099243164, 20.317378997802734, 19.988662719726562, 19.349912643432617, 19.024600982666016, 18.882205963134766, 18.57438850402832, 18.30847930908203, 18.16992950439453, 30.559667587280273, 65.28580474853516, 70.61051177978516, 35.201133728027344, 24.822053909301758, 102.33590698242188, 69.23565673828125, 40.523258209228516, 27.561471939086914, 28.539770126342773, 41.104957580566406, 31.004026412963867, 33.69343948364258, 64.41398620605469, 51.78989028930664, 39.753562927246094, 50.19121170043945, 42.265438079833984, 38.359962463378906, 29.440221786499023, 34.544349670410156, 31.40506362915039, 30.922428131103516, 98.33244323730469, 61.106414794921875, 43.661197662353516, 39.63050842285156, 39.38290023803711, 29.978670120239258, 29.579282760620117, 29.172800064086914, 23.634431838989258, 23.568801879882812, 23.05293846130371, 21.566865921020508, 20.92214012145996, 20.639148712158203, 19.672727584838867, 18.606176376342773, 18.2386474609375, 18.20578956604004, 17.5532283782959, 17.21531105041504, 17.00252342224121, 16.530927658081055, 16.28367042541504, 16.154525756835938, 16.12984848022461, 15.532601356506348, 15.310500144958496, 15.14401912689209, 14.400157928466797, 19.083711624145508, 153.1641387939453, 39.60661315917969, 37.63492965698242, 95.34724426269531, 73.70061492919922, 160.74546813964844, 22.079200744628906, 26.681617736816406, 68.56249237060547, 38.22803497314453, 55.21793746948242, 47.879974365234375, 37.8564453125, 29.552648544311523, 46.34864044189453, 31.32122802734375, 42.30039596557617, 26.95343780517578, 33.45195007324219, 28.885284423828125, 24.16071891784668, 24.0303955078125, 34.537017822265625, 30.64276885986328, 29.61390495300293, 28.239370346069336, 24.729900360107422, 22.915224075317383, 22.493751525878906, 22.357820510864258, 20.947147369384766, 20.885950088500977, 20.22576332092285, 19.128299713134766, 19.08582305908203, 18.486106872558594, 18.26066017150879, 17.834686279296875, 17.28839683532715, 17.160249710083008, 17.10054588317871, 16.501052856445312, 16.40207290649414, 16.2415714263916, 16.169095993041992, 15.596080780029297, 15.346271514892578, 15.32519245147705, 15.275959968566895, 15.04217529296875, 14.859660148620605, 14.849807739257812, 81.68041229248047, 33.21497344970703, 200.86477661132812, 19.069923400878906, 21.04225730895996, 19.794483184814453, 33.44292449951172, 32.73426055908203, 19.150373458862305, 29.234582901000977, 97.71399688720703, 34.051910400390625, 19.95606231689453, 24.998271942138672, 19.143226623535156], \"Total\": [1508.0, 993.0, 1192.0, 3985.0, 1888.0, 1403.0, 776.0, 687.0, 859.0, 641.0, 716.0, 1402.0, 3348.0, 1704.0, 5942.0, 711.0, 489.0, 1143.0, 559.0, 548.0, 1196.0, 2944.0, 1158.0, 1014.0, 779.0, 3840.0, 969.0, 770.0, 1502.0, 725.0, 173.44345092773438, 156.91729736328125, 138.43115234375, 111.84674835205078, 65.66441345214844, 63.2922477722168, 61.300262451171875, 59.37351608276367, 56.07829284667969, 54.96160125732422, 50.889259338378906, 50.61439514160156, 48.80353927612305, 48.428958892822266, 48.006324768066406, 47.325740814208984, 47.105201721191406, 46.92389678955078, 45.52881622314453, 44.8821907043457, 44.35780334472656, 43.90839385986328, 41.99204635620117, 41.07362365722656, 40.4481315612793, 40.44425582885742, 38.97188186645508, 38.84780502319336, 38.29833221435547, 38.036251068115234, 82.04206085205078, 77.9415283203125, 170.21884155273438, 222.09373474121094, 63.52589797973633, 78.69674682617188, 136.6043243408203, 98.96177673339844, 375.67303466796875, 133.09934997558594, 95.85752868652344, 184.2516632080078, 132.72474670410156, 85.58624267578125, 136.96829223632812, 534.2969970703125, 455.8074035644531, 253.59190368652344, 237.0806884765625, 644.14306640625, 140.97071838378906, 400.6809387207031, 259.3232421875, 5942.33203125, 2944.96337890625, 695.4838256835938, 2223.874755859375, 298.7362060546875, 894.5900268554688, 1195.2598876953125, 563.909912109375, 1052.033935546875, 1260.7681884765625, 858.4437255859375, 3985.785400390625, 703.133544921875, 351.6028747558594, 1201.9456787109375, 3840.098876953125, 1302.34619140625, 1150.60400390625, 1412.9381103515625, 975.84765625, 2418.57666015625, 1972.84375, 969.9357299804688, 2022.763916015625, 2441.304443359375, 1130.827880859375, 1766.28125, 1539.6107177734375, 3348.101806640625, 1295.933837890625, 2070.486083984375, 2385.6513671875, 2866.11572265625, 1461.54541015625, 1706.6763916015625, 1283.2471923828125, 3236.345947265625, 241.0210418701172, 134.86639404296875, 268.1322326660156, 97.81045532226562, 95.49396514892578, 92.66558074951172, 89.11558532714844, 86.287353515625, 80.33267211914062, 80.25904846191406, 345.2870178222656, 75.37540435791016, 74.15745544433594, 73.29557800292969, 72.02578735351562, 70.24116516113281, 66.31741333007812, 61.33519744873047, 98.2883071899414, 57.91415786743164, 57.810752868652344, 57.167415618896484, 56.769996643066406, 55.3436279296875, 54.8237190246582, 52.44508361816406, 51.19371795654297, 50.89731216430664, 47.92964553833008, 47.74161148071289, 98.59906768798828, 156.84271240234375, 246.5460205078125, 95.2889404296875, 442.3610534667969, 279.47674560546875, 399.7676696777344, 340.857421875, 574.8651123046875, 328.0375061035156, 260.6766052246094, 485.8870544433594, 333.21636962890625, 384.0294494628906, 313.0263366699219, 145.02499389648438, 120.70919036865234, 725.9156494140625, 380.04876708984375, 169.7339324951172, 256.02777099609375, 1175.1934814453125, 358.2551574707031, 1532.1015625, 196.0845184326172, 344.270263671875, 651.7909545898438, 311.6866149902344, 3840.098876953125, 2385.6513671875, 1585.6484375, 3348.101806640625, 1856.1595458984375, 1502.62939453125, 1584.5518798828125, 5942.33203125, 2022.763916015625, 3236.345947265625, 2866.11572265625, 1014.9815063476562, 1143.636962890625, 2441.304443359375, 1706.6763916015625, 1398.2412109375, 1413.798828125, 724.537353515625, 1404.9322509765625, 1125.989990234375, 2418.57666015625, 1972.84375, 2944.96337890625, 1888.29833984375, 243.10145568847656, 155.141845703125, 104.06260681152344, 97.64436340332031, 87.08659362792969, 232.14430236816406, 74.30879211425781, 69.57121276855469, 89.31988525390625, 61.29438400268555, 59.79587936401367, 57.69229507446289, 57.63780212402344, 57.11475372314453, 54.70990753173828, 52.45101547241211, 50.45294952392578, 49.4062614440918, 47.81084442138672, 46.34382247924805, 45.3270378112793, 42.35663986206055, 41.83131790161133, 41.261817932128906, 40.08333969116211, 38.82527160644531, 38.00926208496094, 36.16992950439453, 35.76564407348633, 35.62003707885742, 597.0225219726562, 88.05258178710938, 99.58319854736328, 116.02427673339844, 72.39375305175781, 146.277099609375, 265.5041198730469, 165.0327911376953, 214.25645446777344, 108.267822265625, 398.7703857421875, 538.123046875, 145.16673278808594, 140.5966033935547, 90.3824234008789, 134.38482666015625, 336.50299072265625, 116.50914764404297, 332.6486511230469, 319.42999267578125, 172.72637939453125, 383.2999572753906, 3985.785400390625, 1322.2303466796875, 341.691162109375, 233.535888671875, 319.8460998535156, 385.59332275390625, 219.36166381835938, 2944.96337890625, 566.7190551757812, 5942.33203125, 361.01275634765625, 1328.1947021484375, 1584.5518798828125, 1402.882568359375, 565.2571411132812, 1704.1636962890625, 3348.101806640625, 549.6798706054688, 1972.84375, 779.298583984375, 2418.57666015625, 2070.486083984375, 1135.655517578125, 2866.11572265625, 1706.6763916015625, 1286.3917236328125, 3236.345947265625, 2022.763916015625, 2441.304443359375, 3840.098876953125, 231.3421630859375, 229.01553344726562, 210.18186950683594, 172.12998962402344, 164.0780029296875, 143.56480407714844, 126.73204040527344, 101.06080627441406, 97.51483154296875, 97.47283172607422, 83.09625244140625, 78.42200469970703, 78.26099395751953, 75.08430480957031, 74.53207397460938, 73.39080810546875, 70.12825012207031, 63.561859130859375, 60.39790344238281, 59.63001251220703, 57.61499786376953, 56.46165466308594, 56.22062301635742, 55.6478157043457, 54.91448211669922, 53.48868179321289, 50.230159759521484, 51.363162994384766, 45.41629409790039, 44.682945251464844, 577.2623901367188, 633.200927734375, 161.17431640625, 167.427734375, 366.3445739746094, 111.0667724609375, 378.4230651855469, 969.1644287109375, 285.5228271484375, 143.52706909179688, 332.6082763671875, 210.38494873046875, 365.8004150390625, 793.5764770507812, 1111.1290283203125, 251.59815979003906, 1331.4970703125, 906.0206909179688, 863.6729736328125, 710.7266235351562, 211.7959442138672, 566.773193359375, 357.50048828125, 1417.4852294921875, 753.282958984375, 405.5515441894531, 489.5517883300781, 542.5902709960938, 446.11383056640625, 1413.798828125, 779.4490966796875, 1196.4210205078125, 461.7122802734375, 625.9595947265625, 557.350341796875, 1403.02001953125, 3236.345947265625, 1286.3917236328125, 1175.1934814453125, 892.70166015625, 447.0986022949219, 281.92510986328125, 270.3045959472656, 217.95152282714844, 209.7568359375, 189.11355590820312, 188.1212615966797, 159.1609649658203, 147.35928344726562, 145.13714599609375, 141.81846618652344, 104.41570281982422, 97.8538589477539, 97.79084777832031, 97.58512878417969, 97.46143341064453, 91.26542663574219, 90.3595199584961, 87.29391479492188, 86.28679656982422, 86.26336669921875, 80.75030517578125, 80.04951477050781, 78.01277923583984, 74.7061538696289, 74.62757873535156, 65.03044128417969, 64.1858139038086, 62.35100173950195, 60.006744384765625, 176.35813903808594, 161.73776245117188, 93.05018615722656, 343.4937438964844, 628.9747314453125, 164.20486450195312, 144.87281799316406, 366.71270751953125, 212.67263793945312, 550.32177734375, 290.14813232421875, 362.71331787109375, 205.52870178222656, 140.8924102783203, 1158.5411376953125, 354.2333984375, 310.4170227050781, 429.9265441894531, 224.44097900390625, 868.9241333007812, 559.6994018554688, 566.7190551757812, 350.9525146484375, 331.7867431640625, 692.6388549804688, 3985.785400390625, 276.8063659667969, 549.6798706054688, 320.7479553222656, 1704.1636962890625, 1077.519775390625, 326.68377685546875, 2065.804443359375, 1328.1947021484375, 859.5491333007812, 494.8465270996094, 431.3466491699219, 396.60552978515625, 357.1130065917969, 356.243896484375, 226.1399383544922, 187.81820678710938, 177.52825927734375, 175.83291625976562, 146.65017700195312, 131.8014678955078, 131.46337890625, 126.71163177490234, 126.61810302734375, 121.66009521484375, 102.9000244140625, 97.19166564941406, 89.38650512695312, 89.02510833740234, 88.68911743164062, 85.96920776367188, 85.24531555175781, 83.1821060180664, 81.34407043457031, 78.17938995361328, 77.87899780273438, 75.678466796875, 72.18641662597656, 71.80777740478516, 545.608154296875, 388.0784912109375, 179.8381805419922, 189.76577758789062, 287.08428955078125, 202.55528259277344, 173.04652404785156, 403.6774597167969, 283.4991149902344, 559.6994018554688, 589.2903442382812, 376.1324462890625, 336.435791015625, 933.650634765625, 611.0003051757812, 762.611083984375, 1302.34619140625, 488.0234680175781, 293.0294189453125, 341.9126892089844, 1077.519775390625, 3236.345947265625, 2070.486083984375, 5942.33203125, 3985.785400390625, 1283.2471923828125, 2223.874755859375, 1704.1636962890625, 512.0542602539062, 384.1231689453125, 323.505126953125, 188.9808349609375, 173.14283752441406, 144.0379180908203, 143.03843688964844, 98.54266357421875, 97.64390563964844, 95.055419921875, 84.90277862548828, 70.35809326171875, 68.53065490722656, 66.91803741455078, 62.99123764038086, 56.209346771240234, 54.485843658447266, 51.92866516113281, 50.951202392578125, 46.99852752685547, 46.764102935791016, 51.27798843383789, 42.139949798583984, 41.50516128540039, 41.33707809448242, 39.8776741027832, 39.54361343383789, 39.349334716796875, 37.57268142700195, 37.01486587524414, 225.6089324951172, 421.9543151855469, 654.3240356445312, 174.15261840820312, 477.59454345703125, 194.7896728515625, 113.15443420410156, 63.13320541381836, 271.0921630859375, 204.98211669921875, 157.38027954101562, 459.74957275390625, 275.8552551269531, 257.8338623046875, 250.2799072265625, 133.3051300048828, 150.99313354492188, 834.2924194335938, 209.6638641357422, 1196.4210205078125, 469.2904357910156, 1888.29833984375, 1158.5411376953125, 235.02606201171875, 1417.4852294921875, 1856.1595458984375, 274.1262512207031, 1286.3917236328125, 1404.9322509765625, 341.691162109375, 488.4124450683594, 735.3650512695312, 1076.5233154296875, 3236.345947265625, 156.30743408203125, 111.39743041992188, 110.96756744384766, 87.58551025390625, 80.64883422851562, 56.02355194091797, 52.21177291870117, 50.182594299316406, 47.57688522338867, 47.156192779541016, 45.49211883544922, 43.44375228881836, 43.2567138671875, 39.74625015258789, 37.02937698364258, 36.51094055175781, 36.260929107666016, 36.18636703491211, 34.93535232543945, 33.9085807800293, 32.31381607055664, 32.30625534057617, 32.02940368652344, 31.608484268188477, 31.494495391845703, 31.34942626953125, 31.29553985595703, 30.27509117126465, 30.21976089477539, 29.043481826782227, 41.58686447143555, 542.3634643554688, 79.66999053955078, 55.59943771362305, 443.2207336425781, 121.36638641357422, 118.75798797607422, 73.93574523925781, 440.21929931640625, 549.4212646484375, 285.6605224609375, 190.36080932617188, 555.0481567382812, 1704.1636962890625, 563.322265625, 95.50660705566406, 662.3029174804688, 239.63392639160156, 330.5549621582031, 316.156494140625, 300.3358459472656, 649.3154296875, 1398.2412109375, 516.2432861328125, 192.9783477783203, 309.17144775390625, 3348.101806640625, 1322.2303466796875, 342.3564453125, 1003.6324462890625, 601.9115600585938, 2866.11572265625, 2065.804443359375, 3985.785400390625, 777.4443969726562, 3840.098876953125, 1539.6107177734375, 2223.874755859375, 2441.304443359375, 1766.28125, 2418.57666015625, 1353.9830322265625, 971.9585571289062, 401.92803955078125, 345.41693115234375, 333.9735412597656, 247.02008056640625, 163.89112854003906, 144.29034423828125, 134.9638671875, 125.87810516357422, 122.91106414794922, 119.31824493408203, 113.89790344238281, 105.72075653076172, 99.18311309814453, 98.81903839111328, 92.9385986328125, 87.37684631347656, 85.6561279296875, 85.06754302978516, 84.77815246582031, 80.58268737792969, 77.9559326171875, 76.18560791015625, 76.05622100830078, 73.22493743896484, 71.61376953125, 70.08515167236328, 69.05438232421875, 62.95277786254883, 62.65245819091797, 61.54389572143555, 534.3869018554688, 711.378173828125, 776.290771484375, 182.76829528808594, 342.75537109375, 566.3071899414062, 124.69160461425781, 182.72373962402344, 205.49172973632812, 210.27957153320312, 253.87594604492188, 150.03448486328125, 176.203125, 125.34846496582031, 180.71115112304688, 127.94285583496094, 1402.882568359375, 240.83900451660156, 1263.5301513671875, 240.08804321289062, 2065.804443359375, 366.0572509765625, 916.079345703125, 2385.6513671875, 925.8754272460938, 331.21942138671875, 329.4181213378906, 434.6593017578125, 240.28793334960938, 202.71795654296875, 177.41397094726562, 170.31271362304688, 154.7830810546875, 104.75232696533203, 101.11349487304688, 80.96128845214844, 76.56295013427734, 73.74916076660156, 73.7395248413086, 69.95921325683594, 67.23536682128906, 64.83142852783203, 61.66228485107422, 61.454132080078125, 58.138099670410156, 49.68025588989258, 48.712677001953125, 48.69739532470703, 46.39151382446289, 45.40763473510742, 44.374977111816406, 44.319000244140625, 42.492958068847656, 41.13407897949219, 40.766944885253906, 40.721839904785156, 40.32653045654297, 152.28330993652344, 85.13775634765625, 1192.16357421875, 155.61427307128906, 119.70249938964844, 170.50201416015625, 464.67694091796875, 514.5108032226562, 63.49951934814453, 358.8999328613281, 225.07298278808594, 118.76618194580078, 156.8461456298828, 559.6763916015625, 462.9454345703125, 158.32826232910156, 277.3238220214844, 531.4130249023438, 582.6419067382812, 209.90565490722656, 248.0294952392578, 459.74957275390625, 1403.02001953125, 276.3410949707031, 1196.4210205078125, 1417.4852294921875, 3236.345947265625, 383.3724670410156, 337.6226501464844, 172.29075622558594, 120.76084899902344, 116.25032043457031, 82.34415435791016, 79.47298431396484, 72.66604614257812, 71.37255096435547, 68.92524719238281, 66.22325134277344, 64.28288269042969, 64.16754150390625, 55.05266189575195, 47.237701416015625, 44.84720230102539, 44.541954040527344, 43.080116271972656, 40.82676315307617, 37.519588470458984, 34.22441101074219, 33.05681610107422, 32.36589431762695, 30.766088485717773, 29.279951095581055, 28.45439338684082, 28.06668472290039, 27.733367919921875, 27.091554641723633, 27.0364933013916, 716.3623657226562, 159.52313232421875, 148.5428924560547, 214.80178833007812, 157.45274353027344, 84.31623840332031, 162.21875, 398.1773376464844, 252.98385620117188, 105.1397476196289, 275.86260986328125, 517.8694458007812, 558.30126953125, 96.69155883789062, 126.2126235961914, 135.9738311767578, 1143.636962890625, 383.7191467285156, 353.66314697265625, 536.7742309570312, 1404.9322509765625, 1403.02001953125, 1502.62939453125, 733.3887939453125, 625.9595947265625, 221.8474578857422, 291.12677001953125, 863.6729736328125, 1508.9464111328125, 3236.345947265625, 1584.5518798828125, 502.4448547363281, 446.11383056640625, 559.7227172851562, 297.4857177734375, 279.6256103515625, 222.4780731201172, 154.33270263671875, 83.15912628173828, 71.90681457519531, 69.59253692626953, 67.23825073242188, 57.412689208984375, 53.0135612487793, 49.881317138671875, 46.200782775878906, 45.202430725097656, 41.918006896972656, 40.237606048583984, 39.57362747192383, 38.09756851196289, 36.51181411743164, 34.2800178527832, 34.196441650390625, 32.35749435424805, 31.510908126831055, 31.618309020996094, 30.779396057128906, 30.416961669921875, 29.0323429107666, 27.159923553466797, 25.25872039794922, 24.806032180786133, 641.1657104492188, 97.80724334716797, 157.14404296875, 993.7213745117188, 200.86183166503906, 70.21394348144531, 104.3521957397461, 42.47214889526367, 308.3515319824219, 127.34325408935547, 291.12677001953125, 155.91610717773438, 770.0213623046875, 108.18911743164062, 181.89332580566406, 251.9174346923828, 83.65601348876953, 512.97802734375, 725.9156494140625, 1888.29833984375, 311.0439758300781, 1196.4210205078125, 147.1696014404297, 735.3650512695312, 367.94415283203125, 969.1644287109375, 610.5882568359375, 485.8870544433594, 1502.62939453125, 488.4124450683594, 187.22108459472656, 181.51060485839844, 131.30209350585938, 115.23889923095703, 548.9749755859375, 95.8414077758789, 82.14517211914062, 81.05375671386719, 78.76744079589844, 66.41494750976562, 64.63948059082031, 54.60344314575195, 48.39958953857422, 47.09391784667969, 47.026466369628906, 45.62932586669922, 44.370304107666016, 43.84029006958008, 42.94173049926758, 41.96354293823242, 39.05797576904297, 38.04085922241211, 35.0905876159668, 30.1093807220459, 30.1093807220459, 30.1093807220459, 29.472564697265625, 29.06700897216797, 28.25718116760254, 28.166982650756836, 178.34942626953125, 687.2573852539062, 1508.9464111328125, 134.03265380859375, 210.0642852783203, 71.05888366699219, 401.3345642089844, 424.4790954589844, 339.5357971191406, 227.666015625, 779.4490966796875, 259.7022399902344, 220.6053009033203, 546.3858642578125, 1403.02001953125, 93.13341522216797, 254.7627410888672, 193.56951904296875, 910.2074584960938, 311.9773254394531, 328.6544494628906, 466.1300048828125, 366.7851867675781, 1008.283935546875, 587.081787109375, 1080.3046875, 753.282958984375, 1402.882568359375, 138.4913787841797, 169.5559844970703, 98.22073364257812, 88.4316635131836, 70.65713500976562, 68.68376159667969, 66.71607971191406, 65.84532928466797, 64.66988372802734, 63.346492767333984, 62.08318328857422, 61.489654541015625, 61.015708923339844, 60.30271530151367, 55.54735565185547, 53.1733512878418, 52.93003845214844, 50.765899658203125, 49.08662033081055, 47.907814025878906, 91.89541625976562, 42.2775764465332, 40.35649108886719, 39.4560661315918, 36.78983688354492, 36.683013916015625, 35.16811752319336, 34.86045455932617, 94.05181884765625, 32.751976013183594, 44.79091262817383, 267.816650390625, 213.15371704101562, 85.70536041259766, 130.61160278320312, 172.5273895263672, 385.59332275390625, 111.89561462402344, 113.08587646484375, 261.611328125, 208.4020233154297, 316.848388671875, 436.14044189453125, 99.79907989501953, 439.4569396972656, 1328.1947021484375, 44.70484924316406, 41.2073974609375, 39.281105041503906, 37.004547119140625, 36.68959045410156, 36.43561553955078, 36.007686614990234, 35.498722076416016, 35.337379455566406, 35.23285675048828, 33.617801666259766, 32.929813385009766, 32.92477798461914, 32.487606048583984, 30.994844436645508, 30.994844436645508, 30.90113639831543, 30.522253036499023, 30.23221778869629, 27.604642868041992, 26.670080184936523, 26.47482681274414, 26.296283721923828, 25.99747085571289, 25.52570343017578, 25.44930648803711, 25.37091827392578, 25.1867618560791, 24.998125076293945, 26.960844039916992, 248.05526733398438, 36.955135345458984, 41.255619049072266, 34.9334716796875, 90.95044708251953, 50.04499816894531, 66.3761215209961, 34.70043182373047, 74.37239074707031, 57.010292053222656, 63.57716369628906, 257.598876953125, 97.35162353515625, 128.58799743652344, 81.85880279541016, 156.60321044921875, 89.41877746582031, 1014.9815063476562, 133.0651397705078, 90.96145629882812, 80.05846405029297, 78.56857299804688, 63.12687683105469, 62.159324645996094, 60.089176177978516, 55.22861862182617, 53.15128707885742, 52.77629470825195, 50.330169677734375, 50.09025955200195, 41.41853332519531, 39.17245101928711, 39.04450607299805, 36.38289260864258, 36.171504974365234, 32.38859176635742, 31.792327880859375, 31.441808700561523, 29.24309730529785, 29.127016067504883, 27.52063751220703, 26.058664321899414, 25.968765258789062, 22.20985984802246, 21.668977737426758, 20.95598602294922, 20.895767211914062, 20.178424835205078, 47.953224182128906, 24.974769592285156, 96.03778076171875, 1076.5233154296875, 298.9403991699219, 198.02297973632812, 103.66255950927734, 68.43268585205078, 63.580528259277344, 62.13591003417969, 57.586055755615234, 43.474613189697266, 36.175621032714844, 34.65024185180664, 32.14665222167969, 32.07304000854492, 30.09718894958496, 25.87657356262207, 23.85297393798828, 22.788347244262695, 21.387529373168945, 21.07110023498535, 489.2138671875, 20.737897872924805, 20.6827449798584, 20.565719604492188, 20.38975715637207, 20.22502326965332, 19.85108757019043, 19.121646881103516, 61.1555290222168, 18.602333068847656, 18.29566192626953, 17.984346389770508, 51.198448181152344, 34.97411346435547, 42.714054107666016, 57.322669982910156, 71.79766845703125, 27.619966506958008, 25.96479034423828, 236.5997314453125, 135.43919372558594, 32.17222213745117, 103.02041625976562, 73.57652282714844, 236.93324279785156, 185.4762725830078, 86.59852600097656, 336.435791015625, 118.2493896484375, 69.13236999511719, 298.77008056640625, 106.61378479003906, 251.83184814453125, 189.3650360107422, 118.62211608886719, 1502.62939453125, 65.3870620727539, 54.30569839477539, 46.805973052978516, 37.53392028808594, 34.17331314086914, 33.479312896728516, 32.65180969238281, 32.154170989990234, 29.223072052001953, 28.390918731689453, 27.747060775756836, 26.346769332885742, 26.278566360473633, 26.05006217956543, 25.72685432434082, 25.2677001953125, 24.72092628479004, 23.78093147277832, 22.770751953125, 22.26697540283203, 22.169931411743164, 21.172937393188477, 21.16795539855957, 20.8392391204834, 20.200489044189453, 19.87517738342285, 19.7327823638916, 19.424964904785156, 19.159055709838867, 19.020505905151367, 32.256465911865234, 75.02352142333984, 95.19686889648438, 41.60135269165039, 27.671857833862305, 221.17059326171875, 128.3822784423828, 65.22684478759766, 35.33066940307617, 38.09415817260742, 93.30638885498047, 50.1944465637207, 69.72200012207031, 559.6763916015625, 313.0263366699219, 143.17755126953125, 488.0234680175781, 374.7731628417969, 317.26531982421875, 96.76596069335938, 431.0480041503906, 175.82005310058594, 181.36131286621094, 99.18363189697266, 61.95759582519531, 44.51237869262695, 40.481689453125, 40.23408126831055, 30.829853057861328, 30.430465698242188, 30.023983001708984, 24.485614776611328, 24.419984817504883, 23.90412139892578, 22.418048858642578, 21.77332305908203, 21.490331649780273, 20.523910522460938, 19.457359313964844, 19.08983039855957, 19.05697250366211, 18.40441131591797, 18.06649398803711, 17.853708267211914, 17.382110595703125, 17.13485336303711, 17.005708694458008, 16.98103141784668, 16.383785247802734, 16.161684036254883, 15.99520206451416, 15.251340866088867, 20.241891860961914, 175.11341857910156, 43.72170639038086, 41.94058609008789, 114.77536010742188, 108.6133041381836, 291.4271240234375, 25.426542282104492, 33.236568450927734, 122.20313262939453, 61.737709045410156, 124.4217758178711, 104.44720458984375, 132.2324981689453, 74.1617660522461, 631.967529296875, 157.23672485351562, 733.3887939453125, 94.14411163330078, 397.64208984375, 162.1533203125, 86.39519500732422, 625.9595947265625, 35.39094924926758, 31.496702194213867, 30.467838287353516, 29.093303680419922, 25.583833694458008, 23.769163131713867, 23.347684860229492, 23.211753845214844, 21.80108070373535, 21.739883422851562, 21.079696655273438, 19.98223304748535, 19.939756393432617, 19.34004020690918, 19.11459732055664, 18.68861961364746, 18.142330169677734, 18.014183044433594, 17.95448112487793, 17.3549861907959, 17.256006240844727, 17.095504760742188, 17.023029327392578, 16.45003318786621, 16.200204849243164, 16.17912483215332, 16.129892349243164, 15.896113395690918, 15.713592529296875, 15.703740119934082, 92.6369857788086, 36.41334915161133, 430.58880615234375, 21.626737594604492, 25.247180938720703, 24.560407638549805, 61.983726501464844, 62.655616760253906, 23.73717498779297, 62.04328155517578, 1014.9815063476562, 107.2638168334961, 27.221038818359375, 115.327392578125, 77.50996398925781], \"Category\": [\"Default\", \"Default\", \"Default\", \"Default\", \"Default\", \"Default\", \"Default\", \"Default\", \"Default\", \"Default\", \"Default\", \"Default\", \"Default\", \"Default\", \"Default\", \"Default\", \"Default\", \"Default\", \"Default\", \"Default\", \"Default\", \"Default\", \"Default\", \"Default\", \"Default\", \"Default\", \"Default\", \"Default\", \"Default\", \"Default\", \"Topic1\", \"Topic1\", \"Topic1\", \"Topic1\", \"Topic1\", \"Topic1\", \"Topic1\", \"Topic1\", \"Topic1\", \"Topic1\", \"Topic1\", \"Topic1\", \"Topic1\", \"Topic1\", \"Topic1\", \"Topic1\", \"Topic1\", \"Topic1\", \"Topic1\", \"Topic1\", \"Topic1\", \"Topic1\", \"Topic1\", \"Topic1\", \"Topic1\", \"Topic1\", \"Topic1\", \"Topic1\", \"Topic1\", \"Topic1\", \"Topic1\", \"Topic1\", \"Topic1\", \"Topic1\", \"Topic1\", \"Topic1\", \"Topic1\", \"Topic1\", \"Topic1\", \"Topic1\", \"Topic1\", \"Topic1\", \"Topic1\", \"Topic1\", \"Topic1\", \"Topic1\", \"Topic1\", \"Topic1\", \"Topic1\", \"Topic1\", \"Topic1\", \"Topic1\", \"Topic1\", \"Topic1\", \"Topic1\", \"Topic1\", \"Topic1\", \"Topic1\", \"Topic1\", \"Topic1\", \"Topic1\", \"Topic1\", \"Topic1\", \"Topic1\", \"Topic1\", \"Topic1\", \"Topic1\", \"Topic1\", \"Topic1\", \"Topic1\", \"Topic1\", \"Topic1\", \"Topic1\", \"Topic1\", \"Topic1\", \"Topic1\", \"Topic1\", \"Topic1\", \"Topic1\", \"Topic1\", \"Topic1\", \"Topic1\", \"Topic1\", \"Topic1\", \"Topic1\", \"Topic1\", \"Topic1\", \"Topic1\", \"Topic1\", \"Topic1\", \"Topic2\", \"Topic2\", \"Topic2\", \"Topic2\", \"Topic2\", \"Topic2\", \"Topic2\", \"Topic2\", \"Topic2\", \"Topic2\", \"Topic2\", \"Topic2\", \"Topic2\", \"Topic2\", \"Topic2\", \"Topic2\", \"Topic2\", \"Topic2\", \"Topic2\", \"Topic2\", \"Topic2\", \"Topic2\", \"Topic2\", \"Topic2\", \"Topic2\", \"Topic2\", \"Topic2\", \"Topic2\", \"Topic2\", \"Topic2\", \"Topic2\", \"Topic2\", \"Topic2\", \"Topic2\", \"Topic2\", \"Topic2\", \"Topic2\", \"Topic2\", \"Topic2\", \"Topic2\", \"Topic2\", \"Topic2\", \"Topic2\", \"Topic2\", \"Topic2\", \"Topic2\", \"Topic2\", \"Topic2\", \"Topic2\", \"Topic2\", \"Topic2\", \"Topic2\", \"Topic2\", \"Topic2\", \"Topic2\", \"Topic2\", \"Topic2\", \"Topic2\", \"Topic2\", \"Topic2\", \"Topic2\", \"Topic2\", \"Topic2\", \"Topic2\", \"Topic2\", \"Topic2\", \"Topic2\", \"Topic2\", \"Topic2\", \"Topic2\", \"Topic2\", \"Topic2\", \"Topic2\", \"Topic2\", \"Topic2\", \"Topic2\", \"Topic2\", \"Topic2\", \"Topic2\", \"Topic2\", \"Topic2\", \"Topic2\", \"Topic3\", \"Topic3\", \"Topic3\", \"Topic3\", \"Topic3\", \"Topic3\", \"Topic3\", \"Topic3\", \"Topic3\", \"Topic3\", \"Topic3\", \"Topic3\", \"Topic3\", \"Topic3\", \"Topic3\", \"Topic3\", \"Topic3\", \"Topic3\", \"Topic3\", \"Topic3\", \"Topic3\", \"Topic3\", \"Topic3\", \"Topic3\", \"Topic3\", \"Topic3\", \"Topic3\", \"Topic3\", \"Topic3\", \"Topic3\", \"Topic3\", \"Topic3\", \"Topic3\", \"Topic3\", \"Topic3\", \"Topic3\", \"Topic3\", \"Topic3\", \"Topic3\", \"Topic3\", \"Topic3\", \"Topic3\", \"Topic3\", \"Topic3\", \"Topic3\", \"Topic3\", \"Topic3\", \"Topic3\", \"Topic3\", \"Topic3\", \"Topic3\", \"Topic3\", \"Topic3\", \"Topic3\", \"Topic3\", \"Topic3\", \"Topic3\", \"Topic3\", \"Topic3\", \"Topic3\", \"Topic3\", \"Topic3\", \"Topic3\", \"Topic3\", \"Topic3\", \"Topic3\", \"Topic3\", \"Topic3\", \"Topic3\", \"Topic3\", \"Topic3\", \"Topic3\", \"Topic3\", \"Topic3\", \"Topic3\", \"Topic3\", \"Topic3\", \"Topic3\", \"Topic3\", \"Topic3\", \"Topic3\", \"Topic3\", \"Topic4\", \"Topic4\", \"Topic4\", \"Topic4\", \"Topic4\", \"Topic4\", \"Topic4\", \"Topic4\", \"Topic4\", \"Topic4\", \"Topic4\", \"Topic4\", \"Topic4\", \"Topic4\", \"Topic4\", \"Topic4\", \"Topic4\", \"Topic4\", \"Topic4\", \"Topic4\", \"Topic4\", \"Topic4\", \"Topic4\", \"Topic4\", \"Topic4\", \"Topic4\", \"Topic4\", \"Topic4\", \"Topic4\", \"Topic4\", \"Topic4\", \"Topic4\", \"Topic4\", \"Topic4\", \"Topic4\", \"Topic4\", \"Topic4\", \"Topic4\", \"Topic4\", \"Topic4\", \"Topic4\", \"Topic4\", \"Topic4\", \"Topic4\", \"Topic4\", \"Topic4\", \"Topic4\", \"Topic4\", \"Topic4\", \"Topic4\", \"Topic4\", \"Topic4\", \"Topic4\", \"Topic4\", \"Topic4\", \"Topic4\", \"Topic4\", \"Topic4\", \"Topic4\", \"Topic4\", \"Topic4\", \"Topic4\", \"Topic4\", \"Topic4\", \"Topic4\", \"Topic4\", \"Topic4\", \"Topic4\", \"Topic4\", \"Topic4\", \"Topic5\", \"Topic5\", \"Topic5\", \"Topic5\", \"Topic5\", \"Topic5\", \"Topic5\", \"Topic5\", \"Topic5\", \"Topic5\", \"Topic5\", \"Topic5\", \"Topic5\", \"Topic5\", \"Topic5\", \"Topic5\", \"Topic5\", \"Topic5\", \"Topic5\", \"Topic5\", \"Topic5\", \"Topic5\", \"Topic5\", \"Topic5\", \"Topic5\", \"Topic5\", \"Topic5\", \"Topic5\", \"Topic5\", \"Topic5\", \"Topic5\", \"Topic5\", \"Topic5\", \"Topic5\", \"Topic5\", \"Topic5\", \"Topic5\", \"Topic5\", \"Topic5\", \"Topic5\", \"Topic5\", \"Topic5\", \"Topic5\", \"Topic5\", \"Topic5\", \"Topic5\", \"Topic5\", \"Topic5\", \"Topic5\", \"Topic5\", \"Topic5\", \"Topic5\", \"Topic5\", \"Topic5\", \"Topic5\", \"Topic5\", \"Topic5\", \"Topic5\", \"Topic5\", \"Topic5\", \"Topic5\", \"Topic5\", \"Topic5\", \"Topic5\", \"Topic6\", \"Topic6\", \"Topic6\", \"Topic6\", \"Topic6\", \"Topic6\", \"Topic6\", \"Topic6\", \"Topic6\", \"Topic6\", \"Topic6\", \"Topic6\", \"Topic6\", \"Topic6\", \"Topic6\", \"Topic6\", \"Topic6\", \"Topic6\", \"Topic6\", \"Topic6\", \"Topic6\", \"Topic6\", \"Topic6\", \"Topic6\", \"Topic6\", \"Topic6\", \"Topic6\", \"Topic6\", \"Topic6\", \"Topic6\", \"Topic6\", \"Topic6\", \"Topic6\", \"Topic6\", \"Topic6\", \"Topic6\", \"Topic6\", \"Topic6\", \"Topic6\", \"Topic6\", \"Topic6\", \"Topic6\", \"Topic6\", \"Topic6\", \"Topic6\", \"Topic6\", \"Topic6\", \"Topic6\", \"Topic6\", \"Topic6\", \"Topic6\", \"Topic6\", \"Topic6\", \"Topic6\", \"Topic6\", \"Topic6\", \"Topic6\", \"Topic6\", \"Topic7\", \"Topic7\", \"Topic7\", \"Topic7\", \"Topic7\", \"Topic7\", \"Topic7\", \"Topic7\", \"Topic7\", \"Topic7\", \"Topic7\", \"Topic7\", \"Topic7\", \"Topic7\", \"Topic7\", \"Topic7\", \"Topic7\", \"Topic7\", \"Topic7\", \"Topic7\", \"Topic7\", \"Topic7\", \"Topic7\", \"Topic7\", \"Topic7\", \"Topic7\", \"Topic7\", \"Topic7\", \"Topic7\", \"Topic7\", \"Topic7\", \"Topic7\", \"Topic7\", \"Topic7\", \"Topic7\", \"Topic7\", \"Topic7\", \"Topic7\", \"Topic7\", \"Topic7\", \"Topic7\", \"Topic7\", \"Topic7\", \"Topic7\", \"Topic7\", \"Topic7\", \"Topic7\", \"Topic7\", \"Topic7\", \"Topic7\", \"Topic7\", \"Topic7\", \"Topic7\", \"Topic7\", \"Topic7\", \"Topic7\", \"Topic7\", \"Topic7\", \"Topic7\", \"Topic7\", \"Topic7\", \"Topic7\", \"Topic7\", \"Topic7\", \"Topic8\", \"Topic8\", \"Topic8\", \"Topic8\", \"Topic8\", \"Topic8\", \"Topic8\", \"Topic8\", \"Topic8\", \"Topic8\", \"Topic8\", \"Topic8\", \"Topic8\", \"Topic8\", \"Topic8\", \"Topic8\", \"Topic8\", \"Topic8\", \"Topic8\", \"Topic8\", \"Topic8\", \"Topic8\", \"Topic8\", \"Topic8\", \"Topic8\", \"Topic8\", \"Topic8\", \"Topic8\", \"Topic8\", \"Topic8\", \"Topic8\", \"Topic8\", \"Topic8\", \"Topic8\", \"Topic8\", \"Topic8\", \"Topic8\", \"Topic8\", \"Topic8\", \"Topic8\", \"Topic8\", \"Topic8\", \"Topic8\", \"Topic8\", \"Topic8\", \"Topic8\", \"Topic8\", \"Topic8\", \"Topic8\", \"Topic8\", \"Topic8\", \"Topic8\", \"Topic8\", \"Topic8\", \"Topic8\", \"Topic8\", \"Topic8\", \"Topic8\", \"Topic8\", \"Topic8\", \"Topic8\", \"Topic8\", \"Topic8\", \"Topic8\", \"Topic8\", \"Topic8\", \"Topic8\", \"Topic8\", \"Topic8\", \"Topic8\", \"Topic8\", \"Topic8\", \"Topic8\", \"Topic9\", \"Topic9\", \"Topic9\", \"Topic9\", \"Topic9\", \"Topic9\", \"Topic9\", \"Topic9\", \"Topic9\", \"Topic9\", \"Topic9\", \"Topic9\", \"Topic9\", \"Topic9\", \"Topic9\", \"Topic9\", \"Topic9\", \"Topic9\", \"Topic9\", \"Topic9\", \"Topic9\", \"Topic9\", \"Topic9\", \"Topic9\", \"Topic9\", \"Topic9\", \"Topic9\", \"Topic9\", \"Topic9\", \"Topic9\", \"Topic9\", \"Topic9\", \"Topic9\", \"Topic9\", \"Topic9\", \"Topic9\", \"Topic9\", \"Topic9\", \"Topic9\", \"Topic9\", \"Topic9\", \"Topic9\", \"Topic9\", \"Topic9\", \"Topic9\", \"Topic9\", \"Topic9\", \"Topic9\", \"Topic9\", \"Topic9\", \"Topic9\", \"Topic9\", \"Topic9\", \"Topic9\", \"Topic9\", \"Topic9\", \"Topic9\", \"Topic10\", \"Topic10\", \"Topic10\", \"Topic10\", \"Topic10\", \"Topic10\", \"Topic10\", \"Topic10\", \"Topic10\", \"Topic10\", \"Topic10\", \"Topic10\", \"Topic10\", \"Topic10\", \"Topic10\", \"Topic10\", \"Topic10\", \"Topic10\", \"Topic10\", \"Topic10\", \"Topic10\", \"Topic10\", \"Topic10\", \"Topic10\", \"Topic10\", \"Topic10\", \"Topic10\", \"Topic10\", \"Topic10\", \"Topic10\", \"Topic10\", \"Topic10\", \"Topic10\", \"Topic10\", \"Topic10\", \"Topic10\", \"Topic10\", \"Topic10\", \"Topic10\", \"Topic10\", \"Topic10\", \"Topic10\", \"Topic10\", \"Topic10\", \"Topic10\", \"Topic10\", \"Topic10\", \"Topic10\", \"Topic10\", \"Topic10\", \"Topic10\", \"Topic10\", \"Topic10\", \"Topic10\", \"Topic10\", \"Topic10\", \"Topic10\", \"Topic11\", \"Topic11\", \"Topic11\", \"Topic11\", \"Topic11\", \"Topic11\", \"Topic11\", \"Topic11\", \"Topic11\", \"Topic11\", \"Topic11\", \"Topic11\", \"Topic11\", \"Topic11\", \"Topic11\", \"Topic11\", \"Topic11\", \"Topic11\", \"Topic11\", \"Topic11\", \"Topic11\", \"Topic11\", \"Topic11\", \"Topic11\", \"Topic11\", \"Topic11\", \"Topic11\", \"Topic11\", \"Topic11\", \"Topic11\", \"Topic11\", \"Topic11\", \"Topic11\", \"Topic11\", \"Topic11\", \"Topic11\", \"Topic11\", \"Topic11\", \"Topic11\", \"Topic11\", \"Topic11\", \"Topic11\", \"Topic11\", \"Topic11\", \"Topic11\", \"Topic11\", \"Topic11\", \"Topic11\", \"Topic11\", \"Topic11\", \"Topic11\", \"Topic11\", \"Topic11\", \"Topic11\", \"Topic11\", \"Topic11\", \"Topic11\", \"Topic11\", \"Topic11\", \"Topic11\", \"Topic11\", \"Topic11\", \"Topic11\", \"Topic12\", \"Topic12\", \"Topic12\", \"Topic12\", \"Topic12\", \"Topic12\", \"Topic12\", \"Topic12\", \"Topic12\", \"Topic12\", \"Topic12\", \"Topic12\", \"Topic12\", \"Topic12\", \"Topic12\", \"Topic12\", \"Topic12\", \"Topic12\", \"Topic12\", \"Topic12\", \"Topic12\", \"Topic12\", \"Topic12\", \"Topic12\", \"Topic12\", \"Topic12\", \"Topic12\", \"Topic12\", \"Topic12\", \"Topic12\", \"Topic12\", \"Topic12\", \"Topic12\", \"Topic12\", \"Topic12\", \"Topic12\", \"Topic12\", \"Topic12\", \"Topic12\", \"Topic12\", \"Topic12\", \"Topic12\", \"Topic12\", \"Topic12\", \"Topic12\", \"Topic12\", \"Topic12\", \"Topic12\", \"Topic12\", \"Topic12\", \"Topic12\", \"Topic12\", \"Topic12\", \"Topic12\", \"Topic12\", \"Topic12\", \"Topic12\", \"Topic12\", \"Topic12\", \"Topic12\", \"Topic13\", \"Topic13\", \"Topic13\", \"Topic13\", \"Topic13\", \"Topic13\", \"Topic13\", \"Topic13\", \"Topic13\", \"Topic13\", \"Topic13\", \"Topic13\", \"Topic13\", \"Topic13\", \"Topic13\", \"Topic13\", \"Topic13\", \"Topic13\", \"Topic13\", \"Topic13\", \"Topic13\", \"Topic13\", \"Topic13\", \"Topic13\", \"Topic13\", \"Topic13\", \"Topic13\", \"Topic13\", \"Topic13\", \"Topic13\", \"Topic13\", \"Topic13\", \"Topic13\", \"Topic13\", \"Topic13\", \"Topic13\", \"Topic13\", \"Topic13\", \"Topic13\", \"Topic13\", \"Topic13\", \"Topic13\", \"Topic13\", \"Topic13\", \"Topic13\", \"Topic13\", \"Topic13\", \"Topic13\", \"Topic13\", \"Topic13\", \"Topic13\", \"Topic13\", \"Topic13\", \"Topic13\", \"Topic13\", \"Topic13\", \"Topic13\", \"Topic13\", \"Topic14\", \"Topic14\", \"Topic14\", \"Topic14\", \"Topic14\", \"Topic14\", \"Topic14\", \"Topic14\", \"Topic14\", \"Topic14\", \"Topic14\", \"Topic14\", \"Topic14\", \"Topic14\", \"Topic14\", \"Topic14\", \"Topic14\", \"Topic14\", \"Topic14\", \"Topic14\", \"Topic14\", \"Topic14\", \"Topic14\", \"Topic14\", \"Topic14\", \"Topic14\", \"Topic14\", \"Topic14\", \"Topic14\", \"Topic14\", \"Topic14\", \"Topic14\", \"Topic14\", \"Topic14\", \"Topic14\", \"Topic14\", \"Topic14\", \"Topic14\", \"Topic14\", \"Topic14\", \"Topic14\", \"Topic14\", \"Topic14\", \"Topic14\", \"Topic14\", \"Topic14\", \"Topic15\", \"Topic15\", \"Topic15\", \"Topic15\", \"Topic15\", \"Topic15\", \"Topic15\", \"Topic15\", \"Topic15\", \"Topic15\", \"Topic15\", \"Topic15\", \"Topic15\", \"Topic15\", \"Topic15\", \"Topic15\", \"Topic15\", \"Topic15\", \"Topic15\", \"Topic15\", \"Topic15\", \"Topic15\", \"Topic15\", \"Topic15\", \"Topic15\", \"Topic15\", \"Topic15\", \"Topic15\", \"Topic15\", \"Topic15\", \"Topic15\", \"Topic15\", \"Topic15\", \"Topic15\", \"Topic15\", \"Topic15\", \"Topic15\", \"Topic15\", \"Topic15\", \"Topic15\", \"Topic15\", \"Topic15\", \"Topic15\", \"Topic15\", \"Topic15\", \"Topic15\", \"Topic15\", \"Topic15\", \"Topic16\", \"Topic16\", \"Topic16\", \"Topic16\", \"Topic16\", \"Topic16\", \"Topic16\", \"Topic16\", \"Topic16\", \"Topic16\", \"Topic16\", \"Topic16\", \"Topic16\", \"Topic16\", \"Topic16\", \"Topic16\", \"Topic16\", \"Topic16\", \"Topic16\", \"Topic16\", \"Topic16\", \"Topic16\", \"Topic16\", \"Topic16\", \"Topic16\", \"Topic16\", \"Topic16\", \"Topic16\", \"Topic16\", \"Topic16\", \"Topic16\", \"Topic16\", \"Topic16\", \"Topic16\", \"Topic17\", \"Topic17\", \"Topic17\", \"Topic17\", \"Topic17\", \"Topic17\", \"Topic17\", \"Topic17\", \"Topic17\", \"Topic17\", \"Topic17\", \"Topic17\", \"Topic17\", \"Topic17\", \"Topic17\", \"Topic17\", \"Topic17\", \"Topic17\", \"Topic17\", \"Topic17\", \"Topic17\", \"Topic17\", \"Topic17\", \"Topic17\", \"Topic17\", \"Topic17\", \"Topic17\", \"Topic17\", \"Topic17\", \"Topic17\", \"Topic17\", \"Topic17\", \"Topic17\", \"Topic17\", \"Topic17\", \"Topic17\", \"Topic17\", \"Topic17\", \"Topic17\", \"Topic17\", \"Topic17\", \"Topic17\", \"Topic17\", \"Topic17\", \"Topic17\", \"Topic17\", \"Topic17\", \"Topic17\", \"Topic17\", \"Topic17\", \"Topic17\", \"Topic17\", \"Topic17\", \"Topic17\", \"Topic18\", \"Topic18\", \"Topic18\", \"Topic18\", \"Topic18\", \"Topic18\", \"Topic18\", \"Topic18\", \"Topic18\", \"Topic18\", \"Topic18\", \"Topic18\", \"Topic18\", \"Topic18\", \"Topic18\", \"Topic18\", \"Topic18\", \"Topic18\", \"Topic18\", \"Topic18\", \"Topic18\", \"Topic18\", \"Topic18\", \"Topic18\", \"Topic18\", \"Topic18\", \"Topic18\", \"Topic18\", \"Topic18\", \"Topic18\", \"Topic18\", \"Topic18\", \"Topic18\", \"Topic18\", \"Topic18\", \"Topic18\", \"Topic18\", \"Topic18\", \"Topic18\", \"Topic18\", \"Topic18\", \"Topic18\", \"Topic18\", \"Topic18\", \"Topic18\", \"Topic18\", \"Topic18\", \"Topic18\", \"Topic18\", \"Topic18\", \"Topic18\", \"Topic18\", \"Topic18\", \"Topic19\", \"Topic19\", \"Topic19\", \"Topic19\", \"Topic19\", \"Topic19\", \"Topic19\", \"Topic19\", \"Topic19\", \"Topic19\", \"Topic19\", \"Topic19\", \"Topic19\", \"Topic19\", \"Topic19\", \"Topic19\", \"Topic19\", \"Topic19\", \"Topic19\", \"Topic19\", \"Topic19\", \"Topic19\", \"Topic19\", \"Topic19\", \"Topic19\", \"Topic19\", \"Topic19\", \"Topic19\", \"Topic19\", \"Topic19\", \"Topic19\", \"Topic19\", \"Topic19\", \"Topic19\", \"Topic19\", \"Topic19\", \"Topic19\", \"Topic19\", \"Topic19\", \"Topic19\", \"Topic19\", \"Topic19\", \"Topic19\", \"Topic19\", \"Topic19\", \"Topic19\", \"Topic19\", \"Topic19\", \"Topic19\", \"Topic19\", \"Topic19\", \"Topic19\", \"Topic20\", \"Topic20\", \"Topic20\", \"Topic20\", \"Topic20\", \"Topic20\", \"Topic20\", \"Topic20\", \"Topic20\", \"Topic20\", \"Topic20\", \"Topic20\", \"Topic20\", \"Topic20\", \"Topic20\", \"Topic20\", \"Topic20\", \"Topic20\", \"Topic20\", \"Topic20\", \"Topic20\", \"Topic20\", \"Topic20\", \"Topic20\", \"Topic20\", \"Topic20\", \"Topic20\", \"Topic20\", \"Topic20\", \"Topic20\", \"Topic20\", \"Topic20\", \"Topic20\", \"Topic20\", \"Topic20\", \"Topic20\", \"Topic20\", \"Topic20\", \"Topic20\", \"Topic20\", \"Topic20\", \"Topic20\", \"Topic20\", \"Topic20\", \"Topic20\"], \"logprob\": [30.0, 29.0, 28.0, 27.0, 26.0, 25.0, 24.0, 23.0, 22.0, 21.0, 20.0, 19.0, 18.0, 17.0, 16.0, 15.0, 14.0, 13.0, 12.0, 11.0, 10.0, 9.0, 8.0, 7.0, 6.0, 5.0, 4.0, 3.0, 2.0, 1.0, -6.927999973297119, -7.028600215911865, -7.154699802398682, -7.374199867248535, -7.907299995422363, -7.9446001052856445, -7.9770002365112305, -8.009400367736816, -8.067299842834473, -8.087699890136719, -8.166099548339844, -8.171500205993652, -8.208499908447266, -8.216400146484375, -8.225299835205078, -8.239800453186035, -8.244600296020508, -8.248499870300293, -8.27929973602295, -8.293800354003906, -8.305800437927246, -8.316200256347656, -8.361700057983398, -8.384300231933594, -8.399999618530273, -8.399999618530273, -8.437899589538574, -8.441200256347656, -8.45580005645752, -8.462800025939941, -7.695400238037109, -7.749199867248535, -6.994999885559082, -6.740600109100342, -7.962900161743164, -7.760000228881836, -7.249300003051758, -7.554999828338623, -6.310999870300293, -7.28000020980835, -7.58650016784668, -6.979400157928467, -7.288300037384033, -7.693299770355225, -7.261000156402588, -6.034999847412109, -6.179800033569336, -6.7153000831604, -6.779799938201904, -5.902599811553955, -7.259699821472168, -6.3520002365112305, -6.7307000160217285, -4.010000228881836, -4.627900123596191, -5.875, -4.901000022888184, -6.619900226593018, -5.690199851989746, -5.448599815368652, -6.092700004577637, -5.577000141143799, -5.434899806976318, -5.758699893951416, -4.522299766540527, -5.93720006942749, -6.499599933624268, -5.524400234222412, -4.607399940490723, -5.463900089263916, -5.56790018081665, -5.414100170135498, -5.704699993133545, -5.017099857330322, -5.185200214385986, -5.717700004577637, -5.192800045013428, -5.067500114440918, -5.6234002113342285, -5.316500186920166, -5.43179988861084, -4.9770002365112305, -5.580699920654297, -5.310400009155273, -5.238800048828125, -5.137199878692627, -5.554800033569336, -5.575200080871582, -5.693600177764893, -5.6605000495910645, -6.139999866485596, -6.723700046539307, -6.038099765777588, -7.047100067138672, -7.071199893951416, -7.101600170135498, -7.140999794006348, -7.173600196838379, -7.245800018310547, -7.246699810028076, -5.787700176239014, -7.310200214385986, -7.326700210571289, -7.338500022888184, -7.356200218200684, -7.3815999031066895, -7.439799785614014, -7.518899917602539, -7.047900199890137, -7.577099800109863, -7.578999996185303, -7.5903000831604, -7.597400188446045, -7.623199939727783, -7.632800102233887, -7.6778998374938965, -7.702400207519531, -7.7083001136779785, -7.769499778747559, -7.773499965667725, -7.051000118255615, -6.6128997802734375, -6.215400218963623, -7.117599964141846, -5.705999851226807, -6.131700038909912, -5.811399936676025, -5.957099914550781, -5.482900142669678, -6.001800060272217, -6.20959997177124, -5.6697001457214355, -6.028600215911865, -5.906700134277344, -6.1016998291015625, -6.758299827575684, -6.915999889373779, -5.414999961853027, -5.966300010681152, -6.63700008392334, -6.304900169372559, -5.089700222015381, -6.0578999519348145, -4.956699848175049, -6.545599937438965, -6.139400005340576, -5.683499813079834, -6.232100009918213, -4.548999786376953, -4.899700164794922, -5.1819000244140625, -4.713600158691406, -5.151899814605713, -5.299099922180176, -5.269599914550781, -4.530799865722656, -5.19290018081665, -5.023600101470947, -5.235000133514404, -5.652200222015381, -5.628900051116943, -5.376699924468994, -5.530300140380859, -5.605299949645996, -5.623799800872803, -5.808499813079834, -5.672399997711182, -5.738500118255615, -5.612100124359131, -5.674499988555908, -5.639699935913086, -5.703499794006348, -5.853899955749512, -6.304999828338623, -6.707099914550781, -6.771200180053711, -6.88670015335083, -5.907199859619141, -7.047100067138672, -7.113800048828125, -6.86460018157959, -7.242099761962891, -7.267199993133545, -7.303500175476074, -7.304500102996826, -7.313700199127197, -7.357399940490723, -7.400199890136719, -7.439700126647949, -7.460999965667725, -7.494500160217285, -7.526199817657471, -7.548799991607666, -7.6178998947143555, -7.6305999755859375, -7.644599914550781, -7.674200057983398, -7.7067999839782715, -7.728499889373779, -7.779300212860107, -7.790800094604492, -7.795000076293945, -5.086999893188477, -6.9359002113342285, -6.826900005340576, -6.716300010681152, -7.149600028991699, -6.5279998779296875, -6.014900207519531, -6.451200008392334, -6.230899810791016, -6.815100193023682, -5.787099838256836, -5.5605998039245605, -6.612400054931641, -6.644700050354004, -6.994699954986572, -6.704400062561035, -6.0665998458862305, -6.836999893188477, -6.1458001136779785, -6.179999828338623, -6.579999923706055, -6.066299915313721, -4.582300186157227, -5.286300182342529, -6.149600028991699, -6.394700050354004, -6.211999893188477, -6.115799903869629, -6.445700168609619, -5.112199783325195, -5.9618000984191895, -4.8471999168396, -6.199999809265137, -5.608799934387207, -5.528900146484375, -5.607699871063232, -6.027200222015381, -5.570000171661377, -5.3109002113342285, -6.046500205993652, -5.586299896240234, -5.922900199890137, -5.618000030517578, -5.681600093841553, -5.849800109863281, -5.6057000160217285, -5.747600078582764, -5.904200077056885, -5.83489990234375, -5.905099868774414, -5.9105000495910645, -5.917699813842773, -5.872399806976318, -5.882500171661377, -5.968699932098389, -6.169300079345703, -6.21750020980835, -6.351799964904785, -6.47730016708374, -6.7052998542785645, -6.741300106048584, -6.741799831390381, -6.902900218963623, -6.961400032043457, -6.963399887084961, -7.005300045013428, -7.012800216674805, -7.02839994430542, -7.074399948120117, -7.173999786376953, -7.225800037384033, -7.238800048828125, -7.273600101470947, -7.2941999435424805, -7.298500061035156, -7.308899879455566, -7.322400093078613, -7.349100112915039, -7.413000106811523, -7.391499996185303, -7.515500068664551, -7.532100200653076, -5.009099960327148, -4.939799785614014, -6.279099941253662, -6.242400169372559, -5.508999824523926, -6.65310001373291, -5.495500087738037, -4.656599998474121, -5.7932000160217285, -6.430699825286865, -5.67519998550415, -6.093599796295166, -5.598800182342529, -4.928500175476074, -4.67579984664917, -5.968900203704834, -4.553500175476074, -4.886899948120117, -4.977099895477295, -5.137400150299072, -6.137800216674805, -5.399899959564209, -5.753200054168701, -4.75600004196167, -5.244100093841553, -5.699100017547607, -5.573599815368652, -5.506499767303467, -5.636300086975098, -4.9816999435424805, -5.360000133514404, -5.298999786376953, -5.744100093841553, -5.619800090789795, -5.673900127410889, -5.35099983215332, -5.073800086975098, -5.46019983291626, -5.554999828338623, -5.604100227355957, -5.186699867248535, -5.64900016784668, -5.691199779510498, -5.907199859619141, -5.945700168609619, -6.049699783325195, -6.054999828338623, -6.2230000495910645, -6.30049991607666, -6.315800189971924, -6.339000225067139, -6.647299766540527, -6.712800025939941, -6.713399887084961, -6.71560001373291, -6.716899871826172, -6.783100128173828, -6.7932000160217285, -6.828100204467773, -6.839799880981445, -6.840000152587891, -6.906799793243408, -6.915599822998047, -6.9415998458862305, -6.985400199890137, -6.986499786376953, -7.125800132751465, -7.139100074768066, -7.168499946594238, -7.207300186157227, -6.135499954223633, -6.229400157928467, -6.77810001373291, -5.517499923706055, -4.962600231170654, -6.268799781799316, -6.388599872589111, -5.571899890899658, -6.052800178527832, -5.225299835205078, -5.845600128173828, -5.6921000480651855, -6.145199775695801, -6.447800159454346, -4.870800018310547, -5.764100074768066, -5.873700141906738, -5.671199798583984, -6.150100231170654, -5.297699928283691, -5.609000205993652, -5.61899995803833, -5.9116997718811035, -5.967199802398682, -5.681300163269043, -5.003600120544434, -6.059800148010254, -5.843400001525879, -6.061500072479248, -5.740200042724609, -5.883999824523926, -6.059700012207031, -5.903299808502197, -6.028600215911865, -4.379300117492676, -4.932199954986572, -5.069799900054932, -5.153900146484375, -5.258999824523926, -5.261499881744385, -5.717299938201904, -5.90369987487793, -5.960299968719482, -5.96999979019165, -6.152400016784668, -6.259799957275391, -6.262400150299072, -6.299499988555908, -6.30019998550415, -6.340400218963623, -6.509200096130371, -6.566699981689453, -6.651199817657471, -6.655300140380859, -6.65910005569458, -6.6905999183654785, -6.699100017547607, -6.723899841308594, -6.746500015258789, -6.786600112915039, -6.790500164031982, -6.819399833679199, -6.867199897766113, -6.872499942779541, -4.848899841308594, -5.206699848175049, -5.967199802398682, -5.914899826049805, -5.759099960327148, -6.051700115203857, -6.189599990844727, -5.699699878692627, -5.955399990081787, -5.549900054931641, -5.536799907684326, -5.815299987792969, -5.892399787902832, -5.372399806976318, -5.60129976272583, -5.496099948883057, -5.342299938201904, -5.7779998779296875, -5.983799934387207, -5.954500198364258, -5.617800235748291, -5.3734002113342285, -5.548500061035156, -5.31850004196167, -5.5233001708984375, -5.88070011138916, -5.858799934387207, -5.883600234985352, -4.616199970245361, -4.904200077056885, -5.076399803161621, -5.615799903869629, -5.703800201416016, -5.888800144195557, -5.8958001136779785, -6.271100044250488, -6.280300140380859, -6.307400226593018, -6.421500205993652, -6.611400127410889, -6.6381001472473145, -6.662199974060059, -6.723499774932861, -6.839000225067139, -6.87060022354126, -6.91949987411499, -6.938799858093262, -7.020999908447266, -7.026100158691406, -6.934199810028076, -7.132199764251709, -7.14769983291626, -7.151800155639648, -7.188499927520752, -7.1971001625061035, -7.202099800109863, -7.2494001388549805, -7.264699935913086, -5.474100112915039, -4.888999938964844, -4.476799964904785, -5.781700134277344, -4.882299900054932, -5.730000019073486, -6.2403998374938965, -6.769899845123291, -5.486100196838379, -5.753699779510498, -5.992599964141846, -5.094200134277344, -5.627999782562256, -5.680600166320801, -5.727799892425537, -6.206099987030029, -6.125800132751465, -5.0278000831604, -5.932799816131592, -4.882500171661377, -5.458799839019775, -4.726399898529053, -5.00439977645874, -5.895999908447266, -5.25, -5.176000118255615, -5.907299995422363, -5.407899856567383, -5.553899765014648, -5.841400146484375, -5.799499988555908, -5.764500141143799, -5.853899955749512, -5.852700233459473, -5.673600196838379, -6.014500141143799, -6.018400192260742, -6.256999969482422, -6.340400218963623, -6.709400177001953, -6.781000137329102, -6.821300029754639, -6.8755998611450195, -6.8846001625061035, -6.921199798583984, -6.968200206756592, -6.972599983215332, -7.059000015258789, -7.131400108337402, -7.1458001136779785, -7.1528000831604, -7.154900074005127, -7.190999984741211, -7.22160005569458, -7.270999908447266, -7.271200180053711, -7.280099868774414, -7.293700218200684, -7.297399997711182, -7.30210018157959, -7.303899765014648, -7.3379998207092285, -7.339900016784668, -7.38070011138916, -7.033699989318848, -4.606299877166748, -6.423099994659424, -6.800000190734863, -5.043300151824951, -6.1528000831604, -6.1819000244140625, -6.583000183105469, -5.134500026702881, -5.047699928283691, -5.593599796295166, -5.9028000831604, -5.110300064086914, -4.395599842071533, -5.1915998458862305, -6.456099987030029, -5.0920000076293945, -5.829899787902832, -5.666999816894531, -5.699100017547607, -5.735899925231934, -5.345699787139893, -4.930500030517578, -5.542200088500977, -6.129300117492676, -5.90369987487793, -4.7789998054504395, -5.223700046539307, -5.892499923706055, -5.445700168609619, -5.659900188446045, -5.09689998626709, -5.258399963378906, -5.041600227355957, -5.597899913787842, -5.205699920654297, -5.458799839019775, -5.383299827575684, -5.408999919891357, -5.49970006942749, -5.455599784851074, -5.556600093841553, -5.64139986038208, -4.618299961090088, -4.770199775695801, -4.803899765014648, -5.106400012969971, -5.518400192260742, -5.646500110626221, -5.713699817657471, -5.783899784088135, -5.8078999519348145, -5.837800025939941, -5.8846001625061035, -5.959700107574463, -6.024099826812744, -6.0278000831604, -6.089700222015381, -6.1519999504089355, -6.171999931335449, -6.178999900817871, -6.182499885559082, -6.233699798583984, -6.267199993133545, -6.290500164031982, -6.292200088500977, -6.33050012588501, -6.353099822998047, -6.374899864196777, -6.389900207519531, -6.48360013961792, -6.488500118255615, -6.5065999031066895, -4.349800109863281, -4.085299968719482, -4.024199962615967, -5.447199821472168, -4.895400047302246, -4.4654998779296875, -5.843699932098389, -5.506400108337402, -5.42549991607666, -5.407299995422363, -5.258200168609619, -5.708499908447266, -5.578199863433838, -5.859600067138672, -5.569300174713135, -5.856900215148926, -4.276800155639648, -5.503600120544434, -4.902900218963623, -5.636000156402588, -4.973599910736084, -5.598800182342529, -5.382999897003174, -5.263199806213379, -5.570099830627441, -5.697500228881836, -5.703800201416016, -4.485799789428711, -5.080100059509277, -5.250800132751465, -5.384699821472168, -5.4257001876831055, -5.521900177001953, -5.914899826049805, -5.950500011444092, -6.174900054931641, -6.231400012969971, -6.269199848175049, -6.269400119781494, -6.3225998878479, -6.362800121307373, -6.399700164794922, -6.450500011444092, -6.45389986038208, -6.510200023651123, -6.669899940490723, -6.689899921417236, -6.690199851989746, -6.73960018157959, -6.761499881744385, -6.784900188446045, -6.786200046539307, -6.829100131988525, -6.862299919128418, -6.871399879455566, -6.872600078582764, -6.882500171661377, -5.554900169372559, -6.135300159454346, -3.5969998836517334, -5.57480001449585, -5.8420000076293945, -5.510000228881836, -4.744500160217285, -4.679699897766113, -6.48829984664917, -5.166200160980225, -5.548299789428711, -6.031799793243408, -5.851099967956543, -4.985400199890137, -5.398499965667725, -5.956600189208984, -5.723199844360352, -5.4421000480651855, -5.50439977645874, -5.898399829864502, -5.847799777984619, -5.683700084686279, -5.421299934387207, -5.88070011138916, -5.755300045013428, -5.766200065612793, -5.803500175476074, -4.536099910736084, -4.66349983215332, -5.338600158691406, -5.696100234985352, -5.734499931335449, -6.082300186157227, -6.118199825286865, -6.208799839019775, -6.226900100708008, -6.262199878692627, -6.302700042724609, -6.332900047302246, -6.334700107574463, -6.490099906921387, -6.6458001136779785, -6.698699951171875, -6.705699920654297, -6.739699840545654, -6.794600009918213, -6.880899906158447, -6.975100040435791, -7.010700225830078, -7.032400131225586, -7.084499835968018, -7.13539981842041, -7.164899826049805, -7.178999900817871, -7.191299915313721, -7.2154998779296875, -7.217599868774414, -3.9742000102996826, -5.462900161743164, -5.536499977111816, -5.218800067901611, -5.517099857330322, -6.170400142669678, -5.60099983215332, -4.803100109100342, -5.243100166320801, -6.017000198364258, -5.201399803161621, -4.700799942016602, -4.678999900817871, -6.096099853515625, -5.920100212097168, -5.8734002113342285, -4.353899955749512, -5.189799785614014, -5.324900150299072, -5.273099899291992, -4.803899765014648, -4.874100208282471, -4.942599773406982, -5.271200180053711, -5.344699859619141, -5.7972002029418945, -5.738399982452393, -5.459099769592285, -5.4008002281188965, -5.368500232696533, -5.552800178527832, -5.709099769592285, -5.726200103759766, -3.862499952316284, -4.4959001541137695, -4.558000087738037, -4.787399768829346, -5.154799938201904, -5.7778000831604, -5.924799919128418, -5.957900047302246, -5.992800235748291, -6.152900218963623, -6.23390007019043, -6.29580020904541, -6.373799800872803, -6.396100044250488, -6.4730000495910645, -6.514800071716309, -6.531799793243408, -6.570700168609619, -6.614200115203857, -6.678800106048584, -6.681300163269043, -6.73799991607666, -6.765200138092041, -6.76200008392334, -6.789400100708008, -6.801499843597412, -6.8495001792907715, -6.9182000160217285, -6.993199825286865, -7.011899948120117, -3.7629001140594482, -5.661600112915039, -5.226799964904785, -3.4702000617980957, -5.034800052642822, -6.02269983291626, -5.661499977111816, -6.505499839782715, -4.85290002822876, -5.619900226593018, -5.0395002365112305, -5.516200065612793, -4.379700183868408, -5.851099967956543, -5.5131001472473145, -5.308300018310547, -6.033599853515625, -4.90880012512207, -4.754000186920166, -4.321400165557861, -5.385900020599365, -4.752900123596191, -5.785799980163574, -5.161300182342529, -5.509900093078613, -5.5680999755859375, -5.64300012588501, -5.691100120544434, -5.63040018081665, -5.715099811553955, -4.875500202178955, -4.906599998474121, -5.2322998046875, -5.363699913024902, -3.8032000064849854, -5.549499988555908, -5.7052001953125, -5.718699932098389, -5.747600078582764, -5.920300006866455, -5.947700023651123, -6.118899822235107, -6.241499900817871, -6.269400119781494, -6.2708001136779785, -6.301599979400635, -6.330100059509277, -6.342299938201904, -6.363500118255615, -6.38700008392334, -6.460299968719482, -6.487299919128418, -6.569900035858154, -6.727099895477295, -6.727099895477295, -6.727099895477295, -6.749199867248535, -6.763400077819824, -6.792600154876709, -6.79580020904541, -5.030799865722656, -3.776900053024292, -3.0977001190185547, -5.367800235748291, -5.001500129699707, -5.991000175476074, -4.707499980926514, -4.679800033569336, -4.8846001625061035, -5.179599761962891, -4.352499961853027, -5.131999969482422, -5.267300128936768, -4.740699768066406, -4.210000038146973, -5.872900009155273, -5.296500205993652, -5.480100154876709, -4.658899784088135, -5.249800205230713, -5.235899925231934, -5.159299850463867, -5.287499904632568, -4.970799922943115, -5.156599998474121, -5.1433000564575195, -5.234399795532227, -5.242300033569336, -4.835700035095215, -4.634200096130371, -5.1819000244140625, -5.287799835205078, -5.514599800109863, -5.543300151824951, -5.572800159454346, -5.586100101470947, -5.604300022125244, -5.62529993057251, -5.645699977874756, -5.655399799346924, -5.663300037384033, -5.67519998550415, -5.758600234985352, -5.8028998374938965, -5.807600021362305, -5.850100040435791, -5.884300231933594, -5.908999919891357, -5.2581000328063965, -6.036399841308594, -6.083899974822998, -6.10699987411499, -6.178599834442139, -6.18149995803833, -6.224699974060059, -6.233699798583984, -5.2418999671936035, -6.297699928283691, -6.004899978637695, -4.404399871826172, -4.629700183868408, -5.491099834442139, -5.220699787139893, -5.02869987487793, -4.475399971008301, -5.388999938964844, -5.38730001449585, -4.9721999168396, -5.299200057983398, -5.215400218963623, -5.346399784088135, -5.6946001052856445, -5.541299819946289, -5.526400089263916, -5.906599998474121, -5.989699840545654, -6.038599967956543, -6.099699974060059, -6.108399868011475, -6.115600109100342, -6.127699851989746, -6.142199993133545, -6.146900177001953, -6.149899959564209, -6.197999954223633, -6.219299793243408, -6.219399929046631, -6.233099937438965, -6.281499862670898, -6.281499862670898, -6.284599781036377, -6.297299861907959, -6.30709981918335, -6.4008002281188965, -6.436299800872803, -6.443900108337402, -6.450900077819824, -6.462699890136719, -6.481599807739258, -6.4847002029418945, -6.4878997802734375, -6.495500087738037, -6.503300189971924, -6.427999973297119, -4.302599906921387, -6.179599761962891, -6.124899864196777, -6.255300045013428, -5.621399879455566, -6.048500061035156, -5.935500144958496, -6.298699855804443, -5.899400234222412, -6.0960001945495605, -6.089099884033203, -5.579100131988525, -5.994100093841553, -5.950099945068359, -6.078800201416016, -6.1269001960754395, -6.21999979019165, -6.137700080871582, -4.600900173187256, -4.9842000007629395, -5.1132001876831055, -5.132199764251709, -5.353700160980225, -5.3694000244140625, -5.40369987487793, -5.489299774169922, -5.528299808502197, -5.5355000495910645, -5.583700180053711, -5.588600158691406, -5.782299995422363, -5.839300155639648, -5.842599868774414, -5.91480016708374, -5.92080020904541, -6.03410005569458, -6.053199768066406, -6.064599990844727, -6.139200210571289, -6.1433000564575195, -6.2017998695373535, -6.2581000328063965, -6.26170015335083, -6.423799991607666, -6.44950008392334, -6.484300136566162, -6.487299919128418, -6.52370023727417, -5.770599842071533, -6.3871002197265625, -5.910099983215332, -6.09119987487793, -3.7272000312805176, -4.140500068664551, -4.7916998863220215, -5.21120023727417, -5.285699844360352, -5.309000015258789, -5.386199951171875, -5.672299861907959, -5.860000133514404, -5.904099941253662, -5.981100082397461, -5.983399868011475, -6.048799991607666, -6.204599857330322, -6.289000034332275, -6.336400032043457, -6.402299880981445, -6.417900085449219, -3.2730000019073486, -6.434500217437744, -6.437300205230713, -6.44320011138916, -6.452099800109863, -6.460599899291992, -6.480100154876709, -6.5192999839782715, -5.356900215148926, -6.548099994659424, -6.565499782562256, -6.583499908447266, -5.593900203704834, -5.958499908447266, -5.8445000648498535, -5.599100112915039, -5.526199817657471, -6.234600067138672, -6.297999858856201, -5.000199794769287, -5.385300159454346, -6.194399833679199, -5.5920000076293945, -5.77209997177124, -5.229700088500977, -5.531400203704834, -5.846700191497803, -5.3993000984191895, -5.7617998123168945, -5.964600086212158, -5.613699913024902, -5.866600036621094, -5.749199867248535, -5.787799835205078, -5.858399868011475, -5.832200050354004, -5.192299842834473, -5.38070011138916, -5.531899929046631, -5.757199764251709, -5.853300094604492, -5.8744001388549805, -5.900100231170654, -5.915800094604492, -6.014100074768066, -6.043900012969971, -6.067599773406982, -6.120999813079834, -6.123700141906738, -6.132699966430664, -6.145599842071533, -6.164299964904785, -6.1869001388549805, -6.227099895477295, -6.272200107574463, -6.295400142669678, -6.299900054931641, -6.347799777984619, -6.348100185394287, -6.3643999099731445, -6.396900177001953, -6.41379976272583, -6.421299934387207, -6.43779993057251, -6.452199935913086, -6.459799766540527, -5.939899921417236, -5.180799961090088, -5.102399826049805, -5.798500061035156, -6.147799968719482, -4.731299877166748, -5.122000217437744, -5.657700061798096, -6.043099880218506, -6.008299827575684, -5.643400192260742, -5.9253997802734375, -5.842299938201904, -5.194200038909912, -5.412399768829346, -5.6768999099731445, -5.443699836730957, -5.615600109100342, -5.712500095367432, -5.977200031280518, -5.817299842834473, -5.912600040435791, -5.928100109100342, -4.65369987487793, -5.129499912261963, -5.46560001373291, -5.5625, -5.56879997253418, -5.841599941253662, -5.855000019073486, -5.868899822235107, -6.079400062561035, -6.082200050354004, -6.104300022125244, -6.170899868011475, -6.201300144195557, -6.214900016784668, -6.262899875640869, -6.318600177764893, -6.338600158691406, -6.340400218963623, -6.3769001960754395, -6.396299839019775, -6.408699989318848, -6.4369001388549805, -6.451900005340576, -6.45989990234375, -6.461400032043457, -6.499199867248535, -6.513599872589111, -6.524499893188477, -6.574900150299072, -6.293300151824951, -4.210599899291992, -5.5630998611450195, -5.614200115203857, -4.684599876403809, -4.9421000480651855, -4.162300109863281, -6.147500038146973, -5.958099842071533, -5.014400005340576, -5.598499774932861, -5.230800151824951, -5.3734002113342285, -5.60830020904541, -5.855899810791016, -5.405900001525879, -5.797800064086914, -5.497300148010254, -5.947999954223633, -5.73199987411499, -5.878799915313721, -6.057400226593018, -6.06279993057251, -5.568699836730957, -5.688300132751465, -5.722499847412109, -5.769999980926514, -5.902699947357178, -5.978899955749512, -5.997499942779541, -6.003499984741211, -6.068699836730957, -6.071599960327148, -6.103799819946289, -6.1595001220703125, -6.161799907684326, -6.193699836730957, -6.205999851226807, -6.229599952697754, -6.260700225830078, -6.268099784851074, -6.271599769592285, -6.307300090789795, -6.313300132751465, -6.3231000900268555, -6.327600002288818, -6.363699913024902, -6.379799842834473, -6.381199836730957, -6.384399890899658, -6.399899959564209, -6.412099838256836, -6.412700176239014, -4.707900047302246, -5.607699871063232, -3.8080999851226807, -6.162600040435791, -6.064199924468994, -6.12529993057251, -5.600900173187256, -5.622300148010254, -6.158400058746338, -5.735400199890137, -4.52869987487793, -5.582799911499023, -6.117199897766113, -5.891900062561035, -6.15880012512207], \"loglift\": [30.0, 29.0, 28.0, 27.0, 26.0, 25.0, 24.0, 23.0, 22.0, 21.0, 20.0, 19.0, 18.0, 17.0, 16.0, 15.0, 14.0, 13.0, 12.0, 11.0, 10.0, 9.0, 8.0, 7.0, 6.0, 5.0, 4.0, 3.0, 2.0, 1.0, 1.6857000589370728, 1.6850999593734741, 1.684399962425232, 1.6780999898910522, 1.6776000261306763, 1.6770999431610107, 1.6766999959945679, 1.676200032234192, 1.6754000186920166, 1.6750999689102173, 1.673699975013733, 1.673699975013733, 1.6730999946594238, 1.6729999780654907, 1.6727999448776245, 1.6726000308990479, 1.6725000143051147, 1.6723999977111816, 1.6719000339508057, 1.6715999841690063, 1.6713999509811401, 1.6712000370025635, 1.670300006866455, 1.669800043106079, 1.6694999933242798, 1.6694999933242798, 1.6686999797821045, 1.6685999631881714, 1.6683000326156616, 1.6680999994277954, 1.6668000221252441, 1.6642999649047852, 1.6374000310897827, 1.6258000135421753, 1.6550999879837036, 1.6439000368118286, 1.6030999422073364, 1.6197999715805054, 1.5298000574111938, 1.5983999967575073, 1.6201000213623047, 1.573799967765808, 1.592900037765503, 1.6266000270843506, 1.5887000560760498, 1.4535000324249268, 1.4675999879837036, 1.518399953842163, 1.521299958229065, 1.398900032043457, 1.5612000226974487, 1.424299955368042, 1.4807000160217285, 1.069599986076355, 1.1536999940872192, 1.3497999906539917, 1.1614999771118164, 1.4500000476837158, 1.2828999757766724, 1.2347999811172485, 1.3418999910354614, 1.2339999675750732, 1.195099949836731, 1.2555999755859375, 0.9567000269889832, 1.2767000198364258, 1.4074000120162964, 1.1533000469207764, 0.9088000059127808, 1.1335999965667725, 1.153499960899353, 1.1019999980926514, 1.181399941444397, 0.9613999724388123, 0.9970999956130981, 1.1744999885559082, 0.9643999934196472, 0.9017000198364258, 1.1153000593185425, 0.9763000011444092, 0.9983000159263611, 0.6762999892234802, 1.0218000411987305, 0.8234999775886536, 0.7534000277519226, 0.671500027179718, 0.9273999929428101, 0.7519000172615051, 0.9186999797821045, 0.02669999934732914, 2.1445000171661377, 2.141400098800659, 2.139899969100952, 2.139400005340576, 2.13919997215271, 2.1389000415802, 2.1384999752044678, 2.138200044631958, 2.137500047683716, 2.137500047683716, 2.137399911880493, 2.1368000507354736, 2.1366000175476074, 2.1364998817443848, 2.1363000869750977, 2.135999917984009, 2.135200023651123, 2.134200096130371, 2.133699893951416, 2.1333999633789062, 2.1333000659942627, 2.13319993019104, 2.1331000328063965, 2.132699966430664, 2.132499933242798, 2.1317999362945557, 2.1314001083374023, 2.1312999725341797, 2.130199909210205, 2.130199909210205, 2.1273999214172363, 2.101300001144409, 2.0464999675750732, 2.094899892807007, 1.9714000225067139, 2.0048999786376953, 1.9672000408172607, 1.9809000492095947, 1.9323999881744385, 1.9744999408721924, 1.9966000318527222, 1.9138000011444092, 1.9321000576019287, 1.9120999574661255, 1.9214999675750732, 2.0343000888824463, 2.0601000785827637, 1.7669999599456787, 1.8629000186920166, 1.9982000589370728, 1.9192999601364136, 1.6105999946594238, 1.830299973487854, 1.4783999919891357, 1.9452999830245972, 1.788699984550476, 1.6061999797821045, 1.7954000234603882, 0.967199981212616, 1.0925999879837036, 1.2187999486923218, 0.9397000074386597, 1.0913000106811523, 1.155400037765503, 1.1318000555038452, 0.548799991607666, 0.9643999934196472, 0.6636999845504761, 0.5738000273704529, 1.194599986076355, 1.0986000299453735, 0.5924000144004822, 0.7968999743461609, 0.9211999773979187, 0.8916000127792358, 1.3753999471664429, 0.849399983882904, 1.0045000314712524, 0.36640000343322754, 0.5077999830245972, 0.1420000046491623, 0.522599995136261, 2.422100067138672, 2.420099973678589, 2.4173998832702637, 2.4168999195098877, 2.415800094604492, 2.414900064468384, 2.414099931716919, 2.4133999347686768, 2.412600040435791, 2.4117000102996826, 2.411400079727173, 2.410799980163574, 2.410799980163574, 2.4107000827789307, 2.4100000858306885, 2.4093000888824463, 2.4086999893188477, 2.4082999229431152, 2.4077999591827393, 2.4072000980377197, 2.4068000316619873, 2.405400037765503, 2.4052000045776367, 2.404900074005127, 2.4042999744415283, 2.403599977493286, 2.40310001373291, 2.4019999504089355, 2.401700019836426, 2.401599884033203, 2.2904999256134033, 2.3557000160217285, 2.341599941253662, 2.2994000911712646, 2.3376998901367188, 2.2558999061584473, 2.1728999614715576, 2.212100028991699, 2.1714000701904297, 2.269700050354004, 1.993899941444397, 1.920799970626831, 2.1791999340057373, 2.1789000034332275, 2.270699977874756, 2.164299964904785, 1.8841999769210815, 2.174499988555908, 1.81659996509552, 1.8229999542236328, 2.0376999378204346, 1.7542999982833862, 0.8967000246047974, 1.2961000204086304, 1.7858999967575073, 1.9213999509811401, 1.7896000146865845, 1.6988999843597412, 1.9330999851226807, 0.6693999767303467, 1.4678000211715698, 0.23240000009536743, 1.6806000471115112, 0.968999981880188, 0.8725000023841858, 0.9154999852180481, 1.4049999713897705, 0.7585999965667725, 0.3424000144004822, 1.413599967956543, 0.5958999991416931, 1.1881999969482422, 0.3605000078678131, 0.4523000121116638, 0.8847000002861023, 0.2029999941587448, 0.5795000195503235, 0.7056999802589417, -0.147599995136261, 0.25209999084472656, 0.05869999900460243, -0.40149998664855957, 2.453200101852417, 2.4530999660491943, 2.4528000354766846, 2.451900005340576, 2.45169997215271, 2.450900077819824, 2.4500999450683594, 2.4484000205993652, 2.4481000900268555, 2.4481000900268555, 2.4465999603271484, 2.446000099182129, 2.446000099182129, 2.445499897003174, 2.4453999996185303, 2.445199966430664, 2.444700002670288, 2.4433999061584473, 2.442699909210205, 2.4426000118255615, 2.441999912261963, 2.441699981689453, 2.441699981689453, 2.441499948501587, 2.4412999153137207, 2.4409000873565674, 2.4398999214172363, 2.438999891281128, 2.437999963760376, 2.437700033187866, 2.4019999504089355, 2.3789000511169434, 2.407900094985962, 2.4065001010894775, 2.356800079345703, 2.4061999320983887, 2.337899923324585, 2.2365000247955322, 2.321899890899658, 2.3722000122070312, 2.2873001098632812, 2.326900005340576, 2.2685000896453857, 2.164400100708008, 2.0806000232696533, 2.272700071334839, 2.021899938583374, 2.073499917984009, 2.0311999320983887, 2.0657999515533447, 2.276099920272827, 2.029599905014038, 2.1370999813079834, 1.7568000555038452, 1.9009000062942505, 2.0650999546051025, 2.0023999214172363, 1.9666999578475952, 2.032599925994873, 1.5336999893188477, 1.7508000135421753, 1.3833999633789062, 1.8904999494552612, 1.7103999853134155, 1.7723000049591064, 1.1720999479293823, 0.6134999990463257, 1.1496000289916992, 1.145300030708313, 1.3710999488830566, 2.4800000190734863, 2.478800058364868, 2.4786999225616455, 2.4779999256134033, 2.477799892425537, 2.477400064468384, 2.477400064468384, 2.4765000343322754, 2.476099967956543, 2.4760000705718994, 2.4758999347686768, 2.4737000465393066, 2.4732000827789307, 2.4732000827789307, 2.4732000827789307, 2.4732000827789307, 2.472599983215332, 2.4725000858306885, 2.472100019454956, 2.4719998836517334, 2.4719998836517334, 2.471299886703491, 2.471299886703491, 2.4709999561309814, 2.4704999923706055, 2.4704999923706055, 2.4688000679016113, 2.468600034713745, 2.4681999683380127, 2.4677000045776367, 2.461400032043457, 2.4540998935699463, 2.458199977874756, 2.4128000736236572, 2.3626999855041504, 2.3994998931884766, 2.4049999713897705, 2.2929999828338623, 2.3568999767303467, 2.233599901199341, 2.253499984741211, 2.1837000846862793, 2.2987000942230225, 2.373699903488159, 1.8437999486923218, 2.135499954223633, 2.1577999591827393, 2.034600019454956, 2.205699920654297, 1.7045999765396118, 1.8330999612808228, 1.8106000423431396, 1.9970999956130981, 1.9976999759674072, 1.547700047492981, 0.47530001401901245, 2.086400032043457, 1.6167000532150269, 1.9372999668121338, 0.5884000062942505, 0.902999997138977, 1.920799970626831, 0.2328999936580658, 0.5493000149726868, 2.6338000297546387, 2.632999897003174, 2.6328001022338867, 2.6326000690460205, 2.6324000358581543, 2.6324000358581543, 2.63100004196167, 2.6303000450134277, 2.630000114440918, 2.6298999786376953, 2.628999948501587, 2.6282999515533447, 2.6282999515533447, 2.6280999183654785, 2.6280999183654785, 2.6277999877929688, 2.626499891281128, 2.625999927520752, 2.6252999305725098, 2.625200033187866, 2.625200033187866, 2.6249001026153564, 2.624799966812134, 2.6245999336242676, 2.624300003051758, 2.6238999366760254, 2.6238999366760254, 2.623500108718872, 2.622999906539917, 2.6229000091552734, 2.6187000274658203, 2.601599931716919, 2.610300064086914, 2.608799934387207, 2.350600004196167, 2.4068000316619873, 2.426300048828125, 2.069200038909912, 2.166800022125244, 1.892199993133545, 1.853700041770935, 2.024199962615967, 2.0585999488830566, 1.5579999685287476, 1.753100037574768, 1.6366000175476074, 1.2552000284194946, 1.8011000156402588, 2.105299949645996, 1.9803999662399292, 1.1692999601364136, 0.31380000710487366, 0.5853999853134155, -0.23890000581741333, -0.04430000111460686, 0.7315999865531921, 0.20360000431537628, 0.44510000944137573, 2.914799928665161, 2.914299964904785, 2.913800001144409, 2.9119999408721924, 2.911600112915039, 2.910599946975708, 2.9105000495910645, 2.907900094985962, 2.9077999591827393, 2.907599925994873, 2.9065001010894775, 2.904400110244751, 2.904099941253662, 2.9038000106811523, 2.9030001163482666, 2.901400089263916, 2.900899887084961, 2.900099992752075, 2.8998000621795654, 2.898400068283081, 2.8982999324798584, 2.8980000019073486, 2.8963000774383545, 2.8959999084472656, 2.895900011062622, 2.8951001167297363, 2.89490008354187, 2.8947999477386475, 2.8938000202178955, 2.8935000896453857, 2.8766000270843506, 2.835599899291992, 2.809000015258789, 2.8278000354766846, 2.718400001525879, 2.7674999237060547, 2.800299882888794, 2.854300022125244, 2.6809000968933105, 2.6928000450134277, 2.7181999683380127, 2.544600009918213, 2.5216000080108643, 2.536600112915039, 2.5190999507904053, 2.6707000732421875, 2.6263999938964844, 2.015000104904175, 2.4911999702453613, 1.7999000549316406, 2.1594998836517334, 1.4996000528335571, 1.7101999521255493, 2.413800001144409, 1.2627999782562256, 1.067199945449829, 2.2486000061035156, 1.2019000053405762, 0.9678000211715698, 2.094099998474121, 1.7788000106811523, 1.4046000242233276, 0.9340999722480774, -0.1655000001192093, 3.044100046157837, 3.0418999195098877, 3.0418999195098877, 3.039799928665161, 3.0390000343322754, 3.0343000888824463, 3.0332000255584717, 3.0325000286102295, 3.031599998474121, 3.031399965286255, 3.0306999683380127, 3.0297999382019043, 3.0297000408172607, 3.0280001163482666, 3.026400089263916, 3.026099920272827, 3.025899887084961, 3.0257999897003174, 3.0250000953674316, 3.024199962615967, 3.0230000019073486, 3.0230000019073486, 3.022700071334839, 3.02239990234375, 3.0223000049591064, 3.0220999717712402, 3.0220999717712402, 3.021199941635132, 3.0211000442504883, 3.01990008354187, 3.0078999996185303, 2.867300033569336, 2.9684998989105225, 2.9512999057769775, 2.6321001052856445, 2.8178000450134277, 2.810499906539917, 2.88319993019104, 2.5476999282836914, 2.412899971008301, 2.5211000442504883, 2.617799997329712, 2.340100049972534, 1.9329999685287476, 2.24399995803833, 2.754199981689453, 2.1816999912261963, 2.4605000019073486, 2.3017001152038574, 2.3141000270843506, 2.328700065612793, 1.9479000568389893, 1.5959999561309814, 1.9807000160217285, 2.3775999546051025, 2.1319000720977783, 0.8743000030517578, 1.3587000370025635, 2.041100025177002, 1.4124000072479248, 1.7094999551773071, 0.711899995803833, 0.8777999877929688, 0.4374000132083893, 1.5155999660491943, 0.31049999594688416, 0.9714000225067139, 0.679099977016449, 0.5601000189781189, 0.7930999994277954, 0.5228999853134155, 1.0020999908447266, 1.2488000392913818, 3.154900074005127, 3.154599905014038, 3.1545000076293945, 3.153599977493286, 3.1517999172210693, 3.151099920272827, 3.150700092315674, 3.1503000259399414, 3.150099992752075, 3.149899959564209, 3.1494998931884766, 3.1489999294281006, 3.148400068283081, 3.148400068283081, 3.147900104522705, 3.1473000049591064, 3.1470999717712402, 3.1470000743865967, 3.1470000743865967, 3.146399974822998, 3.1461000442504883, 3.1458001136779785, 3.1458001136779785, 3.145400047302246, 3.1451001167297363, 3.14490008354187, 3.144700050354004, 3.1435000896453857, 3.143399953842163, 3.143199920654297, 3.1384999752044678, 3.1168999671936035, 3.0906999111175537, 3.1140999794006348, 3.037100076675415, 2.964900016784668, 3.099900007247925, 3.0550999641418457, 3.0185000896453857, 3.013700008392334, 2.974400043487549, 3.050100088119507, 3.019700050354004, 3.0787999629974365, 3.0032999515533447, 3.061000108718872, 2.2464001178741455, 2.7818000316619873, 1.7249000072479248, 2.652400016784668, 1.162500023841858, 2.2678000926971436, 1.5664000511169434, 0.7289999723434448, 1.3687000274658203, 2.2690999507904053, 2.2683000564575195, 3.2091000080108643, 3.2074999809265137, 3.206899881362915, 3.2063000202178955, 3.2060999870300293, 3.2056000232696533, 3.203000068664551, 3.202699899673462, 3.2005999088287354, 3.200000047683716, 3.1995999813079834, 3.1995999813079834, 3.198899984359741, 3.1984000205993652, 3.197999954223633, 3.1972999572753906, 3.197200059890747, 3.1963999271392822, 3.1939001083374023, 3.1935999393463135, 3.1935999393463135, 3.192699909210205, 3.1923000812530518, 3.1919000148773193, 3.1919000148773193, 3.190999984741211, 3.1903998851776123, 3.190200090408325, 3.1900999546051025, 3.1898999214172363, 3.188800096511841, 3.1898999214172363, 3.088900089263916, 3.1473000049591064, 3.142400026321411, 3.120699882507324, 2.883699893951416, 2.84660005569458, 3.1301000118255615, 2.7202000617980957, 2.8046998977661133, 2.9605000019073486, 2.863100051879883, 2.456700086593628, 2.233299970626831, 2.748199939727783, 2.4210000038146973, 2.051800012588501, 1.8975000381469727, 2.524399995803833, 2.408099889755249, 1.9551000595092773, 1.101699948310852, 2.2671000957489014, 0.9271000027656555, 0.7465999722480774, -0.11630000174045563, 3.28439998626709, 3.28410005569458, 3.2816998958587646, 3.2795000076293945, 3.2792999744415283, 3.27620005607605, 3.2757999897003174, 3.2748000621795654, 3.274600028991699, 3.274199962615967, 3.273699998855591, 3.2732999324798584, 3.2732999324798584, 3.2709999084472656, 3.268399953842163, 3.2674999237060547, 3.2672998905181885, 3.266700029373169, 3.2655999660491943, 3.263700008392334, 3.2614998817443848, 3.2606000900268555, 3.259999990463257, 3.2585999965667725, 3.2571001052856445, 3.2562999725341797, 3.2558999061584473, 3.255500078201294, 3.254699945449829, 3.254699945449829, 3.221100091934204, 3.2344000339508057, 3.232100009918213, 3.180999994277954, 3.19320011138916, 3.1644999980926514, 3.0794999599456787, 2.9793999195098877, 2.9930999279022217, 3.0971999168395996, 2.948199987411499, 2.819000005722046, 2.7655999660491943, 3.101799964904785, 3.011399984359741, 2.983599901199341, 2.3736000061035156, 2.629699945449829, 2.576200008392334, 2.2107999324798584, 1.7178000211715698, 1.6490000486373901, 1.5118999481201172, 1.9005999565124512, 1.9853999614715576, 2.5703001022338867, 2.357300043106079, 1.5492000579833984, 1.0494999885559082, 0.3188000023365021, 0.8485999703407288, 1.84089994430542, 1.9427000284194946, 3.5796000957489014, 3.578200101852417, 3.5780999660491943, 3.5773000717163086, 3.5755999088287354, 3.5708999633789062, 3.5692999362945557, 3.5689001083374023, 3.5683999061584473, 3.5662999153137207, 3.565000057220459, 3.563999891281128, 3.5625998973846436, 3.5622000694274902, 3.560699939727783, 3.5599000453948975, 3.559499979019165, 3.5587000846862793, 3.5576999187469482, 3.5560998916625977, 3.5560998916625977, 3.5546000003814697, 3.5539000034332275, 3.553800106048584, 3.553299903869629, 3.5529000759124756, 3.5515999794006348, 3.549499988555908, 3.547100067138672, 3.5464000701904297, 3.543299913406372, 3.5248000621795654, 3.4855000972747803, 3.3977999687194824, 3.4321000576019287, 3.4951999187469482, 3.460200071334839, 3.5151000022888184, 3.18530011177063, 3.3027000427246094, 3.0562000274658203, 3.203900098800659, 2.7434000968933105, 3.234499931335449, 3.052999973297119, 2.931999921798706, 3.3090999126434326, 2.6203999519348145, 2.427999973297119, 1.9047000408172607, 2.6435999870300293, 1.9293999671936035, 2.9921000003814697, 2.0078001022338867, 2.351599931716919, 1.3250000476837158, 1.7120000123977661, 1.8924000263214111, 0.8241000175476074, 1.8631999492645264, 3.661600112915039, 3.6614999771118164, 3.6596999168395996, 3.658799886703491, 3.6582999229431152, 3.6572999954223633, 3.6558001041412354, 3.655600070953369, 3.6552999019622803, 3.6533000469207764, 3.652899980545044, 3.6505000591278076, 3.648400068283081, 3.647900104522705, 3.647900104522705, 3.6473000049591064, 3.6468000411987305, 3.6466000080108643, 3.6461000442504883, 3.645699977874756, 3.6440999507904053, 3.6435000896453857, 3.6415998935699463, 3.637500047683716, 3.637500047683716, 3.637500047683716, 3.6368000507354736, 3.636399984359741, 3.6356000900268555, 3.635499954223633, 3.5548999309539795, 3.45989990234375, 3.3524999618530273, 3.5035998821258545, 3.4205000400543213, 3.515000104904175, 3.0671000480651855, 3.038800001144409, 3.0571999549865723, 3.161900043487549, 2.7583999633789062, 3.077899932861328, 3.105799913406372, 2.7255001068115234, 2.3131000995635986, 3.362499952316284, 2.9326000213623047, 3.023699998855591, 2.2969000339508057, 2.776700019836426, 2.738600015640259, 2.4656999111175537, 2.577199935913086, 1.882599949836731, 2.2376999855041504, 1.6411000490188599, 1.910599946975708, 1.2807999849319458, 4.002900123596191, 4.002099990844727, 4.000400066375732, 3.9993999004364014, 3.996999979019165, 3.9965999126434326, 3.996299982070923, 3.9960999488830566, 3.995800018310547, 3.9955999851226807, 3.995300054550171, 3.9951999187469482, 3.994999885559082, 3.9948999881744385, 3.9937000274658203, 3.993000030517578, 3.9928998947143555, 3.9921998977661133, 3.9916000366210938, 3.9911999702453613, 3.9907000064849854, 3.988800048828125, 3.987799882888794, 3.987299919128418, 3.9856998920440674, 3.985599994659424, 3.984600067138672, 3.9844000339508057, 3.9837000370025635, 3.982800006866455, 3.962599992752075, 3.7748000621795654, 3.7778000831604004, 3.827399969100952, 3.676500082015991, 3.5901999473571777, 3.3392999172210693, 3.662899971008301, 3.6540000438690186, 3.2304000854492188, 3.1308000087738037, 2.795599937438965, 2.345099925994873, 3.4716999530792236, 2.1426000595092773, 1.0514999628067017, 4.062699794769287, 4.061100006103516, 4.060100078582764, 4.058700084686279, 4.058499813079834, 4.0584001541137695, 4.05810022354126, 4.057700157165527, 4.057600021362305, 4.057499885559082, 4.056399822235107, 4.055799961090088, 4.055799961090088, 4.055500030517578, 4.054200172424316, 4.054200172424316, 4.054100036621094, 4.053699970245361, 4.053500175476074, 4.0507001876831055, 4.049600124359131, 4.0493998527526855, 4.049099922180176, 4.048799991607666, 4.048099994659424, 4.047999858856201, 4.047900199890137, 4.047699928283691, 4.047399997711182, 4.047100067138672, 3.953200101852417, 3.9802000522613525, 3.924799919128418, 3.960700035095215, 3.637700080871582, 3.808000087738037, 3.638700008392334, 3.9240000247955322, 3.5608999729156494, 3.6303000450134277, 3.52810001373291, 2.6389999389648438, 3.197000026702881, 2.9626998901367188, 3.2857000827789307, 2.5887999534606934, 3.0560998916625977, 0.7091000080108643, 4.2778000831604, 4.274799823760986, 4.273499965667725, 4.2733001708984375, 4.270599842071533, 4.270400047302246, 4.269899845123291, 4.268700122833252, 4.26800012588501, 4.267899990081787, 4.267099857330322, 4.267000198364258, 4.263400077819824, 4.262199878692627, 4.2621002197265625, 4.260499954223633, 4.26039981842041, 4.257599830627441, 4.2571001052856445, 4.256700038909912, 4.254700183868408, 4.254499912261963, 4.252799987792969, 4.250999927520752, 4.250899791717529, 4.245100021362305, 4.244100093841553, 4.242700099945068, 4.242599964141846, 4.241099834442139, 4.128699779510498, 4.1645002365112305, 3.294600009918213, 0.6967999935150146, 4.3420000076293945, 4.34060001373291, 4.336699962615967, 4.332399845123291, 4.331399917602539, 4.331099987030029, 4.329999923706055, 4.324999809265137, 4.321100234985352, 4.320000171661377, 4.3180999755859375, 4.317999839782715, 4.316199779510498, 4.311500072479248, 4.308599948883057, 4.3069000244140625, 4.304299831390381, 4.303699970245361, 4.303599834442139, 4.302999973297119, 4.3028998374938965, 4.302700042724609, 4.302299976348877, 4.3018999099731445, 4.30109977722168, 4.299300193786621, 4.299200057983398, 4.298099994659424, 4.297299861907959, 4.29640007019043, 4.239799976348877, 4.256400108337402, 4.170400142669678, 4.121699810028076, 3.969399929046631, 4.216400146484375, 4.214799880981445, 3.3029000759124756, 3.4756999015808105, 4.103899955749512, 3.5425000190734863, 3.6991000175476074, 3.071899890899658, 3.015199899673462, 3.461400032043457, 2.5517001152038574, 3.234800100326538, 3.5689001083374023, 2.4560999870300293, 3.2337000370025635, 2.491499900817871, 2.73799991607666, 3.135200023651123, 0.6223000288009644, 4.3968000411987305, 4.394100189208984, 4.391600131988525, 4.38700008392334, 4.384699821472168, 4.384200096130371, 4.383500099182129, 4.3831000328063965, 4.38040018081665, 4.379499912261963, 4.378799915313721, 4.377099990844727, 4.376999855041504, 4.376699924468994, 4.376299858093262, 4.375699996948242, 4.374899864196777, 4.373499870300293, 4.371799945831299, 4.370999813079834, 4.370800018310547, 4.368899822235107, 4.368899822235107, 4.368199825286865, 4.3668999671936035, 4.366199970245361, 4.365799903869629, 4.365099906921387, 4.364500045776367, 4.364200115203857, 4.355899810791016, 4.270899772644043, 4.111100196838379, 4.242800235748291, 4.301199913024902, 3.63919997215271, 3.7923998832702637, 3.9339001178741455, 4.161600112915039, 4.121099948883057, 3.590100049972534, 3.928100109100342, 3.6826999187469482, 2.2479000091552734, 2.61080002784729, 3.128499984741211, 2.1354000568389893, 2.22760009765625, 2.2971999645233154, 3.2200000286102295, 1.8859000205993652, 2.6874001026153564, 2.640899896621704, 4.518700122833252, 4.513500213623047, 4.5081000328063965, 4.506100177764893, 4.50600004196167, 4.4994001388549805, 4.499000072479248, 4.498600006103516, 4.492000102996826, 4.4918999671936035, 4.491099834442139, 4.488699913024902, 4.487500190734863, 4.4868998527526855, 4.485000133514404, 4.482600212097168, 4.4816999435424805, 4.4816999435424805, 4.480000019073486, 4.479100227355957, 4.478499889373779, 4.477200031280518, 4.476399898529053, 4.47599983215332, 4.475900173187256, 4.473999977111816, 4.473299980163574, 4.472700119018555, 4.469900131225586, 4.468400001525879, 4.393400192260742, 4.428500175476074, 4.419000148773193, 4.341899871826172, 4.139599800109863, 3.9323999881744385, 4.386199951171875, 4.307700157165527, 3.949399948120117, 4.047999858856201, 3.7149999141693115, 3.7474000453948975, 3.276599884033203, 3.607300043106079, 1.9147000312805176, 2.9138998985290527, 1.6744999885559082, 3.276599884033203, 2.0518999099731445, 2.8020999431610107, 3.253200054168701, 1.2674000263214111, 4.634300231933594, 4.63129997253418, 4.630300045013428, 4.629000186920166, 4.624800205230713, 4.622200012207031, 4.621500015258789, 4.621300220489502, 4.618800163269043, 4.61870002746582, 4.617400169372559, 4.615099906921387, 4.614999771118164, 4.61359977722168, 4.61299991607666, 4.611999988555908, 4.610499858856201, 4.610199928283691, 4.610000133514404, 4.60830020904541, 4.607999801635742, 4.607500076293945, 4.6072998046875, 4.605400085449219, 4.604599952697754, 4.604499816894531, 4.604400157928467, 4.603499889373779, 4.60290002822876, 4.602799892425537, 4.532899856567383, 4.566800117492676, 3.896199941635132, 4.532899856567383, 4.476600170135498, 4.442999839782715, 4.0416998863220215, 4.009500026702881, 4.443999767303467, 3.9063000679016113, 2.31820011138916, 3.5113000869750977, 4.348299980163574, 3.1298000812530518, 3.2602999210357666]}, \"token.table\": {\"Topic\": [3, 1, 4, 1, 2, 3, 4, 7, 11, 12, 19, 1, 5, 6, 17, 12, 1, 3, 4, 5, 6, 10, 12, 13, 18, 19, 3, 5, 7, 10, 1, 3, 6, 12, 9, 17, 5, 7, 5, 7, 1, 3, 6, 17, 11, 4, 7, 13, 1, 1, 1, 1, 2, 3, 4, 5, 6, 7, 8, 9, 10, 11, 12, 13, 14, 12, 19, 3, 5, 1, 2, 3, 5, 7, 9, 10, 10, 1, 3, 4, 5, 6, 8, 11, 14, 4, 4, 7, 13, 4, 1, 5, 6, 14, 1, 2, 3, 4, 6, 7, 8, 9, 11, 12, 14, 8, 2, 4, 2, 4, 7, 10, 11, 2, 3, 5, 7, 9, 10, 13, 16, 17, 4, 5, 7, 10, 13, 17, 5, 15, 1, 3, 4, 5, 5, 8, 5, 8, 8, 2, 3, 5, 4, 5, 17, 18, 1, 2, 3, 4, 5, 6, 7, 8, 9, 11, 13, 15, 18, 1, 1, 15, 16, 5, 1, 1, 10, 10, 10, 16, 1, 15, 5, 7, 17, 8, 4, 5, 6, 13, 15, 2, 5, 18, 2, 18, 1, 2, 3, 4, 7, 9, 10, 11, 12, 14, 5, 8, 5, 8, 5, 5, 1, 2, 3, 4, 5, 6, 7, 8, 9, 11, 12, 13, 15, 17, 18, 8, 1, 7, 14, 11, 3, 9, 1, 2, 3, 4, 5, 6, 7, 10, 11, 20, 13, 5, 2, 2, 3, 4, 7, 8, 14, 18, 17, 1, 1, 6, 1, 6, 1, 2, 3, 6, 9, 1, 2, 3, 4, 6, 8, 9, 13, 14, 1, 2, 3, 4, 8, 9, 16, 6, 6, 2, 8, 18, 3, 10, 4, 15, 12, 2, 4, 7, 2, 3, 4, 5, 6, 7, 8, 9, 10, 11, 15, 17, 18, 19, 20, 2, 3, 7, 8, 12, 5, 6, 8, 14, 17, 13, 8, 1, 2, 4, 5, 6, 10, 11, 14, 15, 1, 2, 12, 5, 8, 9, 2, 8, 12, 19, 2, 2, 12, 2, 19, 19, 3, 4, 8, 9, 10, 13, 20, 9, 19, 2, 3, 10, 1, 2, 3, 4, 7, 10, 11, 12, 13, 1, 3, 4, 5, 7, 8, 10, 11, 15, 19, 17, 19, 9, 15, 3, 7, 1, 2, 3, 5, 7, 10, 1, 2, 3, 16, 16, 4, 7, 13, 7, 12, 2, 11, 12, 14, 9, 18, 11, 1, 2, 3, 5, 6, 8, 11, 12, 18, 10, 14, 14, 7, 18, 8, 2, 12, 2, 4, 7, 12, 17, 1, 2, 3, 6, 11, 2, 3, 8, 15, 6, 1, 2, 3, 5, 6, 11, 14, 19, 14, 5, 8, 9, 10, 14, 17, 13, 3, 4, 14, 1, 2, 3, 4, 5, 9, 11, 12, 13, 14, 19, 5, 8, 9, 18, 3, 5, 6, 8, 11, 2, 7, 2, 7, 12, 6, 5, 6, 20, 6, 6, 14, 6, 16, 16, 12, 7, 7, 4, 2, 15, 19, 2, 1, 3, 5, 7, 10, 5, 17, 1, 2, 5, 6, 7, 15, 17, 8, 4, 11, 4, 11, 10, 14, 3, 5, 7, 7, 8, 8, 1, 4, 5, 7, 11, 13, 17, 19, 14, 2, 4, 11, 14, 17, 11, 13, 3, 4, 5, 10, 18, 1, 2, 3, 4, 5, 6, 7, 8, 9, 3, 2, 7, 11, 12, 3, 5, 6, 7, 10, 14, 13, 19, 4, 11, 2, 4, 7, 10, 12, 1, 2, 3, 4, 5, 8, 10, 11, 14, 7, 19, 19, 2, 4, 6, 11, 12, 15, 19, 2, 3, 4, 5, 6, 7, 11, 12, 14, 19, 12, 3, 5, 2, 3, 4, 7, 8, 9, 10, 18, 19, 9, 11, 1, 3, 5, 12, 13, 1, 4, 11, 1, 2, 3, 4, 5, 7, 10, 11, 12, 14, 12, 12, 1, 3, 6, 15, 18, 8, 10, 11, 15, 1, 2, 3, 4, 5, 6, 7, 8, 9, 11, 12, 14, 1, 6, 9, 13, 15, 17, 18, 1, 2, 3, 4, 5, 6, 7, 8, 9, 10, 11, 9, 20, 1, 2, 3, 4, 5, 10, 17, 3, 5, 7, 5, 7, 5, 8, 7, 19, 7, 7, 7, 19, 14, 3, 1, 2, 3, 4, 6, 7, 8, 10, 11, 12, 13, 14, 19, 11, 13, 13, 2, 5, 12, 20, 20, 4, 7, 10, 11, 12, 4, 8, 3, 7, 7, 18, 20, 1, 5, 9, 10, 1, 3, 6, 11, 12, 13, 10, 7, 3, 15, 12, 12, 9, 2, 4, 7, 12, 9, 11, 2, 14, 4, 7, 11, 13, 1, 2, 6, 15, 14, 14, 2, 4, 7, 12, 2, 12, 2, 4, 11, 6, 5, 7, 9, 10, 16, 3, 8, 14, 20, 6, 3, 1, 2, 7, 8, 1, 2, 5, 6, 9, 4, 18, 20, 7, 1, 2, 3, 4, 6, 11, 18, 2, 8, 12, 2, 5, 7, 8, 12, 20, 2, 4, 5, 12, 12, 1, 3, 14, 15, 18, 1, 3, 6, 10, 15, 13, 3, 5, 7, 3, 1, 2, 4, 7, 9, 11, 12, 15, 3, 6, 10, 13, 15, 4, 12, 3, 2, 10, 12, 19, 15, 2, 4, 6, 10, 12, 13, 20, 18, 7, 7, 7, 3, 5, 7, 2, 1, 2, 3, 6, 7, 8, 9, 11, 4, 9, 13, 16, 1, 6, 11, 12, 13, 15, 7, 12, 9, 6, 19, 4, 1, 2, 3, 4, 5, 6, 7, 8, 9, 11, 12, 1, 3, 6, 11, 17, 18, 2, 1, 2, 4, 6, 7, 13, 1, 2, 3, 6, 10, 19, 4, 7, 11, 13, 2, 4, 6, 7, 12, 6, 20, 1, 2, 3, 5, 6, 8, 15, 18, 18, 6, 9, 12, 6, 8, 1, 4, 5, 10, 11, 13, 15, 16, 4, 5, 7, 11, 13, 4, 4, 5, 7, 11, 12, 13, 15, 14, 5, 5, 1, 2, 3, 4, 5, 6, 7, 8, 9, 10, 11, 12, 13, 14, 18, 19, 5, 10, 2, 5, 8, 12, 12, 19, 15, 9, 4, 4, 1, 3, 5, 6, 14, 14, 18, 4, 12, 13, 4, 12, 2, 19, 13, 11, 3, 5, 3, 7, 10, 1, 2, 3, 18, 1, 2, 9, 13, 2, 9, 17, 2, 7, 13, 3, 3, 2, 5, 16, 17, 19, 15, 12, 16, 16, 15, 1, 3, 7, 9, 1, 2, 3, 5, 7, 8, 9, 11, 1, 2, 3, 4, 6, 8, 9, 10, 11, 14, 14, 6, 1, 3, 5, 7, 6, 20, 11, 2, 4, 11, 13, 5, 5, 6, 1, 2, 5, 7, 8, 10, 18, 19, 3, 19, 19, 3, 4, 5, 6, 7, 10, 11, 13, 12, 1, 3, 5, 17, 19, 17, 19, 5, 11, 1, 2, 3, 5, 6, 8, 1, 2, 3, 6, 8, 9, 12, 4, 15, 9, 20, 1, 2, 3, 5, 6, 8, 9, 12, 15, 18, 18, 3, 10, 14, 1, 2, 3, 4, 5, 6, 7, 8, 6, 2, 7, 17, 1, 2, 3, 6, 9, 7, 8, 18, 1, 2, 3, 4, 5, 6, 7, 8, 11, 12, 13, 14, 17, 5, 10, 1, 3, 5, 6, 10, 18, 9, 15, 6, 1, 2, 3, 4, 5, 7, 8, 9, 11, 5, 3, 2, 2, 3, 5, 7, 8, 19, 3, 20, 10, 12, 20, 15, 11, 9, 17, 4, 1, 6, 1, 8, 12, 4, 6, 11, 13, 18, 4, 7, 10, 12, 11, 1, 1, 3, 1, 2, 3, 4, 5, 6, 7, 9, 10, 11, 12, 13, 17, 3, 1, 2, 3, 4, 7, 14, 14, 14, 2, 4, 12, 13, 14, 1, 2, 3, 4, 5, 7, 10, 11, 12, 13, 14, 15, 7, 5, 7, 8, 2, 4, 11, 13, 3, 4, 5, 7, 10, 13, 14, 19, 2, 3, 14, 1, 4, 11, 12, 17, 3, 4, 6, 10, 12, 13, 15, 17, 3, 10, 13, 17, 6, 15, 3, 5, 9, 6, 17, 17, 17, 18, 1, 20, 9, 20, 6, 9, 5, 6, 17, 5, 6, 3, 4, 1, 2, 4, 6, 7, 9, 10, 13, 14, 15, 18, 19, 5, 9, 11, 17, 4, 13, 16, 6, 1, 13, 15, 12, 12, 5, 8, 2, 11, 7, 11, 14, 5, 6, 8, 17, 6, 9, 15, 1, 2, 3, 4, 6, 7, 8, 11, 12, 5, 2, 3, 5, 6, 10, 17, 13, 13, 1, 2, 3, 4, 5, 6, 7, 8, 9, 10, 11, 12, 13, 17, 1, 2, 3, 4, 5, 6, 7, 8, 11, 13, 15, 3, 10, 8, 10, 10, 4, 9, 4, 5, 9, 18, 17, 17, 20, 1, 2, 3, 5, 6, 8, 9, 10, 12, 17, 9, 20, 18, 1, 13, 4, 16, 1, 2, 3, 5, 6, 8, 10, 1, 2, 3, 4, 5, 6, 7, 8, 9, 11, 15, 1, 2, 3, 4, 5, 6, 7, 8, 9, 11, 12, 13, 15, 17, 1, 2, 3, 4, 5, 7, 9, 11, 12, 13, 18, 17, 20, 3, 13, 1, 2, 3, 4, 5, 6, 8, 9, 10, 11, 12, 13, 4, 2, 5, 8, 18, 20, 1, 2, 3, 4, 6, 8, 9, 15, 6, 6, 9, 10, 1, 2, 3, 6, 17, 18, 10, 18, 8, 20, 1, 2, 3, 4, 5, 6, 7, 8, 9, 10, 13, 1, 2, 4, 7, 9, 10, 12, 4, 9, 11, 1, 2, 3, 4, 5, 7, 10, 11, 12, 14, 17, 19, 13, 1, 2, 3, 4, 5, 6, 7, 8, 9, 11, 12, 13, 8, 2, 4, 9, 10, 11, 17, 7, 1, 2, 3, 4, 5, 6, 7, 8, 9, 11, 8, 8, 10, 5, 6, 17, 12, 17, 16, 1, 3, 5, 10, 14, 3, 5, 14, 3, 6, 7, 8, 10, 2, 3, 11, 12, 4, 11, 13, 16, 1, 6, 8, 2, 8, 15, 19, 20, 8, 1, 2, 3, 4, 5, 6, 7, 9, 11, 12, 15, 2, 5, 8, 3, 5, 7, 5, 20, 12, 9, 10, 18, 6, 10, 10, 1, 8, 13, 2, 4, 7, 11, 12, 13, 2, 13, 10, 18, 1, 2, 3, 8, 9, 2, 4, 2, 4, 9, 1, 10, 1, 6, 1, 9, 2, 12, 11, 1, 2, 9, 19, 2, 8, 18, 2, 11, 12, 1, 2, 3, 4, 6, 7, 8, 9, 11, 14, 20, 3, 9, 20, 1, 2, 3, 4, 5, 6, 7, 8, 12, 13, 17, 18, 19, 15, 3, 1, 2, 3, 4, 5, 6, 7, 8, 9, 10, 11, 12, 13, 10, 3, 4, 5, 7, 9, 10, 5, 7, 13, 16, 20, 5, 6, 5, 19, 1, 2, 4, 5, 7, 8, 9, 10, 15, 17, 15, 1, 2, 3, 4, 5, 6, 7, 8, 9, 11, 12, 13, 14, 1, 19, 1, 2, 3, 5, 6, 8, 9, 15, 13, 10, 14, 20, 3, 5, 6, 8, 9, 10, 7, 19, 16, 1, 5, 7, 9, 8, 13, 1, 2, 3, 4, 5, 6, 7, 8, 9, 11, 12, 17, 20, 20, 1, 8, 12, 1, 2, 3, 5, 6, 8, 11, 14, 18, 16, 16, 16, 2, 3, 5, 10, 13, 15, 4, 13, 1, 2, 3, 4, 5, 6, 7, 8, 9, 10, 12, 13, 15, 13, 1, 3, 10, 15, 10, 5, 17, 17, 1, 2, 3, 4, 6, 9, 10, 11, 13, 1, 2, 3, 4, 5, 6, 7, 8, 11, 12, 13, 18, 11, 1, 2, 3, 5, 6, 10, 10, 10, 20, 5, 3, 2, 2, 2, 4, 7, 11, 13, 10, 2, 3, 4, 1, 14, 12, 5, 17, 17, 2, 7, 10, 13, 19, 18, 18, 7, 1, 2, 3, 4, 5, 6, 7, 8, 9, 11, 12, 13, 15, 16, 19, 20, 6, 4, 11, 19, 11, 14, 14, 2, 3, 4, 5, 6, 9, 10, 11, 13, 15, 18, 10, 3, 5, 6, 17, 9, 1, 2, 3, 4, 5, 6, 7, 8, 1, 2, 3, 4, 6, 7, 8, 1, 2, 3, 5, 6, 7, 9, 10, 13, 20, 17, 15, 11, 9, 7, 2, 4, 7, 8, 10, 15, 7, 1, 2, 4, 6, 8, 15, 18, 17, 9, 9, 10, 14, 3, 9, 10, 11, 7, 10, 5, 8, 15, 1, 15, 8, 10, 17, 18, 1, 2, 3, 7, 9, 3, 5, 8, 9, 2, 9, 9, 9, 9, 1, 2, 3, 4, 6, 10, 11, 12, 13, 8, 16, 13, 16, 1, 2, 3, 4, 5, 6, 7, 8, 9, 10, 11, 11, 4, 1, 4, 6, 9, 10, 12, 3, 5, 7, 8, 1, 3, 5, 10, 6, 2, 4, 12, 13, 1, 1, 2, 3, 5, 6, 7, 9, 10, 12, 15, 20, 2, 18, 3, 5, 7, 3, 3, 1, 2, 3, 4, 5, 6, 8, 10, 4, 14, 15, 2, 4, 4, 4, 5, 7, 1, 3, 5, 7, 11, 1, 2, 3, 6, 7, 11, 12, 14, 17, 1, 2, 3, 4, 11, 12, 14, 17, 3, 5, 15, 18, 4, 3, 4, 7, 10, 11, 12, 13, 3, 4, 7, 10, 11, 12, 13, 2, 3, 4, 7, 10, 15, 19, 10, 3, 5, 7, 3, 19, 15, 18, 1, 3, 4, 5, 7, 10, 11, 13, 15, 15, 9, 2, 3, 7, 8, 9, 17, 2, 8, 1, 2, 3, 4, 6, 7, 11, 3, 5, 15, 7, 12, 1, 2, 3, 5, 7, 8, 9, 10, 4, 10, 2, 3, 6, 20, 9, 1, 2, 3, 5, 10, 12, 1, 16, 1, 1, 2, 3, 4, 6, 7, 8, 11, 12, 13, 1, 2, 3, 6, 8, 9, 11, 1, 2, 3, 4, 6, 8, 11, 1, 3, 6, 12, 18, 19, 11, 1, 3, 5, 6, 6, 1, 5, 6, 1, 3, 13, 5, 3, 1, 4, 5, 7, 10, 12, 13, 4, 5, 7, 1, 3, 4, 5, 6, 10, 14, 4, 15, 18, 4, 10, 11, 15, 3, 11, 6, 7, 1, 2, 3, 5, 6, 7, 8, 9, 10, 11, 13, 17, 6, 18, 20, 3, 8, 1, 2, 3, 5, 6, 7, 8, 9, 12, 13, 17, 18, 1, 3, 5, 7, 13, 4, 16, 13, 20, 18, 12, 5, 8, 10, 14, 17, 8, 2, 3, 6, 7, 8, 10, 12, 18, 20, 1, 2, 4, 5, 7, 8, 9, 18, 7, 12, 1, 1, 3, 4, 6, 9, 13, 7, 1, 2, 4, 8, 11, 12, 17, 1, 2, 4, 9, 11, 12, 3, 5, 8, 9, 6, 1, 2, 3, 5, 7, 13, 19, 1, 2, 3, 5, 6, 8, 9, 14, 2, 4, 5, 10, 18, 12, 9, 20, 6, 10, 10, 9, 11, 20, 1, 2, 3, 6, 8, 11, 7, 11, 18, 1, 2, 3, 4, 5, 8, 10, 12, 13, 14, 17, 18, 1, 10, 12, 15, 9, 9, 20, 9, 2, 4, 11, 20, 6, 12, 15, 15, 19, 9, 8, 1, 2, 3, 5, 6, 7, 8, 9, 11, 12, 5, 6, 7, 3, 5, 7, 8, 1, 2, 4, 5, 6, 10, 11, 12, 13, 6, 5, 7, 5, 7, 1, 2, 3, 6, 11, 20, 1, 2, 3, 5, 7, 9, 10, 1, 2, 5, 2, 3, 5, 18, 16, 18, 19, 3, 1, 2, 3, 4, 5, 6, 7, 9, 10, 12, 13, 3, 7, 12, 1, 2, 3, 5, 6, 3, 2, 3, 4, 5, 7, 9, 10, 12, 4, 11, 12, 3, 18, 8, 14, 20, 4, 9, 18, 19, 2, 11, 13, 17, 2, 4, 10, 5, 8, 9, 18, 20, 8, 10, 7, 2, 1, 2, 3, 4, 5, 6, 7, 8, 9, 11, 13, 14, 8, 3, 4, 10, 1, 3, 1, 2, 3, 4, 7, 11, 12, 13, 14, 17, 18, 20, 1, 12, 18, 2, 3, 14, 1, 2, 4, 10, 11, 12, 7, 10, 5, 8, 17, 1, 2, 3, 4, 6, 8, 1, 2, 3, 4, 6, 8, 11, 13, 2, 13, 2, 3, 4, 5, 6, 7, 8, 10, 14, 1, 2, 6, 8, 5, 1, 4, 10, 11, 12, 13, 10, 2, 7, 12, 17, 6, 7, 18, 12, 9, 1, 2, 3, 5, 8, 9, 11, 1, 2, 3, 4, 5, 6, 7, 10, 11, 15, 2, 3, 5, 6, 10, 12, 3, 5, 7, 8, 10, 15, 13, 13, 2, 3, 5, 6, 7, 13, 15, 2, 20, 1, 2, 3, 4, 5, 6, 8, 9, 11, 3, 5, 7, 13, 11, 19, 1, 2, 3, 1, 2, 3, 4, 5, 6, 7, 9, 10, 11, 12, 13, 19, 4, 19, 8, 4, 1, 2, 3, 4, 5, 11, 12, 1, 4, 10, 12, 15, 18, 19, 5, 14, 1, 2, 7, 20, 11, 2, 20, 14, 14, 5, 17, 17, 1, 2, 3, 4, 7, 10, 11, 12, 13, 14, 1, 2, 3, 4, 7, 10, 11, 12, 15, 1, 2, 3, 5, 6, 7, 8, 9, 11, 2, 4, 7, 12, 3, 16, 16, 5, 7, 9, 10, 9, 4, 7, 10, 7, 10, 2, 15, 19, 1, 3, 4, 5, 11, 17, 6, 2, 4, 6, 9, 11, 12, 15, 1, 7, 10, 15, 14, 1, 2, 3, 6, 8, 10, 1, 2, 3, 4, 6, 8, 11, 1, 2, 3, 6, 8, 9, 1, 2, 3, 4, 5, 6, 7, 8, 9, 10, 12, 14, 15, 4, 18, 1, 2, 3, 4, 5, 6, 7, 8, 9, 10, 11, 12, 13, 14, 2, 2, 2, 10, 4, 5, 6, 9, 10, 11, 13, 13, 5, 1, 2, 3, 5, 6, 7, 8, 1, 2, 3, 5, 6, 8, 9, 4, 11, 11, 4, 9, 19, 3, 17, 2, 5, 7, 10, 12, 14, 19, 3, 5, 14, 5, 17, 1, 2, 3, 4, 6, 7, 9, 11, 13, 1, 3, 6, 2, 5, 5, 5, 5, 20, 8, 1, 19, 3, 5, 10, 13, 3, 4, 5, 9, 10, 12, 13, 15, 18, 2, 4, 11, 12, 1, 2, 3, 4, 5, 6, 7, 8, 11, 12, 13, 15, 2, 4, 7, 11, 12, 13, 4, 7, 10, 12, 13, 1, 2, 3, 4, 5, 7, 11, 12, 1, 4, 12, 13, 15, 13, 20, 4, 10, 1, 1, 2, 4, 6, 7, 11, 12, 15, 5, 2, 4, 7, 8, 2, 4, 11, 1, 2, 19, 2, 4, 5, 8, 10, 11, 13, 15, 18, 6, 8, 18, 1, 2, 3, 4, 5, 6, 8, 11, 18, 1, 2, 3, 6, 15, 18, 5, 10, 5, 9, 17, 3, 1, 2, 3, 4, 5, 6, 7, 8, 9, 10, 2, 3, 5, 6, 8, 3, 4, 5, 6, 9, 10, 17, 2, 3, 4, 5, 6, 7, 9, 10, 18, 19, 13, 11, 11, 4, 17, 19, 8, 11, 12, 2, 4, 8, 11, 12, 13, 9, 2, 19, 2, 15, 19, 7, 19, 17, 15, 16, 3, 6, 8, 14, 2, 3, 11, 14, 1, 2, 3, 4, 6, 8, 10, 1, 2, 3, 4, 6, 7, 8, 10, 11, 12, 14, 15, 18, 4, 4, 1, 2, 3, 4, 5, 6, 7, 9, 10, 11, 6, 1, 2, 3, 4, 5, 6, 7, 8, 9, 11, 13, 17, 1, 2, 3, 6, 7, 11, 16, 16, 11, 13, 11, 11, 11, 13, 14, 1, 2, 3, 5, 8, 9, 10, 13, 1, 2, 3, 5, 6, 7, 8, 9, 10, 14, 17, 14, 17, 18, 3, 17, 5, 9, 12, 13, 17, 16, 16], \"Freq\": [0.9830405712127686, 0.9968854188919067, 0.9883586764335632, 0.004094899632036686, 0.08394544571638107, 0.0368540994822979, 0.36035117506980896, 0.3214496374130249, 0.014332149177789688, 0.18017558753490448, 0.94096839427948, 0.019413627684116364, 0.09706813842058182, 0.4270997941493988, 0.44651344418525696, 0.9860613346099854, 0.007057496812194586, 0.05998872220516205, 0.6528184413909912, 0.031758736819028854, 0.033523108810186386, 0.051166851073503494, 0.0917474552989006, 0.07233934104442596, 0.9781227707862854, 0.9780263900756836, 0.5283791422843933, 0.018759021535515785, 0.44396352767944336, 0.006253007333725691, 0.9150515794754028, 0.04392247647047043, 0.03660206124186516, 0.9740094542503357, 0.14046898484230042, 0.8428139090538025, 0.08038926124572754, 0.9129922986030579, 0.17791301012039185, 0.8196706771850586, 0.8007768392562866, 0.06362336128950119, 0.12944063544273376, 0.0065817274153232574, 0.9680303335189819, 0.19550547003746033, 0.7893994450569153, 0.011066347360610962, 0.9937090277671814, 0.9795828461647034, 0.9790376424789429, 0.18941114842891693, 0.22679899632930756, 0.07632064074277878, 0.1582031100988388, 0.0543823204934597, 0.09825896471738815, 0.0457305870950222, 0.008651732467114925, 0.01853942684829235, 0.0358428917825222, 0.05129241570830345, 0.021938322111964226, 0.00030899044941179454, 0.014213561080396175, 0.06861580163240433, 0.9148773550987244, 0.01701083965599537, 0.9809584021568298, 0.020011648535728455, 0.007276962976902723, 0.36384814977645874, 0.42024460434913635, 0.06185418367385864, 0.08732355386018753, 0.03820405527949333, 0.9816262125968933, 0.06419950723648071, 0.22699110209941864, 0.09859209507703781, 0.21094122529029846, 0.16279159486293793, 0.038978271186351776, 0.0022928393445909023, 0.1903056651353836, 0.9918235540390015, 0.8878951668739319, 0.04756581038236618, 0.06342107802629471, 0.9946187734603882, 0.25317466259002686, 0.614852786064148, 0.033153824508190155, 0.09343350678682327, 0.29958850145339966, 0.5117154121398926, 0.009790473617613316, 0.07375489920377731, 0.026760628446936607, 0.0013053964357823133, 0.026760628446936607, 0.0006526982178911567, 0.046994272619485855, 0.0006526982178911567, 0.0013053964357823133, 0.9916355013847351, 0.8354852795600891, 0.16259443759918213, 0.030137324705719948, 0.08538908511400223, 0.13059507310390472, 0.015068662352859974, 0.7358530163764954, 0.009408877231180668, 0.13548783957958221, 0.3123747408390045, 0.0997340977191925, 0.12419718503952026, 0.3142565190792084, 0.0018817754462361336, 0.003763550892472267, 0.9948340058326721, 0.8306897282600403, 0.05166969448328018, 0.019872959703207016, 0.0476951040327549, 0.0476951040327549, 0.9642403721809387, 0.9779669046401978, 0.010746888816356659, 0.9834885597229004, 0.008940805681049824, 0.9894346594810486, 0.9956342577934265, 0.8871580362319946, 0.11129222810268402, 0.779543936252594, 0.21805424988269806, 0.9722010493278503, 0.01880824938416481, 0.09404124319553375, 0.8839877247810364, 0.1021755114197731, 0.8320006132125854, 0.04865500330924988, 0.00973100122064352, 0.29293593764305115, 0.3009069859981537, 0.05579731985926628, 0.028895040974020958, 0.01195656880736351, 0.030887801200151443, 0.000996380695141852, 0.19429424405097961, 0.02789865992963314, 0.029891420155763626, 0.003985522780567408, 0.01594209112226963, 0.004981903359293938, 0.988385021686554, 0.9807716608047485, 0.988044261932373, 0.9782341122627258, 0.9868891835212708, 0.9835352301597595, 0.9878612756729126, 0.9910227656364441, 0.9822738766670227, 0.9862889647483826, 0.9676125049591064, 0.9974432587623596, 0.9592415690422058, 0.3027188777923584, 0.2731853127479553, 0.4208530783653259, 0.9652262330055237, 0.337568998336792, 0.03140176460146904, 0.12560705840587616, 0.47887691855430603, 0.019626103341579437, 0.6146215200424194, 0.09778068959712982, 0.2793734073638916, 0.36794665455818176, 0.6285755634307861, 0.002253103069961071, 0.07510343194007874, 0.02253102883696556, 0.6473915576934814, 0.09387928992509842, 0.006759308744221926, 0.06008274480700493, 0.08036067336797714, 0.0030041371937841177, 0.008261377923190594, 0.20209166407585144, 0.7915257215499878, 0.1487778276205063, 0.8520912528038025, 0.9853545427322388, 0.9915904998779297, 0.1845175176858902, 0.2932255268096924, 0.13302426040172577, 0.0021455525420606136, 0.008582210168242455, 0.01716442033648491, 0.028607366606593132, 0.23386523127555847, 0.0672273114323616, 0.007867026142776012, 0.0007151842000894248, 0.005721473600715399, 0.004291105084121227, 0.012873315252363682, 0.0007151842000894248, 0.9595664739608765, 0.980344295501709, 0.28598082065582275, 0.7060151696205139, 0.9642240405082703, 0.03829985857009888, 0.9574964642524719, 0.24420252442359924, 0.08289443701505661, 0.03472604602575302, 0.33717870712280273, 0.05712994933128357, 0.06273092329502106, 0.015682730823755264, 0.04928858205676079, 0.11313970386981964, 0.9551864862442017, 0.9729126691818237, 0.991912841796875, 0.9948272705078125, 0.9859757423400879, 0.07969009131193161, 0.07969009131193161, 0.019922522827982903, 0.11953513324260712, 0.05976756662130356, 0.6175981760025024, 0.9644178748130798, 0.9825255870819092, 0.19747695326805115, 0.7948447465896606, 0.18492136895656586, 0.8090310096740723, 0.5728123784065247, 0.06296329200267792, 0.10365907102823257, 0.25185316801071167, 0.007678450085222721, 0.2624543011188507, 0.34453877806663513, 0.03996217995882034, 0.09936542063951492, 0.05400294438004494, 0.0021601177286356688, 0.16740913689136505, 0.02484135515987873, 0.005400294438004494, 0.5849102139472961, 0.25377973914146423, 0.03650256618857384, 0.01825128309428692, 0.0026073262561112642, 0.10429304838180542, 0.9813491702079773, 0.9982892870903015, 0.9912534356117249, 0.7986548542976379, 0.035140812397003174, 0.16612020134925842, 0.8408698439598083, 0.15039947628974915, 0.9895032644271851, 0.9616320133209229, 0.9913647174835205, 0.03262580558657646, 0.29363223910331726, 0.6742666363716125, 0.18281228840351105, 0.056734848767519, 0.009455808438360691, 0.08195033669471741, 0.06934259086847305, 0.015759680420160294, 0.08195033669471741, 0.04727904126048088, 0.10716582834720612, 0.059886783361434937, 0.07249452918767929, 0.040975168347358704, 0.11977356672286987, 0.05043097585439682, 0.9842300415039062, 0.07631262391805649, 0.12877754867076874, 0.6534268856048584, 0.11446893960237503, 0.02384769544005394, 0.23032405972480774, 0.23032405972480774, 0.10556519031524658, 0.4174623489379883, 0.014395253732800484, 0.9631549715995789, 0.958603024482727, 0.07037639617919922, 0.12765951454639435, 0.21440251171588898, 0.03600652888417244, 0.4140750765800476, 0.09328964352607727, 0.004909981042146683, 0.008183302357792854, 0.029459886252880096, 0.0958293229341507, 0.009582932107150555, 0.8816297650337219, 0.06810321658849716, 0.056752681732177734, 0.8739913105964661, 0.904496431350708, 0.09328886866569519, 0.11798693984746933, 0.8652375936508179, 0.9915133118629456, 0.9195654392242432, 0.07455936074256897, 0.9928174018859863, 0.9658945202827454, 0.9422277808189392, 0.12139353901147842, 0.026012901216745377, 0.08670967072248459, 0.1907612681388855, 0.208103209733963, 0.13873547315597534, 0.21677416563034058, 0.9911624789237976, 0.9813521504402161, 0.09441319108009338, 0.7810545563697815, 0.1201622411608696, 0.06360737234354019, 0.13899388909339905, 0.08009817451238632, 0.0023558286484330893, 0.08245400339365005, 0.025914113968610764, 0.06360737234354019, 0.007067485712468624, 0.5347731113433838, 0.05327369272708893, 0.09322896599769592, 0.0965585708618164, 0.04328487813472748, 0.013318423181772232, 0.4861224591732025, 0.09322896599769592, 0.07991053909063339, 0.019977634772658348, 0.016648029908537865, 0.8689365983009338, 0.10861707478761673, 0.11527234315872192, 0.864542543888092, 0.9238505959510803, 0.07029297947883606, 0.10957017540931702, 0.09391729533672333, 0.5478508472442627, 0.03756691515445709, 0.19409573078155518, 0.018783457577228546, 0.006375814322382212, 0.9563721418380737, 0.03187907114624977, 0.9818739891052246, 0.9867788553237915, 0.16503490507602692, 0.7801650166511536, 0.05251110717654228, 0.08909023553133011, 0.9099931120872498, 0.20334762334823608, 0.08318766206502914, 0.7117167115211487, 0.9920368194580078, 0.9921165704727173, 0.959727942943573, 0.9597086906433105, 0.07826416939496994, 0.14560775458812714, 0.04368232935667038, 0.04368232935667038, 0.1510680466890335, 0.5296482443809509, 0.003640193957835436, 0.0054602911695837975, 0.9488829374313354, 0.010881935246288776, 0.9793742299079895, 0.9900447726249695, 0.07227559387683868, 0.9034449458122253, 0.9817299842834473, 0.6832749843597412, 0.315463662147522, 0.7967885732650757, 0.042964089661836624, 0.0078116524964571, 0.11326896399259567, 0.035152435302734375, 0.2282014936208725, 0.10532376915216446, 0.6494965553283691, 0.0025077087339013815, 0.012538543902337551, 0.859302282333374, 0.06521490216255188, 0.07288724929094315, 0.9679028987884521, 0.9951183795928955, 0.5688839554786682, 0.1297055333852768, 0.02275535836815834, 0.059163931757211685, 0.025030894204974174, 0.025030894204974174, 0.15473642945289612, 0.013653215020895004, 0.9779334664344788, 0.08608131110668182, 0.010760163888335228, 0.11190570145845413, 0.7209309935569763, 0.021520327776670456, 0.04734472185373306, 0.9934778213500977, 0.04501796513795853, 0.9543808698654175, 0.9783970713615417, 0.19034168124198914, 0.25439897179603577, 0.010981250554323196, 0.07869896292686462, 0.0036604166962206364, 0.016471875831484795, 0.021962501108646393, 0.02928333356976509, 0.3898344039916992, 0.0018302083481103182, 0.0036604166962206364, 0.06182245910167694, 0.028533441945910454, 0.8655143976211548, 0.03804459050297737, 0.3608976900577545, 0.27421149611473083, 0.16806510090827942, 0.17514152824878693, 0.021229276433587074, 0.10086745768785477, 0.8986372947692871, 0.30366000533103943, 0.6712484359741211, 0.0199776329100132, 0.9965083003044128, 0.012829720042645931, 0.9842228293418884, 0.0018328172154724598, 0.9949591755867004, 0.9984732270240784, 0.9884411692619324, 0.9991963505744934, 0.9613068699836731, 0.9455260038375854, 0.9733989834785461, 0.989366888999939, 0.9750772714614868, 0.975509524345398, 0.5224165916442871, 0.03214871510863304, 0.44204479455947876, 0.9823299646377563, 0.017822057008743286, 0.017822057008743286, 0.7574374079704285, 0.19604262709617615, 0.008911028504371643, 0.5773770213127136, 0.4157114624977112, 0.7661956548690796, 0.042427774518728256, 0.03743626922369003, 0.1522408276796341, 0.9922567009925842, 0.8929746747016907, 0.08117951452732086, 0.9764341711997986, 0.08256445825099945, 0.9082090258598328, 0.16168956458568573, 0.8274701237678528, 0.02232595719397068, 0.9600161910057068, 0.7758824825286865, 0.026364939287304878, 0.1958538293838501, 0.9970760345458984, 0.9596369862556458, 0.9593419432640076, 0.025560755282640457, 0.4744715094566345, 0.011182830668985844, 0.08466999977827072, 0.27158302068710327, 0.08466999977827072, 0.009585282765328884, 0.038341131061315536, 0.983353316783905, 0.22091977298259735, 0.5254307985305786, 0.2348516434431076, 0.015922145918011665, 0.9452664852142334, 0.9908341765403748, 0.9632914066314697, 0.12908408045768738, 0.18645477294921875, 0.15776942670345306, 0.043028026819229126, 0.48765096068382263, 0.38067466020584106, 0.1347794085741043, 0.11523125320672989, 0.006173102650791407, 0.015432756394147873, 0.16461607813835144, 0.0030865513253957033, 0.16564492881298065, 0.013375055976212025, 0.9804822206497192, 0.06160490959882736, 0.8624687194824219, 0.025668712332844734, 0.04620368033647537, 0.6108633279800415, 0.1914646327495575, 0.05926286056637764, 0.06382154673337936, 0.041028134524822235, 0.03191077336668968, 0.9937521815299988, 0.9780170321464539, 0.9951490759849548, 0.980879008769989, 0.2733336389064789, 0.2801329791545868, 0.22029875218868256, 0.019038163125514984, 0.20670005679130554, 0.06416701525449753, 0.7026288509368896, 0.04491691291332245, 0.016041753813624382, 0.022458456456661224, 0.05133361369371414, 0.01925010420382023, 0.01925010420382023, 0.05454196408390999, 0.9813311100006104, 0.9765753149986267, 0.9621771574020386, 0.2209435999393463, 0.008183096535503864, 0.049098577350378036, 0.03273238614201546, 0.11456334590911865, 0.01636619307100773, 0.5646336674690247, 0.06359837204217911, 0.07631804794073105, 0.044518861919641495, 0.025439349934458733, 0.06995820999145508, 0.13991641998291016, 0.2162344753742218, 0.11447707563638687, 0.038159023970365524, 0.1971549540758133, 0.9855048060417175, 0.9734469652175903, 0.9927057027816772, 0.12561935186386108, 0.0368194654583931, 0.5674529671669006, 0.015160957351326942, 0.015160957351326942, 0.023824360221624374, 0.1819314807653427, 0.015160957351326942, 0.019492659717798233, 0.04388078302145004, 0.9465711712837219, 0.2183818519115448, 0.603761613368988, 0.10704992711544037, 0.004281997215002775, 0.06422995775938034, 0.97637540102005, 0.09776455163955688, 0.898502767086029, 0.07796270400285721, 0.23533187806606293, 0.044756367802619934, 0.0028875076677650213, 0.39270102977752686, 0.057750154286623, 0.05197513848543167, 0.06496892124414444, 0.037537600845098495, 0.03465009108185768, 0.9977626800537109, 0.9692425727844238, 0.9284612536430359, 0.020864296704530716, 0.04172859340906143, 0.9673862457275391, 0.9827805757522583, 0.9732049703598022, 0.43978166580200195, 0.09772925823926926, 0.4519978165626526, 0.4542653560638428, 0.21095280349254608, 0.093802310526371, 0.013926981016993523, 0.027853962033987045, 0.03768477216362953, 0.04505787789821625, 0.08315226435661316, 0.009421193040907383, 0.012288512662053108, 0.009421193040907383, 0.0016384683549404144, 0.3409627676010132, 0.015498307533562183, 0.020664410665631294, 0.5269424915313721, 0.05166102573275566, 0.04132882133126259, 0.9862308502197266, 0.6651091575622559, 0.09948690980672836, 0.06595199555158615, 0.008942644111812115, 0.014531795866787434, 0.06259850412607193, 0.0022356610279530287, 0.055891525000333786, 0.0011178305139765143, 0.016767457127571106, 0.006706982851028442, 0.16286374628543854, 0.8143187165260315, 0.16226518154144287, 0.1730828583240509, 0.054088395088911057, 0.018029464408755302, 0.09014732390642166, 0.4543425142765045, 0.046876609325408936, 0.17232577502727509, 0.7961450815200806, 0.02757212333381176, 0.9195829629898071, 0.07307944446802139, 0.06275888532400131, 0.9162797331809998, 0.9944931268692017, 0.969327449798584, 0.9927401542663574, 0.9949104189872742, 0.993399441242218, 0.9730827808380127, 0.9753171801567078, 0.991401195526123, 0.0727885514497757, 0.19937732815742493, 0.10918282717466354, 0.23102453351020813, 0.014241238124668598, 0.03955899551510811, 0.014241238124668598, 0.04905315488576889, 0.03639427572488785, 0.05221787095069885, 0.09335922449827194, 0.012658878229558468, 0.0727885514497757, 0.9815283417701721, 0.9808329343795776, 0.9917439222335815, 0.9844661355018616, 0.9905475974082947, 0.9501668810844421, 0.9299504160881042, 0.9846448302268982, 0.34185290336608887, 0.32764387130737305, 0.10197079181671143, 0.036776352673769, 0.19140419363975525, 0.994720458984375, 0.9709475636482239, 0.9676546454429626, 0.9784849286079407, 0.972582221031189, 0.9610476493835449, 0.031001536175608635, 0.05203809216618538, 0.5693579316139221, 0.3091674745082855, 0.06428235024213791, 0.26744598150253296, 0.02719789557158947, 0.009065965190529823, 0.10879158228635788, 0.018131930381059647, 0.5711557865142822, 0.9724296927452087, 0.9821165204048157, 0.35183992981910706, 0.63770991563797, 0.9873890280723572, 0.9780999422073364, 0.9945626854896545, 0.17510180175304413, 0.010943862609565258, 0.514361560344696, 0.29913222789764404, 0.9914294481277466, 0.9878327250480652, 0.9950195550918579, 0.9871618747711182, 0.4840095341205597, 0.025642888620495796, 0.08013402670621872, 0.41028621792793274, 0.9041268229484558, 0.022603169083595276, 0.06780950725078583, 0.9794049263000488, 0.9908232092857361, 0.9951186776161194, 0.004678977653384209, 0.003119318513199687, 0.028073865920305252, 0.962309718132019, 0.1344207525253296, 0.8612885475158691, 0.11972129344940186, 0.25102850794792175, 0.625640332698822, 0.9857889413833618, 0.14117313921451569, 0.0041521512903273106, 0.6851049661636353, 0.1536296010017395, 0.012456454336643219, 0.03477708622813225, 0.28980904817581177, 0.6549684405326843, 0.011592362076044083, 0.9877390265464783, 0.9785927534103394, 0.09845664352178574, 0.21764099597930908, 0.17100363969802856, 0.5130109190940857, 0.8098001480102539, 0.050130486488342285, 0.015424764715135098, 0.10411716252565384, 0.01928095519542694, 0.19812814891338348, 0.7925125956535339, 0.965966522693634, 0.9729484915733337, 0.2047547996044159, 0.09100213646888733, 0.11375267058610916, 0.05118869990110397, 0.05687633529305458, 0.30144456028938293, 0.17631663382053375, 0.15597933530807495, 0.01106950081884861, 0.8322252035140991, 0.789002001285553, 0.013019834645092487, 0.005207933951169252, 0.03385157138109207, 0.11717851459980011, 0.036455538123846054, 0.8449280858039856, 0.05574178323149681, 0.011735111474990845, 0.08214578032493591, 0.9983672499656677, 0.23158013820648193, 0.6773719191551208, 0.08105304837226868, 0.9679028987884521, 0.9405713081359863, 0.07522988319396973, 0.050153255462646484, 0.25912514328956604, 0.6129842400550842, 0.9528815150260925, 0.9912208318710327, 0.7664555907249451, 0.02232394926249981, 0.2083568572998047, 0.9897887706756592, 0.0311071015894413, 0.27218714356422424, 0.0933213084936142, 0.06999097764492035, 0.0933213084936142, 0.0622142031788826, 0.0466606542468071, 0.3266245722770691, 0.7747724652290344, 0.03733843192458153, 0.11668259650468826, 0.046673040837049484, 0.018669215962290764, 0.07121092826128006, 0.9114998579025269, 0.9694192409515381, 0.28722643852233887, 0.1340390145778656, 0.11489058285951614, 0.4595623314380646, 0.9643614888191223, 0.14773613214492798, 0.6767721772193909, 0.007035053800791502, 0.03939630091190338, 0.06894353032112122, 0.05909445136785507, 0.9359185695648193, 0.9463470578193665, 0.9779908657073975, 0.9927941560745239, 0.9979411363601685, 0.09269101172685623, 0.10244796425104141, 0.8000698089599609, 0.9957636594772339, 0.6476836800575256, 0.19686788320541382, 0.0663992241024971, 0.004659594967961311, 0.005824493709951639, 0.05940983444452286, 0.0023297974839806557, 0.016308581456542015, 0.9941983819007874, 0.005464729852974415, 0.9927592873573303, 0.9574909210205078, 0.1809631586074829, 0.05655098706483841, 0.49199357628822327, 0.11592952162027359, 0.152687668800354, 0.972853422164917, 0.9948098659515381, 0.9711905717849731, 0.984437882900238, 0.9964752197265625, 0.9408605098724365, 0.9911604523658752, 0.589061975479126, 0.12635603547096252, 0.04991288110613823, 0.002697993768379092, 0.02563093975186348, 0.08813446015119553, 0.014838965609669685, 0.09353044629096985, 0.0071946498937904835, 0.0004496656183619052, 0.002697993768379092, 0.1983344852924347, 0.04958362132310867, 0.17128886282444, 0.4868209958076477, 0.06761402636766434, 0.02253800816833973, 0.975722074508667, 0.8518045544624329, 0.02129511348903179, 0.02129511348903179, 0.039928339421749115, 0.007985667325556278, 0.05589967221021652, 0.8435946702957153, 0.016871893778443336, 0.04217973351478577, 0.09279540926218033, 0.9702385067939758, 0.9744731783866882, 0.1486247032880783, 0.1341247409582138, 0.7141236066818237, 0.9839659333229065, 0.33974406123161316, 0.040769290179014206, 0.020384645089507103, 0.033974409103393555, 0.5571802854537964, 0.09247811883687973, 0.8785421252250671, 0.32672327756881714, 0.018151292577385902, 0.06352952867746353, 0.039327800273895264, 0.06655474007129669, 0.47193363308906555, 0.006050431169569492, 0.009075646288692951, 0.9448243379592896, 0.9968833327293396, 0.9930241703987122, 0.980444610118866, 0.6278679370880127, 0.3703715205192566, 0.12326450645923615, 0.12326450645923615, 0.04108816757798195, 0.1746247261762619, 0.0821763351559639, 0.04108816757798195, 0.4108816981315613, 0.9691274166107178, 0.13519366085529327, 0.008615282364189625, 0.01855599321424961, 0.1066969633102417, 0.7309736013412476, 0.9960658550262451, 0.4939385950565338, 0.0025659147650003433, 0.03079097718000412, 0.051318295300006866, 0.017961403355002403, 0.40284863114356995, 0.9849910140037537, 0.9810507893562317, 0.9907083511352539, 0.9941117167472839, 0.18782030045986176, 0.08858534693717957, 0.08471275866031647, 0.014038114808499813, 0.10552790015935898, 0.06438169628381729, 0.07115872204303741, 0.11375714093446732, 0.13602448999881744, 0.04695507511496544, 0.03340103104710579, 0.0125858960673213, 0.026139937341213226, 0.0019362916937097907, 0.00677702110260725, 0.004840729292482138, 0.05783531069755554, 0.938217282295227, 0.06591610610485077, 0.13183221220970154, 0.790993332862854, 0.9823316931724548, 0.9978511333465576, 0.9281210899353027, 0.9853801727294922, 0.9956871271133423, 0.993435263633728, 0.993429958820343, 0.09938407689332962, 0.34784427285194397, 0.07262682169675827, 0.019112322479486465, 0.45869573950767517, 0.9911664724349976, 0.9559662938117981, 0.8283205628395081, 0.08747939765453339, 0.08201193809509277, 0.9942237138748169, 0.9650126695632935, 0.9806039333343506, 0.9644830226898193, 0.9900832176208496, 0.9886950850486755, 0.9312617182731628, 0.0567842535674572, 0.8791263699531555, 0.07756997644901276, 0.03447554260492325, 0.9347296953201294, 0.011684120632708073, 0.023368241265416145, 0.011684120632708073, 0.007729062810540199, 0.04766255244612694, 0.9352166056632996, 0.007729062810540199, 0.01684173010289669, 0.9824342727661133, 0.9675024151802063, 0.9444957375526428, 0.03148319199681282, 0.020988794043660164, 0.970723032951355, 0.9788824915885925, 0.9801347255706787, 0.9940397143363953, 0.9543812274932861, 0.9643306136131287, 0.988101065158844, 0.9828894138336182, 0.9746779799461365, 0.992763340473175, 0.9750779867172241, 0.962153971195221, 0.1582752764225006, 0.17493583261966705, 0.06247708201408386, 0.6039451360702515, 0.2851243019104004, 0.18075519800186157, 0.3229391872882843, 0.004537787288427353, 0.010588170029222965, 0.18453668057918549, 0.008319276385009289, 0.00302519160322845, 0.39192649722099304, 0.34791335463523865, 0.06706763803958893, 0.024731190875172615, 0.05826500803232193, 0.010479317978024483, 0.0880262702703476, 0.009221799671649933, 0.001257518189959228, 0.001257518189959228, 0.9875715374946594, 0.9887508153915405, 0.04143141582608223, 0.13033632934093475, 0.5282505750656128, 0.29951462149620056, 0.9849143028259277, 0.9795455932617188, 0.9750995635986328, 0.024252403527498245, 0.9458436965942383, 0.024252403527498245, 0.00346462894231081, 0.9960187673568726, 0.7248314023017883, 0.27382519841194153, 0.07892195880413055, 0.06176501139998436, 0.03431389480829239, 0.0034313895739614964, 0.0754905715584755, 0.11323585361242294, 0.07892195880413055, 0.5524536967277527, 0.0953730121254921, 0.9060435891151428, 0.9884890913963318, 0.5113488435745239, 0.11740152537822723, 0.09653014689683914, 0.09131229668855667, 0.08348552882671356, 0.02087138220667839, 0.06522306799888611, 0.013044614344835281, 0.9889517426490784, 0.032023873180150986, 0.02620135061442852, 0.9345148205757141, 0.0058225225657224655, 0.9337692856788635, 0.8858149647712708, 0.07702738791704178, 0.984154462814331, 0.9749277234077454, 0.15182355046272278, 0.05693383142352104, 0.08223775774240494, 0.14549756050109863, 0.08540074527263641, 0.48077455163002014, 0.2870050370693207, 0.15973582863807678, 0.06233593448996544, 0.025973305106163025, 0.00779199181124568, 0.024674640968441963, 0.43245553970336914, 0.08587752282619476, 0.8874010443687439, 0.9927690625190735, 0.9416886568069458, 0.02264115959405899, 0.216708242893219, 0.02911006286740303, 0.07439237833023071, 0.09379909187555313, 0.4010719656944275, 0.04528231918811798, 0.03881341591477394, 0.03881341591477394, 0.03881341591477394, 0.9498292207717896, 0.48237350583076477, 0.0025934060104191303, 0.5109009742736816, 0.29074040055274963, 0.284094899892807, 0.034888844937086105, 0.023259231820702553, 0.023259231820702553, 0.0780845582485199, 0.001661373651586473, 0.26249703764915466, 0.9955664873123169, 0.40773874521255493, 0.05436516925692558, 0.5300604104995728, 0.3772892951965332, 0.06726863235235214, 0.002924723317846656, 0.5206007361412048, 0.032171957194805145, 0.9911222457885742, 0.11996237933635712, 0.8663949370384216, 0.11545395851135254, 0.31883054971694946, 0.10479667037725449, 0.2238030582666397, 0.0337480790913105, 0.011545395478606224, 0.023090790957212448, 0.037300508469343185, 0.071936696767807, 0.030195649713277817, 0.0008881073445081711, 0.026643220335245132, 0.0008881073445081711, 0.9975618720054626, 0.9871755242347717, 0.17631447315216064, 0.0579981803894043, 0.39670756459236145, 0.2528720796108246, 0.03479890897870064, 0.08119745552539825, 0.9970849752426147, 0.9507046937942505, 0.9970243573188782, 0.010809873230755329, 0.1315201222896576, 0.09188392013311386, 0.010809873230755329, 0.07747075706720352, 0.009008226916193962, 0.49184921383857727, 0.14953657984733582, 0.027024682611227036, 0.9815253019332886, 0.9917895197868347, 0.9874815940856934, 0.042752012610435486, 0.41243118047714233, 0.22633418440818787, 0.10310779511928558, 0.12825603783130646, 0.08298920094966888, 0.9825929999351501, 0.937035083770752, 0.981187105178833, 0.11882514506578445, 0.8317760229110718, 0.9600719809532166, 0.9800431728363037, 0.05718515068292618, 0.9149624109268188, 0.9908338189125061, 0.9751095771789551, 0.012188869528472424, 0.9765375852584839, 0.9878746867179871, 0.9626599550247192, 0.9254566431045532, 0.02684771828353405, 0.03158555179834366, 0.012634220533072948, 0.003158555133268237, 0.872084379196167, 0.01751173473894596, 0.10507040470838547, 0.9928118586540222, 0.9836763739585876, 0.9803107380867004, 0.9530254006385803, 0.038121018558740616, 0.10944642126560211, 0.00897101778537035, 0.003588407300412655, 0.5041711926460266, 0.02153044380247593, 0.003588407300412655, 0.01435362920165062, 0.012559425085783005, 0.10226960480213165, 0.08971018344163895, 0.02511885017156601, 0.09868119657039642, 0.005382610950618982, 0.982387125492096, 0.05960536003112793, 0.00662281783297658, 0.1655704379081726, 0.02649127133190632, 0.7483783960342407, 0.9849131107330322, 0.9824289083480835, 0.9770402908325195, 0.2070934921503067, 0.5734896659851074, 0.03186053782701492, 0.17257791757583618, 0.011947701685130596, 0.009171171113848686, 0.01693139411509037, 0.01269854512065649, 0.496654212474823, 0.087478868663311, 0.1911836564540863, 0.08536244183778763, 0.0204587671905756, 0.02186971716582775, 0.03739016130566597, 0.019753292202949524, 0.9859510064125061, 0.967654287815094, 0.04751857742667198, 0.9345319867134094, 0.9812246561050415, 0.313399076461792, 0.10345212370157242, 0.1856052726507187, 0.39555221796035767, 0.05684392526745796, 0.06315992027521133, 0.08842388540506363, 0.11368785053491592, 0.6315991878509521, 0.025263966992497444, 0.01894797571003437, 0.9858541488647461, 0.18784146010875702, 0.8059004545211792, 0.9896414875984192, 0.9750619530677795, 0.33757284283638, 0.2668432891368866, 0.39222750067710876, 0.939430296421051, 0.01972622238099575, 0.6756231188774109, 0.024657778441905975, 0.157809779047966, 0.0591786690056324, 0.002465777797624469, 0.0591786690056324, 0.9661248326301575, 0.9116808772087097, 0.06906673312187195, 0.9860591888427734, 0.9665438532829285, 0.973097026348114, 0.022242218255996704, 0.09936660528182983, 0.8942993879318237, 0.9908213019371033, 0.038837820291519165, 0.9586809277534485, 0.9968542456626892, 0.9817189574241638, 0.9730760455131531, 0.9660995006561279, 0.9272133708000183, 0.7482908964157104, 0.2451297789812088, 0.9993611574172974, 0.984731137752533, 0.27048251032829285, 0.5617713928222656, 0.16645078361034393, 0.5234953165054321, 0.4752551019191742, 0.9907630681991577, 0.008615330792963505, 0.002049081725999713, 0.020490817725658417, 0.11065042018890381, 0.4344053268432617, 0.030736226588487625, 0.2008100152015686, 0.016392653807997704, 0.06147245317697525, 0.002049081725999713, 0.004098163451999426, 0.10245408862829208, 0.012294490821659565, 0.0390799455344677, 0.9066547751426697, 0.046895936131477356, 0.9669896364212036, 0.39092352986335754, 0.6017586588859558, 0.9894760251045227, 0.9939191341400146, 0.20400841534137726, 0.7408726215362549, 0.05368642508983612, 0.9815841317176819, 0.9808810949325562, 0.9912741184234619, 0.9912806153297424, 0.8072832822799683, 0.19206739962100983, 0.921900749206543, 0.07583759725093842, 0.9813806414604187, 0.7085723876953125, 0.03669896721839905, 0.20043282210826874, 0.0564599484205246, 0.09331188350915909, 0.8997931480407715, 0.9780963063240051, 0.36259350180625916, 0.2986766993999481, 0.12454818189144135, 0.031958408653736115, 0.053463131189346313, 0.000896030105650425, 0.11349714547395706, 0.012843098491430283, 0.0011947067687287927, 0.9832228422164917, 0.06752956658601761, 0.10551495105028152, 0.3840744197368622, 0.08019136637449265, 0.08019136637449265, 0.27855947613716125, 0.9781726002693176, 0.978069543838501, 0.10130348056554794, 0.13454368710517883, 0.15195521712303162, 0.048277437686920166, 0.10367777943611145, 0.037988804280757904, 0.02611730247735977, 0.09259770810604095, 0.23901289701461792, 0.03403163701295853, 0.0063314675353467464, 0.004748600535094738, 0.011080067604780197, 0.007122900802642107, 0.10847599059343338, 0.1375320553779602, 0.029056068509817123, 0.048426780849695206, 0.0755457803606987, 0.20726661384105682, 0.01162242703139782, 0.3428615927696228, 0.013559498824179173, 0.017433641478419304, 0.0077482848428189754, 0.9729728102684021, 0.994640052318573, 0.01174566987901926, 0.9748905897140503, 0.9915497899055481, 0.9833471775054932, 0.9923399686813354, 0.0058350651524960995, 0.10503117740154266, 0.8869299292564392, 0.9661516547203064, 0.9898229837417603, 0.9936771988868713, 0.9422775506973267, 0.15400807559490204, 0.15400807559490204, 0.015098831616342068, 0.07851392030715942, 0.030197663232684135, 0.4197475016117096, 0.07549415528774261, 0.027177896350622177, 0.01207906473428011, 0.03170754387974739, 0.4628475606441498, 0.5266886353492737, 0.9759564995765686, 0.9919337034225464, 0.9585691094398499, 0.12512193620204926, 0.854999840259552, 0.41567716002464294, 0.03147082403302193, 0.1193268746137619, 0.02360311895608902, 0.3684709072113037, 0.03409339487552643, 0.007867706008255482, 0.4575403034687042, 0.3070233464241028, 0.05911306291818619, 0.040103133767843246, 0.005208199378103018, 0.01692664809525013, 0.013020497746765614, 0.06458166986703873, 0.005208199378103018, 0.028645096346735954, 0.002604099689051509, 0.08130014687776566, 0.20105306804180145, 0.015381108969449997, 0.15600839257240295, 0.019775710999965668, 0.018677061423659325, 0.04834062606096268, 0.017578409984707832, 0.08020149916410446, 0.090089350938797, 0.0010986506240442395, 0.2537882924079895, 0.0076905544847249985, 0.009887855499982834, 0.04002420976758003, 0.20812588930130005, 0.04536077380180359, 0.19211621582508087, 0.04269248992204666, 0.04536077380180359, 0.06137045472860336, 0.056033894419670105, 0.026682807132601738, 0.17076995968818665, 0.11206778883934021, 0.22041773796081543, 0.734725832939148, 0.12665551900863647, 0.8584429621696472, 0.05408265069127083, 0.026489460840821266, 0.045252829790115356, 0.6821036338806152, 0.04083792120218277, 0.015452185645699501, 0.04746028408408165, 0.04414910078048706, 0.027593187987804413, 0.012141003273427486, 0.004414909984916449, 0.0011037274962291121, 0.9782887101173401, 0.3660941421985626, 0.038946185261011124, 0.05452466011047363, 0.5374573469161987, 0.9508447051048279, 0.019945045933127403, 0.581474781036377, 0.12734144926071167, 0.18103964626789093, 0.013808107934892178, 0.07057477533817291, 0.006136937066912651, 0.9720146656036377, 0.9956436157226562, 0.03191104158759117, 0.9254201650619507, 0.03988880291581154, 0.20205648243427277, 0.17015282809734344, 0.06912458688020706, 0.5423621535301208, 0.00797591358423233, 0.005317275878041983, 0.9949407577514648, 0.9446020722389221, 0.9767912030220032, 0.9528701901435852, 0.33108630776405334, 0.13120175898075104, 0.21397334337234497, 0.01937207207083702, 0.021133169531822205, 0.11975462734699249, 0.014969328418374062, 0.08365212380886078, 0.04402743652462959, 0.014969328418374062, 0.004402743652462959, 0.0008999854908324778, 0.22229641675949097, 0.6866888999938965, 0.02339962311089039, 0.024299608543515205, 0.03149949386715889, 0.010799826122820377, 0.9492827653884888, 0.031022312119603157, 0.012408925220370293, 0.2610703110694885, 0.21086448431015015, 0.010041166096925735, 0.09037049114704132, 0.06359405070543289, 0.016735276207327843, 0.030123498290777206, 0.0769822746515274, 0.04351171851158142, 0.0066941105760633945, 0.15061749517917633, 0.04351171851158142, 0.9767715930938721, 0.4997861683368683, 0.19413600862026215, 0.16068175435066223, 0.04511254280805588, 0.003041295101866126, 0.02382347732782364, 0.009123885072767735, 0.004055059980601072, 0.01875465363264084, 0.03345424681901932, 0.006082590203732252, 0.002534412546083331, 0.9919548034667969, 0.0830092504620552, 0.015811285004019737, 0.12253746390342712, 0.031622570008039474, 0.7470832467079163, 0.9654057025909424, 0.9862527847290039, 0.4201911985874176, 0.07196377962827682, 0.13909776508808136, 0.1284722536802292, 0.05264464393258095, 0.12895523011684418, 0.020285092294216156, 0.0318765714764595, 0.0019319135462865233, 0.004829783923923969, 0.9891823530197144, 0.9672150611877441, 0.9881265759468079, 0.9851775169372559, 0.9952630400657654, 0.9812341332435608, 0.9859822392463684, 0.9291819930076599, 0.9735711216926575, 0.9781762361526489, 0.0746779590845108, 0.07841185480356216, 0.05227456986904144, 0.7915863394737244, 0.23875661194324493, 0.053057022392749786, 0.6985841393470764, 0.782380223274231, 0.014225094579160213, 0.08535056561231613, 0.028450189158320427, 0.08535056561231613, 0.41912126541137695, 0.0019494012231007218, 0.19494011998176575, 0.38208264112472534, 0.02372022345662117, 0.8895083665847778, 0.08302078396081924, 0.9880021810531616, 0.9090953469276428, 0.08264502882957458, 0.9640717506408691, 0.2561967074871063, 0.18877652287483215, 0.1483244001865387, 0.404521107673645, 0.963254988193512, 0.9678606390953064, 0.634171724319458, 0.18991684913635254, 0.06609441339969635, 0.019242677837610245, 0.0033465526066720486, 0.03681207820773125, 0.014222848229110241, 0.017569400370121002, 0.008366381749510765, 0.0041831908747553825, 0.005856466945260763, 0.8159746527671814, 0.10709667205810547, 0.07139778137207031, 0.09271562844514847, 0.8289868235588074, 0.0790809765458107, 0.9942287802696228, 0.9259142279624939, 0.9572928547859192, 0.9463347792625427, 0.032079145312309265, 0.016039572656154633, 0.0821104645729065, 0.9149451851844788, 0.9926472306251526, 0.9602382779121399, 0.015741610899567604, 0.9862078428268433, 0.36690351366996765, 0.024460233747959137, 0.06522729247808456, 0.15763261914253235, 0.29352280497550964, 0.09240532666444778, 0.9920478463172913, 0.003729503136128187, 0.985679030418396, 0.9717472791671753, 0.17096461355686188, 0.19698096811771393, 0.603951096534729, 0.014866488054394722, 0.011149866506457329, 0.9904803037643433, 0.008688423782587051, 0.9837821125984192, 0.010142083279788494, 0.992858350276947, 0.019700122997164726, 0.978439450263977, 0.8399322032928467, 0.1537903994321823, 0.9941542744636536, 0.9874506592750549, 0.307857871055603, 0.6862664818763733, 0.9990284442901611, 0.08102302253246307, 0.5903106331825256, 0.0347241535782814, 0.2777932286262512, 0.21701845526695251, 0.46503955125808716, 0.29969215393066406, 0.010304789058864117, 0.3950169086456299, 0.5908079147338867, 0.48399123549461365, 0.3060169219970703, 0.11370580643415451, 0.01730305701494217, 0.03658360615372658, 0.0004943730891682208, 0.0059324768371880054, 0.022246787324547768, 0.011864953674376011, 0.001977492356672883, 0.9676402807235718, 0.06453306972980499, 0.3710651397705078, 0.5323978066444397, 0.46210893988609314, 0.07013458013534546, 0.04130147397518158, 0.06312111765146255, 0.017144007608294487, 0.14884115755558014, 0.04753565788269043, 0.010130549781024456, 0.03896365314722061, 0.0872785821557045, 0.0038963654078543186, 0.0007792731048539281, 0.008572003804147243, 0.9823450446128845, 0.9926400184631348, 0.18645541369915009, 0.007934273220598698, 0.0019835683051496744, 0.23703640699386597, 0.02975352294743061, 0.13389085233211517, 0.00297535234130919, 0.12694837152957916, 0.01884389854967594, 0.015868546441197395, 0.06248239800333977, 0.006942488718777895, 0.1676115095615387, 0.9984831809997559, 0.19566048681735992, 0.006865280214697123, 0.29692336916923523, 0.17506465315818787, 0.05492224171757698, 0.2694622576236725, 0.4165027439594269, 0.06247541308403015, 0.08330055326223373, 0.3748524785041809, 0.06247541308403015, 0.9707071185112, 0.024731392040848732, 0.9940038919448853, 0.9845443367958069, 0.05257678031921387, 0.15480941534042358, 0.026288390159606934, 0.1197582259774208, 0.011683729477226734, 0.36511653661727905, 0.05257678031921387, 0.18401873111724854, 0.020446525886654854, 0.011683729477226734, 0.9812047481536865, 0.21190069615840912, 0.3947911560535431, 0.0958598330616951, 0.10153574496507645, 0.0006306568393483758, 0.023964958265423775, 0.07567881792783737, 0.01324379350990057, 0.0018919704016298056, 0.043515320867300034, 0.025226272642612457, 0.010090509429574013, 0.0006306568393483758, 0.16554075479507446, 0.8277037739753723, 0.5624198317527771, 0.18570464849472046, 0.025644928216934204, 0.03979385271668434, 0.07958770543336868, 0.09992679208517075, 0.004421539604663849, 0.0017686157952994108, 0.9555093050003052, 0.4108254313468933, 0.5811676979064941, 0.939903199672699, 0.13302503526210785, 0.014002635143697262, 0.03500658646225929, 0.5881106853485107, 0.16803161799907684, 0.059511199593544006, 0.3130371570587158, 0.6813161373138428, 0.9593738317489624, 0.879615306854248, 0.021281015127897263, 0.04965570196509361, 0.04965570196509361, 0.9860058426856995, 0.9916542172431946, 0.3097304701805115, 0.10324349254369736, 0.08338897675275803, 0.027796326205134392, 0.03176723048090935, 0.10721439868211746, 0.007941807620227337, 0.04765084385871887, 0.023825421929359436, 0.07147626578807831, 0.011912710964679718, 0.15486523509025574, 0.01985451765358448, 0.9545875787734985, 0.9727562069892883, 0.05112095922231674, 0.9406256079673767, 0.6613252758979797, 0.07537686079740524, 0.05831040069460869, 0.00711102457717061, 0.08675450086593628, 0.08675450086593628, 0.0014222048921510577, 0.004266615025699139, 0.01848866418004036, 0.9919953346252441, 0.978339433670044, 0.9810819029808044, 0.9834105968475342, 0.12771129608154297, 0.5300018787384033, 0.09578347951173782, 0.012771130539476871, 0.2234947830438614, 0.10092547535896301, 0.8971152901649475, 0.08395576477050781, 0.08317839354276657, 0.17879468202590942, 0.27052411437034607, 0.06452155858278275, 0.010883154347538948, 0.1803494244813919, 0.0077736820094287395, 0.018656836822628975, 0.010883154347538948, 0.013215258717536926, 0.07618208229541779, 0.001554736401885748, 0.9869992733001709, 0.9365414977073669, 0.040523432195186615, 0.018010413274168968, 0.9708380699157715, 0.9915606379508972, 0.3064166307449341, 0.6824734210968018, 0.9571263790130615, 0.06699135899543762, 0.7285310626029968, 0.027913065627217293, 0.11165226250886917, 0.030704373493790627, 0.011165226809680462, 0.01953914575278759, 0.9619946479797363, 0.9971868991851807, 0.19758746027946472, 0.07494696974754333, 0.0391768254339695, 0.030660122632980347, 0.07154028862714767, 0.018736742436885834, 0.03577014431357384, 0.06302358955144882, 0.15841063857078552, 0.06643027067184448, 0.24017097055912018, 0.005110020749270916, 0.9940484762191772, 0.7866472005844116, 0.09038074314594269, 0.02008461020886898, 0.05021152272820473, 0.05355895683169365, 0.9922923445701599, 0.9926102161407471, 0.9671052694320679, 0.9624207615852356, 0.9960212111473083, 0.9917771220207214, 0.9795790314674377, 0.9782311320304871, 0.11203953623771667, 0.0436517670750618, 0.01746070757508278, 0.011640471406280994, 0.8133779168128967, 0.9853698015213013, 0.06332322955131531, 0.30027467012405396, 0.6352749466896057, 0.2017323523759842, 0.7928550243377686, 0.9675065875053406, 0.9870177507400513, 0.9936084747314453, 0.990869402885437, 0.2722477614879608, 0.0831868126988411, 0.06049950048327446, 0.29493504762649536, 0.2873726189136505, 0.9472289085388184, 0.9431006908416748, 0.9787540435791016, 0.27681705355644226, 0.08081571012735367, 0.12354586273431778, 0.10775428265333176, 0.04923256114125252, 0.10775428265333176, 0.13747960329055786, 0.025080738589167595, 0.003715665079653263, 0.03529881685972214, 0.003715665079653263, 0.008360246196389198, 0.007431330159306526, 0.02786748670041561, 0.0027867488097399473, 0.0018578325398266315, 0.9887260794639587, 0.97346031665802, 0.9797495007514954, 0.9771836400032043, 0.9811091423034668, 0.9892667531967163, 0.9964519143104553, 0.03071364015340805, 0.006825253367424011, 0.0648399069905281, 0.0034126266837120056, 0.5903844237327576, 0.14333032071590424, 0.02388838678598404, 0.020475760102272034, 0.051189400255680084, 0.010237880051136017, 0.058014653623104095, 0.9804242253303528, 0.029585832729935646, 0.26627248525619507, 0.34657689929008484, 0.3508034348487854, 0.9877375364303589, 0.4799555838108063, 0.014300820417702198, 0.21677032113075256, 0.00878120493143797, 0.1344778835773468, 0.06874429434537888, 0.0035124821588397026, 0.0732603445649147, 0.7898228764533997, 0.0430472195148468, 0.07486473023891449, 0.01684456318616867, 0.05802016332745552, 0.013101327233016491, 0.0018716182094067335, 0.08360644429922104, 0.023224012926220894, 0.07199443876743317, 0.13005447387695312, 0.03251361846923828, 0.004644802771508694, 0.1277320683002472, 0.034836020320653915, 0.02090161107480526, 0.4668026566505432, 0.9413415193557739, 0.9748752117156982, 0.9735564589500427, 0.9910573363304138, 0.9842638969421387, 0.21521852910518646, 0.13211435079574585, 0.4687928557395935, 0.059664543718099594, 0.0809733122587204, 0.0404866561293602, 0.9888967871665955, 0.0678209513425827, 0.2215484380722046, 0.14016330242156982, 0.0678209513425827, 0.004521396942436695, 0.02712837979197502, 0.46118247509002686, 0.9491673111915588, 0.9848651885986328, 0.9880714416503906, 0.021264873445034027, 0.978184163570404, 0.058396510779857635, 0.8710812926292419, 0.06812926381826401, 0.9865760803222656, 0.986281156539917, 0.9898417592048645, 0.07016277313232422, 0.2806510925292969, 0.631464958190918, 0.12119561433792114, 0.848369300365448, 0.7434040904045105, 0.10470479726791382, 0.06282287836074829, 0.08376383781433105, 0.03531652316451073, 0.09358878433704376, 0.015892434865236282, 0.030019043013453484, 0.8246407508850098, 0.022134771570563316, 0.08853908628225327, 0.027668464928865433, 0.8577224016189575, 0.16543513536453247, 0.8350535035133362, 0.9987929463386536, 0.986112654209137, 0.9917117357254028, 0.21148695051670074, 0.2843403220176697, 0.004951199516654015, 0.3975105881690979, 0.027585254982113838, 0.019097482785582542, 0.013438969850540161, 0.03324376791715622, 0.0077804564498364925, 0.9732261896133423, 0.973248302936554, 0.9631549715995789, 0.9852908253669739, 0.6091524362564087, 0.09200739860534668, 0.08248939365148544, 0.057901207357645035, 0.008724839426577091, 0.096766397356987, 0.013483842834830284, 0.007138505112379789, 0.029347186908125877, 0.0015863344306126237, 0.0007931672153063118, 0.9737984538078308, 0.9908638000488281, 0.4347571134567261, 0.10868927836418152, 0.015095733106136322, 0.41060394048690796, 0.015095733106136322, 0.012076586484909058, 0.05513996630907059, 0.7416325211524963, 0.08822394907474518, 0.11303693056106567, 0.14089271426200867, 0.1589558869600296, 0.6719498634338379, 0.021675802767276764, 0.9956760406494141, 0.3731381297111511, 0.09923886507749557, 0.5239812135696411, 0.003969554323703051, 0.98250412940979, 0.08571584522724152, 0.38522869348526, 0.03546862676739693, 0.1310368776321411, 0.05418818071484566, 0.008867156691849232, 0.05812913924455643, 0.055173419415950775, 0.05615865811705589, 0.03448338806629181, 0.09655348211526871, 0.982370138168335, 0.951345682144165, 0.8743388652801514, 0.03182459622621536, 0.09212382882833481, 0.9910223484039307, 0.988000214099884, 0.0017395385075360537, 0.8054063320159912, 0.0347907692193985, 0.0574047714471817, 0.05566523224115372, 0.01043723151087761, 0.006958154030144215, 0.026093076914548874, 0.9496634602546692, 0.0358363576233387, 0.0119454525411129, 0.11882979422807693, 0.8793404698371887, 0.99556565284729, 0.985558807849884, 0.9943705797195435, 0.9984385967254639, 0.002926619490608573, 0.526791512966156, 0.011706477962434292, 0.4389929175376892, 0.01755971647799015, 0.2555520236492157, 0.37068355083465576, 0.08385301381349564, 0.021961502730846405, 0.005989500787109137, 0.16970252990722656, 0.0632225051522255, 0.004658500663936138, 0.023958003148436546, 0.2346324920654297, 0.4623640179634094, 0.09247280657291412, 0.04140573367476463, 0.10489452630281448, 0.03312458470463753, 0.015182102099061012, 0.017942484468221664, 0.010504547506570816, 0.1365591138601303, 0.09454092383384705, 0.7458228468894958, 0.9838873147964478, 0.11118871718645096, 0.27654629945755005, 0.029935425147414207, 0.12116719782352448, 0.19458025693893433, 0.007840230129659176, 0.2587276101112366, 0.19535920023918152, 0.6118797659873962, 0.018430113792419434, 0.04976130649447441, 0.0755634605884552, 0.04238925874233246, 0.003686022711917758, 0.10957303643226624, 0.10004494339227676, 0.24296629428863525, 0.04287640377879143, 0.5049887895584106, 0.9717637896537781, 0.982801616191864, 0.9892594814300537, 0.04254847392439842, 0.3488974869251251, 0.6041883230209351, 0.1805240511894226, 0.8123582601547241, 0.9719123840332031, 0.970837414264679, 0.9793115854263306, 0.21575169265270233, 0.15462204813957214, 0.1989710032939911, 0.4063323438167572, 0.0047944821417331696, 0.011986205354332924, 0.0047944821417331696, 0.0023972410708665848, 0.9816227555274963, 0.9925876259803772, 0.2626301944255829, 0.0937964990735054, 0.19697265326976776, 0.0468982495367527, 0.06565754860639572, 0.3282877504825592, 0.9843127131462097, 0.9933149814605713, 0.6330594420433044, 0.1140647605061531, 0.1140647605061531, 0.003802158636972308, 0.08554857224225998, 0.019010793417692184, 0.02946672961115837, 0.201687753200531, 0.1882418990135193, 0.5916174054145813, 0.23558373749256134, 0.7538679838180542, 0.007237432524561882, 0.2677850127220154, 0.07599303871393204, 0.10132405161857605, 0.032568447291851044, 0.032568447291851044, 0.0904679074883461, 0.39082133769989014, 0.06299260258674622, 0.9291408658027649, 0.08851278573274612, 0.8519355654716492, 0.04425639286637306, 0.9631530046463013, 0.9889518618583679, 0.009018524549901485, 0.18037049472332, 0.5441176295280457, 0.01803704909980297, 0.05711732059717178, 0.18938902020454407, 0.989881694316864, 0.9700695276260376, 0.9738609790802002, 0.4720890522003174, 0.063870869576931, 0.008330983109772205, 0.11663376539945602, 0.12589040398597717, 0.009256647899746895, 0.005553988739848137, 0.03517526015639305, 0.03054693713784218, 0.13237006962299347, 0.5548721551895142, 0.2462952882051468, 0.05874284356832504, 0.049542155116796494, 0.07219000160694122, 0.014862646348774433, 0.002830980345606804, 0.7117347121238708, 0.08914657682180405, 0.04457328841090202, 0.0172541756182909, 0.11790353059768677, 0.014378479681909084, 0.005751391872763634, 0.9296518564224243, 0.05052455887198448, 0.010104911401867867, 0.9644415974617004, 0.761271595954895, 0.2362567037343979, 0.9616631865501404, 0.0051535964012146, 0.012883991934359074, 0.012883991934359074, 0.9662993550300598, 0.9943838715553284, 0.18809807300567627, 0.055732760578393936, 0.7523922920227051, 0.11191302537918091, 0.029843473806977272, 0.8505390286445618, 0.9952654838562012, 0.988934338092804, 0.040945056825876236, 0.903520941734314, 0.01091868244111538, 0.030026376247406006, 0.00545934122055769, 0.002729670610278845, 0.002729670610278845, 0.9196871519088745, 0.013934653252363205, 0.06270594149827957, 0.06025140732526779, 0.10689765959978104, 0.034984689205884933, 0.06219499930739403, 0.011661563068628311, 0.6938629746437073, 0.027210313826799393, 0.1598561406135559, 0.759316623210907, 0.07992807030677795, 0.09863224625587463, 0.08013869822025299, 0.8137160539627075, 0.006164515390992165, 0.9801269173622131, 0.9861515164375305, 0.9834766983985901, 0.9878289699554443, 0.0681597888469696, 0.02999030612409115, 0.027263915166258812, 0.11450844258069992, 0.027263915166258812, 0.019084740430116653, 0.10632926970720291, 0.0054527828469872475, 0.06543339788913727, 0.15540431439876556, 0.33534616231918335, 0.04362226277589798, 0.988713264465332, 0.9856833219528198, 0.943626880645752, 0.024046054109930992, 0.9618421792984009, 0.48972949385643005, 0.1353125423192978, 0.0764317661523819, 0.10190902650356293, 0.02321261167526245, 0.013587869703769684, 0.10473982989788055, 0.02944038435816765, 0.005661612376570702, 0.003396967425942421, 0.010190902277827263, 0.006793934851884842, 0.004651957657188177, 0.2558576464653015, 0.6396441459655762, 0.07443132251501083, 0.027911745011806488, 0.9943768978118896, 0.9626950025558472, 0.9631549715995789, 0.9726424217224121, 0.9656658172607422, 0.991485595703125, 0.06735923886299133, 0.058939337730407715, 0.7746312618255615, 0.016839809715747833, 0.06735923886299133, 0.9888538122177124, 0.09180670231580734, 0.13353702425956726, 0.03755728527903557, 0.025038190186023712, 0.5550132393836975, 0.07511457055807114, 0.07094153761863708, 0.004173032008111477, 0.9468388557434082, 0.0385969839990139, 0.027569275349378586, 0.20952649414539337, 0.027569275349378586, 0.05513855069875717, 0.04411084204912186, 0.43008071184158325, 0.17092950642108917, 0.04708968102931976, 0.9417936205863953, 0.9911425113677979, 0.30335533618927, 0.03828756883740425, 0.01178079005330801, 0.0824655294418335, 0.020616382360458374, 0.5448615550994873, 0.9847580194473267, 0.009314903058111668, 0.4042668044567108, 0.11177884042263031, 0.09873797744512558, 0.3409254550933838, 0.02608172968029976, 0.009314903058111668, 0.02458631806075573, 0.20488598942756653, 0.2376677393913269, 0.40977197885513306, 0.07102713733911514, 0.04917263612151146, 0.3273598551750183, 0.5798946022987366, 0.07794281840324402, 0.009353138506412506, 0.983564555644989, 0.3021831512451172, 0.0986720472574234, 0.10483904927968979, 0.11717305332422256, 0.16034208238124847, 0.04316902160644531, 0.17884308099746704, 0.18836218118667603, 0.028166308999061584, 0.18894898891448975, 0.15080711245536804, 0.11207843571901321, 0.32743334770202637, 0.002933990443125367, 0.001760394312441349, 0.8413671851158142, 0.10669511556625366, 0.02743588760495186, 0.006096863653510809, 0.01829059235751629, 0.9862918257713318, 0.16851204633712769, 0.8004322052001953, 0.98539137840271, 0.9964583516120911, 0.9928180575370789, 0.40294450521469116, 0.1128244623541832, 0.46741563081741333, 0.22177202999591827, 0.09702526032924652, 0.11396618187427521, 0.21561169624328613, 0.332658052444458, 0.018481003120541573, 0.8925854563713074, 0.0883747935295105, 0.008837479166686535, 0.011886967346072197, 0.011886967346072197, 0.582461416721344, 0.01783045008778572, 0.00891522504389286, 0.21693715453147888, 0.032689157873392105, 0.01783045008778572, 0.029717417433857918, 0.01783045008778572, 0.014858708716928959, 0.032689157873392105, 0.6113031506538391, 0.3758542239665985, 0.002160081872716546, 0.008640327490866184, 0.9899008870124817, 0.10794824361801147, 0.8851755857467651, 0.9931824207305908, 0.3622440993785858, 0.11466719955205917, 0.5186084508895874, 0.002606072695925832, 0.994574248790741, 0.9987087845802307, 0.9842332601547241, 0.9650083184242249, 0.9801673293113708, 0.9976910352706909, 0.9807493090629578, 0.13645106554031372, 0.13972589373588562, 0.024015387520194054, 0.18448182940483093, 0.06003846600651741, 0.06877133250236511, 0.09278672188520432, 0.20413078367710114, 0.033839862793684006, 0.05348881706595421, 0.294763445854187, 0.01551386620849371, 0.6826100945472717, 0.7784152626991272, 0.013777261599898338, 0.09644082933664322, 0.10332945734262466, 0.017441807314753532, 0.06976722925901413, 0.11212590336799622, 0.1719263792037964, 0.017441807314753532, 0.029900239780545235, 0.024916866794228554, 0.004983373451977968, 0.5481711030006409, 0.9922299385070801, 0.03545958921313286, 0.961841344833374, 0.17797523736953735, 0.8207799196243286, 0.7057864665985107, 0.21457327902317047, 0.008866664953529835, 0.039013322442770004, 0.030146658420562744, 0.9307116270065308, 0.07842675596475601, 0.6971267461776733, 0.09004553407430649, 0.01452347356826067, 0.09004553407430649, 0.0232375580817461, 0.005809389520436525, 0.07584899663925171, 0.8895018696784973, 0.027581453323364258, 0.16076070070266724, 0.04286951944231987, 0.35367351770401, 0.43941256403923035, 0.8808889985084534, 0.08008082211017609, 0.9764942526817322, 0.9866900444030762, 0.0037803540471941233, 0.09450884908437729, 0.01764165237545967, 0.7459898591041565, 0.02898271381855011, 0.016381533816456795, 0.015121416188776493, 0.016381533816456795, 0.030242832377552986, 0.013861297629773617, 0.01764165237545967, 0.8589809536933899, 0.11083625257015228, 0.02770906314253807, 0.7536911964416504, 0.03128529712557793, 0.06257059425115585, 0.005688235629349947, 0.14220589399337769, 0.9870241284370422, 0.20035327970981598, 0.021249590441584587, 0.16088975965976715, 0.015178278088569641, 0.015178278088569641, 0.4098135232925415, 0.14874713122844696, 0.027320900931954384, 0.39584362506866455, 0.5946609973907471, 0.008955738507211208, 0.9875228404998779, 0.9800375699996948, 0.9578831791877747, 0.982552707195282, 0.9477956891059875, 0.989325761795044, 0.9845166802406311, 0.9628646969795227, 0.9445362091064453, 0.07354356348514557, 0.7354356050491333, 0.058834850788116455, 0.11766970157623291, 0.865903913974762, 0.08945287764072418, 0.03935926780104637, 0.037291232496500015, 0.23307020962238312, 0.34494391083717346, 0.0652596578001976, 0.316975474357605, 0.9897856116294861, 0.9976666569709778, 0.9910831451416016, 0.993575930595398, 0.46594515442848206, 0.20799900591373444, 0.07252597063779831, 0.021894631907343864, 0.03763139992952347, 0.040368229150772095, 0.054736580699682236, 0.01847359724342823, 0.03763139992952347, 0.017789389938116074, 0.004789451137185097, 0.019842011854052544, 0.9754816293716431, 0.06610135734081268, 0.8357100486755371, 0.09443051367998123, 0.975089967250824, 0.012830130755901337, 0.06006908044219017, 0.2316950112581253, 0.04505180940032005, 0.13515542447566986, 0.019307918846607208, 0.15231801569461823, 0.053633105009794235, 0.30034539103507996, 0.9906996488571167, 0.14422607421875, 0.8413187861442566, 0.9271206259727478, 0.2271205484867096, 0.7650376558303833, 0.9940804243087769, 0.982323944568634, 0.9852229356765747, 0.9785311222076416, 0.9890155792236328, 0.07841806858778, 0.8017215132713318, 0.006190899759531021, 0.008254533633589745, 0.10524529963731766, 0.05847831070423126, 0.9356529712677002, 0.3774067759513855, 0.3504491448402405, 0.26418474316596985, 0.6015283465385437, 0.21929652988910675, 0.0010247500613331795, 0.04918800666928291, 0.024594003334641457, 0.10452451556921005, 0.500775933265686, 0.19290590286254883, 0.12016024440526962, 0.0006495148409157991, 0.021433990448713303, 0.12535636126995087, 0.027929138392210007, 0.010392237454652786, 0.986892580986023, 0.010174150578677654, 0.23670627176761627, 0.13886767625808716, 0.06627775728702545, 0.056809503585100174, 0.031560834497213364, 0.0599655881524086, 0.09468250721693039, 0.015780417248606682, 0.29667186737060547, 0.24207419157028198, 0.7525349855422974, 0.002631241222843528, 0.002631241222843528, 0.985086977481842, 0.02684195339679718, 0.015937410295009613, 0.8849456906318665, 0.021809088066220284, 0.021809088066220284, 0.02851957641541958, 0.9889876842498779, 0.7903071045875549, 0.02263900637626648, 0.18522822856903076, 0.9724920988082886, 0.9748860001564026, 0.02107861638069153, 0.9671614170074463, 0.9837862849235535, 0.9895860552787781, 0.1817276030778885, 0.061333067715168, 0.01135797519236803, 0.09313540160655975, 0.6065158843994141, 0.013629570603370667, 0.031802330166101456, 0.18528659641742706, 0.020715272054076195, 0.2198120504617691, 0.02416781708598137, 0.4591885209083557, 0.0023016969207674265, 0.03222375735640526, 0.01611187867820263, 0.03452545404434204, 0.003452545264735818, 0.021174512803554535, 0.3829057812690735, 0.5117173790931702, 0.02999722585082054, 0.037055399268865585, 0.0158808846026659, 0.053316038101911545, 0.026658019050955772, 0.06220204755663872, 0.18216313421726227, 0.6664505004882812, 0.0044430033303797245, 0.9902569055557251, 0.98894864320755, 0.9766823649406433, 0.9954691529273987, 0.03145783767104149, 0.07864458858966827, 0.06291567534208298, 0.23593376576900482, 0.5819699764251709, 0.9850805997848511, 0.9889534115791321, 0.42762720584869385, 0.22230707108974457, 0.059823498129844666, 0.002954246709123254, 0.033235277980566025, 0.05022219568490982, 0.12924829125404358, 0.04874507337808609, 0.02511109784245491, 0.991580069065094, 0.009520894847810268, 0.20469924807548523, 0.7807133793830872, 0.9492207765579224, 0.047124434262514114, 0.9458412528038025, 0.017624370753765106, 0.029373951256275177, 0.1758957952260971, 0.028634198009967804, 0.04226953163743019, 0.20998412370681763, 0.05317779630422592, 0.1090826615691185, 0.025907130911946297, 0.010908265598118305, 0.004090599715709686, 0.24952659010887146, 0.004090599715709686, 0.028634198009967804, 0.05726839601993561, 0.9847157597541809, 0.9377812147140503, 0.9964323043823242, 0.9868074655532837, 0.09239077568054199, 0.138586163520813, 0.2900043725967407, 0.26305705308914185, 0.06416025757789612, 0.08469154685735703, 0.06544346362352371, 0.08288376778364182, 0.051005396991968155, 0.7076998949050903, 0.025502698495984077, 0.07013241946697235, 0.019127024337649345, 0.03825404867529869, 0.15168246626853943, 0.82841956615448, 0.8900869488716125, 0.08141039311885834, 0.027136797085404396, 0.9487802386283875, 0.9818047881126404, 0.9864365458488464, 0.9771795868873596, 0.9787440299987793, 0.9901461601257324, 0.07812736928462982, 0.8984647393226624, 0.9808846712112427, 0.1435154527425766, 0.19700276851654053, 0.02806759811937809, 0.13451264798641205, 0.2425464242696762, 0.007943660020828247, 0.05560562014579773, 0.18694080412387848, 0.002118309261277318, 0.002118309261277318, 0.08188824355602264, 0.026204237714409828, 0.014739884063601494, 0.37832367420196533, 0.17851637303829193, 0.12610790133476257, 0.03766859322786331, 0.15394990146160126, 0.0016377648571506143, 0.512371838092804, 0.16358859837055206, 0.131179541349411, 0.006944798864424229, 0.035495638847351074, 0.004629866220057011, 0.102628692984581, 0.02855084091424942, 0.013117953203618526, 0.2367427796125412, 0.0843193456530571, 0.0032430519349873066, 0.6745547652244568, 0.9934009313583374, 0.9821490049362183, 0.9898950457572937, 0.0042171659879386425, 0.0042171659879386425, 0.9601081609725952, 0.0281144417822361, 0.9958704710006714, 0.02392606809735298, 0.6895058155059814, 0.2849377393722534, 0.9836604595184326, 0.9899711012840271, 0.3163788318634033, 0.6478233337402344, 0.030131317675113678, 0.9053190350532532, 0.036504797637462616, 0.05110671743750572, 0.5062751173973083, 0.014465004205703735, 0.46288013458251953, 0.9910348653793335, 0.5845845937728882, 0.26974281668663025, 0.006807389669120312, 0.003403694834560156, 0.09785622358322144, 0.0382915660738945, 0.9706994891166687, 0.5357165932655334, 0.09705011546611786, 0.12810614705085754, 0.23680227994918823, 0.969781219959259, 0.5969467759132385, 0.2649660110473633, 0.07526271790266037, 0.020619923248887062, 0.03711586073040962, 0.00412398437038064, 0.5840530395507812, 0.12646162509918213, 0.07487858831882477, 0.02246357686817646, 0.12646162509918213, 0.0590708889067173, 0.004991906229406595, 0.5847271084785461, 0.13446687161922455, 0.17283746600151062, 0.03565409407019615, 0.03667278215289116, 0.03565409407019615, 0.056595686823129654, 0.16592825949192047, 0.059168219566345215, 0.03087037429213524, 0.09904245287179947, 0.09904245287179947, 0.08232100307941437, 0.21609263122081757, 0.08746606111526489, 0.07331714034080505, 0.0167214535176754, 0.011576390825212002, 0.002572531346231699, 0.9928611516952515, 0.9581470489501953, 0.3611159026622772, 0.20724913477897644, 0.10816032439470291, 0.0272145327180624, 0.02651672437787056, 0.0628027692437172, 0.0310524795204401, 0.09664648026227951, 0.025470010936260223, 0.0069780852645635605, 0.021980969235301018, 0.0017445213161408901, 0.019887542352080345, 0.0031401384621858597, 0.9843919277191162, 0.9842153191566467, 0.9857580661773682, 0.988399088382721, 0.011551691219210625, 0.08471240103244781, 0.092413529753685, 0.061609018594026566, 0.06545957922935486, 0.12706859409809113, 0.5544811487197876, 0.9726383686065674, 0.9921650290489197, 0.12071242928504944, 0.14378981292247772, 0.14378981292247772, 0.053255483508110046, 0.08875913918018341, 0.0017751827836036682, 0.4473460614681244, 0.011281060986220837, 0.07445500046014786, 0.09250469505786896, 0.072198785841465, 0.0834798514842987, 0.6588139533996582, 0.004512424115091562, 0.16547462344169617, 0.8273731470108032, 0.9840308427810669, 0.09303662180900574, 0.9030025601387024, 0.938647449016571, 0.1864962875843048, 0.7770678400993347, 0.9849751591682434, 0.1429409235715866, 0.13194546103477478, 0.10995455831289291, 0.5882568955421448, 0.021990912035107613, 0.9429104328155518, 0.07656287401914597, 0.206719771027565, 0.7196910381317139, 0.6912707686424255, 0.2950545847415924, 0.4369942843914032, 0.08568515628576279, 0.03534512594342232, 0.0010710645001381636, 0.3405984938144684, 0.009639579802751541, 0.012852773070335388, 0.04177151247859001, 0.034274064004421234, 0.4161738455295563, 0.014863351359963417, 0.5672845840454102, 0.9917140007019043, 0.9967185854911804, 0.9975427985191345, 0.9963918328285217, 0.05492491275072098, 0.9062610268592834, 0.9842990040779114, 0.9889208078384399, 0.9179520606994629, 0.2963363826274872, 0.61546790599823, 0.07693348824977875, 0.008548164740204811, 0.041095174849033356, 0.12864576280117035, 0.15187348425388336, 0.026801202446222305, 0.46991440653800964, 0.035734936594963074, 0.016080720350146294, 0.0142939742654562, 0.1143517941236496, 0.009019618853926659, 0.8448376655578613, 0.11725504696369171, 0.030065396800637245, 0.19341009855270386, 0.34749168157577515, 0.02585984580218792, 0.11636930704116821, 0.028014833107590675, 0.05171969160437584, 0.15731406211853027, 0.00323248072527349, 0.04094475507736206, 0.023704858496785164, 0.004848720971494913, 0.007003708276897669, 0.006724740844219923, 0.6545414924621582, 0.04931476712226868, 0.2600233256816864, 0.017932642251253128, 0.006724740844219923, 0.7272717356681824, 0.2041955292224884, 0.05314677953720093, 0.00839159730821848, 0.005594397895038128, 0.11103738099336624, 0.27261102199554443, 0.04199490696191788, 0.1523205190896988, 0.016370896250009537, 0.14235562086105347, 0.20855097472667694, 0.054095134139060974, 0.055916666984558105, 0.4249666631221771, 0.11183333396911621, 0.044733334332704544, 0.35786667466163635, 0.9892492890357971, 0.9437008500099182, 0.9946749806404114, 0.9863073229789734, 0.9787886142730713, 0.010420611128211021, 0.0995747298002243, 0.6530249714851379, 0.02894614078104496, 0.010420611128211021, 0.17599253356456757, 0.01852552965283394, 0.003473537042737007, 0.9861346483230591, 0.8386813998222351, 0.13337521255016327, 0.018084775656461716, 0.009042387828230858, 0.06338509917259216, 0.17430903017520905, 0.7606212496757507, 0.9719868898391724, 0.7010528445243835, 0.28679436445236206, 0.06047667935490608, 0.19755715131759644, 0.10885801911354065, 0.044349562376737595, 0.4475274085998535, 0.11288979649543762, 0.004031778778880835, 0.02015889249742031, 0.9641050696372986, 0.07194317132234573, 0.8992896676063538, 0.9857749938964844, 0.39140403270721436, 0.25898289680480957, 0.1576162874698639, 0.06796836107969284, 0.007617143914103508, 0.014648353680968285, 0.048046600073575974, 0.053320009261369705, 0.9395034909248352, 0.028219517320394516, 0.028219517320394516, 0.020156798884272575, 0.036282237619161606, 0.8788363933563232, 0.008062719367444515, 0.9249492287635803, 0.06902606040239334, 0.9951736330986023, 0.03270350396633148, 0.9484015703201294, 0.9787439703941345, 0.4825151860713959, 0.16828079521656036, 0.12693415582180023, 0.04300049692392349, 0.034731172025203705, 0.021500248461961746, 0.00041346633224748075, 0.07979900389909744, 0.03969276696443558, 0.003307730657979846, 0.06821993738412857, 0.040563203394412994, 0.020281601697206497, 0.036875639110803604, 0.8333894610404968, 0.19538982212543488, 0.036965642124414444, 0.04224644601345062, 0.03168483451008797, 0.27460190653800964, 0.2165130376815796, 0.20067062973976135, 0.09694948047399521, 0.4736674726009369, 0.019389895722270012, 0.047089748084545135, 0.04154977947473526, 0.06370966136455536, 0.07201961427927017, 0.06924962997436523, 0.06924962997436523, 0.04985973238945007, 0.977038562297821, 0.9981557726860046, 0.9892445802688599, 0.19189615547657013, 0.802474856376648, 0.9521831274032593, 0.05723360553383827, 0.9366768002510071, 0.004187824670225382, 0.34976133704185486, 0.18362469971179962, 0.005246419925242662, 0.4013511538505554, 0.035850536078214645, 0.023608891293406487, 0.983271598815918, 0.11992228031158447, 0.8737194538116455, 0.3401486873626709, 0.03239511325955391, 0.6155071258544922, 0.9934055805206299, 0.9880662560462952, 0.9818806052207947, 0.982064962387085, 0.9777539372444153, 0.05253181979060173, 0.25740593671798706, 0.6513946056365967, 0.03677227348089218, 0.8601697683334351, 0.08837360888719559, 0.023566296324133873, 0.023566296324133873, 0.2511495351791382, 0.0746660828590393, 0.02206043340265751, 0.14593824744224548, 0.45817822217941284, 0.013575650751590729, 0.03393912687897682, 0.1634531468153, 0.3622475266456604, 0.21141624450683594, 0.07636228203773499, 0.027768103405833244, 0.0063109323382377625, 0.03218575567007065, 0.007573118899017572, 0.0870908722281456, 0.020826077088713646, 0.00126218656077981, 0.00252437312155962, 0.000631093280389905, 0.9839116334915161, 0.9934119582176208, 0.3118272125720978, 0.015776973217725754, 0.07331652194261551, 0.08445320278406143, 0.20602869987487793, 0.23108623921871185, 0.005568343214690685, 0.043618690222501755, 0.025985602289438248, 0.0027841716073453426, 0.9884851574897766, 0.5374994277954102, 0.2021092027425766, 0.11157235503196716, 0.0127895912155509, 0.018511250615119934, 0.05654345825314522, 0.018342966213822365, 0.02507433108985424, 0.011779886670410633, 0.004711954854428768, 0.001177988713607192, 0.9635451436042786, 0.7467285394668579, 0.1273009181022644, 0.01086715143173933, 0.08227986097335815, 0.0015524501213803887, 0.031049003824591637, 0.985948383808136, 0.9894300699234009, 0.9936995506286621, 0.9689207673072815, 0.9562857747077942, 0.9925082921981812, 0.9947801828384399, 0.9901069402694702, 0.9778631925582886, 0.01782045140862465, 0.10050734132528305, 0.22097359597682953, 0.07484589517116547, 0.01782045140862465, 0.4020293653011322, 0.07413307577371597, 0.09195352345705032, 0.17617899179458618, 0.11142944544553757, 0.23339951038360596, 0.14455711841583252, 0.030116066336631775, 0.02258704975247383, 0.11444105207920074, 0.06173793599009514, 0.05345601961016655, 0.05195021629333496, 0.0007529016584157944, 0.9667847752571106, 0.9676205515861511, 0.9596906304359436, 0.9925810694694519, 0.9890829920768738, 0.13530725240707397, 0.4397485554218292, 0.06765362620353699, 0.02537010982632637, 0.3298114240169525, 0.9571316242218018, 0.9415997862815857], \"Term\": [\"abortion\", \"absolute\", \"accelerator\", \"access\", \"access\", \"access\", \"access\", \"access\", \"access\", \"access\", \"acids\", \"adam\", \"adam\", \"adam\", \"adam\", \"adaptec\", \"address\", \"address\", \"address\", \"address\", \"address\", \"address\", \"address\", \"address\", \"adirondack\", \"adjective\", \"administration\", \"administration\", \"administration\", \"administration\", \"admit\", \"admit\", \"admit\", \"aerospace\", \"aged\", \"aged\", \"agencies\", \"agencies\", \"agency\", \"agency\", \"agree\", \"agree\", \"agree\", \"agree\", \"agrep\", \"algorithm\", \"algorithm\", \"algorithm\", \"allah\", \"allocation\", \"alomar\", \"also\", \"also\", \"also\", \"also\", \"also\", \"also\", \"also\", \"also\", \"also\", \"also\", \"also\", \"also\", \"also\", \"also\", \"aluminum\", \"aluminum\", \"amendment\", \"amendment\", \"american\", \"american\", \"american\", \"american\", \"american\", \"american\", \"american\", \"ames\", \"among\", \"among\", \"among\", \"among\", \"among\", \"among\", \"among\", \"among\", \"animation\", \"anonymous\", \"anonymous\", \"anonymous\", \"ansi\", \"anti\", \"anti\", \"anti\", \"anti\", \"anyone\", \"anyone\", \"anyone\", \"anyone\", \"anyone\", \"anyone\", \"anyone\", \"anyone\", \"anyone\", \"anyone\", \"anyone\", \"apartment\", \"apple\", \"apple\", \"application\", \"application\", \"application\", \"application\", \"application\", \"april\", \"april\", \"april\", \"april\", \"april\", \"april\", \"april\", \"april\", \"arab\", \"archive\", \"archive\", \"archive\", \"archive\", \"archive\", \"arens\", \"argic\", \"argic\", \"argue\", \"argue\", \"argv\", \"armenia\", \"armenian\", \"armenian\", \"armenians\", \"armenians\", \"armored\", \"arms\", \"arms\", \"arms\", \"army\", \"army\", \"army\", \"army\", \"around\", \"around\", \"around\", \"around\", \"around\", \"around\", \"around\", \"around\", \"around\", \"around\", \"around\", \"around\", \"around\", \"arrogance\", \"arrogant\", \"asala\", \"aspi\", \"assault\", \"assertion\", \"assumptions\", \"astro\", \"astronaut\", \"astronomy\", \"astros\", \"atheism\", \"athens\", \"attacks\", \"attacks\", \"attacks\", \"aunt\", \"author\", \"author\", \"author\", \"author\", \"author\", \"auto\", \"auto\", \"auto\", \"autos\", \"autos\", \"available\", \"available\", \"available\", \"available\", \"available\", \"available\", \"available\", \"available\", \"available\", \"available\", \"azerbaijani\", \"azerbaijani\", \"azerbaijanis\", \"azerbaijanis\", \"azeri\", \"azeris\", \"back\", \"back\", \"back\", \"back\", \"back\", \"back\", \"back\", \"back\", \"back\", \"back\", \"back\", \"back\", \"back\", \"back\", \"back\", \"balcony\", \"balloon\", \"banks\", \"banks\", \"baptism\", \"baseball\", \"baseball\", \"based\", \"based\", \"based\", \"based\", \"based\", \"based\", \"based\", \"based\", \"based\", \"bass\", \"bassel\", \"batf\", \"battery\", \"baud\", \"beach\", \"beach\", \"beach\", \"beach\", \"beach\", \"beach\", \"beef\", \"behaviour\", \"belief\", \"belief\", \"beliefs\", \"beliefs\", \"believe\", \"believe\", \"believe\", \"believe\", \"believe\", \"best\", \"best\", \"best\", \"best\", \"best\", \"best\", \"best\", \"best\", \"best\", \"better\", \"better\", \"better\", \"better\", \"better\", \"better\", \"bhjn\", \"bible\", \"biblical\", \"bike\", \"bike\", \"bike\", \"billion\", \"billion\", \"binaries\", \"bindings\", \"bios\", \"bits\", \"bits\", \"bits\", \"black\", \"black\", \"black\", \"black\", \"black\", \"black\", \"black\", \"black\", \"black\", \"black\", \"black\", \"black\", \"black\", \"black\", \"blah\", \"block\", \"block\", \"block\", \"block\", \"block\", \"blood\", \"blood\", \"blood\", \"blood\", \"blood\", \"bname\", \"bone\", \"book\", \"book\", \"book\", \"book\", \"book\", \"book\", \"book\", \"book\", \"book\", \"boot\", \"boot\", \"boot\", \"boston\", \"boston\", \"boston\", \"bought\", \"bought\", \"brady\", \"brady\", \"brake\", \"brand\", \"brand\", \"braves\", \"breaker\", \"breakers\", \"brown\", \"brown\", \"brown\", \"brown\", \"brown\", \"brown\", \"brown\", \"bruins\", \"brute\", \"budget\", \"budget\", \"budget\", \"build\", \"build\", \"build\", \"build\", \"build\", \"build\", \"build\", \"build\", \"build\", \"building\", \"building\", \"building\", \"building\", \"building\", \"building\", \"building\", \"building\", \"building\", \"building\", \"bullet\", \"bullet\", \"bury\", \"bury\", \"bush\", \"bush\", \"business\", \"business\", \"business\", \"business\", \"business\", \"business\", \"buying\", \"buying\", \"buying\", \"bxlt\", \"bxom\", \"byte\", \"byte\", \"byte\", \"bytes\", \"bytes\", \"cache\", \"cache\", \"cache\", \"cadre\", \"calgary\", \"calif\", \"callback\", \"came\", \"came\", \"came\", \"came\", \"came\", \"came\", \"came\", \"came\", \"canadiens\", \"cancer\", \"cancer\", \"candida\", \"cape\", \"cape\", \"captain\", \"card\", \"card\", \"cards\", \"cards\", \"cards\", \"cards\", \"cards\", \"care\", \"care\", \"care\", \"care\", \"care\", \"cars\", \"cars\", \"cars\", \"catbyte\", \"catholic\", \"cause\", \"cause\", \"cause\", \"cause\", \"cause\", \"cause\", \"cause\", \"cause\", \"cells\", \"center\", \"center\", \"center\", \"center\", \"center\", \"center\", \"char\", \"characters\", \"characters\", \"chastity\", \"check\", \"check\", \"check\", \"check\", \"check\", \"check\", \"check\", \"check\", \"check\", \"check\", \"check\", \"chicago\", \"chicago\", \"chicago\", \"chicago\", \"children\", \"children\", \"children\", \"children\", \"children\", \"chip\", \"chip\", \"chips\", \"chips\", \"chips\", \"christ\", \"christian\", \"christian\", \"christian\", \"christianity\", \"christians\", \"chronic\", \"church\", \"chzd\", \"chzv\", \"cica\", \"cipher\", \"ciphers\", \"ciphertext\", \"circuit\", \"circuit\", \"circuit\", \"circuits\", \"citizens\", \"citizens\", \"citizens\", \"citizens\", \"citizens\", \"civilians\", \"civilians\", \"claim\", \"claim\", \"claim\", \"claim\", \"classified\", \"cleaning\", \"cleaning\", \"clemens\", \"client\", \"client\", \"clients\", \"clients\", \"clinical\", \"clinical\", \"clinton\", \"clinton\", \"clinton\", \"clipper\", \"clothes\", \"coat\", \"code\", \"code\", \"code\", \"code\", \"code\", \"code\", \"code\", \"code\", \"coli\", \"color\", \"color\", \"color\", \"color\", \"colored\", \"colormap\", \"cols\", \"columbia\", \"columbia\", \"columbia\", \"columbia\", \"columbia\", \"come\", \"come\", \"come\", \"come\", \"come\", \"come\", \"come\", \"come\", \"come\", \"commitment\", \"communications\", \"communications\", \"communications\", \"communications\", \"community\", \"community\", \"community\", \"community\", \"community\", \"community\", \"compass\", \"compatibles\", \"compile\", \"compiler\", \"computer\", \"computer\", \"computer\", \"computer\", \"computer\", \"condition\", \"condition\", \"condition\", \"condition\", \"condition\", \"condition\", \"condition\", \"condition\", \"condition\", \"conductor\", \"conduit\", \"confidential\", \"connected\", \"connected\", \"connected\", \"connected\", \"connected\", \"connected\", \"connected\", \"connection\", \"connection\", \"connection\", \"connection\", \"connection\", \"connection\", \"connection\", \"connection\", \"connection\", \"connection\", \"connectors\", \"conscience\", \"constitution\", \"contact\", \"contact\", \"contact\", \"contact\", \"contact\", \"contact\", \"contact\", \"contact\", \"contact\", \"contest\", \"contest\", \"continue\", \"continue\", \"continue\", \"continue\", \"continue\", \"contracts\", \"contrib\", \"contrib\", \"control\", \"control\", \"control\", \"control\", \"control\", \"control\", \"control\", \"control\", \"control\", \"control\", \"controller\", \"controllers\", \"convince\", \"convince\", \"convince\", \"cooling\", \"cooper\", \"coprocessor\", \"corp\", \"corp\", \"corp\", \"could\", \"could\", \"could\", \"could\", \"could\", \"could\", \"could\", \"could\", \"could\", \"could\", \"could\", \"could\", \"count\", \"count\", \"count\", \"count\", \"count\", \"count\", \"countersteering\", \"course\", \"course\", \"course\", \"course\", \"course\", \"course\", \"course\", \"course\", \"course\", \"course\", \"course\", \"courtnall\", \"courtnall\", \"cover\", \"cover\", \"cover\", \"cover\", \"cover\", \"cover\", \"cover\", \"crime\", \"crime\", \"crime\", \"criminal\", \"criminal\", \"crowd\", \"crowd\", \"crypt\", \"cryptanalysis\", \"crypto\", \"cryptographic\", \"cryptography\", \"cryptologia\", \"ctrl\", \"cure\", \"current\", \"current\", \"current\", \"current\", \"current\", \"current\", \"current\", \"current\", \"current\", \"current\", \"current\", \"current\", \"current\", \"cursor\", \"curt\", \"cview\", \"cylinder\", \"cyprus\", \"czech\", \"dahlquist\", \"darren\", \"data\", \"data\", \"data\", \"data\", \"data\", \"database\", \"deaf\", \"debt\", \"decrypt\", \"decryption\", \"deeds\", \"deeds\", \"defense\", \"defense\", \"defense\", \"defense\", \"define\", \"define\", \"define\", \"define\", \"define\", \"define\", \"delta\", \"denning\", \"dept\", \"dept\", \"detector\", \"detectors\", \"detroit\", \"device\", \"device\", \"device\", \"device\", \"devils\", \"dialog\", \"diamond\", \"diet\", \"directory\", \"directory\", \"directory\", \"directory\", \"disagree\", \"disagree\", \"disagree\", \"discharge\", \"disease\", \"diseases\", \"disk\", \"disk\", \"disk\", \"disk\", \"disks\", \"disks\", \"display\", \"display\", \"display\", \"divine\", \"division\", \"division\", \"division\", \"division\", \"division\", \"doctor\", \"doctor\", \"doctor\", \"doctor\", \"doctrine\", \"dole\", \"door\", \"door\", \"door\", \"door\", \"doubt\", \"doubt\", \"doubt\", \"doubt\", \"doubt\", \"dragon\", \"dragon\", \"drake\", \"dram\", \"draw\", \"draw\", \"draw\", \"draw\", \"draw\", \"draw\", \"draw\", \"drive\", \"drive\", \"drive\", \"driver\", \"driver\", \"driver\", \"driver\", \"driver\", \"driver\", \"drivers\", \"drivers\", \"drivers\", \"drivers\", \"drives\", \"drugs\", \"drugs\", \"drugs\", \"dtmedin\", \"dull\", \"earth\", \"earth\", \"earth\", \"earth\", \"echl\", \"echo\", \"economic\", \"economic\", \"economic\", \"economy\", \"edge\", \"edge\", \"edge\", \"edge\", \"edge\", \"edge\", \"edge\", \"edge\", \"education\", \"education\", \"education\", \"education\", \"education\", \"eisa\", \"eisa\", \"elected\", \"electrical\", \"electrical\", \"electrical\", \"electrical\", \"electricity\", \"email\", \"email\", \"email\", \"email\", \"email\", \"email\", \"emerson\", \"emma\", \"encrypt\", \"encrypted\", \"encryption\", \"enforcement\", \"enforcement\", \"enforcement\", \"engine\", \"enough\", \"enough\", \"enough\", \"enough\", \"enough\", \"enough\", \"enough\", \"enough\", \"entries\", \"entry\", \"entry\", \"eqtm\", \"error\", \"error\", \"error\", \"error\", \"error\", \"erzurum\", \"escrow\", \"esdi\", \"espn\", \"eternal\", \"ether\", \"ethernet\", \"even\", \"even\", \"even\", \"even\", \"even\", \"even\", \"even\", \"even\", \"even\", \"even\", \"even\", \"event\", \"event\", \"event\", \"event\", \"event\", \"event\", \"exhaust\", \"exist\", \"exist\", \"exist\", \"exist\", \"exist\", \"exist\", \"explain\", \"explain\", \"explain\", \"explain\", \"exploration\", \"expn\", \"export\", \"export\", \"export\", \"expos\", \"external\", \"external\", \"external\", \"external\", \"external\", \"ezekiel\", \"ezekiel\", \"face\", \"face\", \"face\", \"face\", \"face\", \"face\", \"face\", \"face\", \"fairing\", \"faith\", \"fans\", \"fastest\", \"father\", \"father\", \"fields\", \"fields\", \"fields\", \"fields\", \"fields\", \"fields\", \"fields\", \"fijh\", \"file\", \"file\", \"file\", \"file\", \"file\", \"filename\", \"files\", \"files\", \"files\", \"files\", \"files\", \"files\", \"filters\", \"financial\", \"firearm\", \"firearms\", \"first\", \"first\", \"first\", \"first\", \"first\", \"first\", \"first\", \"first\", \"first\", \"first\", \"first\", \"first\", \"first\", \"first\", \"first\", \"first\", \"flight\", \"flight\", \"floor\", \"floor\", \"floor\", \"floppies\", \"floppy\", \"flowing\", \"fluke\", \"flyers\", \"font\", \"fonts\", \"food\", \"food\", \"food\", \"food\", \"food\", \"foods\", \"foreground\", \"format\", \"format\", \"format\", \"formats\", \"formatted\", \"forsale\", \"forty\", \"fprintf\", \"freeware\", \"fund\", \"fund\", \"funds\", \"funds\", \"funds\", \"funny\", \"funny\", \"funny\", \"funny\", \"game\", \"game\", \"game\", \"game\", \"games\", \"games\", \"gang\", \"gateway\", \"gateway\", \"gateway\", \"gays\", \"gaza\", \"gear\", \"genocide\", \"geoffrey\", \"gerard\", \"gfci\", \"ghetto\", \"gifs\", \"gizw\", \"gizwt\", \"glutamate\", \"goal\", \"goal\", \"goal\", \"goal\", \"going\", \"going\", \"going\", \"going\", \"going\", \"going\", \"going\", \"going\", \"good\", \"good\", \"good\", \"good\", \"good\", \"good\", \"good\", \"good\", \"good\", \"good\", \"gordon\", \"gospel\", \"government\", \"government\", \"government\", \"government\", \"grace\", \"granato\", \"graphical\", \"graphics\", \"graphics\", \"graphics\", \"graphics\", \"greece\", \"greek\", \"greek\", \"ground\", \"ground\", \"ground\", \"ground\", \"ground\", \"ground\", \"ground\", \"ground\", \"grounded\", \"grounded\", \"grounding\", \"groups\", \"groups\", \"groups\", \"groups\", \"groups\", \"groups\", \"groups\", \"groups\", \"gsfc\", \"guns\", \"guns\", \"guns\", \"guns\", \"hamburgers\", \"hammer\", \"hammer\", \"handguns\", \"handler\", \"happened\", \"happened\", \"happened\", \"happened\", \"happened\", \"happened\", \"hard\", \"hard\", \"hard\", \"hard\", \"hard\", \"hard\", \"hard\", \"harley\", \"harley\", \"hartford\", \"hawgood\", \"head\", \"head\", \"head\", \"head\", \"head\", \"head\", \"head\", \"head\", \"head\", \"head\", \"headache\", \"health\", \"health\", \"health\", \"heard\", \"heard\", \"heard\", \"heard\", \"heard\", \"heard\", \"heard\", \"heard\", \"heaven\", \"height\", \"height\", \"height\", \"hell\", \"hell\", \"hell\", \"hell\", \"hell\", \"hellman\", \"helmet\", \"helmet\", \"help\", \"help\", \"help\", \"help\", \"help\", \"help\", \"help\", \"help\", \"help\", \"help\", \"help\", \"help\", \"help\", \"henrik\", \"hicnet\", \"history\", \"history\", \"history\", \"history\", \"history\", \"history\", \"hockey\", \"hojali\", \"holy\", \"home\", \"home\", \"home\", \"home\", \"home\", \"home\", \"home\", \"home\", \"home\", \"homicide\", \"homosexual\", \"honda\", \"house\", \"house\", \"house\", \"house\", \"house\", \"house\", \"housing\", \"hrudey\", \"hulk\", \"hull\", \"hull\", \"huntsville\", \"icon\", \"idaho\", \"idaho\", \"ieee\", \"ignore\", \"ignore\", \"ignoring\", \"igor\", \"iisi\", \"image\", \"image\", \"image\", \"image\", \"image\", \"images\", \"images\", \"images\", \"imaging\", \"imake\", \"immoral\", \"imply\", \"imply\", \"include\", \"include\", \"include\", \"include\", \"include\", \"include\", \"include\", \"include\", \"include\", \"include\", \"include\", \"include\", \"include\", \"income\", \"industry\", \"industry\", \"industry\", \"industry\", \"industry\", \"infection\", \"infections\", \"infectious\", \"info\", \"info\", \"info\", \"info\", \"info\", \"information\", \"information\", \"information\", \"information\", \"information\", \"information\", \"information\", \"information\", \"information\", \"information\", \"information\", \"ingr\", \"init\", \"initiative\", \"initiative\", \"inning\", \"input\", \"input\", \"input\", \"input\", \"institute\", \"institute\", \"institute\", \"institute\", \"institute\", \"institute\", \"institute\", \"insulation\", \"insurance\", \"insurance\", \"intellect\", \"intellectual\", \"interface\", \"interface\", \"interface\", \"interim\", \"internet\", \"internet\", \"internet\", \"internet\", \"internet\", \"internet\", \"internet\", \"invaded\", \"investment\", \"investment\", \"ioccc\", \"isaiah\", \"islam\", \"islam\", \"island\", \"island\", \"islanders\", \"israel\", \"israel\", \"israeli\", \"israelis\", \"jacket\", \"jail\", \"janney\", \"jersey\", \"jersey\", \"jesus\", \"jets\", \"jewish\", \"jewish\", \"jewish\", \"jews\", \"jews\", \"jobs\", \"jobs\", \"john\", \"john\", \"john\", \"john\", \"john\", \"john\", \"john\", \"john\", \"john\", \"john\", \"john\", \"john\", \"jose\", \"jose\", \"jose\", \"joshua\", \"jpeg\", \"jpeg\", \"jpwu\", \"judas\", \"judges\", \"judges\", \"judges\", \"jumper\", \"jumpers\", \"karabakh\", \"karina\", \"keyboard\", \"keyboard\", \"keys\", \"keys\", \"kidney\", \"killed\", \"killed\", \"killed\", \"killed\", \"kings\", \"kings\", \"kits\", \"know\", \"know\", \"know\", \"know\", \"know\", \"know\", \"know\", \"know\", \"know\", \"kurds\", \"land\", \"land\", \"land\", \"land\", \"land\", \"land\", \"landon\", \"larson\", \"last\", \"last\", \"last\", \"last\", \"last\", \"last\", \"last\", \"last\", \"last\", \"last\", \"last\", \"last\", \"last\", \"last\", \"later\", \"later\", \"later\", \"later\", \"later\", \"later\", \"later\", \"later\", \"later\", \"later\", \"later\", \"laughter\", \"launch\", \"launched\", \"launched\", \"launches\", \"layout\", \"leafs\", \"league\", \"league\", \"league\", \"lean\", \"lebanese\", \"lebanon\", \"lefebvre\", \"left\", \"left\", \"left\", \"left\", \"left\", \"left\", \"left\", \"left\", \"left\", \"left\", \"lemieux\", \"lemieux\", \"liar\", \"libertarians\", \"libx\", \"libxmu\", \"libxmu\", \"life\", \"life\", \"life\", \"life\", \"life\", \"life\", \"life\", \"like\", \"like\", \"like\", \"like\", \"like\", \"like\", \"like\", \"like\", \"like\", \"like\", \"like\", \"line\", \"line\", \"line\", \"line\", \"line\", \"line\", \"line\", \"line\", \"line\", \"line\", \"line\", \"line\", \"line\", \"line\", \"lines\", \"lines\", \"lines\", \"lines\", \"lines\", \"lines\", \"lines\", \"lines\", \"lines\", \"lines\", \"lines\", \"lineup\", \"lineup\", \"linked\", \"linked\", \"list\", \"list\", \"list\", \"list\", \"list\", \"list\", \"list\", \"list\", \"list\", \"list\", \"list\", \"list\", \"listserv\", \"lock\", \"lock\", \"lock\", \"lock\", \"logos\", \"looking\", \"looking\", \"looking\", \"looking\", \"looking\", \"looking\", \"looking\", \"lopez\", \"lord\", \"louis\", \"louis\", \"louis\", \"love\", \"love\", \"love\", \"love\", \"love\", \"love\", \"lunar\", \"lunatic\", \"lyuda\", \"macinnis\", \"made\", \"made\", \"made\", \"made\", \"made\", \"made\", \"made\", \"made\", \"made\", \"made\", \"made\", \"mail\", \"mail\", \"mail\", \"mail\", \"mail\", \"mail\", \"mail\", \"mailing\", \"mailing\", \"mailing\", \"main\", \"main\", \"main\", \"main\", \"main\", \"main\", \"main\", \"main\", \"main\", \"main\", \"main\", \"main\", \"maine\", \"make\", \"make\", \"make\", \"make\", \"make\", \"make\", \"make\", \"make\", \"make\", \"make\", \"make\", \"make\", \"mamma\", \"manager\", \"manager\", \"manager\", \"manager\", \"manager\", \"mandatory\", \"manufactured\", \"many\", \"many\", \"many\", \"many\", \"many\", \"many\", \"many\", \"many\", \"many\", \"many\", \"marina\", \"mario\", \"mars\", \"massacre\", \"matthew\", \"maxbyte\", \"maxtor\", \"mazda\", \"mbxn\", \"meaningless\", \"medical\", \"medical\", \"medical\", \"medical\", \"medicine\", \"medicine\", \"medicine\", \"meeting\", \"meeting\", \"meeting\", \"meeting\", \"meeting\", \"memory\", \"memory\", \"memory\", \"memory\", \"menu\", \"menu\", \"menu\", \"menus\", \"merely\", \"merely\", \"messier\", \"metal\", \"metal\", \"metal\", \"metal\", \"methanol\", \"microdistrict\", \"might\", \"might\", \"might\", \"might\", \"might\", \"might\", \"might\", \"might\", \"might\", \"might\", \"might\", \"miles\", \"miles\", \"miles\", \"military\", \"military\", \"military\", \"militia\", \"millen\", \"mime\", \"minnesota\", \"minnesota\", \"minnesota\", \"mission\", \"mission\", \"missions\", \"mistakes\", \"mistakes\", \"mkentry\", \"mode\", \"mode\", \"mode\", \"mode\", \"mode\", \"mode\", \"modem\", \"modem\", \"molecular\", \"moncton\", \"money\", \"money\", \"money\", \"money\", \"money\", \"monitor\", \"monitor\", \"monitors\", \"monitors\", \"montreal\", \"moon\", \"moon\", \"moral\", \"moral\", \"morality\", \"morris\", \"motherboard\", \"motherboard\", \"motif\", \"motor\", \"motor\", \"motor\", \"motor\", \"motorcycle\", \"motorcycle\", \"motorcycle\", \"mouse\", \"mouse\", \"mouse\", \"much\", \"much\", \"much\", \"much\", \"much\", \"much\", \"much\", \"much\", \"much\", \"much\", \"mullen\", \"murphy\", \"murphy\", \"murphy\", \"must\", \"must\", \"must\", \"must\", \"must\", \"must\", \"must\", \"must\", \"must\", \"must\", \"must\", \"must\", \"must\", \"mwra\", \"myers\", \"name\", \"name\", \"name\", \"name\", \"name\", \"name\", \"name\", \"name\", \"name\", \"name\", \"name\", \"name\", \"name\", \"nasa\", \"national\", \"national\", \"national\", \"national\", \"national\", \"national\", \"navy\", \"navy\", \"navy\", \"navy\", \"navy\", \"nazi\", \"nazi\", \"nazis\", \"ncsl\", \"near\", \"near\", \"near\", \"near\", \"near\", \"near\", \"near\", \"near\", \"near\", \"near\", \"neck\", \"need\", \"need\", \"need\", \"need\", \"need\", \"need\", \"need\", \"need\", \"need\", \"need\", \"need\", \"need\", \"need\", \"neutral\", \"neutral\", \"never\", \"never\", \"never\", \"never\", \"never\", \"never\", \"never\", \"never\", \"newline\", \"newsletter\", \"newsletter\", \"niedermayer\", \"night\", \"night\", \"night\", \"night\", \"night\", \"night\", \"nist\", \"nist\", \"nkjz\", \"nobody\", \"nobody\", \"nobody\", \"nobody\", \"nolan\", \"noll\", \"none\", \"none\", \"none\", \"none\", \"none\", \"none\", \"none\", \"none\", \"none\", \"none\", \"none\", \"none\", \"none\", \"noonan\", \"nope\", \"norton\", \"norton\", \"nothing\", \"nothing\", \"nothing\", \"nothing\", \"nothing\", \"nothing\", \"nothing\", \"nothing\", \"nothing\", \"nrhj\", \"nriz\", \"nrizwt\", \"nubus\", \"nuclear\", \"nuclear\", \"nuclear\", \"nuclear\", \"nuclear\", \"null\", \"null\", \"number\", \"number\", \"number\", \"number\", \"number\", \"number\", \"number\", \"number\", \"number\", \"number\", \"number\", \"number\", \"number\", \"obfuscated\", \"objective\", \"objective\", \"objective\", \"objectively\", \"observatory\", \"occupied\", \"occupied\", \"occupying\", \"offer\", \"offer\", \"offer\", \"offer\", \"offer\", \"offer\", \"offer\", \"olit\", \"oname\", \"open\", \"open\", \"open\", \"open\", \"open\", \"open\", \"open\", \"open\", \"open\", \"open\", \"open\", \"open\", \"openwindows\", \"opinion\", \"opinion\", \"opinion\", \"opinion\", \"opinion\", \"orbit\", \"orbital\", \"orbiter\", \"otto\", \"ottoman\", \"outbreak\", \"outlet\", \"outlets\", \"output\", \"output\", \"output\", \"output\", \"output\", \"ozone\", \"package\", \"package\", \"package\", \"pain\", \"pain\", \"pairs\", \"palestine\", \"palestinian\", \"palestinians\", \"panel\", \"panel\", \"panel\", \"panel\", \"panel\", \"pants\", \"paranoia\", \"parity\", \"part\", \"part\", \"part\", \"part\", \"part\", \"part\", \"part\", \"part\", \"part\", \"part\", \"part\", \"part\", \"part\", \"part\", \"part\", \"part\", \"passages\", \"password\", \"patent\", \"patented\", \"patents\", \"patient\", \"patients\", \"paul\", \"paul\", \"paul\", \"paul\", \"paul\", \"paul\", \"paul\", \"paul\", \"paul\", \"paul\", \"paul\", \"payload\", \"peace\", \"peace\", \"peace\", \"peace\", \"pens\", \"people\", \"people\", \"people\", \"people\", \"people\", \"people\", \"people\", \"people\", \"perhaps\", \"perhaps\", \"perhaps\", \"perhaps\", \"perhaps\", \"perhaps\", \"perhaps\", \"period\", \"period\", \"period\", \"period\", \"period\", \"period\", \"period\", \"period\", \"period\", \"period\", \"persian\", \"phenomenon\", \"phigs\", \"philadelphia\", \"phillies\", \"phone\", \"phone\", \"phone\", \"phone\", \"phone\", \"phone\", \"phones\", \"picture\", \"picture\", \"picture\", \"picture\", \"picture\", \"picture\", \"picture\", \"pilots\", \"pitcher\", \"pitching\", \"pitt\", \"pitt\", \"pittsburgh\", \"pittsburgh\", \"pittsburgh\", \"pixmap\", \"plaintext\", \"planetary\", \"plant\", \"plant\", \"plant\", \"plants\", \"plants\", \"plastic\", \"plastic\", \"plastic\", \"plastic\", \"play\", \"play\", \"play\", \"play\", \"play\", \"played\", \"played\", \"played\", \"played\", \"player\", \"player\", \"players\", \"playoff\", \"playoffs\", \"please\", \"please\", \"please\", \"please\", \"please\", \"please\", \"please\", \"please\", \"please\", \"plugs\", \"pmfq\", \"pname\", \"pnei\", \"point\", \"point\", \"point\", \"point\", \"point\", \"point\", \"point\", \"point\", \"point\", \"point\", \"point\", \"pointer\", \"pointers\", \"points\", \"points\", \"points\", \"points\", \"points\", \"points\", \"police\", \"police\", \"police\", \"police\", \"political\", \"political\", \"political\", \"political\", \"pope\", \"port\", \"port\", \"port\", \"port\", \"posters\", \"power\", \"power\", \"power\", \"power\", \"power\", \"power\", \"power\", \"power\", \"power\", \"power\", \"power\", \"powerbook\", \"premises\", \"president\", \"president\", \"president\", \"prevalence\", \"prevention\", \"price\", \"price\", \"price\", \"price\", \"price\", \"price\", \"price\", \"price\", \"print\", \"print\", \"print\", \"printer\", \"printer\", \"printf\", \"printing\", \"prison\", \"privacy\", \"private\", \"private\", \"private\", \"private\", \"private\", \"problem\", \"problem\", \"problem\", \"problem\", \"problem\", \"problem\", \"problem\", \"problem\", \"problem\", \"problems\", \"problems\", \"problems\", \"problems\", \"problems\", \"problems\", \"problems\", \"problems\", \"professor\", \"professor\", \"professor\", \"professor\", \"prog\", \"program\", \"program\", \"program\", \"program\", \"program\", \"program\", \"program\", \"programs\", \"programs\", \"programs\", \"programs\", \"programs\", \"programs\", \"programs\", \"project\", \"project\", \"project\", \"project\", \"project\", \"promo\", \"prong\", \"propulsion\", \"protect\", \"protect\", \"protect\", \"protein\", \"protein\", \"proves\", \"providence\", \"pseudo\", \"public\", \"public\", \"public\", \"public\", \"public\", \"public\", \"public\", \"public\", \"publisher\", \"puck\", \"push\", \"push\", \"push\", \"push\", \"push\", \"push\", \"quadra\", \"quebec\", \"question\", \"question\", \"question\", \"question\", \"question\", \"question\", \"question\", \"quotes\", \"quotes\", \"quotes\", \"radar\", \"radar\", \"radio\", \"radio\", \"radio\", \"radio\", \"radio\", \"radio\", \"radio\", \"radio\", \"radius\", \"radius\", \"raise\", \"raise\", \"raise\", \"ranford\", \"rangers\", \"rate\", \"rate\", \"rate\", \"rate\", \"rate\", \"rate\", \"rational\", \"rchz\", \"reactions\", \"read\", \"read\", \"read\", \"read\", \"read\", \"read\", \"read\", \"read\", \"read\", \"read\", \"really\", \"really\", \"really\", \"really\", \"really\", \"really\", \"really\", \"reason\", \"reason\", \"reason\", \"reason\", \"reason\", \"reason\", \"reason\", \"reasoning\", \"reasoning\", \"reasoning\", \"reboot\", \"recognition\", \"recognition\", \"rectangle\", \"religion\", \"religion\", \"religion\", \"religion\", \"religions\", \"religious\", \"religious\", \"religious\", \"remark\", \"remark\", \"remark\", \"republic\", \"republicans\", \"request\", \"request\", \"request\", \"request\", \"request\", \"request\", \"request\", \"requests\", \"requests\", \"requests\", \"research\", \"research\", \"research\", \"research\", \"research\", \"research\", \"research\", \"reserve\", \"reserve\", \"reserve\", \"resource\", \"resource\", \"resource\", \"resource\", \"restaurant\", \"restore\", \"resurrection\", \"retail\", \"return\", \"return\", \"return\", \"return\", \"return\", \"return\", \"return\", \"return\", \"return\", \"return\", \"return\", \"return\", \"revelation\", \"revolver\", \"richer\", \"riders\", \"riders\", \"right\", \"right\", \"right\", \"right\", \"right\", \"right\", \"right\", \"right\", \"right\", \"right\", \"right\", \"right\", \"rights\", \"rights\", \"rights\", \"rights\", \"rights\", \"ripem\", \"rlhz\", \"rname\", \"robitaille\", \"rochester\", \"rockefeller\", \"rocket\", \"rocket\", \"rocket\", \"rocket\", \"rocket\", \"roof\", \"room\", \"room\", \"room\", \"room\", \"room\", \"room\", \"room\", \"room\", \"roughing\", \"round\", \"round\", \"round\", \"round\", \"round\", \"round\", \"round\", \"round\", \"rows\", \"rows\", \"ruled\", \"rules\", \"rules\", \"rules\", \"rules\", \"rules\", \"rules\", \"runner\", \"running\", \"running\", \"running\", \"running\", \"running\", \"running\", \"running\", \"runs\", \"runs\", \"runs\", \"runs\", \"runs\", \"runs\", \"russian\", \"russian\", \"russian\", \"russian\", \"sabbath\", \"safe\", \"safe\", \"safe\", \"safe\", \"safe\", \"safe\", \"safe\", \"said\", \"said\", \"said\", \"said\", \"said\", \"said\", \"said\", \"said\", \"sale\", \"sale\", \"sale\", \"sale\", \"sale\", \"sampling\", \"sandstrom\", \"sandstrom\", \"satan\", \"satellite\", \"satellites\", \"saves\", \"saves\", \"saves\", \"says\", \"says\", \"says\", \"says\", \"says\", \"says\", \"scheme\", \"scheme\", \"scheme\", \"school\", \"school\", \"school\", \"school\", \"school\", \"school\", \"school\", \"school\", \"school\", \"school\", \"school\", \"school\", \"science\", \"science\", \"science\", \"science\", \"scored\", \"scorer\", \"scorer\", \"scoring\", \"screen\", \"screen\", \"screen\", \"screen\", \"scripture\", \"scsi\", \"sdpa\", \"seagate\", \"seal\", \"season\", \"seasons\", \"second\", \"second\", \"second\", \"second\", \"second\", \"second\", \"second\", \"second\", \"second\", \"second\", \"secret\", \"secret\", \"secret\", \"secretary\", \"secretary\", \"secretary\", \"secretary\", \"section\", \"section\", \"section\", \"section\", \"section\", \"section\", \"section\", \"section\", \"section\", \"secular\", \"secure\", \"secure\", \"security\", \"security\", \"seem\", \"seem\", \"seem\", \"seem\", \"seem\", \"sega\", \"sell\", \"sell\", \"sell\", \"sell\", \"sell\", \"sell\", \"sell\", \"selling\", \"selling\", \"selling\", \"semi\", \"semi\", \"semi\", \"semi\", \"seminar\", \"seminar\", \"semitism\", \"senator\", \"send\", \"send\", \"send\", \"send\", \"send\", \"send\", \"send\", \"send\", \"send\", \"send\", \"send\", \"senior\", \"senior\", \"senior\", \"sense\", \"sense\", \"sense\", \"sense\", \"sense\", \"serbs\", \"series\", \"series\", \"series\", \"series\", \"series\", \"series\", \"series\", \"series\", \"server\", \"server\", \"server\", \"sexual\", \"shaft\", \"shagen\", \"shameful\", \"shanahan\", \"shar\", \"sharks\", \"shearson\", \"sheath\", \"shell\", \"shell\", \"shell\", \"shell\", \"shipping\", \"shipping\", \"shipping\", \"shots\", \"shots\", \"shots\", \"shots\", \"shots\", \"shouting\", \"shuttle\", \"simm\", \"simms\", \"since\", \"since\", \"since\", \"since\", \"since\", \"since\", \"since\", \"since\", \"since\", \"since\", \"since\", \"since\", \"sister\", \"sites\", \"sites\", \"sites\", \"situations\", \"situations\", \"size\", \"size\", \"size\", \"size\", \"size\", \"size\", \"size\", \"size\", \"skepticism\", \"skip\", \"skip\", \"skrudland\", \"slave\", \"slave\", \"sleeve\", \"slots\", \"smokeless\", \"smoking\", \"sockets\", \"software\", \"software\", \"software\", \"software\", \"software\", \"solar\", \"solar\", \"soldiers\", \"soldiers\", \"soldiers\", \"someone\", \"someone\", \"someone\", \"someone\", \"someone\", \"someone\", \"something\", \"something\", \"something\", \"something\", \"something\", \"something\", \"something\", \"something\", \"sony\", \"sony\", \"soon\", \"soon\", \"soon\", \"soon\", \"soon\", \"soon\", \"soon\", \"soon\", \"soon\", \"sound\", \"sound\", \"sound\", \"sound\", \"southern\", \"space\", \"space\", \"space\", \"space\", \"space\", \"space\", \"spacecraft\", \"speed\", \"speed\", \"speed\", \"spence\", \"spirit\", \"spirit\", \"springfield\", \"ssto\", \"stanley\", \"started\", \"started\", \"started\", \"started\", \"started\", \"started\", \"started\", \"state\", \"state\", \"state\", \"state\", \"state\", \"state\", \"state\", \"state\", \"state\", \"state\", \"states\", \"states\", \"states\", \"states\", \"states\", \"states\", \"station\", \"station\", \"station\", \"station\", \"station\", \"station\", \"stderr\", \"stdin\", \"steering\", \"stephanopoulos\", \"stephen\", \"stephen\", \"stephen\", \"stephen\", \"stephen\", \"stereo\", \"stevens\", \"still\", \"still\", \"still\", \"still\", \"still\", \"still\", \"still\", \"still\", \"still\", \"stimulus\", \"stream\", \"stream\", \"stream\", \"string\", \"string\", \"stupid\", \"stupid\", \"stupid\", \"subject\", \"subject\", \"subject\", \"subject\", \"subject\", \"subject\", \"subject\", \"subject\", \"subject\", \"subject\", \"subject\", \"subject\", \"subject\", \"submitting\", \"substances\", \"sumgait\", \"sunos\", \"support\", \"support\", \"support\", \"support\", \"support\", \"support\", \"support\", \"surface\", \"surface\", \"surface\", \"surface\", \"surface\", \"surface\", \"surface\", \"surrender\", \"surrender\", \"suspect\", \"suspect\", \"suspect\", \"suter\", \"swap\", \"switches\", \"sydor\", \"symptoms\", \"syndrome\", \"syria\", \"syria\", \"syrian\", \"system\", \"system\", \"system\", \"system\", \"system\", \"system\", \"system\", \"system\", \"system\", \"system\", \"systems\", \"systems\", \"systems\", \"systems\", \"systems\", \"systems\", \"systems\", \"systems\", \"systems\", \"take\", \"take\", \"take\", \"take\", \"take\", \"take\", \"take\", \"take\", \"take\", \"tape\", \"tape\", \"tape\", \"tape\", \"taxes\", \"tbxn\", \"tbxom\", \"team\", \"team\", \"team\", \"team\", \"teams\", \"technology\", \"technology\", \"technology\", \"telecommunications\", \"telescope\", \"temperature\", \"temperature\", \"temperature\", \"tend\", \"tend\", \"tend\", \"territory\", \"territory\", \"territory\", \"testament\", \"thanks\", \"thanks\", \"thanks\", \"thanks\", \"thanks\", \"thanks\", \"theories\", \"theory\", \"theory\", \"theory\", \"theory\", \"therapy\", \"thing\", \"thing\", \"thing\", \"thing\", \"thing\", \"thing\", \"things\", \"things\", \"things\", \"things\", \"things\", \"things\", \"things\", \"think\", \"think\", \"think\", \"think\", \"think\", \"think\", \"three\", \"three\", \"three\", \"three\", \"three\", \"three\", \"three\", \"three\", \"three\", \"three\", \"three\", \"three\", \"three\", \"tiff\", \"tigers\", \"time\", \"time\", \"time\", \"time\", \"time\", \"time\", \"time\", \"time\", \"time\", \"time\", \"time\", \"time\", \"time\", \"time\", \"timing\", \"tire\", \"tires\", \"titan\", \"title\", \"title\", \"title\", \"title\", \"title\", \"title\", \"title\", \"toad\", \"tobacco\", \"told\", \"told\", \"told\", \"told\", \"told\", \"told\", \"told\", \"took\", \"took\", \"took\", \"took\", \"took\", \"took\", \"took\", \"toolkit\", \"toolkit\", \"toplevel\", \"toronto\", \"toronto\", \"totals\", \"towns\", \"towns\", \"toyota\", \"transfer\", \"transfer\", \"transfer\", \"transfer\", \"transfer\", \"transformer\", \"treatment\", \"treatment\", \"treatment\", \"troops\", \"troops\", \"true\", \"true\", \"true\", \"true\", \"true\", \"true\", \"true\", \"true\", \"true\", \"truth\", \"truth\", \"truth\", \"turbo\", \"turkey\", \"turkish\", \"turks\", \"tyre\", \"tyre\", \"unassisted\", \"unfortunate\", \"unicity\", \"united\", \"united\", \"united\", \"united\", \"university\", \"university\", \"university\", \"university\", \"university\", \"university\", \"university\", \"university\", \"university\", \"unix\", \"unix\", \"unix\", \"unix\", \"used\", \"used\", \"used\", \"used\", \"used\", \"used\", \"used\", \"used\", \"used\", \"used\", \"used\", \"used\", \"user\", \"user\", \"user\", \"user\", \"user\", \"user\", \"users\", \"users\", \"users\", \"users\", \"users\", \"using\", \"using\", \"using\", \"using\", \"using\", \"using\", \"using\", \"using\", \"uucp\", \"uucp\", \"uucp\", \"uucp\", \"uucp\", \"uuencode\", \"vacation\", \"vendor\", \"venus\", \"verse\", \"version\", \"version\", \"version\", \"version\", \"version\", \"version\", \"version\", \"version\", \"victims\", \"video\", \"video\", \"video\", \"video\", \"visual\", \"visual\", \"visual\", \"vitamin\", \"voltage\", \"voltage\", \"volume\", \"volume\", \"volume\", \"volume\", \"volume\", \"volume\", \"volume\", \"volume\", \"vpic\", \"walked\", \"walked\", \"walls\", \"want\", \"want\", \"want\", \"want\", \"want\", \"want\", \"want\", \"want\", \"washer\", \"water\", \"water\", \"water\", \"water\", \"water\", \"water\", \"weapon\", \"weapon\", \"weapons\", \"weaver\", \"weaver\", \"welfare\", \"well\", \"well\", \"well\", \"well\", \"well\", \"well\", \"well\", \"well\", \"well\", \"well\", \"went\", \"went\", \"went\", \"went\", \"went\", \"west\", \"west\", \"west\", \"west\", \"west\", \"west\", \"west\", \"white\", \"white\", \"white\", \"white\", \"white\", \"white\", \"white\", \"white\", \"white\", \"white\", \"whitespace\", \"widget\", \"widgets\", \"width\", \"width\", \"willis\", \"window\", \"window\", \"window\", \"windows\", \"windows\", \"windows\", \"windows\", \"windows\", \"windows\", \"winnipeg\", \"wire\", \"wire\", \"wires\", \"wires\", \"wires\", \"wiretap\", \"wiring\", \"withdraw\", \"witnessed\", \"wmbxn\", \"woman\", \"woman\", \"woman\", \"woman\", \"wondering\", \"wondering\", \"wondering\", \"wondering\", \"word\", \"word\", \"word\", \"word\", \"word\", \"word\", \"word\", \"work\", \"work\", \"work\", \"work\", \"work\", \"work\", \"work\", \"work\", \"work\", \"work\", \"work\", \"work\", \"work\", \"workstation\", \"workstations\", \"world\", \"world\", \"world\", \"world\", \"world\", \"world\", \"world\", \"world\", \"world\", \"world\", \"worship\", \"would\", \"would\", \"would\", \"would\", \"would\", \"would\", \"would\", \"would\", \"would\", \"would\", \"would\", \"wrist\", \"wrong\", \"wrong\", \"wrong\", \"wrong\", \"wrong\", \"wrong\", \"wwhj\", \"wwiz\", \"xlib\", \"xmosaic\", \"xstuff\", \"xterm\", \"xview\", \"xvoid\", \"yankees\", \"year\", \"year\", \"year\", \"year\", \"year\", \"year\", \"year\", \"year\", \"years\", \"years\", \"years\", \"years\", \"years\", \"years\", \"years\", \"years\", \"years\", \"years\", \"years\", \"yeast\", \"yigal\", \"yorn\", \"zionism\", \"zionist\", \"zone\", \"zone\", \"zone\", \"zone\", \"zone\", \"zrck\", \"zrlk\"]}, \"R\": 30, \"lambda.step\": 0.01, \"plot.opts\": {\"xlab\": \"PC1\", \"ylab\": \"PC2\"}, \"topic.order\": [20, 15, 5, 18, 4, 19, 10, 9, 14, 16, 3, 1, 6, 17, 2, 11, 8, 7, 13, 12]};\n",
              "\n",
              "function LDAvis_load_lib(url, callback){\n",
              "  var s = document.createElement('script');\n",
              "  s.src = url;\n",
              "  s.async = true;\n",
              "  s.onreadystatechange = s.onload = callback;\n",
              "  s.onerror = function(){console.warn(\"failed to load library \" + url);};\n",
              "  document.getElementsByTagName(\"head\")[0].appendChild(s);\n",
              "}\n",
              "\n",
              "if(typeof(LDAvis) !== \"undefined\"){\n",
              "   // already loaded: just create the visualization\n",
              "   !function(LDAvis){\n",
              "       new LDAvis(\"#\" + \"ldavis_el1011402097874559121824985575\", ldavis_el1011402097874559121824985575_data);\n",
              "   }(LDAvis);\n",
              "}else if(typeof define === \"function\" && define.amd){\n",
              "   // require.js is available: use it to load d3/LDAvis\n",
              "   require.config({paths: {d3: \"https://cdnjs.cloudflare.com/ajax/libs/d3/3.5.5/d3.min\"}});\n",
              "   require([\"d3\"], function(d3){\n",
              "      window.d3 = d3;\n",
              "      LDAvis_load_lib(\"https://cdn.rawgit.com/bmabey/pyLDAvis/files/ldavis.v1.0.0.js\", function(){\n",
              "        new LDAvis(\"#\" + \"ldavis_el1011402097874559121824985575\", ldavis_el1011402097874559121824985575_data);\n",
              "      });\n",
              "    });\n",
              "}else{\n",
              "    // require.js not available: dynamically load d3 & LDAvis\n",
              "    LDAvis_load_lib(\"https://cdnjs.cloudflare.com/ajax/libs/d3/3.5.5/d3.min.js\", function(){\n",
              "         LDAvis_load_lib(\"https://cdn.rawgit.com/bmabey/pyLDAvis/files/ldavis.v1.0.0.js\", function(){\n",
              "                 new LDAvis(\"#\" + \"ldavis_el1011402097874559121824985575\", ldavis_el1011402097874559121824985575_data);\n",
              "            })\n",
              "         });\n",
              "}\n",
              "</script>"
            ],
            "text/plain": [
              "<IPython.core.display.HTML object>"
            ]
          },
          "metadata": {
            "tags": []
          },
          "execution_count": 16
        }
      ]
    },
    {
      "cell_type": "code",
      "metadata": {
        "id": "SNfgXPYtz-iF",
        "colab_type": "code",
        "colab": {}
      },
      "source": [
        "# Show the properties of topics distribution by documents.\n",
        "for i, topic_list in enumerate(ldamodel[corpus]):\n",
        "    if i=5:\n",
        "        break\n",
        "    print(i, '번째 문서의 topic 비율은', topic_list)"
      ],
      "execution_count": null,
      "outputs": []
    },
    {
      "cell_type": "code",
      "metadata": {
        "id": "ysHynxu6FXAe",
        "colab_type": "code",
        "colab": {
          "base_uri": "https://localhost:8080/",
          "height": 563
        },
        "outputId": "e67ead3a-33ae-4769-d430-f322ee5825c4"
      },
      "source": [
        "def make_topictable_per_doc(ldamode, corpus):\n",
        "    topic_table = pd.DataFrame()\n",
        "\n",
        "    for i, topic_list in enumerate(ldamodel[corpus]):\n",
        "        doc = topic_list[0] if ldamodel.per_word_topics else topic_list\n",
        "        doc = sorted(doc, key=lambda x: (x[1]), reverse=True)\n",
        "\n",
        "        for j, (topic_num, prop_topic) in enumerate(doc):\n",
        "            if j == 0:\n",
        "                topic_table = topic_table.append(pd.Series([int(topic_num), \\\n",
        "                                                            round(prop_topic, 4), topic_list]), \\\n",
        "                                                 ignore_index=True)\n",
        "            else:\n",
        "                break\n",
        "    return (topic_table)\n",
        "\n",
        "topictable = make_topictable_per_doc(ldamodel, corpus)\n",
        "topictable = topictable.reset_index()\n",
        "topictable.columns = ['# of document', 'topic which has most weight', \\\n",
        "                      'weight of the most ones.', 'weights of each topics']\n",
        "print(ldamodel[corpus][1])\n",
        "topictable[:10]"
      ],
      "execution_count": 21,
      "outputs": [
        {
          "output_type": "stream",
          "text": [
            "(11314, 4)\n"
          ],
          "name": "stdout"
        },
        {
          "output_type": "execute_result",
          "data": {
            "text/html": [
              "<div>\n",
              "<style scoped>\n",
              "    .dataframe tbody tr th:only-of-type {\n",
              "        vertical-align: middle;\n",
              "    }\n",
              "\n",
              "    .dataframe tbody tr th {\n",
              "        vertical-align: top;\n",
              "    }\n",
              "\n",
              "    .dataframe thead th {\n",
              "        text-align: right;\n",
              "    }\n",
              "</style>\n",
              "<table border=\"1\" class=\"dataframe\">\n",
              "  <thead>\n",
              "    <tr style=\"text-align: right;\">\n",
              "      <th></th>\n",
              "      <th># of document</th>\n",
              "      <th>topic which has most weight</th>\n",
              "      <th>weight of the most ones.</th>\n",
              "      <th>weights of each topics</th>\n",
              "    </tr>\n",
              "  </thead>\n",
              "  <tbody>\n",
              "    <tr>\n",
              "      <th>0</th>\n",
              "      <td>0</td>\n",
              "      <td>19.0</td>\n",
              "      <td>0.6175</td>\n",
              "      <td>[(3, 0.3300681), (7, 0.038714744), (19, 0.6175...</td>\n",
              "    </tr>\n",
              "    <tr>\n",
              "      <th>1</th>\n",
              "      <td>1</td>\n",
              "      <td>19.0</td>\n",
              "      <td>0.6000</td>\n",
              "      <td>[(1, 0.026172198), (9, 0.19391991), (13, 0.054...</td>\n",
              "    </tr>\n",
              "    <tr>\n",
              "      <th>2</th>\n",
              "      <td>2</td>\n",
              "      <td>19.0</td>\n",
              "      <td>0.5398</td>\n",
              "      <td>[(3, 0.11316346), (4, 0.11326162), (6, 0.05290...</td>\n",
              "    </tr>\n",
              "    <tr>\n",
              "      <th>3</th>\n",
              "      <td>3</td>\n",
              "      <td>19.0</td>\n",
              "      <td>0.4858</td>\n",
              "      <td>[(9, 0.3526444), (11, 0.01567164), (14, 0.1339...</td>\n",
              "    </tr>\n",
              "    <tr>\n",
              "      <th>4</th>\n",
              "      <td>4</td>\n",
              "      <td>13.0</td>\n",
              "      <td>0.5947</td>\n",
              "      <td>[(5, 0.07333905), (13, 0.59468454), (19, 0.300...</td>\n",
              "    </tr>\n",
              "    <tr>\n",
              "      <th>5</th>\n",
              "      <td>5</td>\n",
              "      <td>19.0</td>\n",
              "      <td>0.3242</td>\n",
              "      <td>[(1, 0.18315528), (3, 0.15477312), (18, 0.3045...</td>\n",
              "    </tr>\n",
              "    <tr>\n",
              "      <th>6</th>\n",
              "      <td>6</td>\n",
              "      <td>1.0</td>\n",
              "      <td>0.5785</td>\n",
              "      <td>[(0, 0.039618965), (1, 0.57850397), (5, 0.1236...</td>\n",
              "    </tr>\n",
              "    <tr>\n",
              "      <th>7</th>\n",
              "      <td>7</td>\n",
              "      <td>4.0</td>\n",
              "      <td>0.4885</td>\n",
              "      <td>[(4, 0.48845056), (7, 0.053394753), (12, 0.019...</td>\n",
              "    </tr>\n",
              "    <tr>\n",
              "      <th>8</th>\n",
              "      <td>8</td>\n",
              "      <td>19.0</td>\n",
              "      <td>0.8853</td>\n",
              "      <td>[(4, 0.090334885), (19, 0.8853408)]</td>\n",
              "    </tr>\n",
              "    <tr>\n",
              "      <th>9</th>\n",
              "      <td>9</td>\n",
              "      <td>14.0</td>\n",
              "      <td>0.5706</td>\n",
              "      <td>[(6, 0.02830458), (9, 0.19771662), (14, 0.5705...</td>\n",
              "    </tr>\n",
              "  </tbody>\n",
              "</table>\n",
              "</div>"
            ],
            "text/plain": [
              "   # of document  ...                             weights of each topics\n",
              "0              0  ...  [(3, 0.3300681), (7, 0.038714744), (19, 0.6175...\n",
              "1              1  ...  [(1, 0.026172198), (9, 0.19391991), (13, 0.054...\n",
              "2              2  ...  [(3, 0.11316346), (4, 0.11326162), (6, 0.05290...\n",
              "3              3  ...  [(9, 0.3526444), (11, 0.01567164), (14, 0.1339...\n",
              "4              4  ...  [(5, 0.07333905), (13, 0.59468454), (19, 0.300...\n",
              "5              5  ...  [(1, 0.18315528), (3, 0.15477312), (18, 0.3045...\n",
              "6              6  ...  [(0, 0.039618965), (1, 0.57850397), (5, 0.1236...\n",
              "7              7  ...  [(4, 0.48845056), (7, 0.053394753), (12, 0.019...\n",
              "8              8  ...                [(4, 0.090334885), (19, 0.8853408)]\n",
              "9              9  ...  [(6, 0.02830458), (9, 0.19771662), (14, 0.5705...\n",
              "\n",
              "[10 rows x 4 columns]"
            ]
          },
          "metadata": {
            "tags": []
          },
          "execution_count": 21
        }
      ]
    },
    {
      "cell_type": "markdown",
      "metadata": {
        "id": "QeQA30-xLWkb",
        "colab_type": "text"
      },
      "source": [
        "#### LDA Practice\n"
      ]
    },
    {
      "cell_type": "code",
      "metadata": {
        "id": "aHVxseWULi1h",
        "colab_type": "code",
        "colab": {
          "base_uri": "https://localhost:8080/",
          "height": 802
        },
        "outputId": "1d631529-77b3-48d6-fecd-733d9a2c963e"
      },
      "source": [
        "import pandas as pd\n",
        "import urllib.request\n",
        "urllib.request.urlretrieve(\"https://raw.githubusercontent.com/franciscadias/data/master/abcnews-date-text.csv\", \\\n",
        "                           filename=\"abcnews-date-text.csv\")\n",
        "data = pd.read_csv('abcnews-date-text.csv', error_bad_lines=False)\n",
        "\n",
        "text = data[['headline_text']]\n",
        "\n",
        "import nltk\n",
        "from nltk.corpus import stopwords\n",
        "nltk.download('stopwords')\n",
        "nltk.download('punkt')\n",
        "nltk.download('wordnet')\n",
        "text['headline_text'] = text.apply(lambda row: nltk.word_tokenize(row['headline_text']), \\\n",
        "                                   axis=1)\n",
        "\n",
        "stop = stopwords.words('english')\n",
        "text['headline_text'] = text['headline_text'].apply(lambda x: [word for word in x if word not in (stop)])\n",
        "\n",
        "from nltk.stem import WordNetLemmatizer\n",
        "text['headline_text'] = text['headline_text'].apply(lambda x: [WordNetLemmatizer().lemmatize(word, pos='v') for word in x])\n",
        "\n",
        "tokenized_doc = text['headline_text'].apply(lambda x: [word for word in x if len(word) > 3])\n",
        "\n",
        "detokenized_doc = []\n",
        "print(len(text))\n",
        "for i in range(len(text)):\n",
        "    t = ' '.join(tokenized_doc[i])\n",
        "    detokenized_doc.append(t)\n",
        "\n",
        "text['headline_text'] = detokenized_doc\n",
        "\n",
        "print(text['headline_text'][:5])\n",
        "\n",
        "from sklearn.feature_extraction.text import TfidfVectorizer\n",
        "vectorizer = TfidfVectorizer(stop_words='english',\n",
        "                            max_features= 1000)\n",
        "X = vectorizer.fit_transform(text['headline_text'])\n",
        "\n",
        "from sklearn.decomposition import LatentDirichletAllocation\n",
        "lda_model = LatentDirichletAllocation(n_components=10, learning_method='online', random_state =777, max_iter=1)\n",
        "lda_top = lda_model.fit_transform(X)\n",
        "\n",
        "terms = vectorizer.get_feature_names()\n",
        "\n",
        "def get_topics(components, feature_names, n=5):\n",
        "    for idx, topic in enumerate(components):\n",
        "        print(\"Topic %d:\" % (idx+1), [(feature_names[i], topic[i].round(2)) for i in topic.argsort()[:-n - 1:-1]])\n",
        "\n",
        "get_topics(lda_model.components_, terms)        "
      ],
      "execution_count": 35,
      "outputs": [
        {
          "output_type": "stream",
          "text": [
            "[nltk_data] Downloading package stopwords to /root/nltk_data...\n",
            "[nltk_data]   Package stopwords is already up-to-date!\n",
            "[nltk_data] Downloading package punkt to /root/nltk_data...\n",
            "[nltk_data]   Package punkt is already up-to-date!\n",
            "[nltk_data] Downloading package wordnet to /root/nltk_data...\n",
            "[nltk_data]   Package wordnet is already up-to-date!\n"
          ],
          "name": "stdout"
        },
        {
          "output_type": "stream",
          "text": [
            "/usr/local/lib/python3.6/dist-packages/ipykernel_launcher.py:13: SettingWithCopyWarning: \n",
            "A value is trying to be set on a copy of a slice from a DataFrame.\n",
            "Try using .loc[row_indexer,col_indexer] = value instead\n",
            "\n",
            "See the caveats in the documentation: https://pandas.pydata.org/pandas-docs/stable/user_guide/indexing.html#returning-a-view-versus-a-copy\n",
            "  del sys.path[0]\n",
            "/usr/local/lib/python3.6/dist-packages/ipykernel_launcher.py:16: SettingWithCopyWarning: \n",
            "A value is trying to be set on a copy of a slice from a DataFrame.\n",
            "Try using .loc[row_indexer,col_indexer] = value instead\n",
            "\n",
            "See the caveats in the documentation: https://pandas.pydata.org/pandas-docs/stable/user_guide/indexing.html#returning-a-view-versus-a-copy\n",
            "  app.launch_new_instance()\n",
            "/usr/local/lib/python3.6/dist-packages/ipykernel_launcher.py:19: SettingWithCopyWarning: \n",
            "A value is trying to be set on a copy of a slice from a DataFrame.\n",
            "Try using .loc[row_indexer,col_indexer] = value instead\n",
            "\n",
            "See the caveats in the documentation: https://pandas.pydata.org/pandas-docs/stable/user_guide/indexing.html#returning-a-view-versus-a-copy\n"
          ],
          "name": "stderr"
        },
        {
          "output_type": "stream",
          "text": [
            "1082168\n"
          ],
          "name": "stdout"
        },
        {
          "output_type": "stream",
          "text": [
            "/usr/local/lib/python3.6/dist-packages/ipykernel_launcher.py:29: SettingWithCopyWarning: \n",
            "A value is trying to be set on a copy of a slice from a DataFrame.\n",
            "Try using .loc[row_indexer,col_indexer] = value instead\n",
            "\n",
            "See the caveats in the documentation: https://pandas.pydata.org/pandas-docs/stable/user_guide/indexing.html#returning-a-view-versus-a-copy\n"
          ],
          "name": "stderr"
        },
        {
          "output_type": "stream",
          "text": [
            "0       decide community broadcast licence\n",
            "1       fire witness must aware defamation\n",
            "2    call infrastructure protection summit\n",
            "3                   staff aust strike rise\n",
            "4      strike affect australian travellers\n",
            "Name: headline_text, dtype: object\n",
            "Topic 1: [('government', 8725.19), ('sydney', 8393.29), ('queensland', 7720.12), ('change', 5874.27), ('home', 5674.38)]\n",
            "Topic 2: [('australia', 13691.08), ('australian', 11088.95), ('melbourne', 7528.43), ('world', 6707.7), ('south', 6677.03)]\n",
            "Topic 3: [('death', 5935.06), ('interview', 5924.98), ('kill', 5851.6), ('jail', 4632.85), ('life', 4275.27)]\n",
            "Topic 4: [('house', 6113.49), ('2016', 5488.19), ('state', 4923.41), ('brisbane', 4857.21), ('tasmania', 4610.97)]\n",
            "Topic 5: [('court', 7542.74), ('attack', 6959.64), ('open', 5663.0), ('face', 5193.63), ('warn', 5115.01)]\n",
            "Topic 6: [('market', 5545.86), ('rural', 5502.89), ('plan', 4828.71), ('indigenous', 4223.4), ('power', 3968.26)]\n",
            "Topic 7: [('charge', 8428.8), ('election', 7561.63), ('adelaide', 6758.36), ('make', 5658.99), ('test', 5062.69)]\n",
            "Topic 8: [('police', 12092.44), ('crash', 5281.14), ('drug', 4290.87), ('beat', 3257.58), ('rise', 2934.92)]\n",
            "Topic 9: [('fund', 4693.03), ('labor', 4047.69), ('national', 4038.68), ('council', 4006.62), ('claim', 3604.75)]\n",
            "Topic 10: [('trump', 11966.41), ('perth', 6456.53), ('report', 5611.33), ('school', 5465.06), ('woman', 5456.76)]\n"
          ],
          "name": "stdout"
        }
      ]
    },
    {
      "cell_type": "markdown",
      "metadata": {
        "id": "Ls8KFU86dMKA",
        "colab_type": "text"
      },
      "source": [
        "## Machine Learning\n",
        "\n",
        "> Machine Learning\n",
        "\n",
        "Machine Learning doesn't focus in finding result from data but it focuses in finding order from data. This process to find order is called \"training\".\n",
        "\n",
        "#### Reference\n",
        "\n",
        "- https://wikidocs.net/21679\n",
        "- https://wikidocs.net/21748\n"
      ]
    },
    {
      "cell_type": "markdown",
      "metadata": {
        "id": "vWhNDr8Vk0GC",
        "colab_type": "text"
      },
      "source": [
        "### Linear Regression\n",
        "\n",
        "> Linear Regression is the relation between independent variables and dependent one.\n",
        "\n",
        "Simple Linear Regression is one type of linear regressions that has only one independent variable.\n",
        "\n",
        "$ y\\ =\\ Wx\\ +\\ b $\n",
        "\n",
        "Multiple Linear Regression is another types of liner regressions that have two or more independent variables.\n",
        "\n",
        "$ y\\ = W_1x_1\\ +\\ W_2x_2\\ +...+\\ b $\n",
        "\n",
        "Hyperthesis find the relation between x and y, and make expression using W(weight) and B(bias)."
      ]
    },
    {
      "cell_type": "markdown",
      "metadata": {
        "id": "HbnSzoUzukyF",
        "colab_type": "text"
      },
      "source": [
        "#### Cost Function and Optimization\n",
        "\n",
        "What do you do if you want to increase the performance of machine learning baseon linear regression?\n",
        "\n",
        "If you have an arbitrary linear expression, then you need to modify arguments to get more precise result.\n",
        "\n",
        "Cost Functions was representing the standard of whether this method is good or not. Optimizer was used to increase the performance of the machine determined by cost function.\n",
        "\n",
        "one of the Famous cost function and optimizer is MSE(mean squared error) and Gradient Descent respectivly."
      ]
    },
    {
      "cell_type": "code",
      "metadata": {
        "id": "Sid0ToK52QBK",
        "colab_type": "code",
        "colab": {
          "base_uri": "https://localhost:8080/",
          "height": 1000
        },
        "outputId": "14e1bc9d-60df-45b8-d73e-89bc5128a528"
      },
      "source": [
        "from tensorflow.keras.models import Sequential\n",
        "from tensorflow.keras.layers import Dense\n",
        "from tensorflow.keras import optimizers\n",
        "import numpy as np\n",
        "\n",
        "X = np.array([1,2,3,4,5,6,7,8,9])\n",
        "Y = np.array([11,22,33,44,53,66,77,87,95])\n",
        "\n",
        "model=Sequential()\n",
        "model.add(Dense(1, input_dim=1, activation='linear'))\n",
        "sgd=optimizers.SGD(lr=0.01)\n",
        "model.compile(optimizer=sgd, loss='mse', metrics=['mse'])\n",
        "model.fit(X,Y,batch_size=1, epochs=300, shuffle=False)\n"
      ],
      "execution_count": 38,
      "outputs": [
        {
          "output_type": "stream",
          "text": [
            "Epoch 1/300\n",
            "9/9 [==============================] - 0s 1ms/step - loss: 408.7767 - mse: 408.7767\n",
            "Epoch 2/300\n",
            "9/9 [==============================] - 0s 1ms/step - loss: 2.3570 - mse: 2.3570\n",
            "Epoch 3/300\n",
            "9/9 [==============================] - 0s 1ms/step - loss: 2.3490 - mse: 2.3490\n",
            "Epoch 4/300\n",
            "9/9 [==============================] - 0s 1ms/step - loss: 2.3413 - mse: 2.3413\n",
            "Epoch 5/300\n",
            "9/9 [==============================] - 0s 1ms/step - loss: 2.3340 - mse: 2.3340\n",
            "Epoch 6/300\n",
            "9/9 [==============================] - 0s 1ms/step - loss: 2.3270 - mse: 2.3270\n",
            "Epoch 7/300\n",
            "9/9 [==============================] - 0s 1ms/step - loss: 2.3202 - mse: 2.3202\n",
            "Epoch 8/300\n",
            "9/9 [==============================] - 0s 1ms/step - loss: 2.3137 - mse: 2.3137\n",
            "Epoch 9/300\n",
            "9/9 [==============================] - 0s 1ms/step - loss: 2.3075 - mse: 2.3075\n",
            "Epoch 10/300\n",
            "9/9 [==============================] - 0s 1ms/step - loss: 2.3016 - mse: 2.3016\n",
            "Epoch 11/300\n",
            "9/9 [==============================] - 0s 1ms/step - loss: 2.2958 - mse: 2.2958\n",
            "Epoch 12/300\n",
            "9/9 [==============================] - 0s 1ms/step - loss: 2.2903 - mse: 2.2903\n",
            "Epoch 13/300\n",
            "9/9 [==============================] - 0s 1ms/step - loss: 2.2850 - mse: 2.2850\n",
            "Epoch 14/300\n",
            "9/9 [==============================] - 0s 1ms/step - loss: 2.2800 - mse: 2.2800\n",
            "Epoch 15/300\n",
            "9/9 [==============================] - 0s 1ms/step - loss: 2.2751 - mse: 2.2751\n",
            "Epoch 16/300\n",
            "9/9 [==============================] - 0s 1ms/step - loss: 2.2704 - mse: 2.2704\n",
            "Epoch 17/300\n",
            "9/9 [==============================] - 0s 1ms/step - loss: 2.2659 - mse: 2.2659\n",
            "Epoch 18/300\n",
            "9/9 [==============================] - 0s 1ms/step - loss: 2.2616 - mse: 2.2616\n",
            "Epoch 19/300\n",
            "9/9 [==============================] - 0s 1ms/step - loss: 2.2574 - mse: 2.2574\n",
            "Epoch 20/300\n",
            "9/9 [==============================] - 0s 1ms/step - loss: 2.2534 - mse: 2.2534\n",
            "Epoch 21/300\n",
            "9/9 [==============================] - 0s 2ms/step - loss: 2.2496 - mse: 2.2496\n",
            "Epoch 22/300\n",
            "9/9 [==============================] - 0s 1ms/step - loss: 2.2459 - mse: 2.2459\n",
            "Epoch 23/300\n",
            "9/9 [==============================] - 0s 1ms/step - loss: 2.2423 - mse: 2.2423\n",
            "Epoch 24/300\n",
            "9/9 [==============================] - 0s 978us/step - loss: 2.2389 - mse: 2.2389\n",
            "Epoch 25/300\n",
            "9/9 [==============================] - 0s 1ms/step - loss: 2.2356 - mse: 2.2356\n",
            "Epoch 26/300\n",
            "9/9 [==============================] - 0s 1ms/step - loss: 2.2324 - mse: 2.2324\n",
            "Epoch 27/300\n",
            "9/9 [==============================] - 0s 1ms/step - loss: 2.2294 - mse: 2.2294\n",
            "Epoch 28/300\n",
            "9/9 [==============================] - 0s 1ms/step - loss: 2.2264 - mse: 2.2264\n",
            "Epoch 29/300\n",
            "9/9 [==============================] - 0s 1ms/step - loss: 2.2236 - mse: 2.2236\n",
            "Epoch 30/300\n",
            "9/9 [==============================] - 0s 1ms/step - loss: 2.2209 - mse: 2.2209\n",
            "Epoch 31/300\n",
            "9/9 [==============================] - 0s 1ms/step - loss: 2.2183 - mse: 2.2183\n",
            "Epoch 32/300\n",
            "9/9 [==============================] - 0s 1ms/step - loss: 2.2157 - mse: 2.2157\n",
            "Epoch 33/300\n",
            "9/9 [==============================] - 0s 1ms/step - loss: 2.2133 - mse: 2.2133\n",
            "Epoch 34/300\n",
            "9/9 [==============================] - 0s 1ms/step - loss: 2.2110 - mse: 2.2110\n",
            "Epoch 35/300\n",
            "9/9 [==============================] - 0s 1ms/step - loss: 2.2087 - mse: 2.2087\n",
            "Epoch 36/300\n",
            "9/9 [==============================] - 0s 1ms/step - loss: 2.2065 - mse: 2.2065\n",
            "Epoch 37/300\n",
            "9/9 [==============================] - 0s 1ms/step - loss: 2.2044 - mse: 2.2044\n",
            "Epoch 38/300\n",
            "9/9 [==============================] - 0s 1ms/step - loss: 2.2024 - mse: 2.2024\n",
            "Epoch 39/300\n",
            "9/9 [==============================] - 0s 1ms/step - loss: 2.2004 - mse: 2.2004\n",
            "Epoch 40/300\n",
            "9/9 [==============================] - 0s 1ms/step - loss: 2.1986 - mse: 2.1986\n",
            "Epoch 41/300\n",
            "9/9 [==============================] - 0s 1ms/step - loss: 2.1967 - mse: 2.1967\n",
            "Epoch 42/300\n",
            "9/9 [==============================] - 0s 1ms/step - loss: 2.1950 - mse: 2.1950\n",
            "Epoch 43/300\n",
            "9/9 [==============================] - 0s 1ms/step - loss: 2.1933 - mse: 2.1933\n",
            "Epoch 44/300\n",
            "9/9 [==============================] - 0s 1ms/step - loss: 2.1917 - mse: 2.1917\n",
            "Epoch 45/300\n",
            "9/9 [==============================] - 0s 997us/step - loss: 2.1901 - mse: 2.1901\n",
            "Epoch 46/300\n",
            "9/9 [==============================] - 0s 1ms/step - loss: 2.1886 - mse: 2.1886\n",
            "Epoch 47/300\n",
            "9/9 [==============================] - 0s 1ms/step - loss: 2.1872 - mse: 2.1872\n",
            "Epoch 48/300\n",
            "9/9 [==============================] - 0s 1ms/step - loss: 2.1858 - mse: 2.1858\n",
            "Epoch 49/300\n",
            "9/9 [==============================] - 0s 1ms/step - loss: 2.1844 - mse: 2.1844\n",
            "Epoch 50/300\n",
            "9/9 [==============================] - 0s 1ms/step - loss: 2.1831 - mse: 2.1831\n",
            "Epoch 51/300\n",
            "9/9 [==============================] - 0s 1ms/step - loss: 2.1818 - mse: 2.1818\n",
            "Epoch 52/300\n",
            "9/9 [==============================] - 0s 1ms/step - loss: 2.1806 - mse: 2.1806\n",
            "Epoch 53/300\n",
            "9/9 [==============================] - 0s 1ms/step - loss: 2.1794 - mse: 2.1794\n",
            "Epoch 54/300\n",
            "9/9 [==============================] - 0s 1ms/step - loss: 2.1783 - mse: 2.1783\n",
            "Epoch 55/300\n",
            "9/9 [==============================] - 0s 1ms/step - loss: 2.1772 - mse: 2.1772\n",
            "Epoch 56/300\n",
            "9/9 [==============================] - 0s 1ms/step - loss: 2.1762 - mse: 2.1762\n",
            "Epoch 57/300\n",
            "9/9 [==============================] - 0s 1ms/step - loss: 2.1751 - mse: 2.1751\n",
            "Epoch 58/300\n",
            "9/9 [==============================] - 0s 1ms/step - loss: 2.1741 - mse: 2.1741\n",
            "Epoch 59/300\n",
            "9/9 [==============================] - 0s 1ms/step - loss: 2.1732 - mse: 2.1732\n",
            "Epoch 60/300\n",
            "9/9 [==============================] - 0s 1ms/step - loss: 2.1723 - mse: 2.1723\n",
            "Epoch 61/300\n",
            "9/9 [==============================] - 0s 1ms/step - loss: 2.1714 - mse: 2.1714\n",
            "Epoch 62/300\n",
            "9/9 [==============================] - 0s 1ms/step - loss: 2.1705 - mse: 2.1705\n",
            "Epoch 63/300\n",
            "9/9 [==============================] - 0s 1ms/step - loss: 2.1697 - mse: 2.1697\n",
            "Epoch 64/300\n",
            "9/9 [==============================] - 0s 1ms/step - loss: 2.1689 - mse: 2.1689\n",
            "Epoch 65/300\n",
            "9/9 [==============================] - 0s 1ms/step - loss: 2.1681 - mse: 2.1681\n",
            "Epoch 66/300\n",
            "9/9 [==============================] - 0s 1ms/step - loss: 2.1674 - mse: 2.1674\n",
            "Epoch 67/300\n",
            "9/9 [==============================] - 0s 1ms/step - loss: 2.1667 - mse: 2.1667\n",
            "Epoch 68/300\n",
            "9/9 [==============================] - 0s 1ms/step - loss: 2.1660 - mse: 2.1660\n",
            "Epoch 69/300\n",
            "9/9 [==============================] - 0s 1ms/step - loss: 2.1653 - mse: 2.1653\n",
            "Epoch 70/300\n",
            "9/9 [==============================] - 0s 1ms/step - loss: 2.1647 - mse: 2.1647\n",
            "Epoch 71/300\n",
            "9/9 [==============================] - 0s 1ms/step - loss: 2.1640 - mse: 2.1640\n",
            "Epoch 72/300\n",
            "9/9 [==============================] - 0s 1ms/step - loss: 2.1634 - mse: 2.1634\n",
            "Epoch 73/300\n",
            "9/9 [==============================] - 0s 996us/step - loss: 2.1629 - mse: 2.1629\n",
            "Epoch 74/300\n",
            "9/9 [==============================] - 0s 1ms/step - loss: 2.1623 - mse: 2.1623\n",
            "Epoch 75/300\n",
            "9/9 [==============================] - 0s 2ms/step - loss: 2.1617 - mse: 2.1617\n",
            "Epoch 76/300\n",
            "9/9 [==============================] - 0s 1ms/step - loss: 2.1612 - mse: 2.1612\n",
            "Epoch 77/300\n",
            "9/9 [==============================] - 0s 1ms/step - loss: 2.1607 - mse: 2.1607\n",
            "Epoch 78/300\n",
            "9/9 [==============================] - 0s 1ms/step - loss: 2.1602 - mse: 2.1602\n",
            "Epoch 79/300\n",
            "9/9 [==============================] - 0s 1ms/step - loss: 2.1597 - mse: 2.1597\n",
            "Epoch 80/300\n",
            "9/9 [==============================] - 0s 1ms/step - loss: 2.1593 - mse: 2.1593\n",
            "Epoch 81/300\n",
            "9/9 [==============================] - 0s 1ms/step - loss: 2.1588 - mse: 2.1588\n",
            "Epoch 82/300\n",
            "9/9 [==============================] - 0s 1ms/step - loss: 2.1584 - mse: 2.1584\n",
            "Epoch 83/300\n",
            "9/9 [==============================] - 0s 1ms/step - loss: 2.1580 - mse: 2.1580\n",
            "Epoch 84/300\n",
            "9/9 [==============================] - 0s 1ms/step - loss: 2.1576 - mse: 2.1576\n",
            "Epoch 85/300\n",
            "9/9 [==============================] - 0s 1ms/step - loss: 2.1572 - mse: 2.1572\n",
            "Epoch 86/300\n",
            "9/9 [==============================] - 0s 1ms/step - loss: 2.1569 - mse: 2.1569\n",
            "Epoch 87/300\n",
            "9/9 [==============================] - 0s 1ms/step - loss: 2.1565 - mse: 2.1565\n",
            "Epoch 88/300\n",
            "9/9 [==============================] - 0s 2ms/step - loss: 2.1561 - mse: 2.1561\n",
            "Epoch 89/300\n",
            "9/9 [==============================] - 0s 1ms/step - loss: 2.1558 - mse: 2.1558\n",
            "Epoch 90/300\n",
            "9/9 [==============================] - 0s 1ms/step - loss: 2.1555 - mse: 2.1555\n",
            "Epoch 91/300\n",
            "9/9 [==============================] - 0s 1ms/step - loss: 2.1552 - mse: 2.1552\n",
            "Epoch 92/300\n",
            "9/9 [==============================] - 0s 1ms/step - loss: 2.1549 - mse: 2.1549\n",
            "Epoch 93/300\n",
            "9/9 [==============================] - 0s 1ms/step - loss: 2.1546 - mse: 2.1546\n",
            "Epoch 94/300\n",
            "9/9 [==============================] - 0s 1ms/step - loss: 2.1543 - mse: 2.1543\n",
            "Epoch 95/300\n",
            "9/9 [==============================] - 0s 1ms/step - loss: 2.1540 - mse: 2.1540\n",
            "Epoch 96/300\n",
            "9/9 [==============================] - 0s 1ms/step - loss: 2.1537 - mse: 2.1537\n",
            "Epoch 97/300\n",
            "9/9 [==============================] - 0s 1ms/step - loss: 2.1535 - mse: 2.1535\n",
            "Epoch 98/300\n",
            "9/9 [==============================] - 0s 1ms/step - loss: 2.1532 - mse: 2.1532\n",
            "Epoch 99/300\n",
            "9/9 [==============================] - 0s 1ms/step - loss: 2.1530 - mse: 2.1530\n",
            "Epoch 100/300\n",
            "9/9 [==============================] - 0s 1ms/step - loss: 2.1528 - mse: 2.1528\n",
            "Epoch 101/300\n",
            "9/9 [==============================] - 0s 1ms/step - loss: 2.1526 - mse: 2.1526\n",
            "Epoch 102/300\n",
            "9/9 [==============================] - 0s 1ms/step - loss: 2.1523 - mse: 2.1523\n",
            "Epoch 103/300\n",
            "9/9 [==============================] - 0s 1ms/step - loss: 2.1521 - mse: 2.1521\n",
            "Epoch 104/300\n",
            "9/9 [==============================] - 0s 1ms/step - loss: 2.1519 - mse: 2.1519\n",
            "Epoch 105/300\n",
            "9/9 [==============================] - 0s 1ms/step - loss: 2.1517 - mse: 2.1517\n",
            "Epoch 106/300\n",
            "9/9 [==============================] - 0s 1ms/step - loss: 2.1515 - mse: 2.1515\n",
            "Epoch 107/300\n",
            "9/9 [==============================] - 0s 986us/step - loss: 2.1513 - mse: 2.1513\n",
            "Epoch 108/300\n",
            "9/9 [==============================] - 0s 1ms/step - loss: 2.1512 - mse: 2.1512\n",
            "Epoch 109/300\n",
            "9/9 [==============================] - 0s 1ms/step - loss: 2.1510 - mse: 2.1510\n",
            "Epoch 110/300\n",
            "9/9 [==============================] - 0s 1ms/step - loss: 2.1508 - mse: 2.1508\n",
            "Epoch 111/300\n",
            "9/9 [==============================] - 0s 1ms/step - loss: 2.1507 - mse: 2.1507\n",
            "Epoch 112/300\n",
            "9/9 [==============================] - 0s 1ms/step - loss: 2.1505 - mse: 2.1505\n",
            "Epoch 113/300\n",
            "9/9 [==============================] - 0s 1ms/step - loss: 2.1504 - mse: 2.1504\n",
            "Epoch 114/300\n",
            "9/9 [==============================] - 0s 959us/step - loss: 2.1502 - mse: 2.1502\n",
            "Epoch 115/300\n",
            "9/9 [==============================] - 0s 1ms/step - loss: 2.1501 - mse: 2.1501\n",
            "Epoch 116/300\n",
            "9/9 [==============================] - 0s 953us/step - loss: 2.1500 - mse: 2.1500\n",
            "Epoch 117/300\n",
            "9/9 [==============================] - 0s 1ms/step - loss: 2.1498 - mse: 2.1498\n",
            "Epoch 118/300\n",
            "9/9 [==============================] - 0s 973us/step - loss: 2.1497 - mse: 2.1497\n",
            "Epoch 119/300\n",
            "9/9 [==============================] - 0s 1ms/step - loss: 2.1496 - mse: 2.1496\n",
            "Epoch 120/300\n",
            "9/9 [==============================] - 0s 1ms/step - loss: 2.1495 - mse: 2.1495\n",
            "Epoch 121/300\n",
            "9/9 [==============================] - 0s 1ms/step - loss: 2.1493 - mse: 2.1493\n",
            "Epoch 122/300\n",
            "9/9 [==============================] - 0s 1ms/step - loss: 2.1492 - mse: 2.1492\n",
            "Epoch 123/300\n",
            "9/9 [==============================] - 0s 1ms/step - loss: 2.1491 - mse: 2.1491\n",
            "Epoch 124/300\n",
            "9/9 [==============================] - 0s 1ms/step - loss: 2.1490 - mse: 2.1490\n",
            "Epoch 125/300\n",
            "9/9 [==============================] - 0s 1ms/step - loss: 2.1489 - mse: 2.1489\n",
            "Epoch 126/300\n",
            "9/9 [==============================] - 0s 1ms/step - loss: 2.1488 - mse: 2.1488\n",
            "Epoch 127/300\n",
            "9/9 [==============================] - 0s 1ms/step - loss: 2.1487 - mse: 2.1487\n",
            "Epoch 128/300\n",
            "9/9 [==============================] - 0s 1ms/step - loss: 2.1487 - mse: 2.1487\n",
            "Epoch 129/300\n",
            "9/9 [==============================] - 0s 1ms/step - loss: 2.1486 - mse: 2.1486\n",
            "Epoch 130/300\n",
            "9/9 [==============================] - 0s 1ms/step - loss: 2.1485 - mse: 2.1485\n",
            "Epoch 131/300\n",
            "9/9 [==============================] - 0s 1ms/step - loss: 2.1484 - mse: 2.1484\n",
            "Epoch 132/300\n",
            "9/9 [==============================] - 0s 1ms/step - loss: 2.1483 - mse: 2.1483\n",
            "Epoch 133/300\n",
            "9/9 [==============================] - 0s 1ms/step - loss: 2.1482 - mse: 2.1482\n",
            "Epoch 134/300\n",
            "9/9 [==============================] - 0s 1ms/step - loss: 2.1482 - mse: 2.1482\n",
            "Epoch 135/300\n",
            "9/9 [==============================] - 0s 1ms/step - loss: 2.1481 - mse: 2.1481\n",
            "Epoch 136/300\n",
            "9/9 [==============================] - 0s 1ms/step - loss: 2.1480 - mse: 2.1480\n",
            "Epoch 137/300\n",
            "9/9 [==============================] - 0s 1ms/step - loss: 2.1480 - mse: 2.1480\n",
            "Epoch 138/300\n",
            "9/9 [==============================] - 0s 1ms/step - loss: 2.1479 - mse: 2.1479\n",
            "Epoch 139/300\n",
            "9/9 [==============================] - 0s 1ms/step - loss: 2.1478 - mse: 2.1478\n",
            "Epoch 140/300\n",
            "9/9 [==============================] - 0s 1ms/step - loss: 2.1478 - mse: 2.1478\n",
            "Epoch 141/300\n",
            "9/9 [==============================] - 0s 1ms/step - loss: 2.1477 - mse: 2.1477\n",
            "Epoch 142/300\n",
            "9/9 [==============================] - 0s 1ms/step - loss: 2.1477 - mse: 2.1477\n",
            "Epoch 143/300\n",
            "9/9 [==============================] - 0s 1ms/step - loss: 2.1476 - mse: 2.1476\n",
            "Epoch 144/300\n",
            "9/9 [==============================] - 0s 2ms/step - loss: 2.1476 - mse: 2.1476\n",
            "Epoch 145/300\n",
            "9/9 [==============================] - 0s 2ms/step - loss: 2.1475 - mse: 2.1475\n",
            "Epoch 146/300\n",
            "9/9 [==============================] - 0s 1ms/step - loss: 2.1475 - mse: 2.1475\n",
            "Epoch 147/300\n",
            "9/9 [==============================] - 0s 1ms/step - loss: 2.1474 - mse: 2.1474\n",
            "Epoch 148/300\n",
            "9/9 [==============================] - 0s 1ms/step - loss: 2.1474 - mse: 2.1474\n",
            "Epoch 149/300\n",
            "9/9 [==============================] - 0s 1ms/step - loss: 2.1473 - mse: 2.1473\n",
            "Epoch 150/300\n",
            "9/9 [==============================] - 0s 1ms/step - loss: 2.1473 - mse: 2.1473\n",
            "Epoch 151/300\n",
            "9/9 [==============================] - 0s 971us/step - loss: 2.1472 - mse: 2.1472\n",
            "Epoch 152/300\n",
            "9/9 [==============================] - 0s 1ms/step - loss: 2.1472 - mse: 2.1472\n",
            "Epoch 153/300\n",
            "9/9 [==============================] - 0s 1ms/step - loss: 2.1472 - mse: 2.1472\n",
            "Epoch 154/300\n",
            "9/9 [==============================] - 0s 1ms/step - loss: 2.1471 - mse: 2.1471\n",
            "Epoch 155/300\n",
            "9/9 [==============================] - 0s 1ms/step - loss: 2.1471 - mse: 2.1471\n",
            "Epoch 156/300\n",
            "9/9 [==============================] - 0s 1ms/step - loss: 2.1470 - mse: 2.1470\n",
            "Epoch 157/300\n",
            "9/9 [==============================] - 0s 1ms/step - loss: 2.1470 - mse: 2.1470\n",
            "Epoch 158/300\n",
            "9/9 [==============================] - 0s 1ms/step - loss: 2.1470 - mse: 2.1470\n",
            "Epoch 159/300\n",
            "9/9 [==============================] - 0s 1ms/step - loss: 2.1470 - mse: 2.1470\n",
            "Epoch 160/300\n",
            "9/9 [==============================] - 0s 1ms/step - loss: 2.1469 - mse: 2.1469\n",
            "Epoch 161/300\n",
            "9/9 [==============================] - 0s 1ms/step - loss: 2.1469 - mse: 2.1469\n",
            "Epoch 162/300\n",
            "9/9 [==============================] - 0s 1ms/step - loss: 2.1469 - mse: 2.1469\n",
            "Epoch 163/300\n",
            "9/9 [==============================] - 0s 1ms/step - loss: 2.1468 - mse: 2.1468\n",
            "Epoch 164/300\n",
            "9/9 [==============================] - 0s 1ms/step - loss: 2.1468 - mse: 2.1468\n",
            "Epoch 165/300\n",
            "9/9 [==============================] - 0s 1ms/step - loss: 2.1468 - mse: 2.1468\n",
            "Epoch 166/300\n",
            "9/9 [==============================] - 0s 1ms/step - loss: 2.1468 - mse: 2.1468\n",
            "Epoch 167/300\n",
            "9/9 [==============================] - 0s 1ms/step - loss: 2.1467 - mse: 2.1467\n",
            "Epoch 168/300\n",
            "9/9 [==============================] - 0s 1ms/step - loss: 2.1467 - mse: 2.1467\n",
            "Epoch 169/300\n",
            "9/9 [==============================] - 0s 1ms/step - loss: 2.1467 - mse: 2.1467\n",
            "Epoch 170/300\n",
            "9/9 [==============================] - 0s 1ms/step - loss: 2.1467 - mse: 2.1467\n",
            "Epoch 171/300\n",
            "9/9 [==============================] - 0s 1ms/step - loss: 2.1466 - mse: 2.1466\n",
            "Epoch 172/300\n",
            "9/9 [==============================] - 0s 1ms/step - loss: 2.1466 - mse: 2.1466\n",
            "Epoch 173/300\n",
            "9/9 [==============================] - 0s 1ms/step - loss: 2.1466 - mse: 2.1466\n",
            "Epoch 174/300\n",
            "9/9 [==============================] - 0s 1ms/step - loss: 2.1466 - mse: 2.1466\n",
            "Epoch 175/300\n",
            "9/9 [==============================] - 0s 1ms/step - loss: 2.1466 - mse: 2.1466\n",
            "Epoch 176/300\n",
            "9/9 [==============================] - 0s 1ms/step - loss: 2.1465 - mse: 2.1465\n",
            "Epoch 177/300\n",
            "9/9 [==============================] - 0s 1ms/step - loss: 2.1465 - mse: 2.1465\n",
            "Epoch 178/300\n",
            "9/9 [==============================] - 0s 1ms/step - loss: 2.1465 - mse: 2.1465\n",
            "Epoch 179/300\n",
            "9/9 [==============================] - 0s 1ms/step - loss: 2.1465 - mse: 2.1465\n",
            "Epoch 180/300\n",
            "9/9 [==============================] - 0s 1ms/step - loss: 2.1465 - mse: 2.1465\n",
            "Epoch 181/300\n",
            "9/9 [==============================] - 0s 1ms/step - loss: 2.1465 - mse: 2.1465\n",
            "Epoch 182/300\n",
            "9/9 [==============================] - 0s 1ms/step - loss: 2.1465 - mse: 2.1465\n",
            "Epoch 183/300\n",
            "9/9 [==============================] - 0s 1ms/step - loss: 2.1464 - mse: 2.1464\n",
            "Epoch 184/300\n",
            "9/9 [==============================] - 0s 1ms/step - loss: 2.1464 - mse: 2.1464\n",
            "Epoch 185/300\n",
            "9/9 [==============================] - 0s 1ms/step - loss: 2.1464 - mse: 2.1464\n",
            "Epoch 186/300\n",
            "9/9 [==============================] - 0s 1ms/step - loss: 2.1464 - mse: 2.1464\n",
            "Epoch 187/300\n",
            "9/9 [==============================] - 0s 1ms/step - loss: 2.1464 - mse: 2.1464\n",
            "Epoch 188/300\n",
            "9/9 [==============================] - 0s 1ms/step - loss: 2.1464 - mse: 2.1464\n",
            "Epoch 189/300\n",
            "9/9 [==============================] - 0s 1ms/step - loss: 2.1464 - mse: 2.1464\n",
            "Epoch 190/300\n",
            "9/9 [==============================] - 0s 1ms/step - loss: 2.1463 - mse: 2.1463\n",
            "Epoch 191/300\n",
            "9/9 [==============================] - 0s 1ms/step - loss: 2.1463 - mse: 2.1463\n",
            "Epoch 192/300\n",
            "9/9 [==============================] - 0s 1ms/step - loss: 2.1463 - mse: 2.1463\n",
            "Epoch 193/300\n",
            "9/9 [==============================] - 0s 1ms/step - loss: 2.1463 - mse: 2.1463\n",
            "Epoch 194/300\n",
            "9/9 [==============================] - 0s 1ms/step - loss: 2.1463 - mse: 2.1463\n",
            "Epoch 195/300\n",
            "9/9 [==============================] - 0s 1ms/step - loss: 2.1463 - mse: 2.1463\n",
            "Epoch 196/300\n",
            "9/9 [==============================] - 0s 1ms/step - loss: 2.1463 - mse: 2.1463\n",
            "Epoch 197/300\n",
            "9/9 [==============================] - 0s 1ms/step - loss: 2.1463 - mse: 2.1463\n",
            "Epoch 198/300\n",
            "9/9 [==============================] - 0s 1ms/step - loss: 2.1463 - mse: 2.1463\n",
            "Epoch 199/300\n",
            "9/9 [==============================] - 0s 1ms/step - loss: 2.1463 - mse: 2.1463\n",
            "Epoch 200/300\n",
            "9/9 [==============================] - 0s 1ms/step - loss: 2.1463 - mse: 2.1463\n",
            "Epoch 201/300\n",
            "9/9 [==============================] - 0s 1ms/step - loss: 2.1463 - mse: 2.1463\n",
            "Epoch 202/300\n",
            "9/9 [==============================] - 0s 1ms/step - loss: 2.1462 - mse: 2.1462\n",
            "Epoch 203/300\n",
            "9/9 [==============================] - 0s 974us/step - loss: 2.1462 - mse: 2.1462\n",
            "Epoch 204/300\n",
            "9/9 [==============================] - 0s 1ms/step - loss: 2.1462 - mse: 2.1462\n",
            "Epoch 205/300\n",
            "9/9 [==============================] - 0s 1ms/step - loss: 2.1462 - mse: 2.1462\n",
            "Epoch 206/300\n",
            "9/9 [==============================] - 0s 1ms/step - loss: 2.1462 - mse: 2.1462\n",
            "Epoch 207/300\n",
            "9/9 [==============================] - 0s 1ms/step - loss: 2.1462 - mse: 2.1462\n",
            "Epoch 208/300\n",
            "9/9 [==============================] - 0s 1ms/step - loss: 2.1462 - mse: 2.1462\n",
            "Epoch 209/300\n",
            "9/9 [==============================] - 0s 1ms/step - loss: 2.1462 - mse: 2.1462\n",
            "Epoch 210/300\n",
            "9/9 [==============================] - 0s 996us/step - loss: 2.1462 - mse: 2.1462\n",
            "Epoch 211/300\n",
            "9/9 [==============================] - 0s 1ms/step - loss: 2.1462 - mse: 2.1462\n",
            "Epoch 212/300\n",
            "9/9 [==============================] - 0s 1ms/step - loss: 2.1462 - mse: 2.1462\n",
            "Epoch 213/300\n",
            "9/9 [==============================] - 0s 1ms/step - loss: 2.1462 - mse: 2.1462\n",
            "Epoch 214/300\n",
            "9/9 [==============================] - 0s 1ms/step - loss: 2.1462 - mse: 2.1462\n",
            "Epoch 215/300\n",
            "9/9 [==============================] - 0s 1ms/step - loss: 2.1462 - mse: 2.1462\n",
            "Epoch 216/300\n",
            "9/9 [==============================] - 0s 983us/step - loss: 2.1462 - mse: 2.1462\n",
            "Epoch 217/300\n",
            "9/9 [==============================] - 0s 1ms/step - loss: 2.1462 - mse: 2.1462\n",
            "Epoch 218/300\n",
            "9/9 [==============================] - 0s 1ms/step - loss: 2.1462 - mse: 2.1462\n",
            "Epoch 219/300\n",
            "9/9 [==============================] - 0s 1ms/step - loss: 2.1461 - mse: 2.1461\n",
            "Epoch 220/300\n",
            "9/9 [==============================] - 0s 1ms/step - loss: 2.1461 - mse: 2.1461\n",
            "Epoch 221/300\n",
            "9/9 [==============================] - 0s 1ms/step - loss: 2.1461 - mse: 2.1461\n",
            "Epoch 222/300\n",
            "9/9 [==============================] - 0s 979us/step - loss: 2.1461 - mse: 2.1461\n",
            "Epoch 223/300\n",
            "9/9 [==============================] - 0s 1ms/step - loss: 2.1461 - mse: 2.1461\n",
            "Epoch 224/300\n",
            "9/9 [==============================] - 0s 2ms/step - loss: 2.1461 - mse: 2.1461\n",
            "Epoch 225/300\n",
            "9/9 [==============================] - 0s 1ms/step - loss: 2.1461 - mse: 2.1461\n",
            "Epoch 226/300\n",
            "9/9 [==============================] - 0s 1000us/step - loss: 2.1461 - mse: 2.1461\n",
            "Epoch 227/300\n",
            "9/9 [==============================] - 0s 1ms/step - loss: 2.1461 - mse: 2.1461\n",
            "Epoch 228/300\n",
            "9/9 [==============================] - 0s 1ms/step - loss: 2.1461 - mse: 2.1461\n",
            "Epoch 229/300\n",
            "9/9 [==============================] - 0s 1ms/step - loss: 2.1461 - mse: 2.1461\n",
            "Epoch 230/300\n",
            "9/9 [==============================] - 0s 1ms/step - loss: 2.1461 - mse: 2.1461\n",
            "Epoch 231/300\n",
            "9/9 [==============================] - 0s 1ms/step - loss: 2.1461 - mse: 2.1461\n",
            "Epoch 232/300\n",
            "9/9 [==============================] - 0s 1ms/step - loss: 2.1461 - mse: 2.1461\n",
            "Epoch 233/300\n",
            "9/9 [==============================] - 0s 998us/step - loss: 2.1461 - mse: 2.1461\n",
            "Epoch 234/300\n",
            "9/9 [==============================] - 0s 1ms/step - loss: 2.1461 - mse: 2.1461\n",
            "Epoch 235/300\n",
            "9/9 [==============================] - 0s 1ms/step - loss: 2.1461 - mse: 2.1461\n",
            "Epoch 236/300\n",
            "9/9 [==============================] - 0s 1ms/step - loss: 2.1461 - mse: 2.1461\n",
            "Epoch 237/300\n",
            "9/9 [==============================] - 0s 1ms/step - loss: 2.1461 - mse: 2.1461\n",
            "Epoch 238/300\n",
            "9/9 [==============================] - 0s 1ms/step - loss: 2.1461 - mse: 2.1461\n",
            "Epoch 239/300\n",
            "9/9 [==============================] - 0s 980us/step - loss: 2.1461 - mse: 2.1461\n",
            "Epoch 240/300\n",
            "9/9 [==============================] - 0s 996us/step - loss: 2.1461 - mse: 2.1461\n",
            "Epoch 241/300\n",
            "9/9 [==============================] - 0s 988us/step - loss: 2.1461 - mse: 2.1461\n",
            "Epoch 242/300\n",
            "9/9 [==============================] - 0s 954us/step - loss: 2.1461 - mse: 2.1461\n",
            "Epoch 243/300\n",
            "9/9 [==============================] - 0s 1ms/step - loss: 2.1461 - mse: 2.1461\n",
            "Epoch 244/300\n",
            "9/9 [==============================] - 0s 1ms/step - loss: 2.1461 - mse: 2.1461\n",
            "Epoch 245/300\n",
            "9/9 [==============================] - 0s 1ms/step - loss: 2.1461 - mse: 2.1461\n",
            "Epoch 246/300\n",
            "9/9 [==============================] - 0s 997us/step - loss: 2.1461 - mse: 2.1461\n",
            "Epoch 247/300\n",
            "9/9 [==============================] - 0s 1ms/step - loss: 2.1461 - mse: 2.1461\n",
            "Epoch 248/300\n",
            "9/9 [==============================] - 0s 1ms/step - loss: 2.1461 - mse: 2.1461\n",
            "Epoch 249/300\n",
            "9/9 [==============================] - 0s 983us/step - loss: 2.1461 - mse: 2.1461\n",
            "Epoch 250/300\n",
            "9/9 [==============================] - 0s 1ms/step - loss: 2.1461 - mse: 2.1461\n",
            "Epoch 251/300\n",
            "9/9 [==============================] - 0s 2ms/step - loss: 2.1461 - mse: 2.1461\n",
            "Epoch 252/300\n",
            "9/9 [==============================] - 0s 1ms/step - loss: 2.1461 - mse: 2.1461\n",
            "Epoch 253/300\n",
            "9/9 [==============================] - 0s 1ms/step - loss: 2.1461 - mse: 2.1461\n",
            "Epoch 254/300\n",
            "9/9 [==============================] - 0s 1ms/step - loss: 2.1461 - mse: 2.1461\n",
            "Epoch 255/300\n",
            "9/9 [==============================] - 0s 1ms/step - loss: 2.1461 - mse: 2.1461\n",
            "Epoch 256/300\n",
            "9/9 [==============================] - 0s 1ms/step - loss: 2.1461 - mse: 2.1461\n",
            "Epoch 257/300\n",
            "9/9 [==============================] - 0s 1ms/step - loss: 2.1461 - mse: 2.1461\n",
            "Epoch 258/300\n",
            "9/9 [==============================] - 0s 2ms/step - loss: 2.1461 - mse: 2.1461\n",
            "Epoch 259/300\n",
            "9/9 [==============================] - 0s 1ms/step - loss: 2.1461 - mse: 2.1461\n",
            "Epoch 260/300\n",
            "9/9 [==============================] - 0s 1ms/step - loss: 2.1461 - mse: 2.1461\n",
            "Epoch 261/300\n",
            "9/9 [==============================] - 0s 992us/step - loss: 2.1461 - mse: 2.1461\n",
            "Epoch 262/300\n",
            "9/9 [==============================] - 0s 1ms/step - loss: 2.1461 - mse: 2.1461\n",
            "Epoch 263/300\n",
            "9/9 [==============================] - 0s 997us/step - loss: 2.1461 - mse: 2.1461\n",
            "Epoch 264/300\n",
            "9/9 [==============================] - 0s 1ms/step - loss: 2.1461 - mse: 2.1461\n",
            "Epoch 265/300\n",
            "9/9 [==============================] - 0s 1ms/step - loss: 2.1461 - mse: 2.1461\n",
            "Epoch 266/300\n",
            "9/9 [==============================] - 0s 1ms/step - loss: 2.1460 - mse: 2.1460\n",
            "Epoch 267/300\n",
            "9/9 [==============================] - 0s 1ms/step - loss: 2.1460 - mse: 2.1460\n",
            "Epoch 268/300\n",
            "9/9 [==============================] - 0s 1ms/step - loss: 2.1460 - mse: 2.1460\n",
            "Epoch 269/300\n",
            "9/9 [==============================] - 0s 1ms/step - loss: 2.1460 - mse: 2.1460\n",
            "Epoch 270/300\n",
            "9/9 [==============================] - 0s 1ms/step - loss: 2.1460 - mse: 2.1460\n",
            "Epoch 271/300\n",
            "9/9 [==============================] - 0s 1ms/step - loss: 2.1460 - mse: 2.1460\n",
            "Epoch 272/300\n",
            "9/9 [==============================] - 0s 1ms/step - loss: 2.1460 - mse: 2.1460\n",
            "Epoch 273/300\n",
            "9/9 [==============================] - 0s 1ms/step - loss: 2.1460 - mse: 2.1460\n",
            "Epoch 274/300\n",
            "9/9 [==============================] - 0s 1ms/step - loss: 2.1460 - mse: 2.1460\n",
            "Epoch 275/300\n",
            "9/9 [==============================] - 0s 1ms/step - loss: 2.1460 - mse: 2.1460\n",
            "Epoch 276/300\n",
            "9/9 [==============================] - 0s 1ms/step - loss: 2.1460 - mse: 2.1460\n",
            "Epoch 277/300\n",
            "9/9 [==============================] - 0s 1ms/step - loss: 2.1460 - mse: 2.1460\n",
            "Epoch 278/300\n",
            "9/9 [==============================] - 0s 997us/step - loss: 2.1460 - mse: 2.1460\n",
            "Epoch 279/300\n",
            "9/9 [==============================] - 0s 1ms/step - loss: 2.1460 - mse: 2.1460\n",
            "Epoch 280/300\n",
            "9/9 [==============================] - 0s 1ms/step - loss: 2.1460 - mse: 2.1460\n",
            "Epoch 281/300\n",
            "9/9 [==============================] - 0s 1ms/step - loss: 2.1460 - mse: 2.1460\n",
            "Epoch 282/300\n",
            "9/9 [==============================] - 0s 933us/step - loss: 2.1460 - mse: 2.1460\n",
            "Epoch 283/300\n",
            "9/9 [==============================] - 0s 1ms/step - loss: 2.1460 - mse: 2.1460\n",
            "Epoch 284/300\n",
            "9/9 [==============================] - 0s 1ms/step - loss: 2.1460 - mse: 2.1460\n",
            "Epoch 285/300\n",
            "9/9 [==============================] - 0s 1ms/step - loss: 2.1460 - mse: 2.1460\n",
            "Epoch 286/300\n",
            "9/9 [==============================] - 0s 1ms/step - loss: 2.1460 - mse: 2.1460\n",
            "Epoch 287/300\n",
            "9/9 [==============================] - 0s 1ms/step - loss: 2.1460 - mse: 2.1460\n",
            "Epoch 288/300\n",
            "9/9 [==============================] - 0s 1ms/step - loss: 2.1460 - mse: 2.1460\n",
            "Epoch 289/300\n",
            "9/9 [==============================] - 0s 1ms/step - loss: 2.1460 - mse: 2.1460\n",
            "Epoch 290/300\n",
            "9/9 [==============================] - 0s 1ms/step - loss: 2.1460 - mse: 2.1460\n",
            "Epoch 291/300\n",
            "9/9 [==============================] - 0s 1ms/step - loss: 2.1460 - mse: 2.1460\n",
            "Epoch 292/300\n",
            "9/9 [==============================] - 0s 1ms/step - loss: 2.1460 - mse: 2.1460\n",
            "Epoch 293/300\n",
            "9/9 [==============================] - 0s 1ms/step - loss: 2.1460 - mse: 2.1460\n",
            "Epoch 294/300\n",
            "9/9 [==============================] - 0s 2ms/step - loss: 2.1460 - mse: 2.1460\n",
            "Epoch 295/300\n",
            "9/9 [==============================] - 0s 1ms/step - loss: 2.1460 - mse: 2.1460\n",
            "Epoch 296/300\n",
            "9/9 [==============================] - 0s 1ms/step - loss: 2.1460 - mse: 2.1460\n",
            "Epoch 297/300\n",
            "9/9 [==============================] - 0s 952us/step - loss: 2.1460 - mse: 2.1460\n",
            "Epoch 298/300\n",
            "9/9 [==============================] - 0s 1ms/step - loss: 2.1460 - mse: 2.1460\n",
            "Epoch 299/300\n",
            "9/9 [==============================] - 0s 1ms/step - loss: 2.1460 - mse: 2.1460\n",
            "Epoch 300/300\n",
            "9/9 [==============================] - 0s 1ms/step - loss: 2.1460 - mse: 2.1460\n"
          ],
          "name": "stdout"
        },
        {
          "output_type": "execute_result",
          "data": {
            "text/plain": [
              "<tensorflow.python.keras.callbacks.History at 0x7f84d0d97588>"
            ]
          },
          "metadata": {
            "tags": []
          },
          "execution_count": 38
        }
      ]
    },
    {
      "cell_type": "code",
      "metadata": {
        "id": "i1YSz-dv4vRT",
        "colab_type": "code",
        "colab": {
          "base_uri": "https://localhost:8080/",
          "height": 299
        },
        "outputId": "1695dcc4-d304-4cbd-cc18-277dd3b25f6d"
      },
      "source": [
        "%matplotlib inline\n",
        "import matplotlib.pyplot as plt\n",
        "plt.plot(X, model.predict(X), 'b', X,Y, 'k.')"
      ],
      "execution_count": 39,
      "outputs": [
        {
          "output_type": "execute_result",
          "data": {
            "text/plain": [
              "[<matplotlib.lines.Line2D at 0x7f84d0ea56d8>,\n",
              " <matplotlib.lines.Line2D at 0x7f84d0ea5cc0>]"
            ]
          },
          "metadata": {
            "tags": []
          },
          "execution_count": 39
        },
        {
          "output_type": "display_data",
          "data": {
            "image/png": "[encoded data removed]",
            "text/plain": [
              "<Figure size 432x288 with 1 Axes>"
            ]
          },
          "metadata": {
            "tags": [],
            "needs_background": "light"
          }
        }
      ]
    }
  ]
}